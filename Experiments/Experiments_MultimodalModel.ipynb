{
  "nbformat": 4,
  "nbformat_minor": 0,
  "metadata": {
    "colab": {
      "name": "Experiments_MultimodalModel.ipynb",
      "provenance": []
    },
    "kernelspec": {
      "name": "python3",
      "display_name": "Python 3"
    },
    "language_info": {
      "name": "python"
    },
    "widgets": {
      "application/vnd.jupyter.widget-state+json": {
        "2d393276a7e24cb5a92be887060aaca7": {
          "model_module": "@jupyter-widgets/controls",
          "model_name": "HBoxModel",
          "state": {
            "_view_name": "HBoxView",
            "_dom_classes": [],
            "_model_name": "HBoxModel",
            "_view_module": "@jupyter-widgets/controls",
            "_model_module_version": "1.5.0",
            "_view_count": null,
            "_view_module_version": "1.5.0",
            "box_style": "",
            "layout": "IPY_MODEL_23cb70dc9bc44d29accbc2530ed98d60",
            "_model_module": "@jupyter-widgets/controls",
            "children": [
              "IPY_MODEL_b473278d55f6463aa1e42e5df4608f05",
              "IPY_MODEL_ccb78ee7ae004105b51b3c29d6aa5832"
            ]
          }
        },
        "23cb70dc9bc44d29accbc2530ed98d60": {
          "model_module": "@jupyter-widgets/base",
          "model_name": "LayoutModel",
          "state": {
            "_view_name": "LayoutView",
            "grid_template_rows": null,
            "right": null,
            "justify_content": null,
            "_view_module": "@jupyter-widgets/base",
            "overflow": null,
            "_model_module_version": "1.2.0",
            "_view_count": null,
            "flex_flow": null,
            "width": null,
            "min_width": null,
            "border": null,
            "align_items": null,
            "bottom": null,
            "_model_module": "@jupyter-widgets/base",
            "top": null,
            "grid_column": null,
            "overflow_y": null,
            "overflow_x": null,
            "grid_auto_flow": null,
            "grid_area": null,
            "grid_template_columns": null,
            "flex": null,
            "_model_name": "LayoutModel",
            "justify_items": null,
            "grid_row": null,
            "max_height": null,
            "align_content": null,
            "visibility": null,
            "align_self": null,
            "height": null,
            "min_height": null,
            "padding": null,
            "grid_auto_rows": null,
            "grid_gap": null,
            "max_width": null,
            "order": null,
            "_view_module_version": "1.2.0",
            "grid_template_areas": null,
            "object_position": null,
            "object_fit": null,
            "grid_auto_columns": null,
            "margin": null,
            "display": null,
            "left": null
          }
        },
        "b473278d55f6463aa1e42e5df4608f05": {
          "model_module": "@jupyter-widgets/controls",
          "model_name": "FloatProgressModel",
          "state": {
            "_view_name": "ProgressView",
            "style": "IPY_MODEL_ce2923a2a80d46f398dfdeb64a5381fe",
            "_dom_classes": [],
            "description": "Downloading: 100%",
            "_model_name": "FloatProgressModel",
            "bar_style": "success",
            "max": 231508,
            "_view_module": "@jupyter-widgets/controls",
            "_model_module_version": "1.5.0",
            "value": 231508,
            "_view_count": null,
            "_view_module_version": "1.5.0",
            "orientation": "horizontal",
            "min": 0,
            "description_tooltip": null,
            "_model_module": "@jupyter-widgets/controls",
            "layout": "IPY_MODEL_7b3d2bf2511046da88fab24065ee5260"
          }
        },
        "ccb78ee7ae004105b51b3c29d6aa5832": {
          "model_module": "@jupyter-widgets/controls",
          "model_name": "HTMLModel",
          "state": {
            "_view_name": "HTMLView",
            "style": "IPY_MODEL_66a5a3d123da4bfc932175297e8e6c5b",
            "_dom_classes": [],
            "description": "",
            "_model_name": "HTMLModel",
            "placeholder": "​",
            "_view_module": "@jupyter-widgets/controls",
            "_model_module_version": "1.5.0",
            "value": " 232k/232k [00:01&lt;00:00, 157kB/s]",
            "_view_count": null,
            "_view_module_version": "1.5.0",
            "description_tooltip": null,
            "_model_module": "@jupyter-widgets/controls",
            "layout": "IPY_MODEL_c63e9543f08743bca5c27d6e3154eee9"
          }
        },
        "ce2923a2a80d46f398dfdeb64a5381fe": {
          "model_module": "@jupyter-widgets/controls",
          "model_name": "ProgressStyleModel",
          "state": {
            "_view_name": "StyleView",
            "_model_name": "ProgressStyleModel",
            "description_width": "initial",
            "_view_module": "@jupyter-widgets/base",
            "_model_module_version": "1.5.0",
            "_view_count": null,
            "_view_module_version": "1.2.0",
            "bar_color": null,
            "_model_module": "@jupyter-widgets/controls"
          }
        },
        "7b3d2bf2511046da88fab24065ee5260": {
          "model_module": "@jupyter-widgets/base",
          "model_name": "LayoutModel",
          "state": {
            "_view_name": "LayoutView",
            "grid_template_rows": null,
            "right": null,
            "justify_content": null,
            "_view_module": "@jupyter-widgets/base",
            "overflow": null,
            "_model_module_version": "1.2.0",
            "_view_count": null,
            "flex_flow": null,
            "width": null,
            "min_width": null,
            "border": null,
            "align_items": null,
            "bottom": null,
            "_model_module": "@jupyter-widgets/base",
            "top": null,
            "grid_column": null,
            "overflow_y": null,
            "overflow_x": null,
            "grid_auto_flow": null,
            "grid_area": null,
            "grid_template_columns": null,
            "flex": null,
            "_model_name": "LayoutModel",
            "justify_items": null,
            "grid_row": null,
            "max_height": null,
            "align_content": null,
            "visibility": null,
            "align_self": null,
            "height": null,
            "min_height": null,
            "padding": null,
            "grid_auto_rows": null,
            "grid_gap": null,
            "max_width": null,
            "order": null,
            "_view_module_version": "1.2.0",
            "grid_template_areas": null,
            "object_position": null,
            "object_fit": null,
            "grid_auto_columns": null,
            "margin": null,
            "display": null,
            "left": null
          }
        },
        "66a5a3d123da4bfc932175297e8e6c5b": {
          "model_module": "@jupyter-widgets/controls",
          "model_name": "DescriptionStyleModel",
          "state": {
            "_view_name": "StyleView",
            "_model_name": "DescriptionStyleModel",
            "description_width": "",
            "_view_module": "@jupyter-widgets/base",
            "_model_module_version": "1.5.0",
            "_view_count": null,
            "_view_module_version": "1.2.0",
            "_model_module": "@jupyter-widgets/controls"
          }
        },
        "c63e9543f08743bca5c27d6e3154eee9": {
          "model_module": "@jupyter-widgets/base",
          "model_name": "LayoutModel",
          "state": {
            "_view_name": "LayoutView",
            "grid_template_rows": null,
            "right": null,
            "justify_content": null,
            "_view_module": "@jupyter-widgets/base",
            "overflow": null,
            "_model_module_version": "1.2.0",
            "_view_count": null,
            "flex_flow": null,
            "width": null,
            "min_width": null,
            "border": null,
            "align_items": null,
            "bottom": null,
            "_model_module": "@jupyter-widgets/base",
            "top": null,
            "grid_column": null,
            "overflow_y": null,
            "overflow_x": null,
            "grid_auto_flow": null,
            "grid_area": null,
            "grid_template_columns": null,
            "flex": null,
            "_model_name": "LayoutModel",
            "justify_items": null,
            "grid_row": null,
            "max_height": null,
            "align_content": null,
            "visibility": null,
            "align_self": null,
            "height": null,
            "min_height": null,
            "padding": null,
            "grid_auto_rows": null,
            "grid_gap": null,
            "max_width": null,
            "order": null,
            "_view_module_version": "1.2.0",
            "grid_template_areas": null,
            "object_position": null,
            "object_fit": null,
            "grid_auto_columns": null,
            "margin": null,
            "display": null,
            "left": null
          }
        },
        "f0ea53252f8540cd8e72cc0cb858cb3f": {
          "model_module": "@jupyter-widgets/controls",
          "model_name": "HBoxModel",
          "state": {
            "_view_name": "HBoxView",
            "_dom_classes": [],
            "_model_name": "HBoxModel",
            "_view_module": "@jupyter-widgets/controls",
            "_model_module_version": "1.5.0",
            "_view_count": null,
            "_view_module_version": "1.5.0",
            "box_style": "",
            "layout": "IPY_MODEL_a4a261da01a74685bbe62c033cfe6334",
            "_model_module": "@jupyter-widgets/controls",
            "children": [
              "IPY_MODEL_62d9712e4aff4efca7c805fe60d6f725",
              "IPY_MODEL_fbfb73d7e16944fe869d6b260c030b39"
            ]
          }
        },
        "a4a261da01a74685bbe62c033cfe6334": {
          "model_module": "@jupyter-widgets/base",
          "model_name": "LayoutModel",
          "state": {
            "_view_name": "LayoutView",
            "grid_template_rows": null,
            "right": null,
            "justify_content": null,
            "_view_module": "@jupyter-widgets/base",
            "overflow": null,
            "_model_module_version": "1.2.0",
            "_view_count": null,
            "flex_flow": null,
            "width": null,
            "min_width": null,
            "border": null,
            "align_items": null,
            "bottom": null,
            "_model_module": "@jupyter-widgets/base",
            "top": null,
            "grid_column": null,
            "overflow_y": null,
            "overflow_x": null,
            "grid_auto_flow": null,
            "grid_area": null,
            "grid_template_columns": null,
            "flex": null,
            "_model_name": "LayoutModel",
            "justify_items": null,
            "grid_row": null,
            "max_height": null,
            "align_content": null,
            "visibility": null,
            "align_self": null,
            "height": null,
            "min_height": null,
            "padding": null,
            "grid_auto_rows": null,
            "grid_gap": null,
            "max_width": null,
            "order": null,
            "_view_module_version": "1.2.0",
            "grid_template_areas": null,
            "object_position": null,
            "object_fit": null,
            "grid_auto_columns": null,
            "margin": null,
            "display": null,
            "left": null
          }
        },
        "62d9712e4aff4efca7c805fe60d6f725": {
          "model_module": "@jupyter-widgets/controls",
          "model_name": "FloatProgressModel",
          "state": {
            "_view_name": "ProgressView",
            "style": "IPY_MODEL_04f5e60a9d304eea976ef1203122d5af",
            "_dom_classes": [],
            "description": "Downloading: 100%",
            "_model_name": "FloatProgressModel",
            "bar_style": "success",
            "max": 28,
            "_view_module": "@jupyter-widgets/controls",
            "_model_module_version": "1.5.0",
            "value": 28,
            "_view_count": null,
            "_view_module_version": "1.5.0",
            "orientation": "horizontal",
            "min": 0,
            "description_tooltip": null,
            "_model_module": "@jupyter-widgets/controls",
            "layout": "IPY_MODEL_ad5df7e2cfea4d88acec348dbd7c418e"
          }
        },
        "fbfb73d7e16944fe869d6b260c030b39": {
          "model_module": "@jupyter-widgets/controls",
          "model_name": "HTMLModel",
          "state": {
            "_view_name": "HTMLView",
            "style": "IPY_MODEL_e4b63f18b3f54ed89a171e4790a8bc54",
            "_dom_classes": [],
            "description": "",
            "_model_name": "HTMLModel",
            "placeholder": "​",
            "_view_module": "@jupyter-widgets/controls",
            "_model_module_version": "1.5.0",
            "value": " 28.0/28.0 [00:01&lt;00:00, 25.6B/s]",
            "_view_count": null,
            "_view_module_version": "1.5.0",
            "description_tooltip": null,
            "_model_module": "@jupyter-widgets/controls",
            "layout": "IPY_MODEL_45fd1e9fe37b42d7b5b81ef56bd8e21c"
          }
        },
        "04f5e60a9d304eea976ef1203122d5af": {
          "model_module": "@jupyter-widgets/controls",
          "model_name": "ProgressStyleModel",
          "state": {
            "_view_name": "StyleView",
            "_model_name": "ProgressStyleModel",
            "description_width": "initial",
            "_view_module": "@jupyter-widgets/base",
            "_model_module_version": "1.5.0",
            "_view_count": null,
            "_view_module_version": "1.2.0",
            "bar_color": null,
            "_model_module": "@jupyter-widgets/controls"
          }
        },
        "ad5df7e2cfea4d88acec348dbd7c418e": {
          "model_module": "@jupyter-widgets/base",
          "model_name": "LayoutModel",
          "state": {
            "_view_name": "LayoutView",
            "grid_template_rows": null,
            "right": null,
            "justify_content": null,
            "_view_module": "@jupyter-widgets/base",
            "overflow": null,
            "_model_module_version": "1.2.0",
            "_view_count": null,
            "flex_flow": null,
            "width": null,
            "min_width": null,
            "border": null,
            "align_items": null,
            "bottom": null,
            "_model_module": "@jupyter-widgets/base",
            "top": null,
            "grid_column": null,
            "overflow_y": null,
            "overflow_x": null,
            "grid_auto_flow": null,
            "grid_area": null,
            "grid_template_columns": null,
            "flex": null,
            "_model_name": "LayoutModel",
            "justify_items": null,
            "grid_row": null,
            "max_height": null,
            "align_content": null,
            "visibility": null,
            "align_self": null,
            "height": null,
            "min_height": null,
            "padding": null,
            "grid_auto_rows": null,
            "grid_gap": null,
            "max_width": null,
            "order": null,
            "_view_module_version": "1.2.0",
            "grid_template_areas": null,
            "object_position": null,
            "object_fit": null,
            "grid_auto_columns": null,
            "margin": null,
            "display": null,
            "left": null
          }
        },
        "e4b63f18b3f54ed89a171e4790a8bc54": {
          "model_module": "@jupyter-widgets/controls",
          "model_name": "DescriptionStyleModel",
          "state": {
            "_view_name": "StyleView",
            "_model_name": "DescriptionStyleModel",
            "description_width": "",
            "_view_module": "@jupyter-widgets/base",
            "_model_module_version": "1.5.0",
            "_view_count": null,
            "_view_module_version": "1.2.0",
            "_model_module": "@jupyter-widgets/controls"
          }
        },
        "45fd1e9fe37b42d7b5b81ef56bd8e21c": {
          "model_module": "@jupyter-widgets/base",
          "model_name": "LayoutModel",
          "state": {
            "_view_name": "LayoutView",
            "grid_template_rows": null,
            "right": null,
            "justify_content": null,
            "_view_module": "@jupyter-widgets/base",
            "overflow": null,
            "_model_module_version": "1.2.0",
            "_view_count": null,
            "flex_flow": null,
            "width": null,
            "min_width": null,
            "border": null,
            "align_items": null,
            "bottom": null,
            "_model_module": "@jupyter-widgets/base",
            "top": null,
            "grid_column": null,
            "overflow_y": null,
            "overflow_x": null,
            "grid_auto_flow": null,
            "grid_area": null,
            "grid_template_columns": null,
            "flex": null,
            "_model_name": "LayoutModel",
            "justify_items": null,
            "grid_row": null,
            "max_height": null,
            "align_content": null,
            "visibility": null,
            "align_self": null,
            "height": null,
            "min_height": null,
            "padding": null,
            "grid_auto_rows": null,
            "grid_gap": null,
            "max_width": null,
            "order": null,
            "_view_module_version": "1.2.0",
            "grid_template_areas": null,
            "object_position": null,
            "object_fit": null,
            "grid_auto_columns": null,
            "margin": null,
            "display": null,
            "left": null
          }
        },
        "cd4197248c8a4805a463698649111f2d": {
          "model_module": "@jupyter-widgets/controls",
          "model_name": "HBoxModel",
          "state": {
            "_view_name": "HBoxView",
            "_dom_classes": [],
            "_model_name": "HBoxModel",
            "_view_module": "@jupyter-widgets/controls",
            "_model_module_version": "1.5.0",
            "_view_count": null,
            "_view_module_version": "1.5.0",
            "box_style": "",
            "layout": "IPY_MODEL_22bc0d31b2f54f01b2a4952fc11901ae",
            "_model_module": "@jupyter-widgets/controls",
            "children": [
              "IPY_MODEL_b5c412325a0240bdb9ee9c927a72fca1",
              "IPY_MODEL_c6ef104fc3c7441ba7358a16a3727922"
            ]
          }
        },
        "22bc0d31b2f54f01b2a4952fc11901ae": {
          "model_module": "@jupyter-widgets/base",
          "model_name": "LayoutModel",
          "state": {
            "_view_name": "LayoutView",
            "grid_template_rows": null,
            "right": null,
            "justify_content": null,
            "_view_module": "@jupyter-widgets/base",
            "overflow": null,
            "_model_module_version": "1.2.0",
            "_view_count": null,
            "flex_flow": null,
            "width": null,
            "min_width": null,
            "border": null,
            "align_items": null,
            "bottom": null,
            "_model_module": "@jupyter-widgets/base",
            "top": null,
            "grid_column": null,
            "overflow_y": null,
            "overflow_x": null,
            "grid_auto_flow": null,
            "grid_area": null,
            "grid_template_columns": null,
            "flex": null,
            "_model_name": "LayoutModel",
            "justify_items": null,
            "grid_row": null,
            "max_height": null,
            "align_content": null,
            "visibility": null,
            "align_self": null,
            "height": null,
            "min_height": null,
            "padding": null,
            "grid_auto_rows": null,
            "grid_gap": null,
            "max_width": null,
            "order": null,
            "_view_module_version": "1.2.0",
            "grid_template_areas": null,
            "object_position": null,
            "object_fit": null,
            "grid_auto_columns": null,
            "margin": null,
            "display": null,
            "left": null
          }
        },
        "b5c412325a0240bdb9ee9c927a72fca1": {
          "model_module": "@jupyter-widgets/controls",
          "model_name": "FloatProgressModel",
          "state": {
            "_view_name": "ProgressView",
            "style": "IPY_MODEL_42f0e742d2604610ba3d7714c6c91618",
            "_dom_classes": [],
            "description": "Downloading: 100%",
            "_model_name": "FloatProgressModel",
            "bar_style": "success",
            "max": 466062,
            "_view_module": "@jupyter-widgets/controls",
            "_model_module_version": "1.5.0",
            "value": 466062,
            "_view_count": null,
            "_view_module_version": "1.5.0",
            "orientation": "horizontal",
            "min": 0,
            "description_tooltip": null,
            "_model_module": "@jupyter-widgets/controls",
            "layout": "IPY_MODEL_e92b66efdfbf4f688d3f2620d5121923"
          }
        },
        "c6ef104fc3c7441ba7358a16a3727922": {
          "model_module": "@jupyter-widgets/controls",
          "model_name": "HTMLModel",
          "state": {
            "_view_name": "HTMLView",
            "style": "IPY_MODEL_573d431ab707479184ed6fae8c2aa4bb",
            "_dom_classes": [],
            "description": "",
            "_model_name": "HTMLModel",
            "placeholder": "​",
            "_view_module": "@jupyter-widgets/controls",
            "_model_module_version": "1.5.0",
            "value": " 466k/466k [00:00&lt;00:00, 974kB/s]",
            "_view_count": null,
            "_view_module_version": "1.5.0",
            "description_tooltip": null,
            "_model_module": "@jupyter-widgets/controls",
            "layout": "IPY_MODEL_8002db3da177457bac85b809b0f84cbd"
          }
        },
        "42f0e742d2604610ba3d7714c6c91618": {
          "model_module": "@jupyter-widgets/controls",
          "model_name": "ProgressStyleModel",
          "state": {
            "_view_name": "StyleView",
            "_model_name": "ProgressStyleModel",
            "description_width": "initial",
            "_view_module": "@jupyter-widgets/base",
            "_model_module_version": "1.5.0",
            "_view_count": null,
            "_view_module_version": "1.2.0",
            "bar_color": null,
            "_model_module": "@jupyter-widgets/controls"
          }
        },
        "e92b66efdfbf4f688d3f2620d5121923": {
          "model_module": "@jupyter-widgets/base",
          "model_name": "LayoutModel",
          "state": {
            "_view_name": "LayoutView",
            "grid_template_rows": null,
            "right": null,
            "justify_content": null,
            "_view_module": "@jupyter-widgets/base",
            "overflow": null,
            "_model_module_version": "1.2.0",
            "_view_count": null,
            "flex_flow": null,
            "width": null,
            "min_width": null,
            "border": null,
            "align_items": null,
            "bottom": null,
            "_model_module": "@jupyter-widgets/base",
            "top": null,
            "grid_column": null,
            "overflow_y": null,
            "overflow_x": null,
            "grid_auto_flow": null,
            "grid_area": null,
            "grid_template_columns": null,
            "flex": null,
            "_model_name": "LayoutModel",
            "justify_items": null,
            "grid_row": null,
            "max_height": null,
            "align_content": null,
            "visibility": null,
            "align_self": null,
            "height": null,
            "min_height": null,
            "padding": null,
            "grid_auto_rows": null,
            "grid_gap": null,
            "max_width": null,
            "order": null,
            "_view_module_version": "1.2.0",
            "grid_template_areas": null,
            "object_position": null,
            "object_fit": null,
            "grid_auto_columns": null,
            "margin": null,
            "display": null,
            "left": null
          }
        },
        "573d431ab707479184ed6fae8c2aa4bb": {
          "model_module": "@jupyter-widgets/controls",
          "model_name": "DescriptionStyleModel",
          "state": {
            "_view_name": "StyleView",
            "_model_name": "DescriptionStyleModel",
            "description_width": "",
            "_view_module": "@jupyter-widgets/base",
            "_model_module_version": "1.5.0",
            "_view_count": null,
            "_view_module_version": "1.2.0",
            "_model_module": "@jupyter-widgets/controls"
          }
        },
        "8002db3da177457bac85b809b0f84cbd": {
          "model_module": "@jupyter-widgets/base",
          "model_name": "LayoutModel",
          "state": {
            "_view_name": "LayoutView",
            "grid_template_rows": null,
            "right": null,
            "justify_content": null,
            "_view_module": "@jupyter-widgets/base",
            "overflow": null,
            "_model_module_version": "1.2.0",
            "_view_count": null,
            "flex_flow": null,
            "width": null,
            "min_width": null,
            "border": null,
            "align_items": null,
            "bottom": null,
            "_model_module": "@jupyter-widgets/base",
            "top": null,
            "grid_column": null,
            "overflow_y": null,
            "overflow_x": null,
            "grid_auto_flow": null,
            "grid_area": null,
            "grid_template_columns": null,
            "flex": null,
            "_model_name": "LayoutModel",
            "justify_items": null,
            "grid_row": null,
            "max_height": null,
            "align_content": null,
            "visibility": null,
            "align_self": null,
            "height": null,
            "min_height": null,
            "padding": null,
            "grid_auto_rows": null,
            "grid_gap": null,
            "max_width": null,
            "order": null,
            "_view_module_version": "1.2.0",
            "grid_template_areas": null,
            "object_position": null,
            "object_fit": null,
            "grid_auto_columns": null,
            "margin": null,
            "display": null,
            "left": null
          }
        },
        "07c2cf5a5f944606a73a13eb4cfd59d1": {
          "model_module": "@jupyter-widgets/controls",
          "model_name": "HBoxModel",
          "state": {
            "_view_name": "HBoxView",
            "_dom_classes": [],
            "_model_name": "HBoxModel",
            "_view_module": "@jupyter-widgets/controls",
            "_model_module_version": "1.5.0",
            "_view_count": null,
            "_view_module_version": "1.5.0",
            "box_style": "",
            "layout": "IPY_MODEL_32a832024cae41dfaa801147dd470624",
            "_model_module": "@jupyter-widgets/controls",
            "children": [
              "IPY_MODEL_160bbd3465d94f4cab5f5651a70e177a",
              "IPY_MODEL_8eac25d673c5422298447f465c523f5f"
            ]
          }
        },
        "32a832024cae41dfaa801147dd470624": {
          "model_module": "@jupyter-widgets/base",
          "model_name": "LayoutModel",
          "state": {
            "_view_name": "LayoutView",
            "grid_template_rows": null,
            "right": null,
            "justify_content": null,
            "_view_module": "@jupyter-widgets/base",
            "overflow": null,
            "_model_module_version": "1.2.0",
            "_view_count": null,
            "flex_flow": null,
            "width": null,
            "min_width": null,
            "border": null,
            "align_items": null,
            "bottom": null,
            "_model_module": "@jupyter-widgets/base",
            "top": null,
            "grid_column": null,
            "overflow_y": null,
            "overflow_x": null,
            "grid_auto_flow": null,
            "grid_area": null,
            "grid_template_columns": null,
            "flex": null,
            "_model_name": "LayoutModel",
            "justify_items": null,
            "grid_row": null,
            "max_height": null,
            "align_content": null,
            "visibility": null,
            "align_self": null,
            "height": null,
            "min_height": null,
            "padding": null,
            "grid_auto_rows": null,
            "grid_gap": null,
            "max_width": null,
            "order": null,
            "_view_module_version": "1.2.0",
            "grid_template_areas": null,
            "object_position": null,
            "object_fit": null,
            "grid_auto_columns": null,
            "margin": null,
            "display": null,
            "left": null
          }
        },
        "160bbd3465d94f4cab5f5651a70e177a": {
          "model_module": "@jupyter-widgets/controls",
          "model_name": "FloatProgressModel",
          "state": {
            "_view_name": "ProgressView",
            "style": "IPY_MODEL_4dcbf0b7d2314c74b8cb86b66070ad82",
            "_dom_classes": [],
            "description": "Downloading: 100%",
            "_model_name": "FloatProgressModel",
            "bar_style": "success",
            "max": 433,
            "_view_module": "@jupyter-widgets/controls",
            "_model_module_version": "1.5.0",
            "value": 433,
            "_view_count": null,
            "_view_module_version": "1.5.0",
            "orientation": "horizontal",
            "min": 0,
            "description_tooltip": null,
            "_model_module": "@jupyter-widgets/controls",
            "layout": "IPY_MODEL_408d246b5711408c9460cfc67f9cfec8"
          }
        },
        "8eac25d673c5422298447f465c523f5f": {
          "model_module": "@jupyter-widgets/controls",
          "model_name": "HTMLModel",
          "state": {
            "_view_name": "HTMLView",
            "style": "IPY_MODEL_862a7bdcb24c428cbe57573dd463c072",
            "_dom_classes": [],
            "description": "",
            "_model_name": "HTMLModel",
            "placeholder": "​",
            "_view_module": "@jupyter-widgets/controls",
            "_model_module_version": "1.5.0",
            "value": " 433/433 [00:00&lt;00:00, 1.10kB/s]",
            "_view_count": null,
            "_view_module_version": "1.5.0",
            "description_tooltip": null,
            "_model_module": "@jupyter-widgets/controls",
            "layout": "IPY_MODEL_b1d8e8482c9b4fecba2d662d0bdf4534"
          }
        },
        "4dcbf0b7d2314c74b8cb86b66070ad82": {
          "model_module": "@jupyter-widgets/controls",
          "model_name": "ProgressStyleModel",
          "state": {
            "_view_name": "StyleView",
            "_model_name": "ProgressStyleModel",
            "description_width": "initial",
            "_view_module": "@jupyter-widgets/base",
            "_model_module_version": "1.5.0",
            "_view_count": null,
            "_view_module_version": "1.2.0",
            "bar_color": null,
            "_model_module": "@jupyter-widgets/controls"
          }
        },
        "408d246b5711408c9460cfc67f9cfec8": {
          "model_module": "@jupyter-widgets/base",
          "model_name": "LayoutModel",
          "state": {
            "_view_name": "LayoutView",
            "grid_template_rows": null,
            "right": null,
            "justify_content": null,
            "_view_module": "@jupyter-widgets/base",
            "overflow": null,
            "_model_module_version": "1.2.0",
            "_view_count": null,
            "flex_flow": null,
            "width": null,
            "min_width": null,
            "border": null,
            "align_items": null,
            "bottom": null,
            "_model_module": "@jupyter-widgets/base",
            "top": null,
            "grid_column": null,
            "overflow_y": null,
            "overflow_x": null,
            "grid_auto_flow": null,
            "grid_area": null,
            "grid_template_columns": null,
            "flex": null,
            "_model_name": "LayoutModel",
            "justify_items": null,
            "grid_row": null,
            "max_height": null,
            "align_content": null,
            "visibility": null,
            "align_self": null,
            "height": null,
            "min_height": null,
            "padding": null,
            "grid_auto_rows": null,
            "grid_gap": null,
            "max_width": null,
            "order": null,
            "_view_module_version": "1.2.0",
            "grid_template_areas": null,
            "object_position": null,
            "object_fit": null,
            "grid_auto_columns": null,
            "margin": null,
            "display": null,
            "left": null
          }
        },
        "862a7bdcb24c428cbe57573dd463c072": {
          "model_module": "@jupyter-widgets/controls",
          "model_name": "DescriptionStyleModel",
          "state": {
            "_view_name": "StyleView",
            "_model_name": "DescriptionStyleModel",
            "description_width": "",
            "_view_module": "@jupyter-widgets/base",
            "_model_module_version": "1.5.0",
            "_view_count": null,
            "_view_module_version": "1.2.0",
            "_model_module": "@jupyter-widgets/controls"
          }
        },
        "b1d8e8482c9b4fecba2d662d0bdf4534": {
          "model_module": "@jupyter-widgets/base",
          "model_name": "LayoutModel",
          "state": {
            "_view_name": "LayoutView",
            "grid_template_rows": null,
            "right": null,
            "justify_content": null,
            "_view_module": "@jupyter-widgets/base",
            "overflow": null,
            "_model_module_version": "1.2.0",
            "_view_count": null,
            "flex_flow": null,
            "width": null,
            "min_width": null,
            "border": null,
            "align_items": null,
            "bottom": null,
            "_model_module": "@jupyter-widgets/base",
            "top": null,
            "grid_column": null,
            "overflow_y": null,
            "overflow_x": null,
            "grid_auto_flow": null,
            "grid_area": null,
            "grid_template_columns": null,
            "flex": null,
            "_model_name": "LayoutModel",
            "justify_items": null,
            "grid_row": null,
            "max_height": null,
            "align_content": null,
            "visibility": null,
            "align_self": null,
            "height": null,
            "min_height": null,
            "padding": null,
            "grid_auto_rows": null,
            "grid_gap": null,
            "max_width": null,
            "order": null,
            "_view_module_version": "1.2.0",
            "grid_template_areas": null,
            "object_position": null,
            "object_fit": null,
            "grid_auto_columns": null,
            "margin": null,
            "display": null,
            "left": null
          }
        },
        "94f201115cac4f1fa7b694ba54b22b88": {
          "model_module": "@jupyter-widgets/controls",
          "model_name": "HBoxModel",
          "state": {
            "_view_name": "HBoxView",
            "_dom_classes": [],
            "_model_name": "HBoxModel",
            "_view_module": "@jupyter-widgets/controls",
            "_model_module_version": "1.5.0",
            "_view_count": null,
            "_view_module_version": "1.5.0",
            "box_style": "",
            "layout": "IPY_MODEL_d59054976bde4601b446085d53f85394",
            "_model_module": "@jupyter-widgets/controls",
            "children": [
              "IPY_MODEL_4d383b90267d4b8ebe46fa945d1a2762",
              "IPY_MODEL_6536c88e3da04e9899552184e266d23e"
            ]
          }
        },
        "d59054976bde4601b446085d53f85394": {
          "model_module": "@jupyter-widgets/base",
          "model_name": "LayoutModel",
          "state": {
            "_view_name": "LayoutView",
            "grid_template_rows": null,
            "right": null,
            "justify_content": null,
            "_view_module": "@jupyter-widgets/base",
            "overflow": null,
            "_model_module_version": "1.2.0",
            "_view_count": null,
            "flex_flow": null,
            "width": null,
            "min_width": null,
            "border": null,
            "align_items": null,
            "bottom": null,
            "_model_module": "@jupyter-widgets/base",
            "top": null,
            "grid_column": null,
            "overflow_y": null,
            "overflow_x": null,
            "grid_auto_flow": null,
            "grid_area": null,
            "grid_template_columns": null,
            "flex": null,
            "_model_name": "LayoutModel",
            "justify_items": null,
            "grid_row": null,
            "max_height": null,
            "align_content": null,
            "visibility": null,
            "align_self": null,
            "height": null,
            "min_height": null,
            "padding": null,
            "grid_auto_rows": null,
            "grid_gap": null,
            "max_width": null,
            "order": null,
            "_view_module_version": "1.2.0",
            "grid_template_areas": null,
            "object_position": null,
            "object_fit": null,
            "grid_auto_columns": null,
            "margin": null,
            "display": null,
            "left": null
          }
        },
        "4d383b90267d4b8ebe46fa945d1a2762": {
          "model_module": "@jupyter-widgets/controls",
          "model_name": "FloatProgressModel",
          "state": {
            "_view_name": "ProgressView",
            "style": "IPY_MODEL_0026844ce2884870a2154014a8fa4cac",
            "_dom_classes": [],
            "description": "Downloading: 100%",
            "_model_name": "FloatProgressModel",
            "bar_style": "success",
            "max": 440473133,
            "_view_module": "@jupyter-widgets/controls",
            "_model_module_version": "1.5.0",
            "value": 440473133,
            "_view_count": null,
            "_view_module_version": "1.5.0",
            "orientation": "horizontal",
            "min": 0,
            "description_tooltip": null,
            "_model_module": "@jupyter-widgets/controls",
            "layout": "IPY_MODEL_a82c2f01c61145e6906d681bf8eeb1e6"
          }
        },
        "6536c88e3da04e9899552184e266d23e": {
          "model_module": "@jupyter-widgets/controls",
          "model_name": "HTMLModel",
          "state": {
            "_view_name": "HTMLView",
            "style": "IPY_MODEL_f122294079a945b1bd2daa980c5e6351",
            "_dom_classes": [],
            "description": "",
            "_model_name": "HTMLModel",
            "placeholder": "​",
            "_view_module": "@jupyter-widgets/controls",
            "_model_module_version": "1.5.0",
            "value": " 440M/440M [05:18&lt;00:00, 1.39MB/s]",
            "_view_count": null,
            "_view_module_version": "1.5.0",
            "description_tooltip": null,
            "_model_module": "@jupyter-widgets/controls",
            "layout": "IPY_MODEL_e24f0466fe13419099424d66eede1a95"
          }
        },
        "0026844ce2884870a2154014a8fa4cac": {
          "model_module": "@jupyter-widgets/controls",
          "model_name": "ProgressStyleModel",
          "state": {
            "_view_name": "StyleView",
            "_model_name": "ProgressStyleModel",
            "description_width": "initial",
            "_view_module": "@jupyter-widgets/base",
            "_model_module_version": "1.5.0",
            "_view_count": null,
            "_view_module_version": "1.2.0",
            "bar_color": null,
            "_model_module": "@jupyter-widgets/controls"
          }
        },
        "a82c2f01c61145e6906d681bf8eeb1e6": {
          "model_module": "@jupyter-widgets/base",
          "model_name": "LayoutModel",
          "state": {
            "_view_name": "LayoutView",
            "grid_template_rows": null,
            "right": null,
            "justify_content": null,
            "_view_module": "@jupyter-widgets/base",
            "overflow": null,
            "_model_module_version": "1.2.0",
            "_view_count": null,
            "flex_flow": null,
            "width": null,
            "min_width": null,
            "border": null,
            "align_items": null,
            "bottom": null,
            "_model_module": "@jupyter-widgets/base",
            "top": null,
            "grid_column": null,
            "overflow_y": null,
            "overflow_x": null,
            "grid_auto_flow": null,
            "grid_area": null,
            "grid_template_columns": null,
            "flex": null,
            "_model_name": "LayoutModel",
            "justify_items": null,
            "grid_row": null,
            "max_height": null,
            "align_content": null,
            "visibility": null,
            "align_self": null,
            "height": null,
            "min_height": null,
            "padding": null,
            "grid_auto_rows": null,
            "grid_gap": null,
            "max_width": null,
            "order": null,
            "_view_module_version": "1.2.0",
            "grid_template_areas": null,
            "object_position": null,
            "object_fit": null,
            "grid_auto_columns": null,
            "margin": null,
            "display": null,
            "left": null
          }
        },
        "f122294079a945b1bd2daa980c5e6351": {
          "model_module": "@jupyter-widgets/controls",
          "model_name": "DescriptionStyleModel",
          "state": {
            "_view_name": "StyleView",
            "_model_name": "DescriptionStyleModel",
            "description_width": "",
            "_view_module": "@jupyter-widgets/base",
            "_model_module_version": "1.5.0",
            "_view_count": null,
            "_view_module_version": "1.2.0",
            "_model_module": "@jupyter-widgets/controls"
          }
        },
        "e24f0466fe13419099424d66eede1a95": {
          "model_module": "@jupyter-widgets/base",
          "model_name": "LayoutModel",
          "state": {
            "_view_name": "LayoutView",
            "grid_template_rows": null,
            "right": null,
            "justify_content": null,
            "_view_module": "@jupyter-widgets/base",
            "overflow": null,
            "_model_module_version": "1.2.0",
            "_view_count": null,
            "flex_flow": null,
            "width": null,
            "min_width": null,
            "border": null,
            "align_items": null,
            "bottom": null,
            "_model_module": "@jupyter-widgets/base",
            "top": null,
            "grid_column": null,
            "overflow_y": null,
            "overflow_x": null,
            "grid_auto_flow": null,
            "grid_area": null,
            "grid_template_columns": null,
            "flex": null,
            "_model_name": "LayoutModel",
            "justify_items": null,
            "grid_row": null,
            "max_height": null,
            "align_content": null,
            "visibility": null,
            "align_self": null,
            "height": null,
            "min_height": null,
            "padding": null,
            "grid_auto_rows": null,
            "grid_gap": null,
            "max_width": null,
            "order": null,
            "_view_module_version": "1.2.0",
            "grid_template_areas": null,
            "object_position": null,
            "object_fit": null,
            "grid_auto_columns": null,
            "margin": null,
            "display": null,
            "left": null
          }
        },
        "595e47b5ffc445c2ae06e5cedb98fddd": {
          "model_module": "@jupyter-widgets/controls",
          "model_name": "HBoxModel",
          "state": {
            "_view_name": "HBoxView",
            "_dom_classes": [],
            "_model_name": "HBoxModel",
            "_view_module": "@jupyter-widgets/controls",
            "_model_module_version": "1.5.0",
            "_view_count": null,
            "_view_module_version": "1.5.0",
            "box_style": "",
            "layout": "IPY_MODEL_73b9e7a59b664c28b0d24f6fefa84be0",
            "_model_module": "@jupyter-widgets/controls",
            "children": [
              "IPY_MODEL_9e8f59bb833a4887bb2e975353ffc415",
              "IPY_MODEL_23149ce63b694adeaf204533c7d8a5be"
            ]
          }
        },
        "73b9e7a59b664c28b0d24f6fefa84be0": {
          "model_module": "@jupyter-widgets/base",
          "model_name": "LayoutModel",
          "state": {
            "_view_name": "LayoutView",
            "grid_template_rows": null,
            "right": null,
            "justify_content": null,
            "_view_module": "@jupyter-widgets/base",
            "overflow": null,
            "_model_module_version": "1.2.0",
            "_view_count": null,
            "flex_flow": null,
            "width": null,
            "min_width": null,
            "border": null,
            "align_items": null,
            "bottom": null,
            "_model_module": "@jupyter-widgets/base",
            "top": null,
            "grid_column": null,
            "overflow_y": null,
            "overflow_x": null,
            "grid_auto_flow": null,
            "grid_area": null,
            "grid_template_columns": null,
            "flex": null,
            "_model_name": "LayoutModel",
            "justify_items": null,
            "grid_row": null,
            "max_height": null,
            "align_content": null,
            "visibility": null,
            "align_self": null,
            "height": null,
            "min_height": null,
            "padding": null,
            "grid_auto_rows": null,
            "grid_gap": null,
            "max_width": null,
            "order": null,
            "_view_module_version": "1.2.0",
            "grid_template_areas": null,
            "object_position": null,
            "object_fit": null,
            "grid_auto_columns": null,
            "margin": null,
            "display": null,
            "left": null
          }
        },
        "9e8f59bb833a4887bb2e975353ffc415": {
          "model_module": "@jupyter-widgets/controls",
          "model_name": "FloatProgressModel",
          "state": {
            "_view_name": "ProgressView",
            "style": "IPY_MODEL_5fb418d9653b4ccd9f580d6b6e69058e",
            "_dom_classes": [],
            "description": "100%",
            "_model_name": "FloatProgressModel",
            "bar_style": "success",
            "max": 532194478,
            "_view_module": "@jupyter-widgets/controls",
            "_model_module_version": "1.5.0",
            "value": 532194478,
            "_view_count": null,
            "_view_module_version": "1.5.0",
            "orientation": "horizontal",
            "min": 0,
            "description_tooltip": null,
            "_model_module": "@jupyter-widgets/controls",
            "layout": "IPY_MODEL_d0f16776e4264eb481c7b28551a29a7d"
          }
        },
        "23149ce63b694adeaf204533c7d8a5be": {
          "model_module": "@jupyter-widgets/controls",
          "model_name": "HTMLModel",
          "state": {
            "_view_name": "HTMLView",
            "style": "IPY_MODEL_696677ee3f2e4ae5a7948c00c46cbf47",
            "_dom_classes": [],
            "description": "",
            "_model_name": "HTMLModel",
            "placeholder": "​",
            "_view_module": "@jupyter-widgets/controls",
            "_model_module_version": "1.5.0",
            "value": " 508M/508M [00:20&lt;00:00, 26.4MB/s]",
            "_view_count": null,
            "_view_module_version": "1.5.0",
            "description_tooltip": null,
            "_model_module": "@jupyter-widgets/controls",
            "layout": "IPY_MODEL_25e564e2cbbf46edbdc7836791570a0c"
          }
        },
        "5fb418d9653b4ccd9f580d6b6e69058e": {
          "model_module": "@jupyter-widgets/controls",
          "model_name": "ProgressStyleModel",
          "state": {
            "_view_name": "StyleView",
            "_model_name": "ProgressStyleModel",
            "description_width": "initial",
            "_view_module": "@jupyter-widgets/base",
            "_model_module_version": "1.5.0",
            "_view_count": null,
            "_view_module_version": "1.2.0",
            "bar_color": null,
            "_model_module": "@jupyter-widgets/controls"
          }
        },
        "d0f16776e4264eb481c7b28551a29a7d": {
          "model_module": "@jupyter-widgets/base",
          "model_name": "LayoutModel",
          "state": {
            "_view_name": "LayoutView",
            "grid_template_rows": null,
            "right": null,
            "justify_content": null,
            "_view_module": "@jupyter-widgets/base",
            "overflow": null,
            "_model_module_version": "1.2.0",
            "_view_count": null,
            "flex_flow": null,
            "width": null,
            "min_width": null,
            "border": null,
            "align_items": null,
            "bottom": null,
            "_model_module": "@jupyter-widgets/base",
            "top": null,
            "grid_column": null,
            "overflow_y": null,
            "overflow_x": null,
            "grid_auto_flow": null,
            "grid_area": null,
            "grid_template_columns": null,
            "flex": null,
            "_model_name": "LayoutModel",
            "justify_items": null,
            "grid_row": null,
            "max_height": null,
            "align_content": null,
            "visibility": null,
            "align_self": null,
            "height": null,
            "min_height": null,
            "padding": null,
            "grid_auto_rows": null,
            "grid_gap": null,
            "max_width": null,
            "order": null,
            "_view_module_version": "1.2.0",
            "grid_template_areas": null,
            "object_position": null,
            "object_fit": null,
            "grid_auto_columns": null,
            "margin": null,
            "display": null,
            "left": null
          }
        },
        "696677ee3f2e4ae5a7948c00c46cbf47": {
          "model_module": "@jupyter-widgets/controls",
          "model_name": "DescriptionStyleModel",
          "state": {
            "_view_name": "StyleView",
            "_model_name": "DescriptionStyleModel",
            "description_width": "",
            "_view_module": "@jupyter-widgets/base",
            "_model_module_version": "1.5.0",
            "_view_count": null,
            "_view_module_version": "1.2.0",
            "_model_module": "@jupyter-widgets/controls"
          }
        },
        "25e564e2cbbf46edbdc7836791570a0c": {
          "model_module": "@jupyter-widgets/base",
          "model_name": "LayoutModel",
          "state": {
            "_view_name": "LayoutView",
            "grid_template_rows": null,
            "right": null,
            "justify_content": null,
            "_view_module": "@jupyter-widgets/base",
            "overflow": null,
            "_model_module_version": "1.2.0",
            "_view_count": null,
            "flex_flow": null,
            "width": null,
            "min_width": null,
            "border": null,
            "align_items": null,
            "bottom": null,
            "_model_module": "@jupyter-widgets/base",
            "top": null,
            "grid_column": null,
            "overflow_y": null,
            "overflow_x": null,
            "grid_auto_flow": null,
            "grid_area": null,
            "grid_template_columns": null,
            "flex": null,
            "_model_name": "LayoutModel",
            "justify_items": null,
            "grid_row": null,
            "max_height": null,
            "align_content": null,
            "visibility": null,
            "align_self": null,
            "height": null,
            "min_height": null,
            "padding": null,
            "grid_auto_rows": null,
            "grid_gap": null,
            "max_width": null,
            "order": null,
            "_view_module_version": "1.2.0",
            "grid_template_areas": null,
            "object_position": null,
            "object_fit": null,
            "grid_auto_columns": null,
            "margin": null,
            "display": null,
            "left": null
          }
        }
      }
    }
  },
  "cells": [
    {
      "cell_type": "code",
      "metadata": {
        "colab": {
          "base_uri": "https://localhost:8080/"
        },
        "id": "NTVwC6QNwMFA",
        "outputId": "2e8122e7-fc30-492e-b6aa-f4979f855295"
      },
      "source": [
        "!pip install pycm"
      ],
      "execution_count": null,
      "outputs": [
        {
          "output_type": "stream",
          "text": [
            "Collecting pycm\n",
            "\u001b[?25l  Downloading https://files.pythonhosted.org/packages/76/c4/a05b90819dcf7e50bdddb030238a771bf87b0695e6c47a247f66ab7ed5d0/pycm-3.1-py2.py3-none-any.whl (63kB)\n",
            "\u001b[K     |████████████████████████████████| 71kB 4.0MB/s \n",
            "\u001b[?25hCollecting art>=1.8\n",
            "\u001b[?25l  Downloading https://files.pythonhosted.org/packages/83/37/c28d69ba1005889e8ff9633b8e7eccaaddc03549058a51ef5f51853cf183/art-5.1-py2.py3-none-any.whl (567kB)\n",
            "\u001b[K     |████████████████████████████████| 573kB 17.3MB/s \n",
            "\u001b[?25hRequirement already satisfied: numpy>=1.9.0 in /usr/local/lib/python3.7/dist-packages (from pycm) (1.19.5)\n",
            "Installing collected packages: art, pycm\n",
            "Successfully installed art-5.1 pycm-3.1\n"
          ],
          "name": "stdout"
        }
      ]
    },
    {
      "cell_type": "code",
      "metadata": {
        "colab": {
          "base_uri": "https://localhost:8080/"
        },
        "id": "XRSmLb3IwQsU",
        "outputId": "14d81bd4-b5ba-4cee-859a-433ab19ca079"
      },
      "source": [
        "!pip install transformers"
      ],
      "execution_count": null,
      "outputs": [
        {
          "output_type": "stream",
          "text": [
            "Collecting transformers\n",
            "\u001b[?25l  Downloading https://files.pythonhosted.org/packages/ed/d5/f4157a376b8a79489a76ce6cfe147f4f3be1e029b7144fa7b8432e8acb26/transformers-4.4.2-py3-none-any.whl (2.0MB)\n",
            "\r\u001b[K     |▏                               | 10kB 22.4MB/s eta 0:00:01\r\u001b[K     |▎                               | 20kB 32.2MB/s eta 0:00:01\r\u001b[K     |▌                               | 30kB 39.7MB/s eta 0:00:01\r\u001b[K     |▋                               | 40kB 34.9MB/s eta 0:00:01\r\u001b[K     |▉                               | 51kB 13.7MB/s eta 0:00:01\r\u001b[K     |█                               | 61kB 12.8MB/s eta 0:00:01\r\u001b[K     |█▏                              | 71kB 13.0MB/s eta 0:00:01\r\u001b[K     |█▎                              | 81kB 14.0MB/s eta 0:00:01\r\u001b[K     |█▌                              | 92kB 14.5MB/s eta 0:00:01\r\u001b[K     |█▋                              | 102kB 10.7MB/s eta 0:00:01\r\u001b[K     |█▉                              | 112kB 10.7MB/s eta 0:00:01\r\u001b[K     |██                              | 122kB 10.7MB/s eta 0:00:01\r\u001b[K     |██▏                             | 133kB 10.7MB/s eta 0:00:01\r\u001b[K     |██▎                             | 143kB 10.7MB/s eta 0:00:01\r\u001b[K     |██▌                             | 153kB 10.7MB/s eta 0:00:01\r\u001b[K     |██▋                             | 163kB 10.7MB/s eta 0:00:01\r\u001b[K     |██▉                             | 174kB 10.7MB/s eta 0:00:01\r\u001b[K     |███                             | 184kB 10.7MB/s eta 0:00:01\r\u001b[K     |███▏                            | 194kB 10.7MB/s eta 0:00:01\r\u001b[K     |███▎                            | 204kB 10.7MB/s eta 0:00:01\r\u001b[K     |███▌                            | 215kB 10.7MB/s eta 0:00:01\r\u001b[K     |███▋                            | 225kB 10.7MB/s eta 0:00:01\r\u001b[K     |███▉                            | 235kB 10.7MB/s eta 0:00:01\r\u001b[K     |████                            | 245kB 10.7MB/s eta 0:00:01\r\u001b[K     |████▏                           | 256kB 10.7MB/s eta 0:00:01\r\u001b[K     |████▎                           | 266kB 10.7MB/s eta 0:00:01\r\u001b[K     |████▌                           | 276kB 10.7MB/s eta 0:00:01\r\u001b[K     |████▋                           | 286kB 10.7MB/s eta 0:00:01\r\u001b[K     |████▉                           | 296kB 10.7MB/s eta 0:00:01\r\u001b[K     |█████                           | 307kB 10.7MB/s eta 0:00:01\r\u001b[K     |█████▏                          | 317kB 10.7MB/s eta 0:00:01\r\u001b[K     |█████▎                          | 327kB 10.7MB/s eta 0:00:01\r\u001b[K     |█████▌                          | 337kB 10.7MB/s eta 0:00:01\r\u001b[K     |█████▋                          | 348kB 10.7MB/s eta 0:00:01\r\u001b[K     |█████▉                          | 358kB 10.7MB/s eta 0:00:01\r\u001b[K     |██████                          | 368kB 10.7MB/s eta 0:00:01\r\u001b[K     |██████▏                         | 378kB 10.7MB/s eta 0:00:01\r\u001b[K     |██████▎                         | 389kB 10.7MB/s eta 0:00:01\r\u001b[K     |██████▌                         | 399kB 10.7MB/s eta 0:00:01\r\u001b[K     |██████▋                         | 409kB 10.7MB/s eta 0:00:01\r\u001b[K     |██████▉                         | 419kB 10.7MB/s eta 0:00:01\r\u001b[K     |███████                         | 430kB 10.7MB/s eta 0:00:01\r\u001b[K     |███████▏                        | 440kB 10.7MB/s eta 0:00:01\r\u001b[K     |███████▎                        | 450kB 10.7MB/s eta 0:00:01\r\u001b[K     |███████▌                        | 460kB 10.7MB/s eta 0:00:01\r\u001b[K     |███████▋                        | 471kB 10.7MB/s eta 0:00:01\r\u001b[K     |███████▉                        | 481kB 10.7MB/s eta 0:00:01\r\u001b[K     |████████                        | 491kB 10.7MB/s eta 0:00:01\r\u001b[K     |████████▏                       | 501kB 10.7MB/s eta 0:00:01\r\u001b[K     |████████▎                       | 512kB 10.7MB/s eta 0:00:01\r\u001b[K     |████████▌                       | 522kB 10.7MB/s eta 0:00:01\r\u001b[K     |████████▋                       | 532kB 10.7MB/s eta 0:00:01\r\u001b[K     |████████▉                       | 542kB 10.7MB/s eta 0:00:01\r\u001b[K     |█████████                       | 552kB 10.7MB/s eta 0:00:01\r\u001b[K     |█████████▏                      | 563kB 10.7MB/s eta 0:00:01\r\u001b[K     |█████████▎                      | 573kB 10.7MB/s eta 0:00:01\r\u001b[K     |█████████▌                      | 583kB 10.7MB/s eta 0:00:01\r\u001b[K     |█████████▋                      | 593kB 10.7MB/s eta 0:00:01\r\u001b[K     |█████████▉                      | 604kB 10.7MB/s eta 0:00:01\r\u001b[K     |██████████                      | 614kB 10.7MB/s eta 0:00:01\r\u001b[K     |██████████▏                     | 624kB 10.7MB/s eta 0:00:01\r\u001b[K     |██████████▎                     | 634kB 10.7MB/s eta 0:00:01\r\u001b[K     |██████████▌                     | 645kB 10.7MB/s eta 0:00:01\r\u001b[K     |██████████▋                     | 655kB 10.7MB/s eta 0:00:01\r\u001b[K     |██████████▉                     | 665kB 10.7MB/s eta 0:00:01\r\u001b[K     |███████████                     | 675kB 10.7MB/s eta 0:00:01\r\u001b[K     |███████████▏                    | 686kB 10.7MB/s eta 0:00:01\r\u001b[K     |███████████▎                    | 696kB 10.7MB/s eta 0:00:01\r\u001b[K     |███████████▌                    | 706kB 10.7MB/s eta 0:00:01\r\u001b[K     |███████████▋                    | 716kB 10.7MB/s eta 0:00:01\r\u001b[K     |███████████▉                    | 727kB 10.7MB/s eta 0:00:01\r\u001b[K     |████████████                    | 737kB 10.7MB/s eta 0:00:01\r\u001b[K     |████████████▏                   | 747kB 10.7MB/s eta 0:00:01\r\u001b[K     |████████████▎                   | 757kB 10.7MB/s eta 0:00:01\r\u001b[K     |████████████▌                   | 768kB 10.7MB/s eta 0:00:01\r\u001b[K     |████████████▋                   | 778kB 10.7MB/s eta 0:00:01\r\u001b[K     |████████████▉                   | 788kB 10.7MB/s eta 0:00:01\r\u001b[K     |█████████████                   | 798kB 10.7MB/s eta 0:00:01\r\u001b[K     |█████████████▏                  | 808kB 10.7MB/s eta 0:00:01\r\u001b[K     |█████████████▎                  | 819kB 10.7MB/s eta 0:00:01\r\u001b[K     |█████████████▌                  | 829kB 10.7MB/s eta 0:00:01\r\u001b[K     |█████████████▋                  | 839kB 10.7MB/s eta 0:00:01\r\u001b[K     |█████████████▉                  | 849kB 10.7MB/s eta 0:00:01\r\u001b[K     |██████████████                  | 860kB 10.7MB/s eta 0:00:01\r\u001b[K     |██████████████▏                 | 870kB 10.7MB/s eta 0:00:01\r\u001b[K     |██████████████▎                 | 880kB 10.7MB/s eta 0:00:01\r\u001b[K     |██████████████▌                 | 890kB 10.7MB/s eta 0:00:01\r\u001b[K     |██████████████▋                 | 901kB 10.7MB/s eta 0:00:01\r\u001b[K     |██████████████▊                 | 911kB 10.7MB/s eta 0:00:01\r\u001b[K     |███████████████                 | 921kB 10.7MB/s eta 0:00:01\r\u001b[K     |███████████████                 | 931kB 10.7MB/s eta 0:00:01\r\u001b[K     |███████████████▎                | 942kB 10.7MB/s eta 0:00:01\r\u001b[K     |███████████████▍                | 952kB 10.7MB/s eta 0:00:01\r\u001b[K     |███████████████▋                | 962kB 10.7MB/s eta 0:00:01\r\u001b[K     |███████████████▊                | 972kB 10.7MB/s eta 0:00:01\r\u001b[K     |████████████████                | 983kB 10.7MB/s eta 0:00:01\r\u001b[K     |████████████████                | 993kB 10.7MB/s eta 0:00:01\r\u001b[K     |████████████████▎               | 1.0MB 10.7MB/s eta 0:00:01\r\u001b[K     |████████████████▍               | 1.0MB 10.7MB/s eta 0:00:01\r\u001b[K     |████████████████▋               | 1.0MB 10.7MB/s eta 0:00:01\r\u001b[K     |████████████████▊               | 1.0MB 10.7MB/s eta 0:00:01\r\u001b[K     |█████████████████               | 1.0MB 10.7MB/s eta 0:00:01\r\u001b[K     |█████████████████               | 1.1MB 10.7MB/s eta 0:00:01\r\u001b[K     |█████████████████▎              | 1.1MB 10.7MB/s eta 0:00:01\r\u001b[K     |█████████████████▍              | 1.1MB 10.7MB/s eta 0:00:01\r\u001b[K     |█████████████████▋              | 1.1MB 10.7MB/s eta 0:00:01\r\u001b[K     |█████████████████▊              | 1.1MB 10.7MB/s eta 0:00:01\r\u001b[K     |██████████████████              | 1.1MB 10.7MB/s eta 0:00:01\r\u001b[K     |██████████████████              | 1.1MB 10.7MB/s eta 0:00:01\r\u001b[K     |██████████████████▎             | 1.1MB 10.7MB/s eta 0:00:01\r\u001b[K     |██████████████████▍             | 1.1MB 10.7MB/s eta 0:00:01\r\u001b[K     |██████████████████▋             | 1.1MB 10.7MB/s eta 0:00:01\r\u001b[K     |██████████████████▊             | 1.2MB 10.7MB/s eta 0:00:01\r\u001b[K     |███████████████████             | 1.2MB 10.7MB/s eta 0:00:01\r\u001b[K     |███████████████████             | 1.2MB 10.7MB/s eta 0:00:01\r\u001b[K     |███████████████████▎            | 1.2MB 10.7MB/s eta 0:00:01\r\u001b[K     |███████████████████▍            | 1.2MB 10.7MB/s eta 0:00:01\r\u001b[K     |███████████████████▋            | 1.2MB 10.7MB/s eta 0:00:01\r\u001b[K     |███████████████████▊            | 1.2MB 10.7MB/s eta 0:00:01\r\u001b[K     |████████████████████            | 1.2MB 10.7MB/s eta 0:00:01\r\u001b[K     |████████████████████            | 1.2MB 10.7MB/s eta 0:00:01\r\u001b[K     |████████████████████▎           | 1.2MB 10.7MB/s eta 0:00:01\r\u001b[K     |████████████████████▍           | 1.3MB 10.7MB/s eta 0:00:01\r\u001b[K     |████████████████████▋           | 1.3MB 10.7MB/s eta 0:00:01\r\u001b[K     |████████████████████▊           | 1.3MB 10.7MB/s eta 0:00:01\r\u001b[K     |█████████████████████           | 1.3MB 10.7MB/s eta 0:00:01\r\u001b[K     |█████████████████████           | 1.3MB 10.7MB/s eta 0:00:01\r\u001b[K     |█████████████████████▎          | 1.3MB 10.7MB/s eta 0:00:01\r\u001b[K     |█████████████████████▍          | 1.3MB 10.7MB/s eta 0:00:01\r\u001b[K     |█████████████████████▋          | 1.3MB 10.7MB/s eta 0:00:01\r\u001b[K     |█████████████████████▊          | 1.3MB 10.7MB/s eta 0:00:01\r\u001b[K     |██████████████████████          | 1.4MB 10.7MB/s eta 0:00:01\r\u001b[K     |██████████████████████          | 1.4MB 10.7MB/s eta 0:00:01\r\u001b[K     |██████████████████████▎         | 1.4MB 10.7MB/s eta 0:00:01\r\u001b[K     |██████████████████████▍         | 1.4MB 10.7MB/s eta 0:00:01\r\u001b[K     |██████████████████████▋         | 1.4MB 10.7MB/s eta 0:00:01\r\u001b[K     |██████████████████████▊         | 1.4MB 10.7MB/s eta 0:00:01\r\u001b[K     |███████████████████████         | 1.4MB 10.7MB/s eta 0:00:01\r\u001b[K     |███████████████████████         | 1.4MB 10.7MB/s eta 0:00:01\r\u001b[K     |███████████████████████▎        | 1.4MB 10.7MB/s eta 0:00:01\r\u001b[K     |███████████████████████▍        | 1.4MB 10.7MB/s eta 0:00:01\r\u001b[K     |███████████████████████▋        | 1.5MB 10.7MB/s eta 0:00:01\r\u001b[K     |███████████████████████▊        | 1.5MB 10.7MB/s eta 0:00:01\r\u001b[K     |████████████████████████        | 1.5MB 10.7MB/s eta 0:00:01\r\u001b[K     |████████████████████████        | 1.5MB 10.7MB/s eta 0:00:01\r\u001b[K     |████████████████████████▎       | 1.5MB 10.7MB/s eta 0:00:01\r\u001b[K     |████████████████████████▍       | 1.5MB 10.7MB/s eta 0:00:01\r\u001b[K     |████████████████████████▋       | 1.5MB 10.7MB/s eta 0:00:01\r\u001b[K     |████████████████████████▊       | 1.5MB 10.7MB/s eta 0:00:01\r\u001b[K     |█████████████████████████       | 1.5MB 10.7MB/s eta 0:00:01\r\u001b[K     |█████████████████████████       | 1.5MB 10.7MB/s eta 0:00:01\r\u001b[K     |█████████████████████████▎      | 1.6MB 10.7MB/s eta 0:00:01\r\u001b[K     |█████████████████████████▍      | 1.6MB 10.7MB/s eta 0:00:01\r\u001b[K     |█████████████████████████▋      | 1.6MB 10.7MB/s eta 0:00:01\r\u001b[K     |█████████████████████████▊      | 1.6MB 10.7MB/s eta 0:00:01\r\u001b[K     |██████████████████████████      | 1.6MB 10.7MB/s eta 0:00:01\r\u001b[K     |██████████████████████████      | 1.6MB 10.7MB/s eta 0:00:01\r\u001b[K     |██████████████████████████▎     | 1.6MB 10.7MB/s eta 0:00:01\r\u001b[K     |██████████████████████████▍     | 1.6MB 10.7MB/s eta 0:00:01\r\u001b[K     |██████████████████████████▋     | 1.6MB 10.7MB/s eta 0:00:01\r\u001b[K     |██████████████████████████▊     | 1.6MB 10.7MB/s eta 0:00:01\r\u001b[K     |███████████████████████████     | 1.7MB 10.7MB/s eta 0:00:01\r\u001b[K     |███████████████████████████     | 1.7MB 10.7MB/s eta 0:00:01\r\u001b[K     |███████████████████████████▎    | 1.7MB 10.7MB/s eta 0:00:01\r\u001b[K     |███████████████████████████▍    | 1.7MB 10.7MB/s eta 0:00:01\r\u001b[K     |███████████████████████████▋    | 1.7MB 10.7MB/s eta 0:00:01\r\u001b[K     |███████████████████████████▊    | 1.7MB 10.7MB/s eta 0:00:01\r\u001b[K     |████████████████████████████    | 1.7MB 10.7MB/s eta 0:00:01\r\u001b[K     |████████████████████████████    | 1.7MB 10.7MB/s eta 0:00:01\r\u001b[K     |████████████████████████████▎   | 1.7MB 10.7MB/s eta 0:00:01\r\u001b[K     |████████████████████████████▍   | 1.8MB 10.7MB/s eta 0:00:01\r\u001b[K     |████████████████████████████▋   | 1.8MB 10.7MB/s eta 0:00:01\r\u001b[K     |████████████████████████████▊   | 1.8MB 10.7MB/s eta 0:00:01\r\u001b[K     |█████████████████████████████   | 1.8MB 10.7MB/s eta 0:00:01\r\u001b[K     |█████████████████████████████   | 1.8MB 10.7MB/s eta 0:00:01\r\u001b[K     |█████████████████████████████▎  | 1.8MB 10.7MB/s eta 0:00:01\r\u001b[K     |█████████████████████████████▍  | 1.8MB 10.7MB/s eta 0:00:01\r\u001b[K     |█████████████████████████████▌  | 1.8MB 10.7MB/s eta 0:00:01\r\u001b[K     |█████████████████████████████▊  | 1.8MB 10.7MB/s eta 0:00:01\r\u001b[K     |█████████████████████████████▉  | 1.8MB 10.7MB/s eta 0:00:01\r\u001b[K     |██████████████████████████████  | 1.9MB 10.7MB/s eta 0:00:01\r\u001b[K     |██████████████████████████████▏ | 1.9MB 10.7MB/s eta 0:00:01\r\u001b[K     |██████████████████████████████▍ | 1.9MB 10.7MB/s eta 0:00:01\r\u001b[K     |██████████████████████████████▌ | 1.9MB 10.7MB/s eta 0:00:01\r\u001b[K     |██████████████████████████████▊ | 1.9MB 10.7MB/s eta 0:00:01\r\u001b[K     |██████████████████████████████▉ | 1.9MB 10.7MB/s eta 0:00:01\r\u001b[K     |███████████████████████████████ | 1.9MB 10.7MB/s eta 0:00:01\r\u001b[K     |███████████████████████████████▏| 1.9MB 10.7MB/s eta 0:00:01\r\u001b[K     |███████████████████████████████▍| 1.9MB 10.7MB/s eta 0:00:01\r\u001b[K     |███████████████████████████████▌| 1.9MB 10.7MB/s eta 0:00:01\r\u001b[K     |███████████████████████████████▊| 2.0MB 10.7MB/s eta 0:00:01\r\u001b[K     |███████████████████████████████▉| 2.0MB 10.7MB/s eta 0:00:01\r\u001b[K     |████████████████████████████████| 2.0MB 10.7MB/s \n",
            "\u001b[?25hRequirement already satisfied: requests in /usr/local/lib/python3.7/dist-packages (from transformers) (2.23.0)\n",
            "Requirement already satisfied: tqdm>=4.27 in /usr/local/lib/python3.7/dist-packages (from transformers) (4.41.1)\n",
            "Requirement already satisfied: packaging in /usr/local/lib/python3.7/dist-packages (from transformers) (20.9)\n",
            "Requirement already satisfied: filelock in /usr/local/lib/python3.7/dist-packages (from transformers) (3.0.12)\n",
            "Requirement already satisfied: regex!=2019.12.17 in /usr/local/lib/python3.7/dist-packages (from transformers) (2019.12.20)\n",
            "Collecting tokenizers<0.11,>=0.10.1\n",
            "\u001b[?25l  Downloading https://files.pythonhosted.org/packages/ae/04/5b870f26a858552025a62f1649c20d29d2672c02ff3c3fb4c688ca46467a/tokenizers-0.10.2-cp37-cp37m-manylinux2010_x86_64.whl (3.3MB)\n",
            "\u001b[K     |████████████████████████████████| 3.3MB 71.6MB/s \n",
            "\u001b[?25hCollecting sacremoses\n",
            "\u001b[?25l  Downloading https://files.pythonhosted.org/packages/08/cd/342e584ee544d044fb573ae697404ce22ede086c9e87ce5960772084cad0/sacremoses-0.0.44.tar.gz (862kB)\n",
            "\u001b[K     |████████████████████████████████| 870kB 67.3MB/s \n",
            "\u001b[?25hRequirement already satisfied: numpy>=1.17 in /usr/local/lib/python3.7/dist-packages (from transformers) (1.19.5)\n",
            "Requirement already satisfied: importlib-metadata; python_version < \"3.8\" in /usr/local/lib/python3.7/dist-packages (from transformers) (3.8.1)\n",
            "Requirement already satisfied: chardet<4,>=3.0.2 in /usr/local/lib/python3.7/dist-packages (from requests->transformers) (3.0.4)\n",
            "Requirement already satisfied: urllib3!=1.25.0,!=1.25.1,<1.26,>=1.21.1 in /usr/local/lib/python3.7/dist-packages (from requests->transformers) (1.24.3)\n",
            "Requirement already satisfied: certifi>=2017.4.17 in /usr/local/lib/python3.7/dist-packages (from requests->transformers) (2020.12.5)\n",
            "Requirement already satisfied: idna<3,>=2.5 in /usr/local/lib/python3.7/dist-packages (from requests->transformers) (2.10)\n",
            "Requirement already satisfied: pyparsing>=2.0.2 in /usr/local/lib/python3.7/dist-packages (from packaging->transformers) (2.4.7)\n",
            "Requirement already satisfied: six in /usr/local/lib/python3.7/dist-packages (from sacremoses->transformers) (1.15.0)\n",
            "Requirement already satisfied: click in /usr/local/lib/python3.7/dist-packages (from sacremoses->transformers) (7.1.2)\n",
            "Requirement already satisfied: joblib in /usr/local/lib/python3.7/dist-packages (from sacremoses->transformers) (1.0.1)\n",
            "Requirement already satisfied: zipp>=0.5 in /usr/local/lib/python3.7/dist-packages (from importlib-metadata; python_version < \"3.8\"->transformers) (3.4.1)\n",
            "Requirement already satisfied: typing-extensions>=3.6.4; python_version < \"3.8\" in /usr/local/lib/python3.7/dist-packages (from importlib-metadata; python_version < \"3.8\"->transformers) (3.7.4.3)\n",
            "Building wheels for collected packages: sacremoses\n",
            "  Building wheel for sacremoses (setup.py) ... \u001b[?25l\u001b[?25hdone\n",
            "  Created wheel for sacremoses: filename=sacremoses-0.0.44-cp37-none-any.whl size=886084 sha256=ff5b021d75cc8cbb4fd397dc5b8268eabc2b25cd18418a2a0fbad4ec13191e6d\n",
            "  Stored in directory: /root/.cache/pip/wheels/3e/fb/c0/13ab4d63d537658f448366744654323077c4d90069b6512f3c\n",
            "Successfully built sacremoses\n",
            "Installing collected packages: tokenizers, sacremoses, transformers\n",
            "Successfully installed sacremoses-0.0.44 tokenizers-0.10.2 transformers-4.4.2\n"
          ],
          "name": "stdout"
        }
      ]
    },
    {
      "cell_type": "code",
      "metadata": {
        "colab": {
          "base_uri": "https://localhost:8080/"
        },
        "id": "JaivgSrLwlfu",
        "outputId": "73a1f02e-6e7a-40a0-825a-8167dc460162"
      },
      "source": [
        "from torchvision import models\n",
        "from pycm import *\n",
        "from transformers import BertTokenizer, BertModel\n",
        "import nltk\n",
        "nltk.download('punkt')\n",
        "from nltk.tokenize import sent_tokenize, word_tokenize\n",
        "from collections import Counter\n",
        "import pickle\n",
        "import sys\n",
        "from glob import glob  \n",
        "import math\n",
        "import shutil\n",
        "import os\n",
        "import pandas as pd\n",
        "import numpy as np\n",
        "import matplotlib.pyplot as plt\n",
        "import torch\n",
        "import torchvision \n",
        "import torch.nn as nn\n",
        "import torch.nn.functional as F\n",
        "import torch.optim as optim\n",
        "import torch.utils.data.dataset\n",
        "import torch.utils.data.dataloader\n",
        "import torchvision.transforms as visionTransforms\n",
        "import PIL.Image as Image\n",
        "from torchvision.transforms import ToTensor,ToPILImage"
      ],
      "execution_count": null,
      "outputs": [
        {
          "output_type": "stream",
          "text": [
            "[nltk_data] Downloading package punkt to /root/nltk_data...\n",
            "[nltk_data]   Package punkt is already up-to-date!\n"
          ],
          "name": "stdout"
        }
      ]
    },
    {
      "cell_type": "code",
      "metadata": {
        "id": "fJYlHKinwojD"
      },
      "source": [
        "df=pd.read_csv(\"path_to_add/MIDAS_Task3/Datasets/Task3_Cleaned_Multimodal.csv\",index_col=0)\n",
        "df['Image Path']=\"path_to_add/MIDAS_Task3/\"+df['Image Path'] "
      ],
      "execution_count": null,
      "outputs": []
    },
    {
      "cell_type": "code",
      "metadata": {
        "id": "UJxa97pewq5R"
      },
      "source": [
        "dfTrain,dfVal,dfTest=np.split(df.sample(frac=1, random_state=42), [int(.8 * len(df)), int(.9 * len(df))])\n",
        "dfTrain=dfTrain.reset_index(drop=True)\n",
        "dfTest=dfTest.reset_index(drop=True)\n",
        "dfVal=dfVal.reset_index(drop=True)"
      ],
      "execution_count": null,
      "outputs": []
    },
    {
      "cell_type": "markdown",
      "metadata": {
        "id": "UnxLG4JJn9S8"
      },
      "source": [
        "As visualized in MIDAS_Task3_Preprocessing_Visualization.ipynb there is quite a bit of imbalance in the dataset. We decided to go with the PyTorch WeightedRandomSampler which instead of picking samples randomly in the dataloader will pick it according to weights. And the weight assigned to each class is inversely proportional to the frequency of the class. So the classes with a higher freq are less likely to get sampled, where as classes with a lower frequency are more likely to get sampled"
      ]
    },
    {
      "cell_type": "code",
      "metadata": {
        "id": "X32LNfDbwsyz"
      },
      "source": [
        "from torch.utils.data import WeightedRandomSampler\n",
        "freqLabels=torch.tensor(dfTrain['Label'].value_counts().sort_index(),dtype=torch.double)\n",
        "weightClass=freqLabels/freqLabels.sum()\n",
        "weightClass= 1/weightClass\n",
        "weightClass=(weightClass).tolist()\n",
        "sampleWeights=[weightClass[i] for i in dfTrain['Label']]\n",
        "trainSampler=WeightedRandomSampler(sampleWeights,len(dfTrain))"
      ],
      "execution_count": null,
      "outputs": []
    },
    {
      "cell_type": "markdown",
      "metadata": {
        "id": "FWRF4rzioAXj"
      },
      "source": [
        "We use a combination of PreTrained BERT, CNNs and Transformer Encoder Blocks for the Text Modality and PreTrained VGG-13(With 3 tunable layers) for the Vision Modality as mentioned in the MIDAS_Task3_Detailed_Analysis.pdf\n",
        "\n",
        "---\n",
        "\n",
        "\n",
        "We override the PyTorch Dataset class. FlipkartDataset Class gets the product-desc from the dataframe and the respective label. The encoder_plus function from the Transformer's Library is used to encode the given text seq, truncate the seq if it crosses the max_length arg and pad the seq if it is less than the max_length arg. The encode_plus function is also responsible for providing the attention_masks for each seq which helps BERT identify the tokens which are eligible for attention.\n",
        "\n",
        "The thing that we tried over here was getting the embedding directly from the DataLoader i.e. having pre-trained BERT in the Dataset class itself. But training performance was extremely slow and would often lead to CUDA OOM errors."
      ]
    },
    {
      "cell_type": "code",
      "metadata": {
        "id": "QMVwBSgXwuEr"
      },
      "source": [
        "from torch.utils.data import Dataset, DataLoader\n",
        "\n",
        "class FlipkartDataset(Dataset):\n",
        "\n",
        "  def __init__(self,dataframe,preTrainedBert,bertTokenizer,maxLength,vision_transform):\n",
        "    self.data=dataframe\n",
        "    self.bertTokenizer=bertTokenizer\n",
        "    self.model=preTrainedBert \n",
        "    self.maxLength=maxLength\n",
        "    self.vision_transform=vision_transform\n",
        "  \n",
        "  def __len__(self):\n",
        "    return len(self.data)\n",
        "\n",
        "  def __getitem__(self,idx):\n",
        "    self.imgPath=str(self.data.iloc[idx,4])\n",
        "    self.productDescription=str(self.data.iloc[idx,0])\n",
        "    self.label=self.data.iloc[idx,3]\n",
        "\n",
        "    self.image=Image.open(self.imgPath)\n",
        "    self.image=self.vision_transform(self.image)\n",
        "\n",
        "    self.encodedInput=self.bertTokenizer.encode_plus(text=self.productDescription,padding='max_length',truncation=\"longest_first\",max_length=self.maxLength,return_tensors='pt',return_attention_mask=True,return_token_type_ids=True)\n",
        "    self.embedding=self.model(input_ids=self.encodedInput['input_ids'],attention_mask=self.encodedInput['attention_mask'],token_type_ids=self.encodedInput['token_type_ids']).last_hidden_state\n",
        "\n",
        "    return self.image,self.embedding,self.label"
      ],
      "execution_count": null,
      "outputs": []
    },
    {
      "cell_type": "code",
      "metadata": {
        "colab": {
          "base_uri": "https://localhost:8080/",
          "height": 264,
          "referenced_widgets": [
            "2d393276a7e24cb5a92be887060aaca7",
            "23cb70dc9bc44d29accbc2530ed98d60",
            "b473278d55f6463aa1e42e5df4608f05",
            "ccb78ee7ae004105b51b3c29d6aa5832",
            "ce2923a2a80d46f398dfdeb64a5381fe",
            "7b3d2bf2511046da88fab24065ee5260",
            "66a5a3d123da4bfc932175297e8e6c5b",
            "c63e9543f08743bca5c27d6e3154eee9",
            "f0ea53252f8540cd8e72cc0cb858cb3f",
            "a4a261da01a74685bbe62c033cfe6334",
            "62d9712e4aff4efca7c805fe60d6f725",
            "fbfb73d7e16944fe869d6b260c030b39",
            "04f5e60a9d304eea976ef1203122d5af",
            "ad5df7e2cfea4d88acec348dbd7c418e",
            "e4b63f18b3f54ed89a171e4790a8bc54",
            "45fd1e9fe37b42d7b5b81ef56bd8e21c",
            "cd4197248c8a4805a463698649111f2d",
            "22bc0d31b2f54f01b2a4952fc11901ae",
            "b5c412325a0240bdb9ee9c927a72fca1",
            "c6ef104fc3c7441ba7358a16a3727922",
            "42f0e742d2604610ba3d7714c6c91618",
            "e92b66efdfbf4f688d3f2620d5121923",
            "573d431ab707479184ed6fae8c2aa4bb",
            "8002db3da177457bac85b809b0f84cbd",
            "07c2cf5a5f944606a73a13eb4cfd59d1",
            "32a832024cae41dfaa801147dd470624",
            "160bbd3465d94f4cab5f5651a70e177a",
            "8eac25d673c5422298447f465c523f5f",
            "4dcbf0b7d2314c74b8cb86b66070ad82",
            "408d246b5711408c9460cfc67f9cfec8",
            "862a7bdcb24c428cbe57573dd463c072",
            "b1d8e8482c9b4fecba2d662d0bdf4534",
            "94f201115cac4f1fa7b694ba54b22b88",
            "d59054976bde4601b446085d53f85394",
            "4d383b90267d4b8ebe46fa945d1a2762",
            "6536c88e3da04e9899552184e266d23e",
            "0026844ce2884870a2154014a8fa4cac",
            "a82c2f01c61145e6906d681bf8eeb1e6",
            "f122294079a945b1bd2daa980c5e6351",
            "e24f0466fe13419099424d66eede1a95"
          ]
        },
        "id": "k_u55T34wvdn",
        "outputId": "7bc926f8-b8c5-466e-daf8-3ef6dd9bb847"
      },
      "source": [
        "from transformers import BertTokenizer, BertModel\n",
        "\n",
        "tokenizer = BertTokenizer.from_pretrained('bert-base-uncased')\n",
        "model = BertModel.from_pretrained('bert-base-uncased')"
      ],
      "execution_count": null,
      "outputs": [
        {
          "output_type": "display_data",
          "data": {
            "application/vnd.jupyter.widget-view+json": {
              "model_id": "2d393276a7e24cb5a92be887060aaca7",
              "version_minor": 0,
              "version_major": 2
            },
            "text/plain": [
              "HBox(children=(FloatProgress(value=0.0, description='Downloading', max=231508.0, style=ProgressStyle(descripti…"
            ]
          },
          "metadata": {
            "tags": []
          }
        },
        {
          "output_type": "stream",
          "text": [
            "\n"
          ],
          "name": "stdout"
        },
        {
          "output_type": "display_data",
          "data": {
            "application/vnd.jupyter.widget-view+json": {
              "model_id": "f0ea53252f8540cd8e72cc0cb858cb3f",
              "version_minor": 0,
              "version_major": 2
            },
            "text/plain": [
              "HBox(children=(FloatProgress(value=0.0, description='Downloading', max=28.0, style=ProgressStyle(description_w…"
            ]
          },
          "metadata": {
            "tags": []
          }
        },
        {
          "output_type": "stream",
          "text": [
            "\n"
          ],
          "name": "stdout"
        },
        {
          "output_type": "display_data",
          "data": {
            "application/vnd.jupyter.widget-view+json": {
              "model_id": "cd4197248c8a4805a463698649111f2d",
              "version_minor": 0,
              "version_major": 2
            },
            "text/plain": [
              "HBox(children=(FloatProgress(value=0.0, description='Downloading', max=466062.0, style=ProgressStyle(descripti…"
            ]
          },
          "metadata": {
            "tags": []
          }
        },
        {
          "output_type": "stream",
          "text": [
            "\n"
          ],
          "name": "stdout"
        },
        {
          "output_type": "display_data",
          "data": {
            "application/vnd.jupyter.widget-view+json": {
              "model_id": "07c2cf5a5f944606a73a13eb4cfd59d1",
              "version_minor": 0,
              "version_major": 2
            },
            "text/plain": [
              "HBox(children=(FloatProgress(value=0.0, description='Downloading', max=433.0, style=ProgressStyle(description_…"
            ]
          },
          "metadata": {
            "tags": []
          }
        },
        {
          "output_type": "stream",
          "text": [
            "\n"
          ],
          "name": "stdout"
        },
        {
          "output_type": "display_data",
          "data": {
            "application/vnd.jupyter.widget-view+json": {
              "model_id": "94f201115cac4f1fa7b694ba54b22b88",
              "version_minor": 0,
              "version_major": 2
            },
            "text/plain": [
              "HBox(children=(FloatProgress(value=0.0, description='Downloading', max=440473133.0, style=ProgressStyle(descri…"
            ]
          },
          "metadata": {
            "tags": []
          }
        },
        {
          "output_type": "stream",
          "text": [
            "\n"
          ],
          "name": "stdout"
        }
      ]
    },
    {
      "cell_type": "code",
      "metadata": {
        "id": "8HUUy2nYwwwW"
      },
      "source": [
        "preprocess = torchvision.transforms.Compose([\n",
        "  torchvision.transforms.Resize((224,224)),\n",
        "  torchvision.transforms.ToTensor(),\n",
        "  torchvision.transforms.Normalize(mean=[0.485, 0.456, 0.406], std=[0.229, 0.224, 0.225])\n",
        "  ])"
      ],
      "execution_count": null,
      "outputs": []
    },
    {
      "cell_type": "markdown",
      "metadata": {
        "id": "aboXpTeKoMYt"
      },
      "source": [
        "We experimented with a couple of maxLength values(128,256,512). But with 256 and 512, there was a considerable increase in the training time. One other reason to choose maxLength=128 was ~70% of the data has seq length of 0-50. Hampering the training performance just to accommodate the complete seq for 30% of the data seemed like an expensive trade-off. Hence the maxLength was taken as 128"
      ]
    },
    {
      "cell_type": "code",
      "metadata": {
        "id": "qYsAkMWAw_Sz"
      },
      "source": [
        "flipkartTrainDataset=FlipkartDataset(dataframe=dfTrain,preTrainedBert=model,bertTokenizer=tokenizer,maxLength=512,vision_transform=preprocess)\n",
        "flipkartTestDataset=FlipkartDataset(dataframe=dfTest,preTrainedBert=model,bertTokenizer=tokenizer,maxLength=512,vision_transform=preprocess)\n",
        "flipkartValDataset=FlipkartDataset(dataframe=dfVal,preTrainedBert=model,bertTokenizer=tokenizer,maxLength=512,vision_transform=preprocess)"
      ],
      "execution_count": null,
      "outputs": []
    },
    {
      "cell_type": "markdown",
      "metadata": {
        "id": "pjydH7aHocMe"
      },
      "source": [
        "The Weighted Sampler is just used with the Train Set and not the Test and Validation sets because the model should be capable of recognizing any class at test time irrespective of the frequency of the class"
      ]
    },
    {
      "cell_type": "code",
      "metadata": {
        "id": "qv0M90Dyx9sf"
      },
      "source": [
        "trainLoader=torch.utils.data.DataLoader(flipkartTrainDataset,batch_size=8,sampler=trainSampler)\n",
        "testLoader=torch.utils.data.DataLoader(flipkartTestDataset,batch_size=8,shuffle=True)\n",
        "valLoader=torch.utils.data.DataLoader(flipkartValDataset,batch_size=8,shuffle=True)"
      ],
      "execution_count": null,
      "outputs": []
    },
    {
      "cell_type": "code",
      "metadata": {
        "colab": {
          "base_uri": "https://localhost:8080/"
        },
        "id": "C8e34CSTyB8c",
        "outputId": "39f4204e-cdbb-4805-ab4e-2cadf4ca4e4f"
      },
      "source": [
        "device = torch.device('cuda' if torch.cuda.is_available() else 'cpu')\n",
        "device"
      ],
      "execution_count": null,
      "outputs": [
        {
          "output_type": "execute_result",
          "data": {
            "text/plain": [
              "device(type='cpu')"
            ]
          },
          "metadata": {
            "tags": []
          },
          "execution_count": 14
        }
      ]
    },
    {
      "cell_type": "code",
      "metadata": {
        "id": "1lc3TqmDyFbE"
      },
      "source": [
        "class MultiModalNetwork(nn.Module):\n",
        "  def __init__(self,preTrainedVGG,textInChannels=1,embeddingDimension=768,numHeads=8,numEncoderLayers=3,numClasses=27):\n",
        "    super(MultiModalNetwork,self).__init__()\n",
        "    self.textInChannels=textInChannels\n",
        "    self.embDim=embeddingDimension\n",
        "    self.numHeads=numHeads\n",
        "    self.numEncoderLayers=numEncoderLayers\n",
        "    self.numClasses=numClasses\n",
        "\n",
        "    self.vgg13=self.freezeVGG(originalPreTrainedVGG=preTrainedVGG)\n",
        "\n",
        "    self.encoderLayer=nn.TransformerEncoderLayer(d_model=self.embDim,nhead=self.numHeads)\n",
        "    self.encoderBlock=nn.TransformerEncoder(self.encoderLayer,num_layers=self.numEncoderLayers)\n",
        "    self.kimConv0=nn.Conv2d(in_channels=self.textInChannels,out_channels=100,kernel_size=(2,self.embDim))\n",
        "    self.kimConv1=nn.Conv2d(in_channels=self.textInChannels,out_channels=100,kernel_size=(3,self.embDim))\n",
        "    self.kimConv2=nn.Conv2d(in_channels=self.textInChannels,out_channels=100,kernel_size=(4,self.embDim))\n",
        "    self.kimConv3=nn.Conv2d(in_channels=self.textInChannels,out_channels=100,kernel_size=(5,self.embDim))\n",
        "    self.dropoutLayer=nn.Dropout(p=0.5)\n",
        "    self.fc=nn.Linear(800,self.numClasses)\n",
        "\n",
        "  def forward(self,textInput,imgInput):\n",
        "    textInput=textInput.squeeze(dim=1)\n",
        "    textInput=textInput.transpose(1,0)\n",
        "    encoderOutput=self.encoderBlock(textInput)\n",
        "    encoderOutput=encoderOutput.transpose(1,0)\n",
        "    \n",
        "    kimInput=encoderOutput.unsqueeze(1)\n",
        "    \n",
        "    conv0_Output=F.relu(self.kimConv0(kimInput)).squeeze(3)\n",
        "    conv1_Output=F.relu(self.kimConv1(kimInput)).squeeze(3)\n",
        "    conv2_Output=F.relu(self.kimConv2(kimInput)).squeeze(3)\n",
        "    conv3_Output=F.relu(self.kimConv3(kimInput)).squeeze(3)\n",
        "    \n",
        "    conv0_Output=F.max_pool1d(conv0_Output,conv0_Output.size(2))\n",
        "    conv1_Output=F.max_pool1d(conv1_Output,conv1_Output.size(2))\n",
        "    conv2_Output=F.max_pool1d(conv2_Output,conv2_Output.size(2))\n",
        "    conv3_Output=F.max_pool1d(conv3_Output,conv3_Output.size(2))\n",
        "\n",
        "    kimOutput=torch.cat((conv0_Output.squeeze(dim=2),conv1_Output.squeeze(dim=2),conv2_Output.squeeze(dim=2),conv3_Output.squeeze(dim=2)),dim=1)\n",
        "\n",
        "    imgOutput=self.vgg13(imgInput)\n",
        "\n",
        "    combinedOutput=torch.cat((kimOutput,imgOutput),1)\n",
        "\n",
        "    output=self.fc(self.dropoutLayer(combinedOutput))\n",
        "\n",
        "    return output\n",
        "\n",
        "  def freezeVGG(self,originalPreTrainedVGG):\n",
        "    count=0\n",
        "    for param in originalPreTrainedVGG.features.parameters():\n",
        "      if count<14:\n",
        "        param.requires_grad=False\n",
        "      count=count+1\n",
        "    features=list(originalPreTrainedVGG.classifier.children())[:-3]\n",
        "    features[3]=nn.Linear(4096,400)\n",
        "    originalPreTrainedVGG.classifier = nn.Sequential(*features)\n",
        "\n",
        "    return originalPreTrainedVGG"
      ],
      "execution_count": null,
      "outputs": []
    },
    {
      "cell_type": "markdown",
      "metadata": {
        "id": "1IML04UMoqVN"
      },
      "source": [
        "Adam was used as an optimizer with a learning rate of 10^-4 and Cross Entropy Loss was used as the loss function."
      ]
    },
    {
      "cell_type": "code",
      "metadata": {
        "colab": {
          "base_uri": "https://localhost:8080/",
          "height": 84,
          "referenced_widgets": [
            "595e47b5ffc445c2ae06e5cedb98fddd",
            "73b9e7a59b664c28b0d24f6fefa84be0",
            "9e8f59bb833a4887bb2e975353ffc415",
            "23149ce63b694adeaf204533c7d8a5be",
            "5fb418d9653b4ccd9f580d6b6e69058e",
            "d0f16776e4264eb481c7b28551a29a7d",
            "696677ee3f2e4ae5a7948c00c46cbf47",
            "25e564e2cbbf46edbdc7836791570a0c"
          ]
        },
        "id": "7rA75QaMyHpM",
        "outputId": "093c9891-c98d-4c9f-c5a0-cd73d9664feb"
      },
      "source": [
        "originalPreTrainedVGG=models.vgg13(pretrained=True)\n",
        "multiModalModel=MultiModalNetwork(preTrainedVGG=originalPreTrainedVGG)\n",
        "multiModalModel.to(device)\n",
        "softmaxLoss = nn.CrossEntropyLoss()\n",
        "optimizer = optim.Adam(multiModalModel.parameters(), lr=0.0001)"
      ],
      "execution_count": null,
      "outputs": [
        {
          "output_type": "stream",
          "text": [
            "Downloading: \"https://download.pytorch.org/models/vgg13-c768596a.pth\" to /root/.cache/torch/hub/checkpoints/vgg13-c768596a.pth\n"
          ],
          "name": "stderr"
        },
        {
          "output_type": "display_data",
          "data": {
            "application/vnd.jupyter.widget-view+json": {
              "model_id": "595e47b5ffc445c2ae06e5cedb98fddd",
              "version_minor": 0,
              "version_major": 2
            },
            "text/plain": [
              "HBox(children=(FloatProgress(value=0.0, max=532194478.0), HTML(value='')))"
            ]
          },
          "metadata": {
            "tags": []
          }
        },
        {
          "output_type": "stream",
          "text": [
            "\n"
          ],
          "name": "stdout"
        }
      ]
    }
  ]
}
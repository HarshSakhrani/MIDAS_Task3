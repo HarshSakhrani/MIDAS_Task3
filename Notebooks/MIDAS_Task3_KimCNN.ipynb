{
  "nbformat": 4,
  "nbformat_minor": 0,
  "metadata": {
    "colab": {
      "name": "MIDAS_Task3_KimCNN.ipynb",
      "provenance": []
    },
    "kernelspec": {
      "name": "python3",
      "display_name": "Python 3"
    },
    "language_info": {
      "name": "python"
    },
    "accelerator": "GPU",
    "widgets": {
      "application/vnd.jupyter.widget-state+json": {
        "dc434af80cac4ea0ad750ab1c120f1b9": {
          "model_module": "@jupyter-widgets/controls",
          "model_name": "HBoxModel",
          "state": {
            "_view_name": "HBoxView",
            "_dom_classes": [],
            "_model_name": "HBoxModel",
            "_view_module": "@jupyter-widgets/controls",
            "_model_module_version": "1.5.0",
            "_view_count": null,
            "_view_module_version": "1.5.0",
            "box_style": "",
            "layout": "IPY_MODEL_5676cce2113a474c9f0eb43c19dd2bac",
            "_model_module": "@jupyter-widgets/controls",
            "children": [
              "IPY_MODEL_6d78bee7350d4fc5a1f25c8f859f0936",
              "IPY_MODEL_d709b490d4244fe38448193ad80412cd"
            ]
          }
        },
        "5676cce2113a474c9f0eb43c19dd2bac": {
          "model_module": "@jupyter-widgets/base",
          "model_name": "LayoutModel",
          "state": {
            "_view_name": "LayoutView",
            "grid_template_rows": null,
            "right": null,
            "justify_content": null,
            "_view_module": "@jupyter-widgets/base",
            "overflow": null,
            "_model_module_version": "1.2.0",
            "_view_count": null,
            "flex_flow": null,
            "width": null,
            "min_width": null,
            "border": null,
            "align_items": null,
            "bottom": null,
            "_model_module": "@jupyter-widgets/base",
            "top": null,
            "grid_column": null,
            "overflow_y": null,
            "overflow_x": null,
            "grid_auto_flow": null,
            "grid_area": null,
            "grid_template_columns": null,
            "flex": null,
            "_model_name": "LayoutModel",
            "justify_items": null,
            "grid_row": null,
            "max_height": null,
            "align_content": null,
            "visibility": null,
            "align_self": null,
            "height": null,
            "min_height": null,
            "padding": null,
            "grid_auto_rows": null,
            "grid_gap": null,
            "max_width": null,
            "order": null,
            "_view_module_version": "1.2.0",
            "grid_template_areas": null,
            "object_position": null,
            "object_fit": null,
            "grid_auto_columns": null,
            "margin": null,
            "display": null,
            "left": null
          }
        },
        "6d78bee7350d4fc5a1f25c8f859f0936": {
          "model_module": "@jupyter-widgets/controls",
          "model_name": "FloatProgressModel",
          "state": {
            "_view_name": "ProgressView",
            "style": "IPY_MODEL_8f6c6e9336834678a1287fba734dbd39",
            "_dom_classes": [],
            "description": "Downloading: 100%",
            "_model_name": "FloatProgressModel",
            "bar_style": "success",
            "max": 231508,
            "_view_module": "@jupyter-widgets/controls",
            "_model_module_version": "1.5.0",
            "value": 231508,
            "_view_count": null,
            "_view_module_version": "1.5.0",
            "orientation": "horizontal",
            "min": 0,
            "description_tooltip": null,
            "_model_module": "@jupyter-widgets/controls",
            "layout": "IPY_MODEL_08b92fe8549d45ad94a120bb7cfc5a35"
          }
        },
        "d709b490d4244fe38448193ad80412cd": {
          "model_module": "@jupyter-widgets/controls",
          "model_name": "HTMLModel",
          "state": {
            "_view_name": "HTMLView",
            "style": "IPY_MODEL_4ee945dc5ff041668c10a1d8c0b997f6",
            "_dom_classes": [],
            "description": "",
            "_model_name": "HTMLModel",
            "placeholder": "​",
            "_view_module": "@jupyter-widgets/controls",
            "_model_module_version": "1.5.0",
            "value": " 232k/232k [00:00&lt;00:00, 558kB/s]",
            "_view_count": null,
            "_view_module_version": "1.5.0",
            "description_tooltip": null,
            "_model_module": "@jupyter-widgets/controls",
            "layout": "IPY_MODEL_1fcd8b4b841a451caae8a671643de8d5"
          }
        },
        "8f6c6e9336834678a1287fba734dbd39": {
          "model_module": "@jupyter-widgets/controls",
          "model_name": "ProgressStyleModel",
          "state": {
            "_view_name": "StyleView",
            "_model_name": "ProgressStyleModel",
            "description_width": "initial",
            "_view_module": "@jupyter-widgets/base",
            "_model_module_version": "1.5.0",
            "_view_count": null,
            "_view_module_version": "1.2.0",
            "bar_color": null,
            "_model_module": "@jupyter-widgets/controls"
          }
        },
        "08b92fe8549d45ad94a120bb7cfc5a35": {
          "model_module": "@jupyter-widgets/base",
          "model_name": "LayoutModel",
          "state": {
            "_view_name": "LayoutView",
            "grid_template_rows": null,
            "right": null,
            "justify_content": null,
            "_view_module": "@jupyter-widgets/base",
            "overflow": null,
            "_model_module_version": "1.2.0",
            "_view_count": null,
            "flex_flow": null,
            "width": null,
            "min_width": null,
            "border": null,
            "align_items": null,
            "bottom": null,
            "_model_module": "@jupyter-widgets/base",
            "top": null,
            "grid_column": null,
            "overflow_y": null,
            "overflow_x": null,
            "grid_auto_flow": null,
            "grid_area": null,
            "grid_template_columns": null,
            "flex": null,
            "_model_name": "LayoutModel",
            "justify_items": null,
            "grid_row": null,
            "max_height": null,
            "align_content": null,
            "visibility": null,
            "align_self": null,
            "height": null,
            "min_height": null,
            "padding": null,
            "grid_auto_rows": null,
            "grid_gap": null,
            "max_width": null,
            "order": null,
            "_view_module_version": "1.2.0",
            "grid_template_areas": null,
            "object_position": null,
            "object_fit": null,
            "grid_auto_columns": null,
            "margin": null,
            "display": null,
            "left": null
          }
        },
        "4ee945dc5ff041668c10a1d8c0b997f6": {
          "model_module": "@jupyter-widgets/controls",
          "model_name": "DescriptionStyleModel",
          "state": {
            "_view_name": "StyleView",
            "_model_name": "DescriptionStyleModel",
            "description_width": "",
            "_view_module": "@jupyter-widgets/base",
            "_model_module_version": "1.5.0",
            "_view_count": null,
            "_view_module_version": "1.2.0",
            "_model_module": "@jupyter-widgets/controls"
          }
        },
        "1fcd8b4b841a451caae8a671643de8d5": {
          "model_module": "@jupyter-widgets/base",
          "model_name": "LayoutModel",
          "state": {
            "_view_name": "LayoutView",
            "grid_template_rows": null,
            "right": null,
            "justify_content": null,
            "_view_module": "@jupyter-widgets/base",
            "overflow": null,
            "_model_module_version": "1.2.0",
            "_view_count": null,
            "flex_flow": null,
            "width": null,
            "min_width": null,
            "border": null,
            "align_items": null,
            "bottom": null,
            "_model_module": "@jupyter-widgets/base",
            "top": null,
            "grid_column": null,
            "overflow_y": null,
            "overflow_x": null,
            "grid_auto_flow": null,
            "grid_area": null,
            "grid_template_columns": null,
            "flex": null,
            "_model_name": "LayoutModel",
            "justify_items": null,
            "grid_row": null,
            "max_height": null,
            "align_content": null,
            "visibility": null,
            "align_self": null,
            "height": null,
            "min_height": null,
            "padding": null,
            "grid_auto_rows": null,
            "grid_gap": null,
            "max_width": null,
            "order": null,
            "_view_module_version": "1.2.0",
            "grid_template_areas": null,
            "object_position": null,
            "object_fit": null,
            "grid_auto_columns": null,
            "margin": null,
            "display": null,
            "left": null
          }
        },
        "800121b49f4b4e49ab892be1e3eb54bf": {
          "model_module": "@jupyter-widgets/controls",
          "model_name": "HBoxModel",
          "state": {
            "_view_name": "HBoxView",
            "_dom_classes": [],
            "_model_name": "HBoxModel",
            "_view_module": "@jupyter-widgets/controls",
            "_model_module_version": "1.5.0",
            "_view_count": null,
            "_view_module_version": "1.5.0",
            "box_style": "",
            "layout": "IPY_MODEL_a8d661976e1a4465a4282edff8f25345",
            "_model_module": "@jupyter-widgets/controls",
            "children": [
              "IPY_MODEL_24165a27941342329d016048e5b2b35e",
              "IPY_MODEL_dfb1543864f043deab115c2cf678b78c"
            ]
          }
        },
        "a8d661976e1a4465a4282edff8f25345": {
          "model_module": "@jupyter-widgets/base",
          "model_name": "LayoutModel",
          "state": {
            "_view_name": "LayoutView",
            "grid_template_rows": null,
            "right": null,
            "justify_content": null,
            "_view_module": "@jupyter-widgets/base",
            "overflow": null,
            "_model_module_version": "1.2.0",
            "_view_count": null,
            "flex_flow": null,
            "width": null,
            "min_width": null,
            "border": null,
            "align_items": null,
            "bottom": null,
            "_model_module": "@jupyter-widgets/base",
            "top": null,
            "grid_column": null,
            "overflow_y": null,
            "overflow_x": null,
            "grid_auto_flow": null,
            "grid_area": null,
            "grid_template_columns": null,
            "flex": null,
            "_model_name": "LayoutModel",
            "justify_items": null,
            "grid_row": null,
            "max_height": null,
            "align_content": null,
            "visibility": null,
            "align_self": null,
            "height": null,
            "min_height": null,
            "padding": null,
            "grid_auto_rows": null,
            "grid_gap": null,
            "max_width": null,
            "order": null,
            "_view_module_version": "1.2.0",
            "grid_template_areas": null,
            "object_position": null,
            "object_fit": null,
            "grid_auto_columns": null,
            "margin": null,
            "display": null,
            "left": null
          }
        },
        "24165a27941342329d016048e5b2b35e": {
          "model_module": "@jupyter-widgets/controls",
          "model_name": "FloatProgressModel",
          "state": {
            "_view_name": "ProgressView",
            "style": "IPY_MODEL_7fa8ead48cb242949710744b2538380c",
            "_dom_classes": [],
            "description": "Downloading: 100%",
            "_model_name": "FloatProgressModel",
            "bar_style": "success",
            "max": 28,
            "_view_module": "@jupyter-widgets/controls",
            "_model_module_version": "1.5.0",
            "value": 28,
            "_view_count": null,
            "_view_module_version": "1.5.0",
            "orientation": "horizontal",
            "min": 0,
            "description_tooltip": null,
            "_model_module": "@jupyter-widgets/controls",
            "layout": "IPY_MODEL_1ee10abfff2c4169aa9c51573b36a432"
          }
        },
        "dfb1543864f043deab115c2cf678b78c": {
          "model_module": "@jupyter-widgets/controls",
          "model_name": "HTMLModel",
          "state": {
            "_view_name": "HTMLView",
            "style": "IPY_MODEL_fac4013e29c54fff841a9b2562661651",
            "_dom_classes": [],
            "description": "",
            "_model_name": "HTMLModel",
            "placeholder": "​",
            "_view_module": "@jupyter-widgets/controls",
            "_model_module_version": "1.5.0",
            "value": " 28.0/28.0 [00:00&lt;00:00, 61.7B/s]",
            "_view_count": null,
            "_view_module_version": "1.5.0",
            "description_tooltip": null,
            "_model_module": "@jupyter-widgets/controls",
            "layout": "IPY_MODEL_cfd168ef7dc14e1ca2eac777668c893f"
          }
        },
        "7fa8ead48cb242949710744b2538380c": {
          "model_module": "@jupyter-widgets/controls",
          "model_name": "ProgressStyleModel",
          "state": {
            "_view_name": "StyleView",
            "_model_name": "ProgressStyleModel",
            "description_width": "initial",
            "_view_module": "@jupyter-widgets/base",
            "_model_module_version": "1.5.0",
            "_view_count": null,
            "_view_module_version": "1.2.0",
            "bar_color": null,
            "_model_module": "@jupyter-widgets/controls"
          }
        },
        "1ee10abfff2c4169aa9c51573b36a432": {
          "model_module": "@jupyter-widgets/base",
          "model_name": "LayoutModel",
          "state": {
            "_view_name": "LayoutView",
            "grid_template_rows": null,
            "right": null,
            "justify_content": null,
            "_view_module": "@jupyter-widgets/base",
            "overflow": null,
            "_model_module_version": "1.2.0",
            "_view_count": null,
            "flex_flow": null,
            "width": null,
            "min_width": null,
            "border": null,
            "align_items": null,
            "bottom": null,
            "_model_module": "@jupyter-widgets/base",
            "top": null,
            "grid_column": null,
            "overflow_y": null,
            "overflow_x": null,
            "grid_auto_flow": null,
            "grid_area": null,
            "grid_template_columns": null,
            "flex": null,
            "_model_name": "LayoutModel",
            "justify_items": null,
            "grid_row": null,
            "max_height": null,
            "align_content": null,
            "visibility": null,
            "align_self": null,
            "height": null,
            "min_height": null,
            "padding": null,
            "grid_auto_rows": null,
            "grid_gap": null,
            "max_width": null,
            "order": null,
            "_view_module_version": "1.2.0",
            "grid_template_areas": null,
            "object_position": null,
            "object_fit": null,
            "grid_auto_columns": null,
            "margin": null,
            "display": null,
            "left": null
          }
        },
        "fac4013e29c54fff841a9b2562661651": {
          "model_module": "@jupyter-widgets/controls",
          "model_name": "DescriptionStyleModel",
          "state": {
            "_view_name": "StyleView",
            "_model_name": "DescriptionStyleModel",
            "description_width": "",
            "_view_module": "@jupyter-widgets/base",
            "_model_module_version": "1.5.0",
            "_view_count": null,
            "_view_module_version": "1.2.0",
            "_model_module": "@jupyter-widgets/controls"
          }
        },
        "cfd168ef7dc14e1ca2eac777668c893f": {
          "model_module": "@jupyter-widgets/base",
          "model_name": "LayoutModel",
          "state": {
            "_view_name": "LayoutView",
            "grid_template_rows": null,
            "right": null,
            "justify_content": null,
            "_view_module": "@jupyter-widgets/base",
            "overflow": null,
            "_model_module_version": "1.2.0",
            "_view_count": null,
            "flex_flow": null,
            "width": null,
            "min_width": null,
            "border": null,
            "align_items": null,
            "bottom": null,
            "_model_module": "@jupyter-widgets/base",
            "top": null,
            "grid_column": null,
            "overflow_y": null,
            "overflow_x": null,
            "grid_auto_flow": null,
            "grid_area": null,
            "grid_template_columns": null,
            "flex": null,
            "_model_name": "LayoutModel",
            "justify_items": null,
            "grid_row": null,
            "max_height": null,
            "align_content": null,
            "visibility": null,
            "align_self": null,
            "height": null,
            "min_height": null,
            "padding": null,
            "grid_auto_rows": null,
            "grid_gap": null,
            "max_width": null,
            "order": null,
            "_view_module_version": "1.2.0",
            "grid_template_areas": null,
            "object_position": null,
            "object_fit": null,
            "grid_auto_columns": null,
            "margin": null,
            "display": null,
            "left": null
          }
        },
        "054864e7ef074613be7d66536985e304": {
          "model_module": "@jupyter-widgets/controls",
          "model_name": "HBoxModel",
          "state": {
            "_view_name": "HBoxView",
            "_dom_classes": [],
            "_model_name": "HBoxModel",
            "_view_module": "@jupyter-widgets/controls",
            "_model_module_version": "1.5.0",
            "_view_count": null,
            "_view_module_version": "1.5.0",
            "box_style": "",
            "layout": "IPY_MODEL_0788f3c8b6cb45d2b5d63e714ab41081",
            "_model_module": "@jupyter-widgets/controls",
            "children": [
              "IPY_MODEL_363e5b4b67ee4fac95876630037c6763",
              "IPY_MODEL_7d9cbb3cdff742e3b3d036c15f7dd6af"
            ]
          }
        },
        "0788f3c8b6cb45d2b5d63e714ab41081": {
          "model_module": "@jupyter-widgets/base",
          "model_name": "LayoutModel",
          "state": {
            "_view_name": "LayoutView",
            "grid_template_rows": null,
            "right": null,
            "justify_content": null,
            "_view_module": "@jupyter-widgets/base",
            "overflow": null,
            "_model_module_version": "1.2.0",
            "_view_count": null,
            "flex_flow": null,
            "width": null,
            "min_width": null,
            "border": null,
            "align_items": null,
            "bottom": null,
            "_model_module": "@jupyter-widgets/base",
            "top": null,
            "grid_column": null,
            "overflow_y": null,
            "overflow_x": null,
            "grid_auto_flow": null,
            "grid_area": null,
            "grid_template_columns": null,
            "flex": null,
            "_model_name": "LayoutModel",
            "justify_items": null,
            "grid_row": null,
            "max_height": null,
            "align_content": null,
            "visibility": null,
            "align_self": null,
            "height": null,
            "min_height": null,
            "padding": null,
            "grid_auto_rows": null,
            "grid_gap": null,
            "max_width": null,
            "order": null,
            "_view_module_version": "1.2.0",
            "grid_template_areas": null,
            "object_position": null,
            "object_fit": null,
            "grid_auto_columns": null,
            "margin": null,
            "display": null,
            "left": null
          }
        },
        "363e5b4b67ee4fac95876630037c6763": {
          "model_module": "@jupyter-widgets/controls",
          "model_name": "FloatProgressModel",
          "state": {
            "_view_name": "ProgressView",
            "style": "IPY_MODEL_d89c03ecc761437abb0dec90cee03453",
            "_dom_classes": [],
            "description": "Downloading: 100%",
            "_model_name": "FloatProgressModel",
            "bar_style": "success",
            "max": 466062,
            "_view_module": "@jupyter-widgets/controls",
            "_model_module_version": "1.5.0",
            "value": 466062,
            "_view_count": null,
            "_view_module_version": "1.5.0",
            "orientation": "horizontal",
            "min": 0,
            "description_tooltip": null,
            "_model_module": "@jupyter-widgets/controls",
            "layout": "IPY_MODEL_f09ecd0710f4475d93b884c91c19cf5d"
          }
        },
        "7d9cbb3cdff742e3b3d036c15f7dd6af": {
          "model_module": "@jupyter-widgets/controls",
          "model_name": "HTMLModel",
          "state": {
            "_view_name": "HTMLView",
            "style": "IPY_MODEL_f8ad6a36fbbc4820ae6a73439480ab0d",
            "_dom_classes": [],
            "description": "",
            "_model_name": "HTMLModel",
            "placeholder": "​",
            "_view_module": "@jupyter-widgets/controls",
            "_model_module_version": "1.5.0",
            "value": " 466k/466k [00:00&lt;00:00, 2.32MB/s]",
            "_view_count": null,
            "_view_module_version": "1.5.0",
            "description_tooltip": null,
            "_model_module": "@jupyter-widgets/controls",
            "layout": "IPY_MODEL_690a1df82d524b86bb6b4b7461dcf919"
          }
        },
        "d89c03ecc761437abb0dec90cee03453": {
          "model_module": "@jupyter-widgets/controls",
          "model_name": "ProgressStyleModel",
          "state": {
            "_view_name": "StyleView",
            "_model_name": "ProgressStyleModel",
            "description_width": "initial",
            "_view_module": "@jupyter-widgets/base",
            "_model_module_version": "1.5.0",
            "_view_count": null,
            "_view_module_version": "1.2.0",
            "bar_color": null,
            "_model_module": "@jupyter-widgets/controls"
          }
        },
        "f09ecd0710f4475d93b884c91c19cf5d": {
          "model_module": "@jupyter-widgets/base",
          "model_name": "LayoutModel",
          "state": {
            "_view_name": "LayoutView",
            "grid_template_rows": null,
            "right": null,
            "justify_content": null,
            "_view_module": "@jupyter-widgets/base",
            "overflow": null,
            "_model_module_version": "1.2.0",
            "_view_count": null,
            "flex_flow": null,
            "width": null,
            "min_width": null,
            "border": null,
            "align_items": null,
            "bottom": null,
            "_model_module": "@jupyter-widgets/base",
            "top": null,
            "grid_column": null,
            "overflow_y": null,
            "overflow_x": null,
            "grid_auto_flow": null,
            "grid_area": null,
            "grid_template_columns": null,
            "flex": null,
            "_model_name": "LayoutModel",
            "justify_items": null,
            "grid_row": null,
            "max_height": null,
            "align_content": null,
            "visibility": null,
            "align_self": null,
            "height": null,
            "min_height": null,
            "padding": null,
            "grid_auto_rows": null,
            "grid_gap": null,
            "max_width": null,
            "order": null,
            "_view_module_version": "1.2.0",
            "grid_template_areas": null,
            "object_position": null,
            "object_fit": null,
            "grid_auto_columns": null,
            "margin": null,
            "display": null,
            "left": null
          }
        },
        "f8ad6a36fbbc4820ae6a73439480ab0d": {
          "model_module": "@jupyter-widgets/controls",
          "model_name": "DescriptionStyleModel",
          "state": {
            "_view_name": "StyleView",
            "_model_name": "DescriptionStyleModel",
            "description_width": "",
            "_view_module": "@jupyter-widgets/base",
            "_model_module_version": "1.5.0",
            "_view_count": null,
            "_view_module_version": "1.2.0",
            "_model_module": "@jupyter-widgets/controls"
          }
        },
        "690a1df82d524b86bb6b4b7461dcf919": {
          "model_module": "@jupyter-widgets/base",
          "model_name": "LayoutModel",
          "state": {
            "_view_name": "LayoutView",
            "grid_template_rows": null,
            "right": null,
            "justify_content": null,
            "_view_module": "@jupyter-widgets/base",
            "overflow": null,
            "_model_module_version": "1.2.0",
            "_view_count": null,
            "flex_flow": null,
            "width": null,
            "min_width": null,
            "border": null,
            "align_items": null,
            "bottom": null,
            "_model_module": "@jupyter-widgets/base",
            "top": null,
            "grid_column": null,
            "overflow_y": null,
            "overflow_x": null,
            "grid_auto_flow": null,
            "grid_area": null,
            "grid_template_columns": null,
            "flex": null,
            "_model_name": "LayoutModel",
            "justify_items": null,
            "grid_row": null,
            "max_height": null,
            "align_content": null,
            "visibility": null,
            "align_self": null,
            "height": null,
            "min_height": null,
            "padding": null,
            "grid_auto_rows": null,
            "grid_gap": null,
            "max_width": null,
            "order": null,
            "_view_module_version": "1.2.0",
            "grid_template_areas": null,
            "object_position": null,
            "object_fit": null,
            "grid_auto_columns": null,
            "margin": null,
            "display": null,
            "left": null
          }
        },
        "e4e8b50d10e240f2a9bd52e34cee6e7d": {
          "model_module": "@jupyter-widgets/controls",
          "model_name": "HBoxModel",
          "state": {
            "_view_name": "HBoxView",
            "_dom_classes": [],
            "_model_name": "HBoxModel",
            "_view_module": "@jupyter-widgets/controls",
            "_model_module_version": "1.5.0",
            "_view_count": null,
            "_view_module_version": "1.5.0",
            "box_style": "",
            "layout": "IPY_MODEL_d8d71185d87d45cd90ca00df05db8185",
            "_model_module": "@jupyter-widgets/controls",
            "children": [
              "IPY_MODEL_58c49b26bd454074af2201d61f300189",
              "IPY_MODEL_547452f4b6874ce3b2475c36f691a795"
            ]
          }
        },
        "d8d71185d87d45cd90ca00df05db8185": {
          "model_module": "@jupyter-widgets/base",
          "model_name": "LayoutModel",
          "state": {
            "_view_name": "LayoutView",
            "grid_template_rows": null,
            "right": null,
            "justify_content": null,
            "_view_module": "@jupyter-widgets/base",
            "overflow": null,
            "_model_module_version": "1.2.0",
            "_view_count": null,
            "flex_flow": null,
            "width": null,
            "min_width": null,
            "border": null,
            "align_items": null,
            "bottom": null,
            "_model_module": "@jupyter-widgets/base",
            "top": null,
            "grid_column": null,
            "overflow_y": null,
            "overflow_x": null,
            "grid_auto_flow": null,
            "grid_area": null,
            "grid_template_columns": null,
            "flex": null,
            "_model_name": "LayoutModel",
            "justify_items": null,
            "grid_row": null,
            "max_height": null,
            "align_content": null,
            "visibility": null,
            "align_self": null,
            "height": null,
            "min_height": null,
            "padding": null,
            "grid_auto_rows": null,
            "grid_gap": null,
            "max_width": null,
            "order": null,
            "_view_module_version": "1.2.0",
            "grid_template_areas": null,
            "object_position": null,
            "object_fit": null,
            "grid_auto_columns": null,
            "margin": null,
            "display": null,
            "left": null
          }
        },
        "58c49b26bd454074af2201d61f300189": {
          "model_module": "@jupyter-widgets/controls",
          "model_name": "FloatProgressModel",
          "state": {
            "_view_name": "ProgressView",
            "style": "IPY_MODEL_7f488128668845aabd5b73aaf26da589",
            "_dom_classes": [],
            "description": "Downloading: 100%",
            "_model_name": "FloatProgressModel",
            "bar_style": "success",
            "max": 433,
            "_view_module": "@jupyter-widgets/controls",
            "_model_module_version": "1.5.0",
            "value": 433,
            "_view_count": null,
            "_view_module_version": "1.5.0",
            "orientation": "horizontal",
            "min": 0,
            "description_tooltip": null,
            "_model_module": "@jupyter-widgets/controls",
            "layout": "IPY_MODEL_8cd564ff1e214a3dad42bc91bcd1bf31"
          }
        },
        "547452f4b6874ce3b2475c36f691a795": {
          "model_module": "@jupyter-widgets/controls",
          "model_name": "HTMLModel",
          "state": {
            "_view_name": "HTMLView",
            "style": "IPY_MODEL_60cbd1cc0e0845d68a6fd7cc0c3c2639",
            "_dom_classes": [],
            "description": "",
            "_model_name": "HTMLModel",
            "placeholder": "​",
            "_view_module": "@jupyter-widgets/controls",
            "_model_module_version": "1.5.0",
            "value": " 433/433 [00:00&lt;00:00, 688B/s]",
            "_view_count": null,
            "_view_module_version": "1.5.0",
            "description_tooltip": null,
            "_model_module": "@jupyter-widgets/controls",
            "layout": "IPY_MODEL_40ad1bda9e274d8aab4f4b43c4f0f988"
          }
        },
        "7f488128668845aabd5b73aaf26da589": {
          "model_module": "@jupyter-widgets/controls",
          "model_name": "ProgressStyleModel",
          "state": {
            "_view_name": "StyleView",
            "_model_name": "ProgressStyleModel",
            "description_width": "initial",
            "_view_module": "@jupyter-widgets/base",
            "_model_module_version": "1.5.0",
            "_view_count": null,
            "_view_module_version": "1.2.0",
            "bar_color": null,
            "_model_module": "@jupyter-widgets/controls"
          }
        },
        "8cd564ff1e214a3dad42bc91bcd1bf31": {
          "model_module": "@jupyter-widgets/base",
          "model_name": "LayoutModel",
          "state": {
            "_view_name": "LayoutView",
            "grid_template_rows": null,
            "right": null,
            "justify_content": null,
            "_view_module": "@jupyter-widgets/base",
            "overflow": null,
            "_model_module_version": "1.2.0",
            "_view_count": null,
            "flex_flow": null,
            "width": null,
            "min_width": null,
            "border": null,
            "align_items": null,
            "bottom": null,
            "_model_module": "@jupyter-widgets/base",
            "top": null,
            "grid_column": null,
            "overflow_y": null,
            "overflow_x": null,
            "grid_auto_flow": null,
            "grid_area": null,
            "grid_template_columns": null,
            "flex": null,
            "_model_name": "LayoutModel",
            "justify_items": null,
            "grid_row": null,
            "max_height": null,
            "align_content": null,
            "visibility": null,
            "align_self": null,
            "height": null,
            "min_height": null,
            "padding": null,
            "grid_auto_rows": null,
            "grid_gap": null,
            "max_width": null,
            "order": null,
            "_view_module_version": "1.2.0",
            "grid_template_areas": null,
            "object_position": null,
            "object_fit": null,
            "grid_auto_columns": null,
            "margin": null,
            "display": null,
            "left": null
          }
        },
        "60cbd1cc0e0845d68a6fd7cc0c3c2639": {
          "model_module": "@jupyter-widgets/controls",
          "model_name": "DescriptionStyleModel",
          "state": {
            "_view_name": "StyleView",
            "_model_name": "DescriptionStyleModel",
            "description_width": "",
            "_view_module": "@jupyter-widgets/base",
            "_model_module_version": "1.5.0",
            "_view_count": null,
            "_view_module_version": "1.2.0",
            "_model_module": "@jupyter-widgets/controls"
          }
        },
        "40ad1bda9e274d8aab4f4b43c4f0f988": {
          "model_module": "@jupyter-widgets/base",
          "model_name": "LayoutModel",
          "state": {
            "_view_name": "LayoutView",
            "grid_template_rows": null,
            "right": null,
            "justify_content": null,
            "_view_module": "@jupyter-widgets/base",
            "overflow": null,
            "_model_module_version": "1.2.0",
            "_view_count": null,
            "flex_flow": null,
            "width": null,
            "min_width": null,
            "border": null,
            "align_items": null,
            "bottom": null,
            "_model_module": "@jupyter-widgets/base",
            "top": null,
            "grid_column": null,
            "overflow_y": null,
            "overflow_x": null,
            "grid_auto_flow": null,
            "grid_area": null,
            "grid_template_columns": null,
            "flex": null,
            "_model_name": "LayoutModel",
            "justify_items": null,
            "grid_row": null,
            "max_height": null,
            "align_content": null,
            "visibility": null,
            "align_self": null,
            "height": null,
            "min_height": null,
            "padding": null,
            "grid_auto_rows": null,
            "grid_gap": null,
            "max_width": null,
            "order": null,
            "_view_module_version": "1.2.0",
            "grid_template_areas": null,
            "object_position": null,
            "object_fit": null,
            "grid_auto_columns": null,
            "margin": null,
            "display": null,
            "left": null
          }
        },
        "b5f3d4cfecd34b8682c2c06e0cf85027": {
          "model_module": "@jupyter-widgets/controls",
          "model_name": "HBoxModel",
          "state": {
            "_view_name": "HBoxView",
            "_dom_classes": [],
            "_model_name": "HBoxModel",
            "_view_module": "@jupyter-widgets/controls",
            "_model_module_version": "1.5.0",
            "_view_count": null,
            "_view_module_version": "1.5.0",
            "box_style": "",
            "layout": "IPY_MODEL_6460821ffc544e6eae0d1312d8fbb09e",
            "_model_module": "@jupyter-widgets/controls",
            "children": [
              "IPY_MODEL_6f8c31b7c8ff4d7784a89dd5a7e57f42",
              "IPY_MODEL_701efd2cc8d04fd7b9155c4a9795384e"
            ]
          }
        },
        "6460821ffc544e6eae0d1312d8fbb09e": {
          "model_module": "@jupyter-widgets/base",
          "model_name": "LayoutModel",
          "state": {
            "_view_name": "LayoutView",
            "grid_template_rows": null,
            "right": null,
            "justify_content": null,
            "_view_module": "@jupyter-widgets/base",
            "overflow": null,
            "_model_module_version": "1.2.0",
            "_view_count": null,
            "flex_flow": null,
            "width": null,
            "min_width": null,
            "border": null,
            "align_items": null,
            "bottom": null,
            "_model_module": "@jupyter-widgets/base",
            "top": null,
            "grid_column": null,
            "overflow_y": null,
            "overflow_x": null,
            "grid_auto_flow": null,
            "grid_area": null,
            "grid_template_columns": null,
            "flex": null,
            "_model_name": "LayoutModel",
            "justify_items": null,
            "grid_row": null,
            "max_height": null,
            "align_content": null,
            "visibility": null,
            "align_self": null,
            "height": null,
            "min_height": null,
            "padding": null,
            "grid_auto_rows": null,
            "grid_gap": null,
            "max_width": null,
            "order": null,
            "_view_module_version": "1.2.0",
            "grid_template_areas": null,
            "object_position": null,
            "object_fit": null,
            "grid_auto_columns": null,
            "margin": null,
            "display": null,
            "left": null
          }
        },
        "6f8c31b7c8ff4d7784a89dd5a7e57f42": {
          "model_module": "@jupyter-widgets/controls",
          "model_name": "FloatProgressModel",
          "state": {
            "_view_name": "ProgressView",
            "style": "IPY_MODEL_070aa377241249ca828de0fe2bd463e5",
            "_dom_classes": [],
            "description": "Downloading: 100%",
            "_model_name": "FloatProgressModel",
            "bar_style": "success",
            "max": 440473133,
            "_view_module": "@jupyter-widgets/controls",
            "_model_module_version": "1.5.0",
            "value": 440473133,
            "_view_count": null,
            "_view_module_version": "1.5.0",
            "orientation": "horizontal",
            "min": 0,
            "description_tooltip": null,
            "_model_module": "@jupyter-widgets/controls",
            "layout": "IPY_MODEL_f3e8b3cbd3c14300a4d7b71c19c66f63"
          }
        },
        "701efd2cc8d04fd7b9155c4a9795384e": {
          "model_module": "@jupyter-widgets/controls",
          "model_name": "HTMLModel",
          "state": {
            "_view_name": "HTMLView",
            "style": "IPY_MODEL_58d2616fc8de48c881c7d06d57eff10a",
            "_dom_classes": [],
            "description": "",
            "_model_name": "HTMLModel",
            "placeholder": "​",
            "_view_module": "@jupyter-widgets/controls",
            "_model_module_version": "1.5.0",
            "value": " 440M/440M [00:14&lt;00:00, 29.8MB/s]",
            "_view_count": null,
            "_view_module_version": "1.5.0",
            "description_tooltip": null,
            "_model_module": "@jupyter-widgets/controls",
            "layout": "IPY_MODEL_c1018c1a3f6c4d2dabb317a909d8ab81"
          }
        },
        "070aa377241249ca828de0fe2bd463e5": {
          "model_module": "@jupyter-widgets/controls",
          "model_name": "ProgressStyleModel",
          "state": {
            "_view_name": "StyleView",
            "_model_name": "ProgressStyleModel",
            "description_width": "initial",
            "_view_module": "@jupyter-widgets/base",
            "_model_module_version": "1.5.0",
            "_view_count": null,
            "_view_module_version": "1.2.0",
            "bar_color": null,
            "_model_module": "@jupyter-widgets/controls"
          }
        },
        "f3e8b3cbd3c14300a4d7b71c19c66f63": {
          "model_module": "@jupyter-widgets/base",
          "model_name": "LayoutModel",
          "state": {
            "_view_name": "LayoutView",
            "grid_template_rows": null,
            "right": null,
            "justify_content": null,
            "_view_module": "@jupyter-widgets/base",
            "overflow": null,
            "_model_module_version": "1.2.0",
            "_view_count": null,
            "flex_flow": null,
            "width": null,
            "min_width": null,
            "border": null,
            "align_items": null,
            "bottom": null,
            "_model_module": "@jupyter-widgets/base",
            "top": null,
            "grid_column": null,
            "overflow_y": null,
            "overflow_x": null,
            "grid_auto_flow": null,
            "grid_area": null,
            "grid_template_columns": null,
            "flex": null,
            "_model_name": "LayoutModel",
            "justify_items": null,
            "grid_row": null,
            "max_height": null,
            "align_content": null,
            "visibility": null,
            "align_self": null,
            "height": null,
            "min_height": null,
            "padding": null,
            "grid_auto_rows": null,
            "grid_gap": null,
            "max_width": null,
            "order": null,
            "_view_module_version": "1.2.0",
            "grid_template_areas": null,
            "object_position": null,
            "object_fit": null,
            "grid_auto_columns": null,
            "margin": null,
            "display": null,
            "left": null
          }
        },
        "58d2616fc8de48c881c7d06d57eff10a": {
          "model_module": "@jupyter-widgets/controls",
          "model_name": "DescriptionStyleModel",
          "state": {
            "_view_name": "StyleView",
            "_model_name": "DescriptionStyleModel",
            "description_width": "",
            "_view_module": "@jupyter-widgets/base",
            "_model_module_version": "1.5.0",
            "_view_count": null,
            "_view_module_version": "1.2.0",
            "_model_module": "@jupyter-widgets/controls"
          }
        },
        "c1018c1a3f6c4d2dabb317a909d8ab81": {
          "model_module": "@jupyter-widgets/base",
          "model_name": "LayoutModel",
          "state": {
            "_view_name": "LayoutView",
            "grid_template_rows": null,
            "right": null,
            "justify_content": null,
            "_view_module": "@jupyter-widgets/base",
            "overflow": null,
            "_model_module_version": "1.2.0",
            "_view_count": null,
            "flex_flow": null,
            "width": null,
            "min_width": null,
            "border": null,
            "align_items": null,
            "bottom": null,
            "_model_module": "@jupyter-widgets/base",
            "top": null,
            "grid_column": null,
            "overflow_y": null,
            "overflow_x": null,
            "grid_auto_flow": null,
            "grid_area": null,
            "grid_template_columns": null,
            "flex": null,
            "_model_name": "LayoutModel",
            "justify_items": null,
            "grid_row": null,
            "max_height": null,
            "align_content": null,
            "visibility": null,
            "align_self": null,
            "height": null,
            "min_height": null,
            "padding": null,
            "grid_auto_rows": null,
            "grid_gap": null,
            "max_width": null,
            "order": null,
            "_view_module_version": "1.2.0",
            "grid_template_areas": null,
            "object_position": null,
            "object_fit": null,
            "grid_auto_columns": null,
            "margin": null,
            "display": null,
            "left": null
          }
        }
      }
    }
  },
  "cells": [
    {
      "cell_type": "code",
      "metadata": {
        "colab": {
          "base_uri": "https://localhost:8080/"
        },
        "id": "tsjhZMarmcy-",
        "outputId": "08c5a20a-94a0-45a1-8b80-b19b700d3e3e"
      },
      "source": [
        "!pip install pycm"
      ],
      "execution_count": null,
      "outputs": [
        {
          "output_type": "stream",
          "text": [
            "Collecting pycm\n",
            "\u001b[?25l  Downloading https://files.pythonhosted.org/packages/76/c4/a05b90819dcf7e50bdddb030238a771bf87b0695e6c47a247f66ab7ed5d0/pycm-3.1-py2.py3-none-any.whl (63kB)\n",
            "\r\u001b[K     |█████▏                          | 10kB 13.1MB/s eta 0:00:01\r\u001b[K     |██████████▎                     | 20kB 14.4MB/s eta 0:00:01\r\u001b[K     |███████████████▍                | 30kB 9.9MB/s eta 0:00:01\r\u001b[K     |████████████████████▌           | 40kB 8.7MB/s eta 0:00:01\r\u001b[K     |█████████████████████████▊      | 51kB 5.5MB/s eta 0:00:01\r\u001b[K     |██████████████████████████████▉ | 61kB 5.8MB/s eta 0:00:01\r\u001b[K     |████████████████████████████████| 71kB 4.2MB/s \n",
            "\u001b[?25hRequirement already satisfied: numpy>=1.9.0 in /usr/local/lib/python3.7/dist-packages (from pycm) (1.19.5)\n",
            "Collecting art>=1.8\n",
            "\u001b[?25l  Downloading https://files.pythonhosted.org/packages/83/37/c28d69ba1005889e8ff9633b8e7eccaaddc03549058a51ef5f51853cf183/art-5.1-py2.py3-none-any.whl (567kB)\n",
            "\u001b[K     |████████████████████████████████| 573kB 7.7MB/s \n",
            "\u001b[?25hInstalling collected packages: art, pycm\n",
            "Successfully installed art-5.1 pycm-3.1\n"
          ],
          "name": "stdout"
        }
      ]
    },
    {
      "cell_type": "code",
      "metadata": {
        "colab": {
          "base_uri": "https://localhost:8080/"
        },
        "id": "Hqg5eIBymyvg",
        "outputId": "8038c68e-0b3d-495e-8108-3cd81fc33f55"
      },
      "source": [
        "!pip install transformers"
      ],
      "execution_count": null,
      "outputs": [
        {
          "output_type": "stream",
          "text": [
            "Collecting transformers\n",
            "\u001b[?25l  Downloading https://files.pythonhosted.org/packages/81/91/61d69d58a1af1bd81d9ca9d62c90a6de3ab80d77f27c5df65d9a2c1f5626/transformers-4.5.0-py3-none-any.whl (2.1MB)\n",
            "\u001b[K     |████████████████████████████████| 2.2MB 6.4MB/s \n",
            "\u001b[?25hRequirement already satisfied: regex!=2019.12.17 in /usr/local/lib/python3.7/dist-packages (from transformers) (2019.12.20)\n",
            "Requirement already satisfied: packaging in /usr/local/lib/python3.7/dist-packages (from transformers) (20.9)\n",
            "Requirement already satisfied: filelock in /usr/local/lib/python3.7/dist-packages (from transformers) (3.0.12)\n",
            "Requirement already satisfied: requests in /usr/local/lib/python3.7/dist-packages (from transformers) (2.23.0)\n",
            "Collecting sacremoses\n",
            "\u001b[?25l  Downloading https://files.pythonhosted.org/packages/08/cd/342e584ee544d044fb573ae697404ce22ede086c9e87ce5960772084cad0/sacremoses-0.0.44.tar.gz (862kB)\n",
            "\u001b[K     |████████████████████████████████| 870kB 24.8MB/s \n",
            "\u001b[?25hRequirement already satisfied: importlib-metadata; python_version < \"3.8\" in /usr/local/lib/python3.7/dist-packages (from transformers) (3.8.1)\n",
            "Requirement already satisfied: tqdm>=4.27 in /usr/local/lib/python3.7/dist-packages (from transformers) (4.41.1)\n",
            "Collecting tokenizers<0.11,>=0.10.1\n",
            "\u001b[?25l  Downloading https://files.pythonhosted.org/packages/ae/04/5b870f26a858552025a62f1649c20d29d2672c02ff3c3fb4c688ca46467a/tokenizers-0.10.2-cp37-cp37m-manylinux2010_x86_64.whl (3.3MB)\n",
            "\u001b[K     |████████████████████████████████| 3.3MB 35.4MB/s \n",
            "\u001b[?25hRequirement already satisfied: numpy>=1.17 in /usr/local/lib/python3.7/dist-packages (from transformers) (1.19.5)\n",
            "Requirement already satisfied: pyparsing>=2.0.2 in /usr/local/lib/python3.7/dist-packages (from packaging->transformers) (2.4.7)\n",
            "Requirement already satisfied: urllib3!=1.25.0,!=1.25.1,<1.26,>=1.21.1 in /usr/local/lib/python3.7/dist-packages (from requests->transformers) (1.24.3)\n",
            "Requirement already satisfied: chardet<4,>=3.0.2 in /usr/local/lib/python3.7/dist-packages (from requests->transformers) (3.0.4)\n",
            "Requirement already satisfied: certifi>=2017.4.17 in /usr/local/lib/python3.7/dist-packages (from requests->transformers) (2020.12.5)\n",
            "Requirement already satisfied: idna<3,>=2.5 in /usr/local/lib/python3.7/dist-packages (from requests->transformers) (2.10)\n",
            "Requirement already satisfied: six in /usr/local/lib/python3.7/dist-packages (from sacremoses->transformers) (1.15.0)\n",
            "Requirement already satisfied: click in /usr/local/lib/python3.7/dist-packages (from sacremoses->transformers) (7.1.2)\n",
            "Requirement already satisfied: joblib in /usr/local/lib/python3.7/dist-packages (from sacremoses->transformers) (1.0.1)\n",
            "Requirement already satisfied: zipp>=0.5 in /usr/local/lib/python3.7/dist-packages (from importlib-metadata; python_version < \"3.8\"->transformers) (3.4.1)\n",
            "Requirement already satisfied: typing-extensions>=3.6.4; python_version < \"3.8\" in /usr/local/lib/python3.7/dist-packages (from importlib-metadata; python_version < \"3.8\"->transformers) (3.7.4.3)\n",
            "Building wheels for collected packages: sacremoses\n",
            "  Building wheel for sacremoses (setup.py) ... \u001b[?25l\u001b[?25hdone\n",
            "  Created wheel for sacremoses: filename=sacremoses-0.0.44-cp37-none-any.whl size=886084 sha256=7d03a954efe356a0428f4a76735a3e808575994285c30c839cd5a292e7838924\n",
            "  Stored in directory: /root/.cache/pip/wheels/3e/fb/c0/13ab4d63d537658f448366744654323077c4d90069b6512f3c\n",
            "Successfully built sacremoses\n",
            "Installing collected packages: sacremoses, tokenizers, transformers\n",
            "Successfully installed sacremoses-0.0.44 tokenizers-0.10.2 transformers-4.5.0\n"
          ],
          "name": "stdout"
        }
      ]
    },
    {
      "cell_type": "code",
      "metadata": {
        "colab": {
          "base_uri": "https://localhost:8080/"
        },
        "id": "OgV20spRmz04",
        "outputId": "91d1464b-86c9-4052-db9b-73f159dff109"
      },
      "source": [
        "#Importing all the necessary libraries\n",
        "from pycm import *\n",
        "from transformers import BertTokenizer, BertModel\n",
        "import nltk\n",
        "nltk.download('punkt')\n",
        "from nltk.tokenize import sent_tokenize, word_tokenize\n",
        "from collections import Counter\n",
        "import pickle\n",
        "import sys\n",
        "from glob import glob  \n",
        "import math\n",
        "import shutil\n",
        "import os\n",
        "import pandas as pd\n",
        "import numpy as np\n",
        "import matplotlib.pyplot as plt\n",
        "import torch\n",
        "import torchvision \n",
        "import torch.nn as nn\n",
        "import torch.nn.functional as F\n",
        "import torch.optim as optim\n",
        "import torch.utils.data.dataset\n",
        "import torch.utils.data.dataloader\n",
        "import torchvision.transforms as visionTransforms\n",
        "import PIL.Image as Image\n",
        "from torchvision.transforms import ToTensor,ToPILImage"
      ],
      "execution_count": null,
      "outputs": [
        {
          "output_type": "stream",
          "text": [
            "[nltk_data] Downloading package punkt to /root/nltk_data...\n",
            "[nltk_data]   Unzipping tokenizers/punkt.zip.\n"
          ],
          "name": "stdout"
        }
      ]
    },
    {
      "cell_type": "code",
      "metadata": {
        "id": "WDvuW-Owm1KI"
      },
      "source": [
        "df=pd.read_csv(\"path_to_add/MIDAS_Task3/Datasets/Task3_Cleaned_TextModality.csv\",index_col=0)  #Please add path_to_add that is required for your local Machine"
      ],
      "execution_count": null,
      "outputs": []
    },
    {
      "cell_type": "code",
      "metadata": {
        "id": "oRVkAU_Ym2XM"
      },
      "source": [
        "#Creating the train(0.8) test(0.1) and validation(0.1) splits\n",
        "dfTrain,dfVal,dfTest=np.split(df.sample(frac=1, random_state=42), [int(.8 * len(df)), int(.9 * len(df))])\n",
        "dfTrain=dfTrain.reset_index(drop=True)\n",
        "dfTest=dfTest.reset_index(drop=True)\n",
        "dfVal=dfVal.reset_index(drop=True)"
      ],
      "execution_count": null,
      "outputs": []
    },
    {
      "cell_type": "code",
      "metadata": {
        "colab": {
          "base_uri": "https://localhost:8080/"
        },
        "id": "r5UiLd3Km3WL",
        "outputId": "b1ebed73-bfe5-4d44-c88b-1c56d67d8db7"
      },
      "source": [
        "device = torch.device('cuda' if torch.cuda.is_available() else 'cpu')\n",
        "device"
      ],
      "execution_count": null,
      "outputs": [
        {
          "output_type": "execute_result",
          "data": {
            "text/plain": [
              "device(type='cuda')"
            ]
          },
          "metadata": {
            "tags": []
          },
          "execution_count": 6
        }
      ]
    },
    {
      "cell_type": "markdown",
      "metadata": {
        "id": "x7yXHzhRPiI3"
      },
      "source": [
        "As visualized in MIDAS_Task3_Preprocessing_Visualization.ipynb there is quite a bit of imbalance in the dataset. We decided to go with the PyTorch WeightedRandomSampler which instead of picking samples randomly in the dataloader will pick it according to weights. And the weight assigned to each class is inversely proportional to the frequency of the class. So the classes with a higher freq are less likely to get sampled, where as classes with a lower frequency are more likely to get sampled"
      ]
    },
    {
      "cell_type": "code",
      "metadata": {
        "id": "HZ8LmL0mm4pG"
      },
      "source": [
        "from torch.utils.data import WeightedRandomSampler\n",
        "freqLabels=torch.tensor(dfTrain['Label'].value_counts().sort_index(),dtype=torch.double)\n",
        "weightClass=freqLabels/freqLabels.sum()\n",
        "weightClass= 1/weightClass\n",
        "weightClass=(weightClass).tolist()\n",
        "sampleWeights=[weightClass[i] for i in dfTrain['Label']]\n",
        "trainSampler=WeightedRandomSampler(sampleWeights,len(dfTrain))"
      ],
      "execution_count": null,
      "outputs": []
    },
    {
      "cell_type": "markdown",
      "metadata": {
        "id": "dJ6qTVS4Pk89"
      },
      "source": [
        "We use a combination of PreTrained BERT and KimCNN as mentioned in the MIDAS_Task3_Detailed_Analysis.pdf\n",
        "\n",
        "---\n",
        "\n",
        "\n",
        "We override the PyTorch Dataset class. FlipkartDataset Class gets the product-desc from the dataframe and the respective label. The encoder_plus function from the Transformer's Library is used to encode the given text seq, truncate the seq if it crosses the max_length arg and pad the seq if it is less than the max_length arg. The encode_plus function is also responsible for providing the attention_masks for each seq which helps BERT identify the tokens which are eligible for attention "
      ]
    },
    {
      "cell_type": "code",
      "metadata": {
        "id": "K6L5YDOjm55f"
      },
      "source": [
        "from torch.utils.data import Dataset, DataLoader\n",
        "\n",
        "class FlipkartDataset(Dataset):\n",
        "\n",
        "  def __init__(self,dataframe,bertTokenizer,maxLength,device):\n",
        "    self.data=dataframe\n",
        "    self.bertTokenizer=bertTokenizer\n",
        "    self.maxLength=maxLength\n",
        "  \n",
        "  def __len__(self):\n",
        "    return len(self.data)\n",
        "\n",
        "  def __getitem__(self,idx):\n",
        "    self.productDescription=str(self.data.iloc[idx,0])\n",
        "    self.label=self.data.iloc[idx,3]\n",
        "\n",
        "    self.encodedInput=self.bertTokenizer.encode_plus(text=self.productDescription,padding='max_length',truncation=\"longest_first\",max_length=self.maxLength,return_tensors='pt',return_attention_mask=True,return_token_type_ids=True).to(device)\n",
        "    \n",
        "    return self.encodedInput,self.label"
      ],
      "execution_count": null,
      "outputs": []
    },
    {
      "cell_type": "markdown",
      "metadata": {
        "id": "3IFA6G8JPqKZ"
      },
      "source": [
        "We experimented with a couple of maxLength values(128,256,512). But with 256 and 512, there was a considerable increase in the training time. One other reason to choose maxLength=128 was ~70% of the data has seq length of 0-50. Hampering the training performance just to accommodate the complete seq for 30% of the data seemed like an expensive trade-off. Hence the maxLength was taken as 128"
      ]
    },
    {
      "cell_type": "code",
      "metadata": {
        "colab": {
          "base_uri": "https://localhost:8080/",
          "height": 165,
          "referenced_widgets": [
            "dc434af80cac4ea0ad750ab1c120f1b9",
            "5676cce2113a474c9f0eb43c19dd2bac",
            "6d78bee7350d4fc5a1f25c8f859f0936",
            "d709b490d4244fe38448193ad80412cd",
            "8f6c6e9336834678a1287fba734dbd39",
            "08b92fe8549d45ad94a120bb7cfc5a35",
            "4ee945dc5ff041668c10a1d8c0b997f6",
            "1fcd8b4b841a451caae8a671643de8d5",
            "800121b49f4b4e49ab892be1e3eb54bf",
            "a8d661976e1a4465a4282edff8f25345",
            "24165a27941342329d016048e5b2b35e",
            "dfb1543864f043deab115c2cf678b78c",
            "7fa8ead48cb242949710744b2538380c",
            "1ee10abfff2c4169aa9c51573b36a432",
            "fac4013e29c54fff841a9b2562661651",
            "cfd168ef7dc14e1ca2eac777668c893f",
            "054864e7ef074613be7d66536985e304",
            "0788f3c8b6cb45d2b5d63e714ab41081",
            "363e5b4b67ee4fac95876630037c6763",
            "7d9cbb3cdff742e3b3d036c15f7dd6af",
            "d89c03ecc761437abb0dec90cee03453",
            "f09ecd0710f4475d93b884c91c19cf5d",
            "f8ad6a36fbbc4820ae6a73439480ab0d",
            "690a1df82d524b86bb6b4b7461dcf919"
          ]
        },
        "id": "Uphaki0Ym7TX",
        "outputId": "27069698-71a9-4791-86fe-e6d098913e00"
      },
      "source": [
        "tokenizer = BertTokenizer.from_pretrained('bert-base-uncased')\n",
        "flipkartTrainDataset=FlipkartDataset(dataframe=dfTrain,bertTokenizer=tokenizer,maxLength=128,device=device)\n",
        "flipkartTestDataset=FlipkartDataset(dataframe=dfTest,bertTokenizer=tokenizer,maxLength=128,device=device)\n",
        "flipkartValDataset=FlipkartDataset(dataframe=dfVal,bertTokenizer=tokenizer,maxLength=128,device=device)"
      ],
      "execution_count": null,
      "outputs": [
        {
          "output_type": "display_data",
          "data": {
            "application/vnd.jupyter.widget-view+json": {
              "model_id": "dc434af80cac4ea0ad750ab1c120f1b9",
              "version_minor": 0,
              "version_major": 2
            },
            "text/plain": [
              "HBox(children=(FloatProgress(value=0.0, description='Downloading', max=231508.0, style=ProgressStyle(descripti…"
            ]
          },
          "metadata": {
            "tags": []
          }
        },
        {
          "output_type": "stream",
          "text": [
            "\n"
          ],
          "name": "stdout"
        },
        {
          "output_type": "display_data",
          "data": {
            "application/vnd.jupyter.widget-view+json": {
              "model_id": "800121b49f4b4e49ab892be1e3eb54bf",
              "version_minor": 0,
              "version_major": 2
            },
            "text/plain": [
              "HBox(children=(FloatProgress(value=0.0, description='Downloading', max=28.0, style=ProgressStyle(description_w…"
            ]
          },
          "metadata": {
            "tags": []
          }
        },
        {
          "output_type": "stream",
          "text": [
            "\n"
          ],
          "name": "stdout"
        },
        {
          "output_type": "display_data",
          "data": {
            "application/vnd.jupyter.widget-view+json": {
              "model_id": "054864e7ef074613be7d66536985e304",
              "version_minor": 0,
              "version_major": 2
            },
            "text/plain": [
              "HBox(children=(FloatProgress(value=0.0, description='Downloading', max=466062.0, style=ProgressStyle(descripti…"
            ]
          },
          "metadata": {
            "tags": []
          }
        },
        {
          "output_type": "stream",
          "text": [
            "\n"
          ],
          "name": "stdout"
        }
      ]
    },
    {
      "cell_type": "markdown",
      "metadata": {
        "id": "LeFPmPCvPm-G"
      },
      "source": [
        "The Weighted Sampler is just used with the Train Set and not the Test and Validation sets because the model should be capable of recognizing any class at test time irrespective of the frequency of the class"
      ]
    },
    {
      "cell_type": "code",
      "metadata": {
        "id": "ttVSVRTim8nY"
      },
      "source": [
        "trainLoader=torch.utils.data.DataLoader(flipkartTrainDataset,batch_size=8,sampler=trainSampler)\n",
        "testLoader=torch.utils.data.DataLoader(flipkartTestDataset,batch_size=8,shuffle=True)\n",
        "valLoader=torch.utils.data.DataLoader(flipkartValDataset,batch_size=8,shuffle=True)"
      ],
      "execution_count": null,
      "outputs": []
    },
    {
      "cell_type": "markdown",
      "metadata": {
        "id": "jnEHW56FQcgr"
      },
      "source": [
        "![Untitled presentation(2).png](data:image/png;base64,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)"
      ]
    },
    {
      "cell_type": "markdown",
      "metadata": {
        "id": "NGPA3kRKQflk"
      },
      "source": [
        "he above diagram provides a visual representation of the architecture. The intution behind each part of the architecture is as follows:\n",
        "\n",
        "*   **Pre Trained BERT**: BERT was used to get high quality word embeddings which are extremely critical to achieve high performance.\n",
        "*   **KimCNN**: The conv layers with different feature widths help the network look at different features of the tensor, leading to significant increase in the performance.\n"
      ]
    },
    {
      "cell_type": "code",
      "metadata": {
        "id": "vZa6gBaum9ui"
      },
      "source": [
        "class KimCNN(nn.Module):\n",
        "  def __init__(self,preTrainedBert,inChannels=1,embeddingDimension=768,numClasses=27):\n",
        "    super(KimCNN,self).__init__()\n",
        "\n",
        "    self.inChannels=inChannels\n",
        "    self.embDim=embeddingDimension\n",
        "    self.numClasses=numClasses\n",
        "\n",
        "    self.bert=self.freezeBert(preTrainedBert)\n",
        "    \n",
        "    self.kimConv0=nn.Conv2d(in_channels=self.inChannels,out_channels=100,kernel_size=(2,self.embDim))\n",
        "    self.kimConv1=nn.Conv2d(in_channels=self.inChannels,out_channels=100,kernel_size=(3,self.embDim))\n",
        "    self.kimConv2=nn.Conv2d(in_channels=self.inChannels,out_channels=100,kernel_size=(4,self.embDim))\n",
        "    self.kimConv3=nn.Conv2d(in_channels=self.inChannels,out_channels=100,kernel_size=(5,self.embDim))\n",
        "    self.dropoutLayer=nn.Dropout(p=0.5)\n",
        "    self.fc=nn.Linear(400,self.numClasses)\n",
        "\n",
        "  def forward(self,input):\n",
        "\n",
        "    bertOutput=self.bert(input_ids=input['input_ids'].squeeze(dim=1),attention_mask=input['attention_mask'].squeeze(dim=1),token_type_ids=input['token_type_ids'].squeeze(dim=1)).last_hidden_state\n",
        "    \n",
        "    kimInput=bertOutput.unsqueeze(1)\n",
        "    \n",
        "    conv0_Output=F.relu(self.kimConv0(kimInput)).squeeze(3)\n",
        "    conv1_Output=F.relu(self.kimConv1(kimInput)).squeeze(3)\n",
        "    conv2_Output=F.relu(self.kimConv2(kimInput)).squeeze(3)\n",
        "    conv3_Output=F.relu(self.kimConv3(kimInput)).squeeze(3)\n",
        "    \n",
        "    conv0_Output=F.max_pool1d(conv0_Output,conv0_Output.size(2))\n",
        "    conv1_Output=F.max_pool1d(conv1_Output,conv1_Output.size(2))\n",
        "    conv2_Output=F.max_pool1d(conv2_Output,conv2_Output.size(2))\n",
        "    conv3_Output=F.max_pool1d(conv3_Output,conv3_Output.size(2))\n",
        "\n",
        "    kimOutput=torch.cat((conv0_Output.squeeze(dim=2),conv1_Output.squeeze(dim=2),conv2_Output.squeeze(dim=2),conv3_Output.squeeze(dim=2)),dim=1)\n",
        "\n",
        "    output=self.fc(self.dropoutLayer(kimOutput))\n",
        "\n",
        "    return output\n",
        "\n",
        "  def freezeBert(self,model):\n",
        "    for params in model.parameters():\n",
        "      params.requires_grad=False\n",
        "    return model\n"
      ],
      "execution_count": null,
      "outputs": []
    },
    {
      "cell_type": "markdown",
      "metadata": {
        "id": "uuGZB9-1QoU3"
      },
      "source": [
        "Adam was used as an optimizer with a learning rate of 10^-4 and Cross Entropy Loss was used as the loss function."
      ]
    },
    {
      "cell_type": "code",
      "metadata": {
        "colab": {
          "base_uri": "https://localhost:8080/",
          "height": 116,
          "referenced_widgets": [
            "e4e8b50d10e240f2a9bd52e34cee6e7d",
            "d8d71185d87d45cd90ca00df05db8185",
            "58c49b26bd454074af2201d61f300189",
            "547452f4b6874ce3b2475c36f691a795",
            "7f488128668845aabd5b73aaf26da589",
            "8cd564ff1e214a3dad42bc91bcd1bf31",
            "60cbd1cc0e0845d68a6fd7cc0c3c2639",
            "40ad1bda9e274d8aab4f4b43c4f0f988",
            "b5f3d4cfecd34b8682c2c06e0cf85027",
            "6460821ffc544e6eae0d1312d8fbb09e",
            "6f8c31b7c8ff4d7784a89dd5a7e57f42",
            "701efd2cc8d04fd7b9155c4a9795384e",
            "070aa377241249ca828de0fe2bd463e5",
            "f3e8b3cbd3c14300a4d7b71c19c66f63",
            "58d2616fc8de48c881c7d06d57eff10a",
            "c1018c1a3f6c4d2dabb317a909d8ab81"
          ]
        },
        "id": "3-m9KYGKnsYU",
        "outputId": "138cec59-44c4-41a1-f133-0670f855b354"
      },
      "source": [
        "model = BertModel.from_pretrained('bert-base-uncased')\n",
        "kimcnn=KimCNN(preTrainedBert=model)\n",
        "kimcnn.to(device)\n",
        "softmaxLoss = nn.CrossEntropyLoss()\n",
        "optimizer = optim.Adam(kimcnn.parameters(), lr=0.0001)"
      ],
      "execution_count": null,
      "outputs": [
        {
          "output_type": "display_data",
          "data": {
            "application/vnd.jupyter.widget-view+json": {
              "model_id": "e4e8b50d10e240f2a9bd52e34cee6e7d",
              "version_minor": 0,
              "version_major": 2
            },
            "text/plain": [
              "HBox(children=(FloatProgress(value=0.0, description='Downloading', max=433.0, style=ProgressStyle(description_…"
            ]
          },
          "metadata": {
            "tags": []
          }
        },
        {
          "output_type": "stream",
          "text": [
            "\n"
          ],
          "name": "stdout"
        },
        {
          "output_type": "display_data",
          "data": {
            "application/vnd.jupyter.widget-view+json": {
              "model_id": "b5f3d4cfecd34b8682c2c06e0cf85027",
              "version_minor": 0,
              "version_major": 2
            },
            "text/plain": [
              "HBox(children=(FloatProgress(value=0.0, description='Downloading', max=440473133.0, style=ProgressStyle(descri…"
            ]
          },
          "metadata": {
            "tags": []
          }
        },
        {
          "output_type": "stream",
          "text": [
            "\n"
          ],
          "name": "stdout"
        }
      ]
    },
    {
      "cell_type": "code",
      "metadata": {
        "id": "K7esfxw1oIu9"
      },
      "source": [
        "def Average(lst): \n",
        "    return sum(lst) / len(lst) \n",
        "\n",
        "def train_model(model,epochs):\n",
        "\n",
        "  trainBatchCount=0\n",
        "  testBatchCount=0\n",
        "\n",
        "  avgTrainAcc=[]\n",
        "  avgValidAcc=[]\n",
        "  trainAcc=[]\n",
        "  validAcc=[]\n",
        "  trainLosses=[]\n",
        "  validLosses=[]\n",
        "  avgTrainLoss=[]\n",
        "  avgValidLoss=[]\n",
        "\n",
        "\n",
        "  for i in range(epochs):\n",
        "\n",
        "    print(\"Epoch:\",i)\n",
        "\n",
        "    model.train()\n",
        "    print(\"Training.....\")\n",
        "    for batch_idx,(data,targets) in enumerate(trainLoader):\n",
        "\n",
        "      trainBatchCount=trainBatchCount+1\n",
        "\n",
        "      targets=targets.to(device)\n",
        "\n",
        "      optimizer.zero_grad()\n",
        "\n",
        "      scores=model(data)\n",
        "       \n",
        "      loss=softmaxLoss(scores,targets)\n",
        "\n",
        "      loss.backward()\n",
        "\n",
        "      optimizer.step()\n",
        "\n",
        "      trainLosses.append(float(loss))\n",
        "\n",
        "      \n",
        "      correct=0\n",
        "      total=0\n",
        "      total=len(targets)\n",
        "\n",
        "\n",
        "      predictions=torch.argmax(scores,dim=1)\n",
        "      correct = (predictions==targets).sum()\n",
        "      acc=float((correct/float(total))*100)\n",
        "\n",
        "      trainAcc.append(acc)\n",
        "\n",
        "      if ((trainBatchCount%200)==0):\n",
        "\n",
        "        print(\"Targets:-\",targets)\n",
        "        print(\"Predictions:-\",predictions)\n",
        "\n",
        "        print('Loss: {}  Accuracy: {} %'.format(loss.data, acc))\n",
        "\n",
        "    model.eval()\n",
        "    print(\"Validating.....\")\n",
        "    for data,targets in valLoader:\n",
        "\n",
        "      testBatchCount=testBatchCount+1\n",
        "\n",
        "      targets=targets.to(device=device)\n",
        "\n",
        "      scores=model(data)\n",
        "\n",
        "      loss=softmaxLoss(scores,targets)\n",
        "\n",
        "      validLosses.append(float(loss))\n",
        "\n",
        "      testCorrect=0\n",
        "      testTotal=0\n",
        "\n",
        "      _,predictions=scores.max(1)\n",
        "\n",
        "      testCorrect = (predictions==targets).sum()\n",
        "      testTotal=predictions.size(0)\n",
        "\n",
        "      testAcc=float((testCorrect/float(testTotal))*100)\n",
        "\n",
        "      validAcc.append(testAcc)\n",
        "\n",
        "      if ((testBatchCount%200)==0):\n",
        "\n",
        "        print('Loss: {}  Accuracy: {} %'.format(float(loss), testAcc))\n",
        "    \n",
        "\n",
        "    trainLoss=Average(trainLosses)\n",
        "    validLoss=Average(validLosses)\n",
        "    avgTrainLoss.append(trainLoss)\n",
        "    avgValidLoss.append(validLoss)\n",
        "    tempTrainAcc=Average(trainAcc)\n",
        "    tempTestAcc=Average(validAcc)\n",
        "    avgTrainAcc.append(tempTrainAcc)\n",
        "    avgValidAcc.append(tempTestAcc)\n",
        "\n",
        "    print(\"Epoch Number:-\",i,\"  \",\"Training Loss:-\",\" \",trainLoss,\"Validation Loss:-\",\" \",validLoss,\"Training Acc:-\",\" \",tempTrainAcc,\"Validation Acc:-\",\" \",tempTestAcc)\n",
        "\n",
        "    trainAcc=[]\n",
        "    ValidAcc=[]\n",
        "    trainLosses=[]\n",
        "    validLosses=[]\n",
        "\n",
        "  return model,avgTrainLoss,avgValidLoss,avgTrainAcc,avgValidAcc"
      ],
      "execution_count": null,
      "outputs": []
    },
    {
      "cell_type": "markdown",
      "metadata": {
        "id": "rhOJ959KQtgz"
      },
      "source": [
        "\n",
        "The model was trained for 10 epochs"
      ]
    },
    {
      "cell_type": "code",
      "metadata": {
        "colab": {
          "base_uri": "https://localhost:8080/"
        },
        "id": "1UBNkJL-oeMJ",
        "outputId": "9e88e53c-268a-4027-eb4e-38514815770b"
      },
      "source": [
        "kimcnn,avgTrainLoss,avgValidLoss,avgTrainAcc,avgValidAcc=train_model(kimcnn,10)"
      ],
      "execution_count": null,
      "outputs": [
        {
          "output_type": "stream",
          "text": [
            "Epoch: 0\n",
            "Training.....\n",
            "Targets:- tensor([ 8, 12, 14, 25, 20,  9,  3, 20], device='cuda:0')\n",
            "Predictions:- tensor([ 8,  8, 25, 25, 12,  9,  3, 20], device='cuda:0')\n",
            "Loss: 2.2079665660858154  Accuracy: 62.5 %\n",
            "Targets:- tensor([19, 21,  8, 24,  9, 10, 14,  9], device='cuda:0')\n",
            "Predictions:- tensor([20, 13,  8, 12, 11, 10, 16,  9], device='cuda:0')\n",
            "Loss: 2.011904239654541  Accuracy: 37.5 %\n",
            "Targets:- tensor([ 2,  4,  7, 17, 20,  9, 14, 26], device='cuda:0')\n",
            "Predictions:- tensor([ 2,  4,  7, 17, 20,  9, 14, 26], device='cuda:0')\n",
            "Loss: 1.2164746522903442  Accuracy: 100.0 %\n",
            "Targets:- tensor([25, 16,  6, 17,  0, 13, 21, 20], device='cuda:0')\n",
            "Predictions:- tensor([18, 16, 11, 17,  0, 13, 21, 20], device='cuda:0')\n",
            "Loss: 1.265690803527832  Accuracy: 75.0 %\n",
            "Targets:- tensor([11, 19, 15,  3, 12,  3,  5,  5], device='cuda:0')\n",
            "Predictions:- tensor([11, 19, 15,  3,  8,  3,  5,  5], device='cuda:0')\n",
            "Loss: 1.3759269714355469  Accuracy: 87.5 %\n",
            "Targets:- tensor([17, 22, 11,  8,  5, 16, 16,  4], device='cuda:0')\n",
            "Predictions:- tensor([17, 22, 11,  8,  5, 16, 16,  4], device='cuda:0')\n",
            "Loss: 0.41104763746261597  Accuracy: 100.0 %\n",
            "Targets:- tensor([15,  9, 24, 11, 10,  3, 19, 23], device='cuda:0')\n",
            "Predictions:- tensor([ 2,  9, 14, 11, 10,  3, 24, 23], device='cuda:0')\n",
            "Loss: 1.4209116697311401  Accuracy: 62.5 %\n",
            "Targets:- tensor([12,  8,  2, 23,  8, 24,  4, 13], device='cuda:0')\n",
            "Predictions:- tensor([12,  8,  2, 23,  8, 19,  4, 13], device='cuda:0')\n",
            "Loss: 0.3449637293815613  Accuracy: 87.5 %\n",
            "Targets:- tensor([17, 25,  5,  3,  2, 19,  7, 10], device='cuda:0')\n",
            "Predictions:- tensor([17, 25,  5, 21,  2, 19,  7, 10], device='cuda:0')\n",
            "Loss: 0.509207010269165  Accuracy: 87.5 %\n",
            "Validating.....\n",
            "Loss: 0.23838725686073303  Accuracy: 100.0 %\n",
            "Epoch Number:- 0    Training Loss:-   1.2279255486748135 Validation Loss:-   0.3176576262302091 Training Acc:-   71.99262461851475 Validation Acc:-   92.51355014583929\n",
            "Epoch: 1\n",
            "Training.....\n",
            "Targets:- tensor([ 3,  0, 17,  1,  5,  8, 25, 17], device='cuda:0')\n",
            "Predictions:- tensor([ 3,  0, 17,  1,  5,  8, 25, 17], device='cuda:0')\n",
            "Loss: 0.4292672872543335  Accuracy: 100.0 %\n",
            "Targets:- tensor([ 4, 13,  7,  7,  9, 26,  5, 24], device='cuda:0')\n",
            "Predictions:- tensor([ 4, 13,  7,  7,  9, 26,  1, 24], device='cuda:0')\n",
            "Loss: 0.25423336029052734  Accuracy: 87.5 %\n",
            "Targets:- tensor([17, 22, 24, 18, 14, 12, 26,  5], device='cuda:0')\n",
            "Predictions:- tensor([17, 22, 19, 18, 14, 12, 26,  5], device='cuda:0')\n",
            "Loss: 0.4149593114852905  Accuracy: 87.5 %\n",
            "Targets:- tensor([14,  9,  2,  6,  5,  6,  5, 19], device='cuda:0')\n",
            "Predictions:- tensor([14,  9,  2,  7,  5,  6,  5, 19], device='cuda:0')\n",
            "Loss: 0.4368375241756439  Accuracy: 87.5 %\n",
            "Targets:- tensor([11,  9, 20, 15, 12, 11,  0, 22], device='cuda:0')\n",
            "Predictions:- tensor([11,  9, 20, 15, 23, 11,  0, 22], device='cuda:0')\n",
            "Loss: 0.32511401176452637  Accuracy: 87.5 %\n",
            "Targets:- tensor([21, 16, 23, 14, 16, 21, 23, 23], device='cuda:0')\n",
            "Predictions:- tensor([21, 16, 19, 14, 16, 21, 23, 23], device='cuda:0')\n",
            "Loss: 0.49001288414001465  Accuracy: 87.5 %\n",
            "Targets:- tensor([ 2,  5, 10,  4, 26, 13,  7,  2], device='cuda:0')\n",
            "Predictions:- tensor([ 2,  5,  6,  4, 26, 13,  7,  2], device='cuda:0')\n",
            "Loss: 0.5521392226219177  Accuracy: 87.5 %\n",
            "Targets:- tensor([23, 17, 20, 11,  7,  6,  8,  7], device='cuda:0')\n",
            "Predictions:- tensor([23, 17, 20, 11,  7,  6,  8,  7], device='cuda:0')\n",
            "Loss: 0.17759355902671814  Accuracy: 100.0 %\n",
            "Targets:- tensor([ 5,  6,  8, 24,  0, 16, 12, 10], device='cuda:0')\n",
            "Predictions:- tensor([ 5,  6,  8, 24,  0, 16, 12, 10], device='cuda:0')\n",
            "Loss: 0.1775643676519394  Accuracy: 100.0 %\n",
            "Targets:- tensor([ 7, 19, 25, 11, 23,  4, 16, 10], device='cuda:0')\n",
            "Predictions:- tensor([ 7, 19, 25, 11, 23,  4, 16, 10], device='cuda:0')\n",
            "Loss: 0.014304202049970627  Accuracy: 100.0 %\n",
            "Validating.....\n",
            "Loss: 0.04464992135763168  Accuracy: 100.0 %\n",
            "Epoch Number:- 1    Training Loss:-   0.30721832905580515 Validation Loss:-   0.18610274349433953 Training Acc:-   93.06332655137335 Validation Acc:-   93.56368564202533\n",
            "Epoch: 2\n",
            "Training.....\n",
            "Targets:- tensor([ 7, 26,  7, 23, 19, 15, 25,  3], device='cuda:0')\n",
            "Predictions:- tensor([ 7, 26,  7, 23, 24, 15, 25,  3], device='cuda:0')\n",
            "Loss: 0.21421915292739868  Accuracy: 87.5 %\n",
            "Targets:- tensor([23, 10, 16, 13,  4, 14, 18, 23], device='cuda:0')\n",
            "Predictions:- tensor([23, 10, 16, 13,  4, 14, 18, 23], device='cuda:0')\n",
            "Loss: 0.2882101833820343  Accuracy: 100.0 %\n",
            "Targets:- tensor([ 6,  6, 22, 26, 16, 23,  6, 22], device='cuda:0')\n",
            "Predictions:- tensor([ 6,  6, 22, 26, 16, 23,  6, 22], device='cuda:0')\n",
            "Loss: 0.10279268026351929  Accuracy: 100.0 %\n",
            "Targets:- tensor([19, 18, 21, 11, 10, 12, 17,  5], device='cuda:0')\n",
            "Predictions:- tensor([19, 18, 21, 11, 10, 12, 17,  5], device='cuda:0')\n",
            "Loss: 0.16869057714939117  Accuracy: 100.0 %\n",
            "Targets:- tensor([17,  0, 10,  2,  0, 17,  1, 20], device='cuda:0')\n",
            "Predictions:- tensor([17,  0, 10,  2,  0, 17, 14, 20], device='cuda:0')\n",
            "Loss: 0.3562735617160797  Accuracy: 87.5 %\n",
            "Targets:- tensor([10,  1,  4, 15, 20,  9,  4, 17], device='cuda:0')\n",
            "Predictions:- tensor([10,  1,  4, 15, 20,  9,  4, 17], device='cuda:0')\n",
            "Loss: 0.03280320391058922  Accuracy: 100.0 %\n",
            "Targets:- tensor([ 1, 26, 14,  7,  5, 24, 11,  2], device='cuda:0')\n",
            "Predictions:- tensor([ 1, 26, 14,  7,  5, 24, 11,  2], device='cuda:0')\n",
            "Loss: 0.02411455288529396  Accuracy: 100.0 %\n",
            "Targets:- tensor([ 3, 12, 19, 11, 24,  0, 21, 13], device='cuda:0')\n",
            "Predictions:- tensor([ 3, 12,  3, 11, 24,  0, 21, 13], device='cuda:0')\n",
            "Loss: 0.3177194893360138  Accuracy: 87.5 %\n",
            "Targets:- tensor([15, 14, 17,  1,  3,  1, 11, 23], device='cuda:0')\n",
            "Predictions:- tensor([15, 14, 14, 19,  3,  1, 11, 23], device='cuda:0')\n",
            "Loss: 0.4927392899990082  Accuracy: 75.0 %\n",
            "Targets:- tensor([ 9,  5, 10, 16,  2, 15, 26, 15], device='cuda:0')\n",
            "Predictions:- tensor([ 9,  5, 10, 16,  2, 15, 26, 15], device='cuda:0')\n",
            "Loss: 0.08743911981582642  Accuracy: 100.0 %\n",
            "Validating.....\n",
            "Loss: 0.005200311075896025  Accuracy: 100.0 %\n",
            "Epoch Number:- 2    Training Loss:-   0.16542862900563574 Validation Loss:-   0.15150489601376657 Training Acc:-   95.99440488301119 Validation Acc:-   94.15085817869439\n",
            "Epoch: 3\n",
            "Training.....\n",
            "Targets:- tensor([ 9, 10, 22,  1,  8, 20,  7, 16], device='cuda:0')\n",
            "Predictions:- tensor([ 9, 10, 22,  1,  8, 20,  7, 16], device='cuda:0')\n",
            "Loss: 0.051810819655656815  Accuracy: 100.0 %\n",
            "Targets:- tensor([ 0, 16, 17, 18, 16,  3, 10,  4], device='cuda:0')\n",
            "Predictions:- tensor([ 0, 16, 17, 18, 16,  3, 10,  4], device='cuda:0')\n",
            "Loss: 0.04994506761431694  Accuracy: 100.0 %\n",
            "Targets:- tensor([ 0,  8, 24,  8,  9,  3, 16, 12], device='cuda:0')\n",
            "Predictions:- tensor([ 0,  8, 19,  8,  9,  3, 16, 12], device='cuda:0')\n",
            "Loss: 0.16578949987888336  Accuracy: 87.5 %\n",
            "Targets:- tensor([19, 18, 12, 18, 15, 19, 15,  0], device='cuda:0')\n",
            "Predictions:- tensor([24, 18, 12, 18, 15, 19, 15,  0], device='cuda:0')\n",
            "Loss: 0.25565963983535767  Accuracy: 87.5 %\n",
            "Targets:- tensor([12, 10, 19,  5, 25, 13, 24, 25], device='cuda:0')\n",
            "Predictions:- tensor([12, 10, 19,  5, 25, 13,  6, 25], device='cuda:0')\n",
            "Loss: 0.9472975730895996  Accuracy: 87.5 %\n",
            "Targets:- tensor([11, 18,  8, 21, 15, 18,  8, 24], device='cuda:0')\n",
            "Predictions:- tensor([11, 18,  8, 21, 15, 18,  8, 24], device='cuda:0')\n",
            "Loss: 0.06910920888185501  Accuracy: 100.0 %\n",
            "Targets:- tensor([ 2, 23, 16, 22,  0, 12, 19, 12], device='cuda:0')\n",
            "Predictions:- tensor([ 2, 23, 16, 22,  0, 12, 19, 12], device='cuda:0')\n",
            "Loss: 0.035656046122312546  Accuracy: 100.0 %\n",
            "Targets:- tensor([22,  0, 19, 10, 11, 20, 17,  0], device='cuda:0')\n",
            "Predictions:- tensor([22,  0, 19, 10, 11, 20, 17,  0], device='cuda:0')\n",
            "Loss: 0.11546178162097931  Accuracy: 100.0 %\n",
            "Targets:- tensor([ 2,  8,  1,  5, 19, 20, 10, 12], device='cuda:0')\n",
            "Predictions:- tensor([ 2,  8,  1,  5, 19, 20, 10, 12], device='cuda:0')\n",
            "Loss: 0.03094412572681904  Accuracy: 100.0 %\n",
            "Targets:- tensor([25, 15, 21, 26,  9,  5, 23, 16], device='cuda:0')\n",
            "Predictions:- tensor([25, 15, 21, 26,  9,  5, 23, 16], device='cuda:0')\n",
            "Loss: 0.05041583627462387  Accuracy: 100.0 %\n",
            "Validating.....\n",
            "Loss: 0.34122762084007263  Accuracy: 87.5 %\n",
            "Epoch Number:- 3    Training Loss:-   0.11438080533203931 Validation Loss:-   0.12600535064653165 Training Acc:-   96.9735503560529 Validation Acc:-   94.71968157698468\n",
            "Epoch: 4\n",
            "Training.....\n",
            "Targets:- tensor([22, 10, 24,  5, 26,  7, 16, 13], device='cuda:0')\n",
            "Predictions:- tensor([22, 10, 24,  5, 26,  7, 16, 13], device='cuda:0')\n",
            "Loss: 0.09381182491779327  Accuracy: 100.0 %\n",
            "Targets:- tensor([16, 10, 19, 18,  9,  9,  3, 16], device='cuda:0')\n",
            "Predictions:- tensor([16, 10, 12, 18,  9,  9,  3, 16], device='cuda:0')\n",
            "Loss: 0.19670087099075317  Accuracy: 87.5 %\n",
            "Targets:- tensor([ 6,  6,  9, 23,  7, 21, 17, 16], device='cuda:0')\n",
            "Predictions:- tensor([18,  6,  9, 23,  7, 21, 17, 16], device='cuda:0')\n",
            "Loss: 0.2863922417163849  Accuracy: 87.5 %\n",
            "Targets:- tensor([19, 12, 15, 13, 23,  5,  2,  7], device='cuda:0')\n",
            "Predictions:- tensor([19, 12, 15, 13, 23,  5,  2,  7], device='cuda:0')\n",
            "Loss: 0.028620200231671333  Accuracy: 100.0 %\n",
            "Targets:- tensor([11, 15,  5, 22, 26,  5, 26,  6], device='cuda:0')\n",
            "Predictions:- tensor([11, 15,  5, 22, 26,  5, 26,  6], device='cuda:0')\n",
            "Loss: 0.02746516838669777  Accuracy: 100.0 %\n",
            "Targets:- tensor([ 5,  6, 14, 16, 24,  2,  9, 11], device='cuda:0')\n",
            "Predictions:- tensor([ 5,  6, 14, 16, 24,  2,  9, 11], device='cuda:0')\n",
            "Loss: 0.04697929695248604  Accuracy: 100.0 %\n",
            "Targets:- tensor([ 2, 14,  4, 13, 17, 12, 22, 10], device='cuda:0')\n",
            "Predictions:- tensor([ 2, 14,  4, 13, 17, 12, 22, 10], device='cuda:0')\n",
            "Loss: 0.1041933000087738  Accuracy: 100.0 %\n",
            "Targets:- tensor([25,  1,  9, 12, 15, 12, 22,  0], device='cuda:0')\n",
            "Predictions:- tensor([25,  1,  9, 12, 15, 12, 22,  0], device='cuda:0')\n",
            "Loss: 0.028637457638978958  Accuracy: 100.0 %\n",
            "Targets:- tensor([14,  6, 20,  8, 14, 26,  0,  0], device='cuda:0')\n",
            "Predictions:- tensor([14,  6, 20,  8, 14, 26,  0,  0], device='cuda:0')\n",
            "Loss: 0.03127887845039368  Accuracy: 100.0 %\n",
            "Targets:- tensor([ 6,  7,  7, 26,  3, 20, 12,  7], device='cuda:0')\n",
            "Predictions:- tensor([ 6,  7,  7, 26,  3, 20, 12,  7], device='cuda:0')\n",
            "Loss: 0.02872644178569317  Accuracy: 100.0 %\n",
            "Validating.....\n",
            "Loss: 0.27946287393569946  Accuracy: 100.0 %\n",
            "Loss: 0.2720389664173126  Accuracy: 87.5 %\n",
            "Epoch Number:- 4    Training Loss:-   0.0885222031526331 Validation Loss:-   0.10682407117068268 Training Acc:-   97.52034587995931 Validation Acc:-   95.14566396077474\n",
            "Epoch: 5\n",
            "Training.....\n",
            "Targets:- tensor([ 2, 22, 11, 23, 22, 18, 13, 23], device='cuda:0')\n",
            "Predictions:- tensor([ 2, 22, 11, 23, 22, 18, 13, 23], device='cuda:0')\n",
            "Loss: 0.011976772919297218  Accuracy: 100.0 %\n",
            "Targets:- tensor([ 2, 24, 17,  6,  8,  5, 17,  1], device='cuda:0')\n",
            "Predictions:- tensor([ 2, 24, 17,  6,  8,  5, 17,  1], device='cuda:0')\n",
            "Loss: 0.11291295289993286  Accuracy: 100.0 %\n",
            "Targets:- tensor([12, 14,  1, 18, 12, 11,  4, 17], device='cuda:0')\n",
            "Predictions:- tensor([12, 14,  1, 18, 12, 11,  4, 17], device='cuda:0')\n",
            "Loss: 0.11508363485336304  Accuracy: 100.0 %\n",
            "Targets:- tensor([20, 26,  1,  3, 18, 25, 12,  6], device='cuda:0')\n",
            "Predictions:- tensor([20, 26,  1,  3, 18, 25, 12,  6], device='cuda:0')\n",
            "Loss: 0.025490041822195053  Accuracy: 100.0 %\n",
            "Targets:- tensor([22,  5,  6,  8, 23, 20, 26, 24], device='cuda:0')\n",
            "Predictions:- tensor([22,  5,  6,  8, 23, 20, 26, 24], device='cuda:0')\n",
            "Loss: 0.043834708631038666  Accuracy: 100.0 %\n",
            "Targets:- tensor([20, 23,  0,  6, 15,  4,  4, 14], device='cuda:0')\n",
            "Predictions:- tensor([20, 23,  0,  6, 15,  4,  4, 14], device='cuda:0')\n",
            "Loss: 0.015327205881476402  Accuracy: 100.0 %\n",
            "Targets:- tensor([23, 12, 11, 25,  5,  2, 20, 17], device='cuda:0')\n",
            "Predictions:- tensor([23, 12, 11, 25,  5,  2, 20, 17], device='cuda:0')\n",
            "Loss: 0.018013931810855865  Accuracy: 100.0 %\n",
            "Targets:- tensor([ 1, 24,  8,  0, 17,  6, 13,  7], device='cuda:0')\n",
            "Predictions:- tensor([ 1, 24,  8,  0, 17,  6, 13,  7], device='cuda:0')\n",
            "Loss: 0.025071067735552788  Accuracy: 100.0 %\n",
            "Targets:- tensor([10, 21, 12, 12,  8, 15, 19,  4], device='cuda:0')\n",
            "Predictions:- tensor([10, 21, 12, 12,  8, 15, 19,  4], device='cuda:0')\n",
            "Loss: 0.026079006493091583  Accuracy: 100.0 %\n",
            "Validating.....\n",
            "Loss: 0.01454139407724142  Accuracy: 100.0 %\n",
            "Epoch Number:- 5    Training Loss:-   0.07199343221166407 Validation Loss:-   0.10611230984106693 Training Acc:-   98.073499491353 Validation Acc:-   95.43812105132312\n",
            "Epoch: 6\n",
            "Training.....\n",
            "Targets:- tensor([17, 12, 10,  2, 16, 25, 16, 12], device='cuda:0')\n",
            "Predictions:- tensor([17, 12, 10,  2, 16, 25, 16, 12], device='cuda:0')\n",
            "Loss: 0.0026292665861546993  Accuracy: 100.0 %\n",
            "Targets:- tensor([13, 26,  1,  9, 15, 18, 18, 10], device='cuda:0')\n",
            "Predictions:- tensor([13, 26,  1,  9, 15, 18, 18, 10], device='cuda:0')\n",
            "Loss: 0.003458302700892091  Accuracy: 100.0 %\n",
            "Targets:- tensor([10, 24, 11, 25,  8,  5,  4, 22], device='cuda:0')\n",
            "Predictions:- tensor([10, 24, 11, 25,  8,  5,  4, 22], device='cuda:0')\n",
            "Loss: 0.006236790679395199  Accuracy: 100.0 %\n",
            "Targets:- tensor([14,  5,  9,  8, 23, 13,  9, 25], device='cuda:0')\n",
            "Predictions:- tensor([14,  5,  9,  8, 23, 13,  9, 25], device='cuda:0')\n",
            "Loss: 0.03578178584575653  Accuracy: 100.0 %\n",
            "Targets:- tensor([23, 11, 16,  7,  3, 11, 26, 21], device='cuda:0')\n",
            "Predictions:- tensor([23, 11, 16,  7,  7, 11, 26, 21], device='cuda:0')\n",
            "Loss: 0.2313554733991623  Accuracy: 87.5 %\n",
            "Targets:- tensor([20, 12, 11, 26, 15, 18,  2, 26], device='cuda:0')\n",
            "Predictions:- tensor([20, 12, 11, 26, 15, 18,  2, 26], device='cuda:0')\n",
            "Loss: 0.0019483945798128843  Accuracy: 100.0 %\n",
            "Targets:- tensor([17, 25, 15, 19,  3, 10,  8, 13], device='cuda:0')\n",
            "Predictions:- tensor([17, 25, 15, 19,  3, 10,  8, 13], device='cuda:0')\n",
            "Loss: 0.0018972589168697596  Accuracy: 100.0 %\n",
            "Targets:- tensor([ 8, 16, 26, 16,  3, 15, 16, 23], device='cuda:0')\n",
            "Predictions:- tensor([ 8, 16, 26, 16,  3, 15, 16, 23], device='cuda:0')\n",
            "Loss: 0.0033920707646757364  Accuracy: 100.0 %\n",
            "Targets:- tensor([26, 21, 13, 21, 12,  7,  5, 24], device='cuda:0')\n",
            "Predictions:- tensor([26, 21, 13, 21, 12,  7,  5, 24], device='cuda:0')\n",
            "Loss: 0.005692758597433567  Accuracy: 100.0 %\n",
            "Targets:- tensor([22, 19,  9,  6,  5,  2, 19,  7], device='cuda:0')\n",
            "Predictions:- tensor([22, 19,  9,  6,  5,  2, 19,  7], device='cuda:0')\n",
            "Loss: 0.0982256755232811  Accuracy: 100.0 %\n",
            "Validating.....\n",
            "Loss: 0.0014842089731246233  Accuracy: 100.0 %\n",
            "Epoch Number:- 6    Training Loss:-   0.053711369317366614 Validation Loss:-   0.09905405315817561 Training Acc:-   98.51220752797559 Validation Acc:-   95.6736353122122\n",
            "Epoch: 7\n",
            "Training.....\n",
            "Targets:- tensor([ 0, 21, 25, 25,  1,  5, 16,  1], device='cuda:0')\n",
            "Predictions:- tensor([ 0, 21, 25, 25,  1,  5, 16,  1], device='cuda:0')\n",
            "Loss: 0.05735594034194946  Accuracy: 100.0 %\n",
            "Targets:- tensor([26, 14, 20, 25, 26, 21, 11, 13], device='cuda:0')\n",
            "Predictions:- tensor([26, 14, 20, 25, 26, 21, 11, 13], device='cuda:0')\n",
            "Loss: 0.0003550575056578964  Accuracy: 100.0 %\n",
            "Targets:- tensor([18, 13, 22,  6, 14, 10, 18,  3], device='cuda:0')\n",
            "Predictions:- tensor([18, 13, 22,  6, 14, 10, 18,  3], device='cuda:0')\n",
            "Loss: 0.005241979379206896  Accuracy: 100.0 %\n",
            "Targets:- tensor([ 7,  9, 17, 22, 23, 25, 11, 18], device='cuda:0')\n",
            "Predictions:- tensor([ 7,  9, 17, 22, 23, 25, 11, 18], device='cuda:0')\n",
            "Loss: 0.002412995556369424  Accuracy: 100.0 %\n",
            "Targets:- tensor([ 8,  0, 16,  4, 10, 26, 15, 17], device='cuda:0')\n",
            "Predictions:- tensor([ 8,  0, 16,  4, 10, 26, 15, 17], device='cuda:0')\n",
            "Loss: 0.01885743997991085  Accuracy: 100.0 %\n",
            "Targets:- tensor([26, 13, 23,  1,  5, 21, 15, 26], device='cuda:0')\n",
            "Predictions:- tensor([26, 13, 23,  1,  5, 21, 15, 26], device='cuda:0')\n",
            "Loss: 0.002034679288044572  Accuracy: 100.0 %\n",
            "Targets:- tensor([ 5,  6, 16,  2,  4, 17,  4, 18], device='cuda:0')\n",
            "Predictions:- tensor([ 5,  6, 16,  2,  4, 17,  4, 18], device='cuda:0')\n",
            "Loss: 0.0005958650726824999  Accuracy: 100.0 %\n",
            "Targets:- tensor([17, 20,  5, 12, 22, 26, 17,  5], device='cuda:0')\n",
            "Predictions:- tensor([17, 20,  5, 12, 22, 26, 17,  5], device='cuda:0')\n",
            "Loss: 0.044878680258989334  Accuracy: 100.0 %\n",
            "Targets:- tensor([18, 13, 17,  2, 18, 17, 19,  2], device='cuda:0')\n",
            "Predictions:- tensor([18, 13, 17,  2, 18, 17, 19,  2], device='cuda:0')\n",
            "Loss: 0.08609077334403992  Accuracy: 100.0 %\n",
            "Targets:- tensor([ 4, 14,  9,  7,  9,  4,  4,  9], device='cuda:0')\n",
            "Predictions:- tensor([ 4, 14,  9,  7,  9,  4,  4,  9], device='cuda:0')\n",
            "Loss: 0.002644538413733244  Accuracy: 100.0 %\n",
            "Validating.....\n",
            "Loss: 0.00019720658019650728  Accuracy: 100.0 %\n",
            "Epoch Number:- 7    Training Loss:-   0.04669502403830459 Validation Loss:-   0.09008964557337672 Training Acc:-   98.79832146490335 Validation Acc:-   95.88414634534014\n",
            "Epoch: 8\n",
            "Training.....\n",
            "Targets:- tensor([25,  3, 15, 26, 25, 14, 23, 26], device='cuda:0')\n",
            "Predictions:- tensor([25,  3, 15, 26, 25, 14, 23, 26], device='cuda:0')\n",
            "Loss: 0.0016442501218989491  Accuracy: 100.0 %\n",
            "Targets:- tensor([ 2,  1, 17, 23, 23, 24, 26,  5], device='cuda:0')\n",
            "Predictions:- tensor([ 2,  1, 17, 23, 23, 24, 26,  5], device='cuda:0')\n",
            "Loss: 0.007922316901385784  Accuracy: 100.0 %\n",
            "Targets:- tensor([14, 25, 19, 21,  9, 21,  5, 26], device='cuda:0')\n",
            "Predictions:- tensor([14, 25, 19, 21,  9, 21,  5, 26], device='cuda:0')\n",
            "Loss: 0.0013634522911161184  Accuracy: 100.0 %\n",
            "Targets:- tensor([18, 20, 14, 14,  6,  4, 14,  5], device='cuda:0')\n",
            "Predictions:- tensor([18, 20, 14, 14,  6,  4, 14,  5], device='cuda:0')\n",
            "Loss: 0.009778444655239582  Accuracy: 100.0 %\n",
            "Targets:- tensor([ 9, 21, 26,  2,  1, 20,  4, 16], device='cuda:0')\n",
            "Predictions:- tensor([ 9, 21, 26,  2,  5, 20,  4, 16], device='cuda:0')\n",
            "Loss: 0.648912250995636  Accuracy: 87.5 %\n",
            "Targets:- tensor([ 5, 20,  7, 16, 14, 25, 10,  7], device='cuda:0')\n",
            "Predictions:- tensor([ 5, 20,  7, 16, 14, 25, 10,  7], device='cuda:0')\n",
            "Loss: 0.0012657814659178257  Accuracy: 100.0 %\n",
            "Targets:- tensor([16,  8, 21, 11, 20, 14, 25, 13], device='cuda:0')\n",
            "Predictions:- tensor([16,  8, 21, 11, 20, 14, 25, 13], device='cuda:0')\n",
            "Loss: 0.0005997750558890402  Accuracy: 100.0 %\n",
            "Targets:- tensor([20, 13, 24,  1, 13, 22, 19,  8], device='cuda:0')\n",
            "Predictions:- tensor([20, 13, 24,  1, 13, 22, 19,  8], device='cuda:0')\n",
            "Loss: 0.034550849348306656  Accuracy: 100.0 %\n",
            "Targets:- tensor([11, 24, 20,  6,  7,  5,  4,  8], device='cuda:0')\n",
            "Predictions:- tensor([11, 24, 20,  6,  7,  5,  4,  8], device='cuda:0')\n",
            "Loss: 0.003678080625832081  Accuracy: 100.0 %\n",
            "Targets:- tensor([14,  1,  6,  2,  4,  2,  1, 19], device='cuda:0')\n",
            "Predictions:- tensor([14,  1,  6,  2,  4,  2,  1, 19], device='cuda:0')\n",
            "Loss: 0.020361341536045074  Accuracy: 100.0 %\n",
            "Validating.....\n",
            "Loss: 0.00046369197661988437  Accuracy: 100.0 %\n",
            "Loss: 0.0011307325912639499  Accuracy: 100.0 %\n",
            "Epoch Number:- 8    Training Loss:-   0.040964520947473236 Validation Loss:-   0.08114389684379876 Training Acc:-   98.89369277721262 Validation Acc:-   96.07610659784525\n",
            "Epoch: 9\n",
            "Training.....\n",
            "Targets:- tensor([14, 14,  6,  1, 14, 15, 11, 20], device='cuda:0')\n",
            "Predictions:- tensor([14, 14,  6,  1, 14, 15, 11, 20], device='cuda:0')\n",
            "Loss: 0.011727239936590195  Accuracy: 100.0 %\n",
            "Targets:- tensor([ 9, 19, 21, 13, 13, 13, 15,  3], device='cuda:0')\n",
            "Predictions:- tensor([ 9, 19, 21, 13, 13, 13, 15,  3], device='cuda:0')\n",
            "Loss: 0.03443894907832146  Accuracy: 100.0 %\n",
            "Targets:- tensor([ 0,  1, 20, 17, 22,  5, 18, 21], device='cuda:0')\n",
            "Predictions:- tensor([ 0,  1, 20, 17, 22,  5, 18, 21], device='cuda:0')\n",
            "Loss: 0.025442415848374367  Accuracy: 100.0 %\n",
            "Targets:- tensor([20,  2, 10,  4, 22, 11,  8,  0], device='cuda:0')\n",
            "Predictions:- tensor([20,  2, 10,  4, 22, 11,  8,  0], device='cuda:0')\n",
            "Loss: 0.016704771667718887  Accuracy: 100.0 %\n",
            "Targets:- tensor([ 1, 10,  0, 25,  2,  7, 18, 11], device='cuda:0')\n",
            "Predictions:- tensor([ 1, 10,  0, 25,  2,  7, 18, 11], device='cuda:0')\n",
            "Loss: 0.027099015191197395  Accuracy: 100.0 %\n",
            "Targets:- tensor([ 7,  6, 10, 24, 12, 19,  0,  9], device='cuda:0')\n",
            "Predictions:- tensor([ 7,  6, 10, 24, 12, 19,  0,  9], device='cuda:0')\n",
            "Loss: 0.014042412862181664  Accuracy: 100.0 %\n",
            "Targets:- tensor([13,  2,  4, 18, 25, 10,  0, 13], device='cuda:0')\n",
            "Predictions:- tensor([13,  2,  4, 18, 25, 10,  0, 13], device='cuda:0')\n",
            "Loss: 0.00041543281986378133  Accuracy: 100.0 %\n",
            "Targets:- tensor([ 1,  8,  4,  6, 15, 19,  8, 15], device='cuda:0')\n",
            "Predictions:- tensor([ 1,  8,  4,  6, 15, 24,  8, 15], device='cuda:0')\n",
            "Loss: 0.21653202176094055  Accuracy: 87.5 %\n",
            "Targets:- tensor([22, 25, 24, 18,  6, 16, 14, 18], device='cuda:0')\n",
            "Predictions:- tensor([22, 25, 24, 18,  6, 16, 14, 18], device='cuda:0')\n",
            "Loss: 0.03176533430814743  Accuracy: 100.0 %\n",
            "Targets:- tensor([ 3,  5,  8,  9,  6, 11, 23, 26], device='cuda:0')\n",
            "Predictions:- tensor([ 3,  5,  8,  9,  6, 11, 23, 26], device='cuda:0')\n",
            "Loss: 0.0012086698552593589  Accuracy: 100.0 %\n",
            "Validating.....\n",
            "Loss: 0.0001324319455306977  Accuracy: 100.0 %\n",
            "Epoch Number:- 9    Training Loss:-   0.030674797741562475 Validation Loss:-   0.08784066812962757 Training Acc:-   99.23067141403865 Validation Acc:-   96.20934959659732\n"
          ],
          "name": "stdout"
        }
      ]
    },
    {
      "cell_type": "code",
      "metadata": {
        "colab": {
          "base_uri": "https://localhost:8080/",
          "height": 295
        },
        "id": "DfhHXpdWom9G",
        "outputId": "2e1236d4-aa90-4a0a-d338-887a1018ac95"
      },
      "source": [
        "#Loss Behaviour against Epochs\n",
        "loss_train = avgTrainLoss\n",
        "loss_val = avgValidLoss\n",
        "epochs = range(1,11)\n",
        "plt.plot(epochs, loss_train, 'g', label='Training loss')\n",
        "plt.plot(epochs, loss_val, 'b', label='Validation loss')\n",
        "plt.title('Training and Validation loss(KimCNN)')\n",
        "plt.xlabel('Epochs')\n",
        "plt.ylabel('Loss')\n",
        "plt.legend()\n",
        "plt.show()"
      ],
      "execution_count": null,
      "outputs": [
        {
          "output_type": "display_data",
          "data": {
            "image/png": "[encoded data removed]",
            "text/plain": [
              "<Figure size 432x288 with 1 Axes>"
            ]
          },
          "metadata": {
            "tags": [],
            "needs_background": "light"
          }
        }
      ]
    },
    {
      "cell_type": "code",
      "metadata": {
        "colab": {
          "base_uri": "https://localhost:8080/",
          "height": 295
        },
        "id": "_ONwAqVeowMO",
        "outputId": "7f5de665-809d-4b44-fbc5-cd508c3c5444"
      },
      "source": [
        "#Accuracy Behaviour against Epochs\n",
        "acc_train = avgTrainAcc\n",
        "acc_val = avgValidAcc\n",
        "epochs = range(1,11)\n",
        "plt.plot(epochs, acc_train, 'g', label='Training Acc')\n",
        "plt.plot(epochs, acc_val, 'b', label='Validation Acc')\n",
        "plt.title('Training and Validation Accuracy(KimCNN)')\n",
        "plt.xlabel('Epochs')\n",
        "plt.ylabel('Accuracy')\n",
        "plt.legend()\n",
        "plt.show()"
      ],
      "execution_count": null,
      "outputs": [
        {
          "output_type": "display_data",
          "data": {
            "image/png": "[encoded data removed]",
            "text/plain": [
              "<Figure size 432x288 with 1 Axes>"
            ]
          },
          "metadata": {
            "tags": [],
            "needs_background": "light"
          }
        }
      ]
    },
    {
      "cell_type": "code",
      "metadata": {
        "id": "2lRuJ16Tox5-"
      },
      "source": [
        "def checkClassificationMetrics(loader,model):\n",
        "\n",
        "  completeTargets=[]\n",
        "  completePreds=[]\n",
        "\n",
        "  correct=0\n",
        "  total=0\n",
        "  model.eval()\n",
        "\n",
        "  with torch.no_grad():\n",
        "    for data,targets in loader:\n",
        "\n",
        "      targets=targets.to(device=device)\n",
        "\n",
        "      scores=model(data)\n",
        "      _,predictions=scores.max(1)\n",
        "\n",
        "      targets=targets.tolist()\n",
        "      predictions=predictions.tolist()\n",
        "\n",
        "      completeTargets.append(targets)\n",
        "      completePreds.append(predictions)\n",
        "\n",
        "    completeTargetsFlattened=[item for sublist in completeTargets for item in sublist]\n",
        "    completePredsFlattened=[item for sublist in completePreds for item in sublist]\n",
        "\n",
        "    cm = ConfusionMatrix(actual_vector=completeTargetsFlattened, predict_vector=completePredsFlattened)\n",
        "    return cm"
      ],
      "execution_count": null,
      "outputs": []
    },
    {
      "cell_type": "code",
      "metadata": {
        "id": "hC-IkuvDoz3_"
      },
      "source": [
        "CM=checkClassificationMetrics(testLoader,kimcnn)"
      ],
      "execution_count": null,
      "outputs": []
    },
    {
      "cell_type": "markdown",
      "metadata": {
        "id": "5IEyQ7wCQzAB"
      },
      "source": [
        "A number of evaluation metrics were considered. The pycm module was utilized to calculate these metrics"
      ]
    },
    {
      "cell_type": "code",
      "metadata": {
        "colab": {
          "base_uri": "https://localhost:8080/"
        },
        "id": "TTsE0Uec1G1M",
        "outputId": "ab48fbbe-4d22-4e8a-99df-e96616aa6262"
      },
      "source": [
        "print(\"Evaluation Metrics:-\")\n",
        "print(\"Accuracy:-\", CM.Overall_ACC*100)\n",
        "print(\"F1 Micro:-\", CM.F1_Micro)\n",
        "print(\"Kappa:-\",CM.Kappa)\n",
        "print(\"MCC:-\",CM.Overall_MCC)"
      ],
      "execution_count": null,
      "outputs": [
        {
          "output_type": "stream",
          "text": [
            "Evaluation Metrics:-\n",
            "Accuracy:- 97.91454730417091\n",
            "F1 Micro:- 0.9791454730417091\n",
            "Kappa:- 0.9754769022392242\n",
            "MCC:- 0.9754986616887074\n"
          ],
          "name": "stdout"
        }
      ]
    },
    {
      "cell_type": "code",
      "metadata": {
        "id": "9OEAu_AL1JSC"
      },
      "source": [
        "torch.save(kimcnn.state_dict(),\"path_to_add/MIDAS_Task3/Models/KimCNN.pt\") #Please add path_to_add that is required for your local Machine"
      ],
      "execution_count": null,
      "outputs": []
    }
  ]
}
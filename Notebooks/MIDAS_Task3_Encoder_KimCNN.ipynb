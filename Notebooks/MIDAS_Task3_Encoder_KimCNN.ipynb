{
  "nbformat": 4,
  "nbformat_minor": 0,
  "metadata": {
    "colab": {
      "name": "MIDAS_Task3_Encoder_KimCNN.ipynb",
      "provenance": []
    },
    "kernelspec": {
      "name": "python3",
      "display_name": "Python 3"
    },
    "language_info": {
      "name": "python"
    },
    "widgets": {
      "application/vnd.jupyter.widget-state+json": {
        "e911088eb2ba4c2497c46cf40e498305": {
          "model_module": "@jupyter-widgets/controls",
          "model_name": "HBoxModel",
          "state": {
            "_view_name": "HBoxView",
            "_dom_classes": [],
            "_model_name": "HBoxModel",
            "_view_module": "@jupyter-widgets/controls",
            "_model_module_version": "1.5.0",
            "_view_count": null,
            "_view_module_version": "1.5.0",
            "box_style": "",
            "layout": "IPY_MODEL_675d744733c6467b9b1a58e706efde81",
            "_model_module": "@jupyter-widgets/controls",
            "children": [
              "IPY_MODEL_6985136bb1cc439aa0577ae0ef843343",
              "IPY_MODEL_17cb57f81cde4e4aae08bde06d11c965"
            ]
          }
        },
        "675d744733c6467b9b1a58e706efde81": {
          "model_module": "@jupyter-widgets/base",
          "model_name": "LayoutModel",
          "state": {
            "_view_name": "LayoutView",
            "grid_template_rows": null,
            "right": null,
            "justify_content": null,
            "_view_module": "@jupyter-widgets/base",
            "overflow": null,
            "_model_module_version": "1.2.0",
            "_view_count": null,
            "flex_flow": null,
            "width": null,
            "min_width": null,
            "border": null,
            "align_items": null,
            "bottom": null,
            "_model_module": "@jupyter-widgets/base",
            "top": null,
            "grid_column": null,
            "overflow_y": null,
            "overflow_x": null,
            "grid_auto_flow": null,
            "grid_area": null,
            "grid_template_columns": null,
            "flex": null,
            "_model_name": "LayoutModel",
            "justify_items": null,
            "grid_row": null,
            "max_height": null,
            "align_content": null,
            "visibility": null,
            "align_self": null,
            "height": null,
            "min_height": null,
            "padding": null,
            "grid_auto_rows": null,
            "grid_gap": null,
            "max_width": null,
            "order": null,
            "_view_module_version": "1.2.0",
            "grid_template_areas": null,
            "object_position": null,
            "object_fit": null,
            "grid_auto_columns": null,
            "margin": null,
            "display": null,
            "left": null
          }
        },
        "6985136bb1cc439aa0577ae0ef843343": {
          "model_module": "@jupyter-widgets/controls",
          "model_name": "FloatProgressModel",
          "state": {
            "_view_name": "ProgressView",
            "style": "IPY_MODEL_2bef05a6156b443c81eb7dcef78d9083",
            "_dom_classes": [],
            "description": "Downloading: 100%",
            "_model_name": "FloatProgressModel",
            "bar_style": "success",
            "max": 231508,
            "_view_module": "@jupyter-widgets/controls",
            "_model_module_version": "1.5.0",
            "value": 231508,
            "_view_count": null,
            "_view_module_version": "1.5.0",
            "orientation": "horizontal",
            "min": 0,
            "description_tooltip": null,
            "_model_module": "@jupyter-widgets/controls",
            "layout": "IPY_MODEL_b616095334704581abe1f8ebfdf2a95e"
          }
        },
        "17cb57f81cde4e4aae08bde06d11c965": {
          "model_module": "@jupyter-widgets/controls",
          "model_name": "HTMLModel",
          "state": {
            "_view_name": "HTMLView",
            "style": "IPY_MODEL_4e9ae48315874ad5a7ec51ff3e07b8d0",
            "_dom_classes": [],
            "description": "",
            "_model_name": "HTMLModel",
            "placeholder": "​",
            "_view_module": "@jupyter-widgets/controls",
            "_model_module_version": "1.5.0",
            "value": " 232k/232k [00:01&lt;00:00, 135kB/s]",
            "_view_count": null,
            "_view_module_version": "1.5.0",
            "description_tooltip": null,
            "_model_module": "@jupyter-widgets/controls",
            "layout": "IPY_MODEL_ba3f0f035c6745839132a32051477810"
          }
        },
        "2bef05a6156b443c81eb7dcef78d9083": {
          "model_module": "@jupyter-widgets/controls",
          "model_name": "ProgressStyleModel",
          "state": {
            "_view_name": "StyleView",
            "_model_name": "ProgressStyleModel",
            "description_width": "initial",
            "_view_module": "@jupyter-widgets/base",
            "_model_module_version": "1.5.0",
            "_view_count": null,
            "_view_module_version": "1.2.0",
            "bar_color": null,
            "_model_module": "@jupyter-widgets/controls"
          }
        },
        "b616095334704581abe1f8ebfdf2a95e": {
          "model_module": "@jupyter-widgets/base",
          "model_name": "LayoutModel",
          "state": {
            "_view_name": "LayoutView",
            "grid_template_rows": null,
            "right": null,
            "justify_content": null,
            "_view_module": "@jupyter-widgets/base",
            "overflow": null,
            "_model_module_version": "1.2.0",
            "_view_count": null,
            "flex_flow": null,
            "width": null,
            "min_width": null,
            "border": null,
            "align_items": null,
            "bottom": null,
            "_model_module": "@jupyter-widgets/base",
            "top": null,
            "grid_column": null,
            "overflow_y": null,
            "overflow_x": null,
            "grid_auto_flow": null,
            "grid_area": null,
            "grid_template_columns": null,
            "flex": null,
            "_model_name": "LayoutModel",
            "justify_items": null,
            "grid_row": null,
            "max_height": null,
            "align_content": null,
            "visibility": null,
            "align_self": null,
            "height": null,
            "min_height": null,
            "padding": null,
            "grid_auto_rows": null,
            "grid_gap": null,
            "max_width": null,
            "order": null,
            "_view_module_version": "1.2.0",
            "grid_template_areas": null,
            "object_position": null,
            "object_fit": null,
            "grid_auto_columns": null,
            "margin": null,
            "display": null,
            "left": null
          }
        },
        "4e9ae48315874ad5a7ec51ff3e07b8d0": {
          "model_module": "@jupyter-widgets/controls",
          "model_name": "DescriptionStyleModel",
          "state": {
            "_view_name": "StyleView",
            "_model_name": "DescriptionStyleModel",
            "description_width": "",
            "_view_module": "@jupyter-widgets/base",
            "_model_module_version": "1.5.0",
            "_view_count": null,
            "_view_module_version": "1.2.0",
            "_model_module": "@jupyter-widgets/controls"
          }
        },
        "ba3f0f035c6745839132a32051477810": {
          "model_module": "@jupyter-widgets/base",
          "model_name": "LayoutModel",
          "state": {
            "_view_name": "LayoutView",
            "grid_template_rows": null,
            "right": null,
            "justify_content": null,
            "_view_module": "@jupyter-widgets/base",
            "overflow": null,
            "_model_module_version": "1.2.0",
            "_view_count": null,
            "flex_flow": null,
            "width": null,
            "min_width": null,
            "border": null,
            "align_items": null,
            "bottom": null,
            "_model_module": "@jupyter-widgets/base",
            "top": null,
            "grid_column": null,
            "overflow_y": null,
            "overflow_x": null,
            "grid_auto_flow": null,
            "grid_area": null,
            "grid_template_columns": null,
            "flex": null,
            "_model_name": "LayoutModel",
            "justify_items": null,
            "grid_row": null,
            "max_height": null,
            "align_content": null,
            "visibility": null,
            "align_self": null,
            "height": null,
            "min_height": null,
            "padding": null,
            "grid_auto_rows": null,
            "grid_gap": null,
            "max_width": null,
            "order": null,
            "_view_module_version": "1.2.0",
            "grid_template_areas": null,
            "object_position": null,
            "object_fit": null,
            "grid_auto_columns": null,
            "margin": null,
            "display": null,
            "left": null
          }
        },
        "111487831ac24dd4b6ef92b1cf5a40da": {
          "model_module": "@jupyter-widgets/controls",
          "model_name": "HBoxModel",
          "state": {
            "_view_name": "HBoxView",
            "_dom_classes": [],
            "_model_name": "HBoxModel",
            "_view_module": "@jupyter-widgets/controls",
            "_model_module_version": "1.5.0",
            "_view_count": null,
            "_view_module_version": "1.5.0",
            "box_style": "",
            "layout": "IPY_MODEL_6faadcecdc404d7d95bf2e28a0d072c5",
            "_model_module": "@jupyter-widgets/controls",
            "children": [
              "IPY_MODEL_d39bb4140c1a42f2a4b7ede62b28f5e3",
              "IPY_MODEL_9b9b01720c0c445190146d1f40dbfc6a"
            ]
          }
        },
        "6faadcecdc404d7d95bf2e28a0d072c5": {
          "model_module": "@jupyter-widgets/base",
          "model_name": "LayoutModel",
          "state": {
            "_view_name": "LayoutView",
            "grid_template_rows": null,
            "right": null,
            "justify_content": null,
            "_view_module": "@jupyter-widgets/base",
            "overflow": null,
            "_model_module_version": "1.2.0",
            "_view_count": null,
            "flex_flow": null,
            "width": null,
            "min_width": null,
            "border": null,
            "align_items": null,
            "bottom": null,
            "_model_module": "@jupyter-widgets/base",
            "top": null,
            "grid_column": null,
            "overflow_y": null,
            "overflow_x": null,
            "grid_auto_flow": null,
            "grid_area": null,
            "grid_template_columns": null,
            "flex": null,
            "_model_name": "LayoutModel",
            "justify_items": null,
            "grid_row": null,
            "max_height": null,
            "align_content": null,
            "visibility": null,
            "align_self": null,
            "height": null,
            "min_height": null,
            "padding": null,
            "grid_auto_rows": null,
            "grid_gap": null,
            "max_width": null,
            "order": null,
            "_view_module_version": "1.2.0",
            "grid_template_areas": null,
            "object_position": null,
            "object_fit": null,
            "grid_auto_columns": null,
            "margin": null,
            "display": null,
            "left": null
          }
        },
        "d39bb4140c1a42f2a4b7ede62b28f5e3": {
          "model_module": "@jupyter-widgets/controls",
          "model_name": "FloatProgressModel",
          "state": {
            "_view_name": "ProgressView",
            "style": "IPY_MODEL_758f320b27e14effa757342e2163e895",
            "_dom_classes": [],
            "description": "Downloading: 100%",
            "_model_name": "FloatProgressModel",
            "bar_style": "success",
            "max": 28,
            "_view_module": "@jupyter-widgets/controls",
            "_model_module_version": "1.5.0",
            "value": 28,
            "_view_count": null,
            "_view_module_version": "1.5.0",
            "orientation": "horizontal",
            "min": 0,
            "description_tooltip": null,
            "_model_module": "@jupyter-widgets/controls",
            "layout": "IPY_MODEL_36098848521948fa813859108d42622f"
          }
        },
        "9b9b01720c0c445190146d1f40dbfc6a": {
          "model_module": "@jupyter-widgets/controls",
          "model_name": "HTMLModel",
          "state": {
            "_view_name": "HTMLView",
            "style": "IPY_MODEL_54a2a6f3d0b349b98942da9170429238",
            "_dom_classes": [],
            "description": "",
            "_model_name": "HTMLModel",
            "placeholder": "​",
            "_view_module": "@jupyter-widgets/controls",
            "_model_module_version": "1.5.0",
            "value": " 28.0/28.0 [00:00&lt;00:00, 44.5B/s]",
            "_view_count": null,
            "_view_module_version": "1.5.0",
            "description_tooltip": null,
            "_model_module": "@jupyter-widgets/controls",
            "layout": "IPY_MODEL_60b5d2c972e246a297c1b08bfefa2a95"
          }
        },
        "758f320b27e14effa757342e2163e895": {
          "model_module": "@jupyter-widgets/controls",
          "model_name": "ProgressStyleModel",
          "state": {
            "_view_name": "StyleView",
            "_model_name": "ProgressStyleModel",
            "description_width": "initial",
            "_view_module": "@jupyter-widgets/base",
            "_model_module_version": "1.5.0",
            "_view_count": null,
            "_view_module_version": "1.2.0",
            "bar_color": null,
            "_model_module": "@jupyter-widgets/controls"
          }
        },
        "36098848521948fa813859108d42622f": {
          "model_module": "@jupyter-widgets/base",
          "model_name": "LayoutModel",
          "state": {
            "_view_name": "LayoutView",
            "grid_template_rows": null,
            "right": null,
            "justify_content": null,
            "_view_module": "@jupyter-widgets/base",
            "overflow": null,
            "_model_module_version": "1.2.0",
            "_view_count": null,
            "flex_flow": null,
            "width": null,
            "min_width": null,
            "border": null,
            "align_items": null,
            "bottom": null,
            "_model_module": "@jupyter-widgets/base",
            "top": null,
            "grid_column": null,
            "overflow_y": null,
            "overflow_x": null,
            "grid_auto_flow": null,
            "grid_area": null,
            "grid_template_columns": null,
            "flex": null,
            "_model_name": "LayoutModel",
            "justify_items": null,
            "grid_row": null,
            "max_height": null,
            "align_content": null,
            "visibility": null,
            "align_self": null,
            "height": null,
            "min_height": null,
            "padding": null,
            "grid_auto_rows": null,
            "grid_gap": null,
            "max_width": null,
            "order": null,
            "_view_module_version": "1.2.0",
            "grid_template_areas": null,
            "object_position": null,
            "object_fit": null,
            "grid_auto_columns": null,
            "margin": null,
            "display": null,
            "left": null
          }
        },
        "54a2a6f3d0b349b98942da9170429238": {
          "model_module": "@jupyter-widgets/controls",
          "model_name": "DescriptionStyleModel",
          "state": {
            "_view_name": "StyleView",
            "_model_name": "DescriptionStyleModel",
            "description_width": "",
            "_view_module": "@jupyter-widgets/base",
            "_model_module_version": "1.5.0",
            "_view_count": null,
            "_view_module_version": "1.2.0",
            "_model_module": "@jupyter-widgets/controls"
          }
        },
        "60b5d2c972e246a297c1b08bfefa2a95": {
          "model_module": "@jupyter-widgets/base",
          "model_name": "LayoutModel",
          "state": {
            "_view_name": "LayoutView",
            "grid_template_rows": null,
            "right": null,
            "justify_content": null,
            "_view_module": "@jupyter-widgets/base",
            "overflow": null,
            "_model_module_version": "1.2.0",
            "_view_count": null,
            "flex_flow": null,
            "width": null,
            "min_width": null,
            "border": null,
            "align_items": null,
            "bottom": null,
            "_model_module": "@jupyter-widgets/base",
            "top": null,
            "grid_column": null,
            "overflow_y": null,
            "overflow_x": null,
            "grid_auto_flow": null,
            "grid_area": null,
            "grid_template_columns": null,
            "flex": null,
            "_model_name": "LayoutModel",
            "justify_items": null,
            "grid_row": null,
            "max_height": null,
            "align_content": null,
            "visibility": null,
            "align_self": null,
            "height": null,
            "min_height": null,
            "padding": null,
            "grid_auto_rows": null,
            "grid_gap": null,
            "max_width": null,
            "order": null,
            "_view_module_version": "1.2.0",
            "grid_template_areas": null,
            "object_position": null,
            "object_fit": null,
            "grid_auto_columns": null,
            "margin": null,
            "display": null,
            "left": null
          }
        },
        "6a40b400e0f046b4acc44fab69dddacf": {
          "model_module": "@jupyter-widgets/controls",
          "model_name": "HBoxModel",
          "state": {
            "_view_name": "HBoxView",
            "_dom_classes": [],
            "_model_name": "HBoxModel",
            "_view_module": "@jupyter-widgets/controls",
            "_model_module_version": "1.5.0",
            "_view_count": null,
            "_view_module_version": "1.5.0",
            "box_style": "",
            "layout": "IPY_MODEL_ce5ac74612fa452499ffa0f7b02e8f89",
            "_model_module": "@jupyter-widgets/controls",
            "children": [
              "IPY_MODEL_6e8aa19e3fa04883a0f7c8e0ff1da565",
              "IPY_MODEL_f6e1657e985a4077b6162ca9c5955009"
            ]
          }
        },
        "ce5ac74612fa452499ffa0f7b02e8f89": {
          "model_module": "@jupyter-widgets/base",
          "model_name": "LayoutModel",
          "state": {
            "_view_name": "LayoutView",
            "grid_template_rows": null,
            "right": null,
            "justify_content": null,
            "_view_module": "@jupyter-widgets/base",
            "overflow": null,
            "_model_module_version": "1.2.0",
            "_view_count": null,
            "flex_flow": null,
            "width": null,
            "min_width": null,
            "border": null,
            "align_items": null,
            "bottom": null,
            "_model_module": "@jupyter-widgets/base",
            "top": null,
            "grid_column": null,
            "overflow_y": null,
            "overflow_x": null,
            "grid_auto_flow": null,
            "grid_area": null,
            "grid_template_columns": null,
            "flex": null,
            "_model_name": "LayoutModel",
            "justify_items": null,
            "grid_row": null,
            "max_height": null,
            "align_content": null,
            "visibility": null,
            "align_self": null,
            "height": null,
            "min_height": null,
            "padding": null,
            "grid_auto_rows": null,
            "grid_gap": null,
            "max_width": null,
            "order": null,
            "_view_module_version": "1.2.0",
            "grid_template_areas": null,
            "object_position": null,
            "object_fit": null,
            "grid_auto_columns": null,
            "margin": null,
            "display": null,
            "left": null
          }
        },
        "6e8aa19e3fa04883a0f7c8e0ff1da565": {
          "model_module": "@jupyter-widgets/controls",
          "model_name": "FloatProgressModel",
          "state": {
            "_view_name": "ProgressView",
            "style": "IPY_MODEL_79fc23505578494cb448e20fd47a5dc4",
            "_dom_classes": [],
            "description": "Downloading: 100%",
            "_model_name": "FloatProgressModel",
            "bar_style": "success",
            "max": 466062,
            "_view_module": "@jupyter-widgets/controls",
            "_model_module_version": "1.5.0",
            "value": 466062,
            "_view_count": null,
            "_view_module_version": "1.5.0",
            "orientation": "horizontal",
            "min": 0,
            "description_tooltip": null,
            "_model_module": "@jupyter-widgets/controls",
            "layout": "IPY_MODEL_552c711dfb504719a0a4f99dd7a15fa2"
          }
        },
        "f6e1657e985a4077b6162ca9c5955009": {
          "model_module": "@jupyter-widgets/controls",
          "model_name": "HTMLModel",
          "state": {
            "_view_name": "HTMLView",
            "style": "IPY_MODEL_a8944e4d662048b8abf5bfb0c8f8bf2a",
            "_dom_classes": [],
            "description": "",
            "_model_name": "HTMLModel",
            "placeholder": "​",
            "_view_module": "@jupyter-widgets/controls",
            "_model_module_version": "1.5.0",
            "value": " 466k/466k [00:00&lt;00:00, 1.12MB/s]",
            "_view_count": null,
            "_view_module_version": "1.5.0",
            "description_tooltip": null,
            "_model_module": "@jupyter-widgets/controls",
            "layout": "IPY_MODEL_a94be984d71346c097b41873c19ba550"
          }
        },
        "79fc23505578494cb448e20fd47a5dc4": {
          "model_module": "@jupyter-widgets/controls",
          "model_name": "ProgressStyleModel",
          "state": {
            "_view_name": "StyleView",
            "_model_name": "ProgressStyleModel",
            "description_width": "initial",
            "_view_module": "@jupyter-widgets/base",
            "_model_module_version": "1.5.0",
            "_view_count": null,
            "_view_module_version": "1.2.0",
            "bar_color": null,
            "_model_module": "@jupyter-widgets/controls"
          }
        },
        "552c711dfb504719a0a4f99dd7a15fa2": {
          "model_module": "@jupyter-widgets/base",
          "model_name": "LayoutModel",
          "state": {
            "_view_name": "LayoutView",
            "grid_template_rows": null,
            "right": null,
            "justify_content": null,
            "_view_module": "@jupyter-widgets/base",
            "overflow": null,
            "_model_module_version": "1.2.0",
            "_view_count": null,
            "flex_flow": null,
            "width": null,
            "min_width": null,
            "border": null,
            "align_items": null,
            "bottom": null,
            "_model_module": "@jupyter-widgets/base",
            "top": null,
            "grid_column": null,
            "overflow_y": null,
            "overflow_x": null,
            "grid_auto_flow": null,
            "grid_area": null,
            "grid_template_columns": null,
            "flex": null,
            "_model_name": "LayoutModel",
            "justify_items": null,
            "grid_row": null,
            "max_height": null,
            "align_content": null,
            "visibility": null,
            "align_self": null,
            "height": null,
            "min_height": null,
            "padding": null,
            "grid_auto_rows": null,
            "grid_gap": null,
            "max_width": null,
            "order": null,
            "_view_module_version": "1.2.0",
            "grid_template_areas": null,
            "object_position": null,
            "object_fit": null,
            "grid_auto_columns": null,
            "margin": null,
            "display": null,
            "left": null
          }
        },
        "a8944e4d662048b8abf5bfb0c8f8bf2a": {
          "model_module": "@jupyter-widgets/controls",
          "model_name": "DescriptionStyleModel",
          "state": {
            "_view_name": "StyleView",
            "_model_name": "DescriptionStyleModel",
            "description_width": "",
            "_view_module": "@jupyter-widgets/base",
            "_model_module_version": "1.5.0",
            "_view_count": null,
            "_view_module_version": "1.2.0",
            "_model_module": "@jupyter-widgets/controls"
          }
        },
        "a94be984d71346c097b41873c19ba550": {
          "model_module": "@jupyter-widgets/base",
          "model_name": "LayoutModel",
          "state": {
            "_view_name": "LayoutView",
            "grid_template_rows": null,
            "right": null,
            "justify_content": null,
            "_view_module": "@jupyter-widgets/base",
            "overflow": null,
            "_model_module_version": "1.2.0",
            "_view_count": null,
            "flex_flow": null,
            "width": null,
            "min_width": null,
            "border": null,
            "align_items": null,
            "bottom": null,
            "_model_module": "@jupyter-widgets/base",
            "top": null,
            "grid_column": null,
            "overflow_y": null,
            "overflow_x": null,
            "grid_auto_flow": null,
            "grid_area": null,
            "grid_template_columns": null,
            "flex": null,
            "_model_name": "LayoutModel",
            "justify_items": null,
            "grid_row": null,
            "max_height": null,
            "align_content": null,
            "visibility": null,
            "align_self": null,
            "height": null,
            "min_height": null,
            "padding": null,
            "grid_auto_rows": null,
            "grid_gap": null,
            "max_width": null,
            "order": null,
            "_view_module_version": "1.2.0",
            "grid_template_areas": null,
            "object_position": null,
            "object_fit": null,
            "grid_auto_columns": null,
            "margin": null,
            "display": null,
            "left": null
          }
        },
        "0a298a7d157a4e318dcc8e96a301035b": {
          "model_module": "@jupyter-widgets/controls",
          "model_name": "HBoxModel",
          "state": {
            "_view_name": "HBoxView",
            "_dom_classes": [],
            "_model_name": "HBoxModel",
            "_view_module": "@jupyter-widgets/controls",
            "_model_module_version": "1.5.0",
            "_view_count": null,
            "_view_module_version": "1.5.0",
            "box_style": "",
            "layout": "IPY_MODEL_d75bb5f8b5194437bc3d81e5d134e58f",
            "_model_module": "@jupyter-widgets/controls",
            "children": [
              "IPY_MODEL_69fc6f676a5d4f59a031f2d2bd7e15e3",
              "IPY_MODEL_57a7016d1c284506bead1fd7bd0fb86d"
            ]
          }
        },
        "d75bb5f8b5194437bc3d81e5d134e58f": {
          "model_module": "@jupyter-widgets/base",
          "model_name": "LayoutModel",
          "state": {
            "_view_name": "LayoutView",
            "grid_template_rows": null,
            "right": null,
            "justify_content": null,
            "_view_module": "@jupyter-widgets/base",
            "overflow": null,
            "_model_module_version": "1.2.0",
            "_view_count": null,
            "flex_flow": null,
            "width": null,
            "min_width": null,
            "border": null,
            "align_items": null,
            "bottom": null,
            "_model_module": "@jupyter-widgets/base",
            "top": null,
            "grid_column": null,
            "overflow_y": null,
            "overflow_x": null,
            "grid_auto_flow": null,
            "grid_area": null,
            "grid_template_columns": null,
            "flex": null,
            "_model_name": "LayoutModel",
            "justify_items": null,
            "grid_row": null,
            "max_height": null,
            "align_content": null,
            "visibility": null,
            "align_self": null,
            "height": null,
            "min_height": null,
            "padding": null,
            "grid_auto_rows": null,
            "grid_gap": null,
            "max_width": null,
            "order": null,
            "_view_module_version": "1.2.0",
            "grid_template_areas": null,
            "object_position": null,
            "object_fit": null,
            "grid_auto_columns": null,
            "margin": null,
            "display": null,
            "left": null
          }
        },
        "69fc6f676a5d4f59a031f2d2bd7e15e3": {
          "model_module": "@jupyter-widgets/controls",
          "model_name": "FloatProgressModel",
          "state": {
            "_view_name": "ProgressView",
            "style": "IPY_MODEL_05badf52dd0840b88e49e25c8de31537",
            "_dom_classes": [],
            "description": "Downloading: 100%",
            "_model_name": "FloatProgressModel",
            "bar_style": "success",
            "max": 433,
            "_view_module": "@jupyter-widgets/controls",
            "_model_module_version": "1.5.0",
            "value": 433,
            "_view_count": null,
            "_view_module_version": "1.5.0",
            "orientation": "horizontal",
            "min": 0,
            "description_tooltip": null,
            "_model_module": "@jupyter-widgets/controls",
            "layout": "IPY_MODEL_9fe1992bad2d41a095d6bef07292443c"
          }
        },
        "57a7016d1c284506bead1fd7bd0fb86d": {
          "model_module": "@jupyter-widgets/controls",
          "model_name": "HTMLModel",
          "state": {
            "_view_name": "HTMLView",
            "style": "IPY_MODEL_4f2f5f450cb74142b62f7cc95517c441",
            "_dom_classes": [],
            "description": "",
            "_model_name": "HTMLModel",
            "placeholder": "​",
            "_view_module": "@jupyter-widgets/controls",
            "_model_module_version": "1.5.0",
            "value": " 433/433 [00:00&lt;00:00, 1.44kB/s]",
            "_view_count": null,
            "_view_module_version": "1.5.0",
            "description_tooltip": null,
            "_model_module": "@jupyter-widgets/controls",
            "layout": "IPY_MODEL_c58e36dd4f074ddaaf39c06fb6febea4"
          }
        },
        "05badf52dd0840b88e49e25c8de31537": {
          "model_module": "@jupyter-widgets/controls",
          "model_name": "ProgressStyleModel",
          "state": {
            "_view_name": "StyleView",
            "_model_name": "ProgressStyleModel",
            "description_width": "initial",
            "_view_module": "@jupyter-widgets/base",
            "_model_module_version": "1.5.0",
            "_view_count": null,
            "_view_module_version": "1.2.0",
            "bar_color": null,
            "_model_module": "@jupyter-widgets/controls"
          }
        },
        "9fe1992bad2d41a095d6bef07292443c": {
          "model_module": "@jupyter-widgets/base",
          "model_name": "LayoutModel",
          "state": {
            "_view_name": "LayoutView",
            "grid_template_rows": null,
            "right": null,
            "justify_content": null,
            "_view_module": "@jupyter-widgets/base",
            "overflow": null,
            "_model_module_version": "1.2.0",
            "_view_count": null,
            "flex_flow": null,
            "width": null,
            "min_width": null,
            "border": null,
            "align_items": null,
            "bottom": null,
            "_model_module": "@jupyter-widgets/base",
            "top": null,
            "grid_column": null,
            "overflow_y": null,
            "overflow_x": null,
            "grid_auto_flow": null,
            "grid_area": null,
            "grid_template_columns": null,
            "flex": null,
            "_model_name": "LayoutModel",
            "justify_items": null,
            "grid_row": null,
            "max_height": null,
            "align_content": null,
            "visibility": null,
            "align_self": null,
            "height": null,
            "min_height": null,
            "padding": null,
            "grid_auto_rows": null,
            "grid_gap": null,
            "max_width": null,
            "order": null,
            "_view_module_version": "1.2.0",
            "grid_template_areas": null,
            "object_position": null,
            "object_fit": null,
            "grid_auto_columns": null,
            "margin": null,
            "display": null,
            "left": null
          }
        },
        "4f2f5f450cb74142b62f7cc95517c441": {
          "model_module": "@jupyter-widgets/controls",
          "model_name": "DescriptionStyleModel",
          "state": {
            "_view_name": "StyleView",
            "_model_name": "DescriptionStyleModel",
            "description_width": "",
            "_view_module": "@jupyter-widgets/base",
            "_model_module_version": "1.5.0",
            "_view_count": null,
            "_view_module_version": "1.2.0",
            "_model_module": "@jupyter-widgets/controls"
          }
        },
        "c58e36dd4f074ddaaf39c06fb6febea4": {
          "model_module": "@jupyter-widgets/base",
          "model_name": "LayoutModel",
          "state": {
            "_view_name": "LayoutView",
            "grid_template_rows": null,
            "right": null,
            "justify_content": null,
            "_view_module": "@jupyter-widgets/base",
            "overflow": null,
            "_model_module_version": "1.2.0",
            "_view_count": null,
            "flex_flow": null,
            "width": null,
            "min_width": null,
            "border": null,
            "align_items": null,
            "bottom": null,
            "_model_module": "@jupyter-widgets/base",
            "top": null,
            "grid_column": null,
            "overflow_y": null,
            "overflow_x": null,
            "grid_auto_flow": null,
            "grid_area": null,
            "grid_template_columns": null,
            "flex": null,
            "_model_name": "LayoutModel",
            "justify_items": null,
            "grid_row": null,
            "max_height": null,
            "align_content": null,
            "visibility": null,
            "align_self": null,
            "height": null,
            "min_height": null,
            "padding": null,
            "grid_auto_rows": null,
            "grid_gap": null,
            "max_width": null,
            "order": null,
            "_view_module_version": "1.2.0",
            "grid_template_areas": null,
            "object_position": null,
            "object_fit": null,
            "grid_auto_columns": null,
            "margin": null,
            "display": null,
            "left": null
          }
        },
        "0f2c0921557646a5bf20e16b43c77306": {
          "model_module": "@jupyter-widgets/controls",
          "model_name": "HBoxModel",
          "state": {
            "_view_name": "HBoxView",
            "_dom_classes": [],
            "_model_name": "HBoxModel",
            "_view_module": "@jupyter-widgets/controls",
            "_model_module_version": "1.5.0",
            "_view_count": null,
            "_view_module_version": "1.5.0",
            "box_style": "",
            "layout": "IPY_MODEL_6658051b3b62474d809953f6b862e4a6",
            "_model_module": "@jupyter-widgets/controls",
            "children": [
              "IPY_MODEL_04258132bc03427e83b0d3470ea2d41c",
              "IPY_MODEL_fc22183c8bc6431a94980be4be42d441"
            ]
          }
        },
        "6658051b3b62474d809953f6b862e4a6": {
          "model_module": "@jupyter-widgets/base",
          "model_name": "LayoutModel",
          "state": {
            "_view_name": "LayoutView",
            "grid_template_rows": null,
            "right": null,
            "justify_content": null,
            "_view_module": "@jupyter-widgets/base",
            "overflow": null,
            "_model_module_version": "1.2.0",
            "_view_count": null,
            "flex_flow": null,
            "width": null,
            "min_width": null,
            "border": null,
            "align_items": null,
            "bottom": null,
            "_model_module": "@jupyter-widgets/base",
            "top": null,
            "grid_column": null,
            "overflow_y": null,
            "overflow_x": null,
            "grid_auto_flow": null,
            "grid_area": null,
            "grid_template_columns": null,
            "flex": null,
            "_model_name": "LayoutModel",
            "justify_items": null,
            "grid_row": null,
            "max_height": null,
            "align_content": null,
            "visibility": null,
            "align_self": null,
            "height": null,
            "min_height": null,
            "padding": null,
            "grid_auto_rows": null,
            "grid_gap": null,
            "max_width": null,
            "order": null,
            "_view_module_version": "1.2.0",
            "grid_template_areas": null,
            "object_position": null,
            "object_fit": null,
            "grid_auto_columns": null,
            "margin": null,
            "display": null,
            "left": null
          }
        },
        "04258132bc03427e83b0d3470ea2d41c": {
          "model_module": "@jupyter-widgets/controls",
          "model_name": "FloatProgressModel",
          "state": {
            "_view_name": "ProgressView",
            "style": "IPY_MODEL_5d5d9e9ebbfe4fa2822e654fabf40a1b",
            "_dom_classes": [],
            "description": "Downloading: 100%",
            "_model_name": "FloatProgressModel",
            "bar_style": "success",
            "max": 440473133,
            "_view_module": "@jupyter-widgets/controls",
            "_model_module_version": "1.5.0",
            "value": 440473133,
            "_view_count": null,
            "_view_module_version": "1.5.0",
            "orientation": "horizontal",
            "min": 0,
            "description_tooltip": null,
            "_model_module": "@jupyter-widgets/controls",
            "layout": "IPY_MODEL_a5f2c717e4a9430fac9fccf165bc23e1"
          }
        },
        "fc22183c8bc6431a94980be4be42d441": {
          "model_module": "@jupyter-widgets/controls",
          "model_name": "HTMLModel",
          "state": {
            "_view_name": "HTMLView",
            "style": "IPY_MODEL_643994d6f6744e1d8ff5fba58f0dd379",
            "_dom_classes": [],
            "description": "",
            "_model_name": "HTMLModel",
            "placeholder": "​",
            "_view_module": "@jupyter-widgets/controls",
            "_model_module_version": "1.5.0",
            "value": " 440M/440M [00:08&lt;00:00, 53.0MB/s]",
            "_view_count": null,
            "_view_module_version": "1.5.0",
            "description_tooltip": null,
            "_model_module": "@jupyter-widgets/controls",
            "layout": "IPY_MODEL_c802773afacc4eefba3cbe757ecda082"
          }
        },
        "5d5d9e9ebbfe4fa2822e654fabf40a1b": {
          "model_module": "@jupyter-widgets/controls",
          "model_name": "ProgressStyleModel",
          "state": {
            "_view_name": "StyleView",
            "_model_name": "ProgressStyleModel",
            "description_width": "initial",
            "_view_module": "@jupyter-widgets/base",
            "_model_module_version": "1.5.0",
            "_view_count": null,
            "_view_module_version": "1.2.0",
            "bar_color": null,
            "_model_module": "@jupyter-widgets/controls"
          }
        },
        "a5f2c717e4a9430fac9fccf165bc23e1": {
          "model_module": "@jupyter-widgets/base",
          "model_name": "LayoutModel",
          "state": {
            "_view_name": "LayoutView",
            "grid_template_rows": null,
            "right": null,
            "justify_content": null,
            "_view_module": "@jupyter-widgets/base",
            "overflow": null,
            "_model_module_version": "1.2.0",
            "_view_count": null,
            "flex_flow": null,
            "width": null,
            "min_width": null,
            "border": null,
            "align_items": null,
            "bottom": null,
            "_model_module": "@jupyter-widgets/base",
            "top": null,
            "grid_column": null,
            "overflow_y": null,
            "overflow_x": null,
            "grid_auto_flow": null,
            "grid_area": null,
            "grid_template_columns": null,
            "flex": null,
            "_model_name": "LayoutModel",
            "justify_items": null,
            "grid_row": null,
            "max_height": null,
            "align_content": null,
            "visibility": null,
            "align_self": null,
            "height": null,
            "min_height": null,
            "padding": null,
            "grid_auto_rows": null,
            "grid_gap": null,
            "max_width": null,
            "order": null,
            "_view_module_version": "1.2.0",
            "grid_template_areas": null,
            "object_position": null,
            "object_fit": null,
            "grid_auto_columns": null,
            "margin": null,
            "display": null,
            "left": null
          }
        },
        "643994d6f6744e1d8ff5fba58f0dd379": {
          "model_module": "@jupyter-widgets/controls",
          "model_name": "DescriptionStyleModel",
          "state": {
            "_view_name": "StyleView",
            "_model_name": "DescriptionStyleModel",
            "description_width": "",
            "_view_module": "@jupyter-widgets/base",
            "_model_module_version": "1.5.0",
            "_view_count": null,
            "_view_module_version": "1.2.0",
            "_model_module": "@jupyter-widgets/controls"
          }
        },
        "c802773afacc4eefba3cbe757ecda082": {
          "model_module": "@jupyter-widgets/base",
          "model_name": "LayoutModel",
          "state": {
            "_view_name": "LayoutView",
            "grid_template_rows": null,
            "right": null,
            "justify_content": null,
            "_view_module": "@jupyter-widgets/base",
            "overflow": null,
            "_model_module_version": "1.2.0",
            "_view_count": null,
            "flex_flow": null,
            "width": null,
            "min_width": null,
            "border": null,
            "align_items": null,
            "bottom": null,
            "_model_module": "@jupyter-widgets/base",
            "top": null,
            "grid_column": null,
            "overflow_y": null,
            "overflow_x": null,
            "grid_auto_flow": null,
            "grid_area": null,
            "grid_template_columns": null,
            "flex": null,
            "_model_name": "LayoutModel",
            "justify_items": null,
            "grid_row": null,
            "max_height": null,
            "align_content": null,
            "visibility": null,
            "align_self": null,
            "height": null,
            "min_height": null,
            "padding": null,
            "grid_auto_rows": null,
            "grid_gap": null,
            "max_width": null,
            "order": null,
            "_view_module_version": "1.2.0",
            "grid_template_areas": null,
            "object_position": null,
            "object_fit": null,
            "grid_auto_columns": null,
            "margin": null,
            "display": null,
            "left": null
          }
        }
      }
    }
  },
  "cells": [
    {
      "cell_type": "code",
      "metadata": {
        "colab": {
          "base_uri": "https://localhost:8080/"
        },
        "id": "pbALkLyHgmhb",
        "outputId": "1c8f7c15-5b72-48c0-80a2-abbc334cf5e4"
      },
      "source": [
        "!pip install pycm"
      ],
      "execution_count": 1,
      "outputs": [
        {
          "output_type": "stream",
          "text": [
            "Collecting pycm\n",
            "\u001b[?25l  Downloading https://files.pythonhosted.org/packages/76/c4/a05b90819dcf7e50bdddb030238a771bf87b0695e6c47a247f66ab7ed5d0/pycm-3.1-py2.py3-none-any.whl (63kB)\n",
            "\r\u001b[K     |█████▏                          | 10kB 23.0MB/s eta 0:00:01\r\u001b[K     |██████████▎                     | 20kB 20.8MB/s eta 0:00:01\r\u001b[K     |███████████████▍                | 30kB 17.5MB/s eta 0:00:01\r\u001b[K     |████████████████████▌           | 40kB 19.2MB/s eta 0:00:01\r\u001b[K     |█████████████████████████▊      | 51kB 20.5MB/s eta 0:00:01\r\u001b[K     |██████████████████████████████▉ | 61kB 22.9MB/s eta 0:00:01\r\u001b[K     |████████████████████████████████| 71kB 7.1MB/s \n",
            "\u001b[?25hCollecting art>=1.8\n",
            "\u001b[?25l  Downloading https://files.pythonhosted.org/packages/83/37/c28d69ba1005889e8ff9633b8e7eccaaddc03549058a51ef5f51853cf183/art-5.1-py2.py3-none-any.whl (567kB)\n",
            "\u001b[K     |████████████████████████████████| 573kB 34.6MB/s \n",
            "\u001b[?25hRequirement already satisfied: numpy>=1.9.0 in /usr/local/lib/python3.7/dist-packages (from pycm) (1.19.5)\n",
            "Installing collected packages: art, pycm\n",
            "Successfully installed art-5.1 pycm-3.1\n"
          ],
          "name": "stdout"
        }
      ]
    },
    {
      "cell_type": "code",
      "metadata": {
        "colab": {
          "base_uri": "https://localhost:8080/"
        },
        "id": "JAQvB-L4g7kG",
        "outputId": "c86097c4-68bb-4f30-8388-22f6aaa278d0"
      },
      "source": [
        "!pip install transformers"
      ],
      "execution_count": 2,
      "outputs": [
        {
          "output_type": "stream",
          "text": [
            "Collecting transformers\n",
            "\u001b[?25l  Downloading https://files.pythonhosted.org/packages/81/91/61d69d58a1af1bd81d9ca9d62c90a6de3ab80d77f27c5df65d9a2c1f5626/transformers-4.5.0-py3-none-any.whl (2.1MB)\n",
            "\u001b[K     |████████████████████████████████| 2.2MB 19.2MB/s \n",
            "\u001b[?25hCollecting tokenizers<0.11,>=0.10.1\n",
            "\u001b[?25l  Downloading https://files.pythonhosted.org/packages/ae/04/5b870f26a858552025a62f1649c20d29d2672c02ff3c3fb4c688ca46467a/tokenizers-0.10.2-cp37-cp37m-manylinux2010_x86_64.whl (3.3MB)\n",
            "\u001b[K     |████████████████████████████████| 3.3MB 50.9MB/s \n",
            "\u001b[?25hRequirement already satisfied: filelock in /usr/local/lib/python3.7/dist-packages (from transformers) (3.0.12)\n",
            "Requirement already satisfied: requests in /usr/local/lib/python3.7/dist-packages (from transformers) (2.23.0)\n",
            "Collecting sacremoses\n",
            "\u001b[?25l  Downloading https://files.pythonhosted.org/packages/08/cd/342e584ee544d044fb573ae697404ce22ede086c9e87ce5960772084cad0/sacremoses-0.0.44.tar.gz (862kB)\n",
            "\u001b[K     |████████████████████████████████| 870kB 46.3MB/s \n",
            "\u001b[?25hRequirement already satisfied: importlib-metadata; python_version < \"3.8\" in /usr/local/lib/python3.7/dist-packages (from transformers) (3.8.1)\n",
            "Requirement already satisfied: tqdm>=4.27 in /usr/local/lib/python3.7/dist-packages (from transformers) (4.41.1)\n",
            "Requirement already satisfied: packaging in /usr/local/lib/python3.7/dist-packages (from transformers) (20.9)\n",
            "Requirement already satisfied: regex!=2019.12.17 in /usr/local/lib/python3.7/dist-packages (from transformers) (2019.12.20)\n",
            "Requirement already satisfied: numpy>=1.17 in /usr/local/lib/python3.7/dist-packages (from transformers) (1.19.5)\n",
            "Requirement already satisfied: chardet<4,>=3.0.2 in /usr/local/lib/python3.7/dist-packages (from requests->transformers) (3.0.4)\n",
            "Requirement already satisfied: certifi>=2017.4.17 in /usr/local/lib/python3.7/dist-packages (from requests->transformers) (2020.12.5)\n",
            "Requirement already satisfied: urllib3!=1.25.0,!=1.25.1,<1.26,>=1.21.1 in /usr/local/lib/python3.7/dist-packages (from requests->transformers) (1.24.3)\n",
            "Requirement already satisfied: idna<3,>=2.5 in /usr/local/lib/python3.7/dist-packages (from requests->transformers) (2.10)\n",
            "Requirement already satisfied: six in /usr/local/lib/python3.7/dist-packages (from sacremoses->transformers) (1.15.0)\n",
            "Requirement already satisfied: click in /usr/local/lib/python3.7/dist-packages (from sacremoses->transformers) (7.1.2)\n",
            "Requirement already satisfied: joblib in /usr/local/lib/python3.7/dist-packages (from sacremoses->transformers) (1.0.1)\n",
            "Requirement already satisfied: typing-extensions>=3.6.4; python_version < \"3.8\" in /usr/local/lib/python3.7/dist-packages (from importlib-metadata; python_version < \"3.8\"->transformers) (3.7.4.3)\n",
            "Requirement already satisfied: zipp>=0.5 in /usr/local/lib/python3.7/dist-packages (from importlib-metadata; python_version < \"3.8\"->transformers) (3.4.1)\n",
            "Requirement already satisfied: pyparsing>=2.0.2 in /usr/local/lib/python3.7/dist-packages (from packaging->transformers) (2.4.7)\n",
            "Building wheels for collected packages: sacremoses\n",
            "  Building wheel for sacremoses (setup.py) ... \u001b[?25l\u001b[?25hdone\n",
            "  Created wheel for sacremoses: filename=sacremoses-0.0.44-cp37-none-any.whl size=886084 sha256=252787d3752335368a34180ddf3cc8e4237ffc90537a79f7a08e168e00d79777\n",
            "  Stored in directory: /root/.cache/pip/wheels/3e/fb/c0/13ab4d63d537658f448366744654323077c4d90069b6512f3c\n",
            "Successfully built sacremoses\n",
            "Installing collected packages: tokenizers, sacremoses, transformers\n",
            "Successfully installed sacremoses-0.0.44 tokenizers-0.10.2 transformers-4.5.0\n"
          ],
          "name": "stdout"
        }
      ]
    },
    {
      "cell_type": "code",
      "metadata": {
        "colab": {
          "base_uri": "https://localhost:8080/"
        },
        "id": "R4u1H_Bwg86j",
        "outputId": "b09e70fd-4a68-494b-8ecc-1c88df12c2c3"
      },
      "source": [
        "#Importing all the necessary libraries\n",
        "from pycm import *\n",
        "from transformers import BertTokenizer, BertModel\n",
        "import nltk\n",
        "nltk.download('punkt')\n",
        "from nltk.tokenize import sent_tokenize, word_tokenize\n",
        "from collections import Counter\n",
        "import pickle\n",
        "import sys\n",
        "from glob import glob  \n",
        "import math\n",
        "import shutil\n",
        "import os\n",
        "import pandas as pd\n",
        "import numpy as np\n",
        "import matplotlib.pyplot as plt\n",
        "import torch\n",
        "import torchvision \n",
        "import torch.nn as nn\n",
        "import torch.nn.functional as F\n",
        "import torch.optim as optim\n",
        "import torch.utils.data.dataset\n",
        "import torch.utils.data.dataloader\n",
        "import torchvision.transforms as visionTransforms\n",
        "import PIL.Image as Image\n",
        "from torchvision.transforms import ToTensor,ToPILImage"
      ],
      "execution_count": 3,
      "outputs": [
        {
          "output_type": "stream",
          "text": [
            "[nltk_data] Downloading package punkt to /root/nltk_data...\n",
            "[nltk_data]   Unzipping tokenizers/punkt.zip.\n"
          ],
          "name": "stdout"
        }
      ]
    },
    {
      "cell_type": "code",
      "metadata": {
        "id": "SBrA8myyg_4h"
      },
      "source": [
        "df=pd.read_csv(\"path_to_add/MIDAS_Task3/Datasets/Task3_Cleaned_TextModality.csv\",index_col=0)  #Please add path_to_add that is required for your local Machine"
      ],
      "execution_count": null,
      "outputs": []
    },
    {
      "cell_type": "code",
      "metadata": {
        "id": "1i7j2DpMhBgR"
      },
      "source": [
        "#Creating the train(0.8) test(0.1) and validation(0.1) splits\n",
        "dfTrain,dfVal,dfTest=np.split(df.sample(frac=1, random_state=42), [int(.8 * len(df)), int(.9 * len(df))])\n",
        "dfTrain=dfTrain.reset_index(drop=True)\n",
        "dfTest=dfTest.reset_index(drop=True)\n",
        "dfVal=dfVal.reset_index(drop=True)"
      ],
      "execution_count": null,
      "outputs": []
    },
    {
      "cell_type": "code",
      "metadata": {
        "colab": {
          "base_uri": "https://localhost:8080/"
        },
        "id": "sG_KBhgHhF1Y",
        "outputId": "729a3862-a1ba-4d11-c329-8cfefe0a0012"
      },
      "source": [
        "device = torch.device('cuda' if torch.cuda.is_available() else 'cpu')\n",
        "device"
      ],
      "execution_count": null,
      "outputs": [
        {
          "output_type": "execute_result",
          "data": {
            "text/plain": [
              "device(type='cuda')"
            ]
          },
          "metadata": {
            "tags": []
          },
          "execution_count": 6
        }
      ]
    },
    {
      "cell_type": "markdown",
      "metadata": {
        "id": "5K-lKmgL4uQs"
      },
      "source": [
        "As visualized in MIDAS_Task3_Preprocessing_Visualization.ipynb there is quite a bit of imbalance in the dataset. We decided to go with the PyTorch WeightedRandomSampler which instead of picking samples randomly in the dataloader will pick it according to weights. And the weight assigned to each class is inversely proportional to the frequency of the class. So the classes with a higher freq are less likely to get sampled, where as classes with a lower frequency are more likely to get sampled"
      ]
    },
    {
      "cell_type": "code",
      "metadata": {
        "id": "r6L4NCcVhHV8"
      },
      "source": [
        "from torch.utils.data import WeightedRandomSampler\n",
        "freqLabels=torch.tensor(dfTrain['Label'].value_counts().sort_index(),dtype=torch.double)\n",
        "weightClass=freqLabels/freqLabels.sum()\n",
        "weightClass= 1/weightClass\n",
        "weightClass=(weightClass).tolist()\n",
        "sampleWeights=[weightClass[i] for i in dfTrain['Label']]\n",
        "trainSampler=WeightedRandomSampler(sampleWeights,len(dfTrain))"
      ],
      "execution_count": null,
      "outputs": []
    },
    {
      "cell_type": "markdown",
      "metadata": {
        "id": "Y3T6AzZn61FA"
      },
      "source": [
        "We use a combination of PreTrained BERT, CNNs and Transformer Encoder Blocks as mentioned in the MIDAS_Task3_Detailed_Analysis.pdf\n",
        "\n",
        "---\n",
        "\n",
        "\n",
        "We override the PyTorch Dataset class. FlipkartDataset Class gets the product-desc from the dataframe and the respective label. The encoder_plus function from the Transformer's Library is used to encode the given text seq, truncate the seq if it crosses the max_length arg and pad the seq if it is less than the max_length arg. The encode_plus function is also responsible for providing the attention_masks for each seq which helps BERT identify the tokens which are eligible for attention "
      ]
    },
    {
      "cell_type": "code",
      "metadata": {
        "id": "635kWQ64hIvK"
      },
      "source": [
        "from torch.utils.data import Dataset, DataLoader\n",
        "\n",
        "class FlipkartDataset(Dataset):\n",
        "\n",
        "  def __init__(self,dataframe,bertTokenizer,maxLength,device):\n",
        "    self.data=dataframe\n",
        "    self.bertTokenizer=bertTokenizer\n",
        "    self.maxLength=maxLength\n",
        "  \n",
        "  def __len__(self):\n",
        "    return len(self.data)\n",
        "\n",
        "  def __getitem__(self,idx):\n",
        "    self.productDescription=str(self.data.iloc[idx,0])\n",
        "    self.label=self.data.iloc[idx,3]\n",
        "\n",
        "    self.encodedInput=self.bertTokenizer.encode_plus(text=self.productDescription,padding='max_length',truncation=\"longest_first\",max_length=self.maxLength,return_tensors='pt',return_attention_mask=True,return_token_type_ids=True).to(device)\n",
        "    \n",
        "    return self.encodedInput,self.label"
      ],
      "execution_count": null,
      "outputs": []
    },
    {
      "cell_type": "markdown",
      "metadata": {
        "id": "iw8Va9ns9CJT"
      },
      "source": [
        "We experimented with a couple of maxLength values(128,256,512). But with 256 and 512, there was a considerable increase in the training time. One other reason to choose maxLength=128 was ~70% of the data has seq length of 0-50. Hampering the training performance just to accommodate the complete seq for 30% of the data seemed like an expensive trade-off. Hence the maxLength was taken as 128"
      ]
    },
    {
      "cell_type": "code",
      "metadata": {
        "colab": {
          "base_uri": "https://localhost:8080/",
          "height": 165,
          "referenced_widgets": [
            "e911088eb2ba4c2497c46cf40e498305",
            "675d744733c6467b9b1a58e706efde81",
            "6985136bb1cc439aa0577ae0ef843343",
            "17cb57f81cde4e4aae08bde06d11c965",
            "2bef05a6156b443c81eb7dcef78d9083",
            "b616095334704581abe1f8ebfdf2a95e",
            "4e9ae48315874ad5a7ec51ff3e07b8d0",
            "ba3f0f035c6745839132a32051477810",
            "111487831ac24dd4b6ef92b1cf5a40da",
            "6faadcecdc404d7d95bf2e28a0d072c5",
            "d39bb4140c1a42f2a4b7ede62b28f5e3",
            "9b9b01720c0c445190146d1f40dbfc6a",
            "758f320b27e14effa757342e2163e895",
            "36098848521948fa813859108d42622f",
            "54a2a6f3d0b349b98942da9170429238",
            "60b5d2c972e246a297c1b08bfefa2a95",
            "6a40b400e0f046b4acc44fab69dddacf",
            "ce5ac74612fa452499ffa0f7b02e8f89",
            "6e8aa19e3fa04883a0f7c8e0ff1da565",
            "f6e1657e985a4077b6162ca9c5955009",
            "79fc23505578494cb448e20fd47a5dc4",
            "552c711dfb504719a0a4f99dd7a15fa2",
            "a8944e4d662048b8abf5bfb0c8f8bf2a",
            "a94be984d71346c097b41873c19ba550"
          ]
        },
        "id": "OIuE6DG0hNo6",
        "outputId": "9d5fb187-35b7-4475-9de8-104f21894d44"
      },
      "source": [
        "tokenizer = BertTokenizer.from_pretrained('bert-base-uncased')\n",
        "flipkartTrainDataset=FlipkartDataset(dataframe=dfTrain,bertTokenizer=tokenizer,maxLength=128,device=device)\n",
        "flipkartTestDataset=FlipkartDataset(dataframe=dfTest,bertTokenizer=tokenizer,maxLength=128,device=device)\n",
        "flipkartValDataset=FlipkartDataset(dataframe=dfVal,bertTokenizer=tokenizer,maxLength=128,device=device)"
      ],
      "execution_count": null,
      "outputs": [
        {
          "output_type": "display_data",
          "data": {
            "application/vnd.jupyter.widget-view+json": {
              "model_id": "e911088eb2ba4c2497c46cf40e498305",
              "version_minor": 0,
              "version_major": 2
            },
            "text/plain": [
              "HBox(children=(FloatProgress(value=0.0, description='Downloading', max=231508.0, style=ProgressStyle(descripti…"
            ]
          },
          "metadata": {
            "tags": []
          }
        },
        {
          "output_type": "stream",
          "text": [
            "\n"
          ],
          "name": "stdout"
        },
        {
          "output_type": "display_data",
          "data": {
            "application/vnd.jupyter.widget-view+json": {
              "model_id": "111487831ac24dd4b6ef92b1cf5a40da",
              "version_minor": 0,
              "version_major": 2
            },
            "text/plain": [
              "HBox(children=(FloatProgress(value=0.0, description='Downloading', max=28.0, style=ProgressStyle(description_w…"
            ]
          },
          "metadata": {
            "tags": []
          }
        },
        {
          "output_type": "stream",
          "text": [
            "\n"
          ],
          "name": "stdout"
        },
        {
          "output_type": "display_data",
          "data": {
            "application/vnd.jupyter.widget-view+json": {
              "model_id": "6a40b400e0f046b4acc44fab69dddacf",
              "version_minor": 0,
              "version_major": 2
            },
            "text/plain": [
              "HBox(children=(FloatProgress(value=0.0, description='Downloading', max=466062.0, style=ProgressStyle(descripti…"
            ]
          },
          "metadata": {
            "tags": []
          }
        },
        {
          "output_type": "stream",
          "text": [
            "\n"
          ],
          "name": "stdout"
        }
      ]
    },
    {
      "cell_type": "markdown",
      "metadata": {
        "id": "peKHe-y2-z5s"
      },
      "source": [
        "The Weighted Sampler is just used with the Train Set and not the Test and Validation sets because the model should be capable of recognizing any class at test time irrespective of the frequency of the class"
      ]
    },
    {
      "cell_type": "code",
      "metadata": {
        "id": "ZWMy3BTwijIS"
      },
      "source": [
        "trainLoader=torch.utils.data.DataLoader(flipkartTrainDataset,batch_size=8,sampler=trainSampler)\n",
        "testLoader=torch.utils.data.DataLoader(flipkartTestDataset,batch_size=8,shuffle=True)\n",
        "valLoader=torch.utils.data.DataLoader(flipkartValDataset,batch_size=8,shuffle=True)"
      ],
      "execution_count": null,
      "outputs": []
    },
    {
      "cell_type": "markdown",
      "metadata": {
        "id": "js75RQ4a_dFb"
      },
      "source": [
        "![Untitled presentation.png](data:image/png;base64,iVBORw0KGgoAAAANSUhEUgAAA8AAAAIcCAIAAAC2P1AsAABqNElEQVR4XuzdB3QU9dqA8SSEHghNpBPpVapU6YJ0pEpoISShE3rvIFV6kN57L9J7r4pBiogooCIXUUBApZPvZf8y3zAbSmCWnew+v/Oee3an7e7Eo8/unWw8IgAAAAC8Mg/jAgAAAADPR0ADAAAAUUBAAwAAAFFAQAMAAABRQEADAAAAUUBAAwAAAFFAQAMAAABRQEADAAAAUUBAAwAAAFFAQAMAAABRQEADAAAAUUBAAwAAAFFAQAMAAABRQEADAAAAUUBAAwAAAFFAQAMO1CwoyB8AdJo2a2b8NwWA6IaABhxI/mM5b/8RhmEYbeRfC8Z/UwCIbghowIEIaIZhDENAAy6AgAYciIBmGMYwBDTgAghowIEIaIZhDENAAy6AgAYciIBmGMYwBDTgAghowIEIaIZhDENAAy6AgAYciIBmGMYwBDTgAghowIEIaIZhDENAAy6AgAYciIBmGMYwBDTgAghowIEIaIZhDENAAy6AgAYciIBmGMYwBDTgAghowIEIaIZhDENAAy6AgAYciIBmGMYwBDTgAghowIEIaIZhDENAAy6AgAYciIBmGMYwBDTgAghowIEIaIZhDENAAy6AgAYciIBmGMYwBDTgAghowIEIaIZhDENAAy6AgAYciIBmGMYwBDTgAghowIEIaIZhDENAAy6AgAYciIC2zszefWDM8jWRzvjV6+037jt5WvPe/WQGz5pnfzT9zNy5Tw4yZfN2+1UMYz8ENOACCGjAgQho68yIRcs8niN56jTaZnP3HmrQtn2CRIn1G6Ty8+s3ZYb9MdV0Gxsm23wSGGS/imHsh4AGXAABDTgQAW2dUQGdNW8+9bmyfkKHDFfbzN13uOhHFZ5slidvu8+Gj1q2atiCJf5tQ+PGjx8zVqz+02bZH3YeAc1EcQhowAUQ0IADEdDWGRXQpapWt1+lTWC3nrJNkY/Kz917SL+8z6Rpnl5e6TJnsd9lHgHNRHEIaMAFENCAAxHQ1plXCejkqVLHihNn8sZt9qvKVP+kcNmPpmzeYb/qVQJ6yNyF1Zs0LfpRhQ/KlK1Yv8Ggp9dV95o4uWazkFHLVuk37jd1piycsHaDuvvZ7PkVP/UvULJ0mRo1Owwfpd+yTvNWPSdM6jRyTOFy5as1DuA67GgxBDTgAghowIEIaOvMSwN6+IKlssH7hYvar3rxvDSgm3Tq6unp+U7KVBLQ+YqXkEb38vJSKTxg+mzZt0rDxvrt3y9SLFHSZHNsn4I3bN/J08srSfJ3i31cKUOOnLKx3Ji777DaMnacuHmKFosRI4Ys944Za/ImAjoaDAENuAACGnAgAto6owLaL0vWms1C9NMwtKPaoP2wkbJB1YZN7Pd98bw4oCdt2BozVqysefPN3nNQLRm5ZEUMb2+pZHU3TYaMSZIn1y4aCftyowRx5QaN5PbAGXOknguUKDVr1361tnGHzvJYgd16qrsS0HJXIvvJYRcv1z8uY9khoAEXQEADDkRAW2ee9y0cyVKkUBu0HvCZ3K0T0tJ+3xfPiwN6yubtLfoO0K7ZUJMibbr3smVXt/3bhsruPcZ/ob87bP7iebbrRjw9PcetWqff9900abR9JaCTvvvf82eiyxDQgAsgoAEHIqCtMyqgC5crb/gSaC1Pu4+fKBtU9m9ov++L58UBrWbK5h2dPx/bqH2n8nXqZcqZy8vLyy9LVrUq7MtNMby9S1apqu6mzZgpQ/Yc6raEsqwqUbmqfpIkT+4dM6baQF3CYf9wjJWHgAZcAAENOBABbZ156TXQ41Z96enpmbtwEftV82y/yddp5JhpW3fZr3ppQNcObu4dM5ZsE8/HR+q5aqMA3yRJtYCWyV+iZNz48Wfs2CuPIpsFdO6qlqdMl14SOXu+/PajLuqQtYXKlLN/RMbKQ0ADLoCABhyIgLbOvDSgZdJlzhIrduxIv4WjWIWKsnv38RPtV704oDuOGCVr839YYuSSFdrCJMmTp9cFtLr8uv3QEVUbNnnyu4BPn0Dm3O/7+PpqvzJoPwR0dBwCGnABBDTgQAS0deZVAlp9D7S0sqFZe38xNUaMGKn93jN8P7SaFwd0xfoNZO2A6bO1JaOWrfL09EybMZO2ZPbuAwkTJ/6wYuVUfn76IK7SsLGh2mXL97JlL1CilLpLQEfHIaABF0BAAw5EQFtnXiWgpY/fL1zUQ/0lwsHDRi1dOWz+4jrNW0mnxoodu9/Umfa7zHsa0PlLlLT/G4ezdu1X35tRvk499S0cQ+YuTJcpsyxJniq1/iDS2bHixJHlnT8fqy0cu3JtPB+fxO+80zNsstydvHFb0fIfyzb+bUPVBgR0dBwCGnABBDTgQAS0deZVAlpm5s59ErveMWN66KTy8+s3ZYb9xmpUQEdKknfGjr3Z8uaX2xK7CXwTyZGllT+sWNnLyyvsy43aQYbMXSTbaF//rE2fSdOSpUihHdDTy6vip/7aB+EEdHQcAhpwAQQ04EAEtHVm9u4DY5avmbRhq/0q+5m8aXunkaPVp8j6qy8iHWluwzd7aKOVbu8vpsqh2gwaEvblJrk7besuWSttrR1k6pad0tbq658NM2vX/p4TJj3ZfeBnY1eu1a+Su1+s32y/C2PlIaABF0BAAw5EQDOvOAGdu3l6eo5YuNR+FeNiQ0ADLoCABhyIgGZeOvVatv64Xv3YceIWKFnafi3jekNAAy6AgAYciIBmXjpZ8+bz8PDIkCOnurqDcfkhoAEXQEADDkRAMy+duXsPcR2zWw0BDbgAAhpwIAKaYRjDENCACyCgAQcioBmGMQwBDbgAAhpwIAKaYRjDENCACyCgAQcioBmGMQwBDbgAAhpwIAKaYRjDENCACyCgAQcioBmGMQwBDbgAAhpwIAKaYRjDENCACyCgAQcioBmGMQwBDbgAAhpwIAKaYRjDENCACyCgAQcioBmGMQwBDbgAAhpwIAKaYRjDENCACyCgAQcioBmGMQwBDbgAAhpwIAKaYRjDENCACyCgAQcioBmGMQwBDbgAAhpwIAKaYRjDENCACyCgAQcioN1tRs5daL+QYfRDQAMugIAGHCg4ONgfAHSCgoON/6YAEN0Q0ABgjgkTJkgenTx50rgCAOBaCGgAMMGNGzeaNGkiAT116lTjOgCAayGgAcAEc+fOVQHdqlUr4zoAgGshoAHgTd24cSMgIEBd4dqwYcO7d+8atwAAuBACGgBM488XLACAGyCgAcA0BDQAuAMCGgBMQ0ADgDsgoAHANAQ0ALgDAhoATENAA4A7IKABwDQENAC4AwIaAExDQAOAOyCgAcA0BDQAuAMCGgBMQ0ADgDsgoAHANAQ0ALgDAhoATENAA4A7IKABwDQENAC4AwIaAExDQAOAOyCgAcA0BDQAuAMCGgBMQ0ADgDsgoAHANAQ0ALgDAhoATENAA4A7IKABwDQENAC4AwIaAExDQAOAOyCgAcA0BDQAuAMCGgBMQ0ADgDsgoAHANAQ0ALgDAhoATENAA4A7IKABwDQENAC4AwIaAExDQAOAOyCgAcA0BDQAuAMCGgBMQ0ADgDsgoAHANAQ0ALgDAhoATENAA4A7IKABwDQENAC4AwIaAExDQAOAOyCgAcA0BDQAuAMCGgBMQ0ADgDsgoAHANAQ0ALgDAhoATENAA4A7IKABBwoKDvEHAJ1mQcHGf1MAiG4IaMCB5D+W4b/cZhiG0caf/5sCiP4IaMCBCGiGYQxDQAMugIAGHIiAZhjGMAQ04AIIaMCBCGiGYQxDQAMugIAGHIiAZhjGMAQ04AIIaMCBCGiGYQxDQAMugIAGHIiAZhjGMAQ04AIIaMCBCGiGYQxDQAMugIAGHIiAZhjGMAQ04AIIaMCBCGiGYQxDQAMugIAGHIiAZhjGMAQ04AIIaMCBCGiGYQxDQAMugIAGHIiAZhjGMAQ04AIIaMCBCGiGYQxDQAMugIAGHIiAZhjGMAQ04AIIaMCBCGiGYQxDQAMugIAGHIiAZhjGMAQ04AIIaMCBCGiGYQxDQAMugIAGHIiAZhjGMAQ04AIIaMCBCGiGYQxDQAMugIAGHMiFA3rDwdMyO8LP26+SkeWydvs3P9mvMnHW7A4fFjZr0Jgp42Yu3XPyV/sNHDRHzv2hXv7z5tDZ37cf+3Hzke/t9zV95LHsn8DO8Av2W772HPz+yUPIq5bbX52/Lrf3nf7NfjPmFYeABlwAAQ04kKsG9LELf3nYpEnnZ7/2m59vpUydTtYWK/WR/VpTZv6Xu3PmKaCegxIzZqy6jYP3f3fZfmPTZ+qS9fqHtjdm+uL8hYrJSbDf1/QZO2OJ8eFtMmTONm7WMvvtX2M+GzdNDjh54Vq5vWzrYbndvudg+82YVxwCGnABBDTgQK4d0F5eXvK/C9fvMayds3q7ajgHBfTEuStjxY4T3ydBSPvuizbsXbvnuJRiibIfyyNmzpbzLXwUve3rc4PGTNEmabLkPgkS6pdsOvSdf2Crj6vVtt/X9FEBLY+lPXr/zyc1aNY6vo+P/IBmLNtkv0tURx/Q6w+cKli0xLCwWfabMa84BDTgAghowIFcO6DfL1Aohrd301YdDGvrB7ZMnyGTt3dMRwT09m9+SuibKEnSd9bsDjesCu056ElKVq9jv5dDJ917GaWh7Ze/nVEB3anPEMPysDkrZHmp8pXtd4nq6AOaefMhoAEXQEADDuTaAV26QpXCH5ZJnTa9YVXSd95t0bGnIaD3f3e599BxNeo1KvVRpZr+AYPHTv3q/PVw2/UenfoObdmx195Tl7SNR0yaK0vW7TtheFyZkNBu8tCfjZtuv0pGmt7T01Paes/JX+UIE+as0K+Vh5CFX8xfre7u/+5/XQeMqFzz0wpVa4X2GKj/6HrKoi/b9xy8M/xC3cbB1eo0nLlii/1jaRNpQA8YNblL/+Hq9riZS7sPGnX4h6vySstXqVmrQdNZK7fK8i1Hzwa26li2YrWGQW3W7T+p333b1+dadeotG1epVb/3sPFHf7pmOL42zwtoObGxYsVO65dBW7L+wKngdl3LVa5RpZa//Czk+ei3P/Ljn/1HflG9bkN5PoGtO+nfn+gDekf4eTmHs1dtk9tfn78ht+et2blq59eNgtuWq1TdP7DV0s0H9YeVn3vnfsPkXY0cWc7Dl3u/lV02HfpOv427DQENuAACGnAglw/ofiMmyo0F63Zrq6YuXidLVu86pg9oSbfkKVLFjhO3RNmPK31SL006P7W7WiutKXc/+bSxujtn9fYY3t7FSpeXBLR/6Gw580gXSu3Zr5Lp+dkYOVSHXp/Jbb+MmfX5KNN3eJgWglLnqdKkkydZslxFacp48eMnS55CQlBt2bRVh4S+ifIXKuZhow74vIk0oPXXQMtLS5E6bc48BeQkFCxaIr6Pj7xAOXWJkiTNnD1X7vwfSPQnSfrO7hO/qO1nLt8c3yeBjAR08TIV5Elmzfm+ttYwzwtoebfg5eWVPXc+dXfM9MVy/uWY0scFinwoq+T8aL/mKG8VMmfLKcfJW7CInA3fRInlQYdOmKnWPu8a6CPn/pDbZT6uGit2nAyZs8m+speM9n5j+7Ef/TJm8YoRo0iJsvIPg6ySFyu7qPcPbjsENOACCGjAgVw+oHd/+7NUUUDL9tqqmv4B0rhyQx/QFWvUlWTUPpuU3aWP5QhawJWrVF0iUhJt3+nfUqdNLy37vO/3kMNK6tkvVzNvzU45bLU6DcOfXtEhS7S1ErUpUqU5dvFmuO2zap8ECZdsOqBWbTx0WlZJp6pql4D2sF2jsuv4RXkm+k/H7edVAlqdLvWhuzyovFhZIrmvNujUd6jcHTh6SrjtKy/kaHLMbV+fU2vlJUj7VqlV3/AQaiIN6P3fXZZzLstbdeodbgvZuPHiZcySXTur8j4nZsxYhYqXVnclmiWpx81cqu7uOflrjvfzyxuVL/d+G/6ygJbXMvyLOWpHSWe5Kz9NdVfeLMnPa+qS9eru3NU7JLUJaAIacAEENOBALh/Qcrt4mQraVRwSiL6JEqu60gf0F/NWDZ84W3+Ejr0/kyMs3rRf3ZUQf+fdlHIcyT4pOck7/cbaSFzKXtKm9qvUrNkd7mH7TFRub/3qB6n2+k1bqFUbDp6Wtgtu11VuL9tySDZr1qazft8u/Yc/Ce61u8KfBvQrfovFKwb0oo37tLWyvbxe7SN29XzadO0X/qRWp8ttw2/p1ajXSF5LpN8xogJaTnuqNOm0kZMvC3Pn/+DQ2d/Dn7608bOX63eUtzqycO2e47tP/CLnXBpav1b9JmhQ2y7hLwtoeZuh31EePXuuvOG2iJdGl4bWr5UfhwcBTUAD0R8BDTiQOwT0wNFTPJ5exTFhzgqJ1I2HToc/G9DhtktyF67fIxtLk0ngJvRN5PHsN3hMWrBGfS6rGjfSeXJdb+w4qs8inUUb9soRqtT677SXKPtx4qTJvj5/Q2637tJXjq8+UlXPWRq3et2G2hT+sIws7DN8QvjTgF5/4JT9Q9jPKwa0/ruT06Tzk7rV7qrub925j9xuHNLOw/bLf/rnlj13Plk4d/UOw6OEPw3oNOnfK1i0hDayi1SvduW09LdsY/h+ksFjp8rCUVMWzFy+WW507jdMv1Z+xOr6lvCXBbT6vF+bLDlyZ8qaI9z2ebOs7TpghH6tvDHwIKAJaCD6I6ABB3KHgN576lKsWLHVVRxVatXPW7CI2kYf0JLXaf0yeNi++e69TFkr1/xUGtrj2YDedOi7ePHjy8Ieg0fbP6I2mbPnihM33vN+qa7/yC+0vJOROpS76lcJ/TJm1j667j7wc1meNef7+uhUo65GUAH9vMtIDPOKAa1/zhLQeQoU1u7qA7pWg6YetmuR7Z+b/lpzbSK9hMMwFarWkm3UBSTajJq60OPJr2NOmzh3pdzoOzzMsFd8H59CxUqFvyyga/oH6PeSs6oCWt4RydreQ8fp146ZvtiDgCaggeiPgAYcyB0CWqbUR5VSp00vOSXJ1X3QKLVQC2jpthSp0iRKkvSLeau0X/5r1am3hy6gj128KYEYN1683Pk/kD5eveuY/YOqadO1n+w4eOxU+1Uy+T4o6unpqe0uzZo4aTLpdUlP2WvAqMlq+ZDxMzzsLpPQjxMDOrB1J7m9fNsRwwGfN68S0PWahMg2mw6f0S+Un5QslHpWJ0c9ujb7v/ufnEkp7/DXDegV2496PL0IxPCgBLTx3xQAohsCGnAgNwlo1aMh7bvH8PbW/ny3FtCSs7K2VoOm+iOo6yXUBccyHXo9uSS628CR6w+cihc/fvbc+Qwfl2qzM/xCQt9EkuP2kS1VJwcpX6WmfmHDoDY+CRJKQcphD5y5ohZuOHjay8urbMVq+i2lQTNkzqa/BtopAT1+9nK53bxDD/3R5OxJmEb6fF4loIdPnK1Or37hB8VKys9o1/GL8q5GTpGcc/3XnqgLPNQ38b1eQMubolRp0qXPkEl74XL89wsU8iCgCWgg+iOgAQdyk4De/93/YseJGzNmrCIlymrbaAG97/RvsWLFTp02vfoEdP93lwNatvewUd/PsGTTAdkgf+HiKuDUh5SGTy7188W8VbK9NF+brv1WbD8qNTxtyQZ1lcJ7mbLu/vZn/cbq9/PkyRgu1a1c81MP2/XWB79/8mt2IyfPk5fglzGzCncnBrSc22w588jJ7D/yC9lFnk/H3p95eno+70+ivEpAy3HkzMT38Rk1daF0rbyRaNw8VPZqFNxWbSAPLXfrNApS3zcSNmeF+q1Edd326wV0+NMrnuWfikkL1kxfuvGjyp+oy9zV10i77RDQgAsgoAEHcpOADrd9D52H7hqJ8Gevge49dFwMb2/ZIEXqtJJQufIWUL/G17Zbf4mwjFmyx40XT/uzKZLREtNeMWK84HPKBet258xTwENHirN2g8BIv29O/Qae4Y9aSzerL3rTyNNYu+e4WuvEgA63/YGVfB8U1T+3wh+Wed6fKH+VgA63feie4/382gHlp9OgWWvtY375gUpSq5+RIqdXOxuvHdAyvYeNlxZXx5RzosJd+38e3HMIaMAFENCAA7lqQIfbgkzfl/tO/yZL9I248dBp7XKOcNvvCA4LmzVozBR13bNUsmy/M/yCRJjc0G8pc+DMFVlo+CzZflbu+GrI+BlyzHEzl0aazmp2n/hFjhbpn2WRaldHkFjXbyC1Kruob4x+6UjvGi4vDrd99bL2LdfyQuRohl1kA+3u1+dvyAb6r+kIt30wL09MRppVv9wwh87+LvtG+g139iPlKgccNXWh/tG1kWc1fOLswWOnal+PrUbebMhDyE8q3HZFu/ZU1Q/R8GPa+tUPMvol6tWpr7VWl7Brae6eQ0ADLoCABhzIhQOaYV46qdOmr173/6+ckeDO90FRnwQJj134y35j9xkCGnABBDTgQAQ0486jrl2pH9hy/Ozln0+ZX+qjStrlH+48BDTgAghowIEIaMad5/APVxs0a50goa+6Bjpl6nS9h42338zdhoAGXAABDTgQAc0w4barq196Rbv7DAENuAACGnAgApphGMMQ0IALIKABByKgGYYxDAENuAACGnAgApphGMMQ0IALIKABByKgGYYxDAENuAACGnAgApphGMMQ0IALIKABByKgGYYxDAENuAACGnAgApphGMMQ0IALIKABByKgGYYxDAENuAACGnAgApphGMMQ0IALIKABByKgGYYxDAENuAACGnAgApphGMMQ0IALIKABByKgGYYxDAENuAACGnAgApphGMMQ0IALIKABByKg3W2OXfjLfiHD6IeABlwAAQ04EAHtbjNt4Sr7hQyjHwIacAEENOBABLRbzcHvrwQ0Dfzq/HX7VQyjDQENuAACGnCg4JAQfwDQCQ4OMf6bAkB0Q0ADgDlCQ0MbN268bds24woAgGshoAHABGfOnAkODvb39//888+N6wAAroWABgATTJw4sWnTphLQzZs3N64DALgWAhoA3tTt27cbN26srnBt2LDh/fv3jVsAAFwIAQ0ApvHnCxYAwA0Q0ABgGgIaANwBAQ0ApiGgAcAdENAAYBoCGgDcAQENAKYhoAHAHRDQAGAaAhoA3AEBDQCmIaABwB0Q0ABgGgIaANwBAQ0ApiGgAcAdENAAYBoCGgDcAQENAKYhoAHAHRDQAGAaAhoA3AEBDQCmIaABwB0Q0ABgGgIaANwBAQ0ApiGgAcAdENAAYBoCGgDcAQENAKYhoAHAHRDQAGAaAhoA3AEBDQCmIaABwB0Q0ABgGgIaANwBAQ0AUXP79u2LFy9+/fXXW7ZsWbRoUVhYWL9+/Vq2bDl48GAJ6DVr1hh3AAC4FgIaACLx4MGDK1eunD59es+ePStXrpw6deqwYcM6d+7ctGnT4ODgHj16jBgxYsyYMbKwa9euAQEBPXv2XLJkiQT03bt3jccCALgWAhqAW7tx48aPP/54+PDhDRs2zJs3b+zYsX369GnVqlWjRo3at28/ePDgyZMnL1u2bMeOHd9+++2vv/565syZdevWDR8+PDAwsFevXgsWLAgPD79z54462qBBgySv27RpM378+DVr1hw8eFAOfuvWrWcfEwAQvRHQAFyfBO6lS5ekgKWDpYaliaWMpY+lkqWVpZilm6WepaGlpCV5par1u//8888bN24cNWpUUFBQt27d5syZc/To0X/++Ue/jfL48WPZ/YsvvmjWrFnHjh0/++yz3r17h4SEyN0ePXqMGTNm/vz5W7Zskeb+7bffHjx4YNwfABAdENAAXMcff/xx5syZ/fv3r127dtasWSNHjpRsDQ4Obtq0aefOnYcNGzZ16tSVK1fu2bPn9OnTV65ceUHCSuBu3bp13Lhxkr+dOnWaOXPmoUOHbt68adzuOe7duyeh3KFDh/79+3/99dd///33hQsXJLvXrVsnhxo+fLgcU/K9TZs2AwcOlKBftWrVvn37zp49a2h3AIAFEdAAohn73+EbMGBAu3bt/P395X/ltiyR5bJWtpEtZXvjIZ5Dknrnzp0TJ05s1apVaGio1LZE7bVr14zbvbJHjx4dPny4T58+kss7duy4f/++YYM///zzu+++27Vr17Jly+Rx+/bt27Jly4CAgK5du0r9z507d+PGjfIqfvnlFy6tBgDrIKABWNFLf4dP+nLWrFlr167dv3//mTNn/vjjD+MhXo0krDzE5MmTJb7btGkzadKk3bt3X7161bjdm5Fn+Pnnn0scr169+qVBL60sxSzdLPUsDS2vVP2eouwuhS2dLbUtzS3lLU/euDMAwPEIaADOFKXf4bt06ZL263pvQh70wIED06dP79ChQ4sWLSZMmLB9+/bLly8btzObPH95JyBvACSLX6PR5WmfPXt23759q1atktMycOBAKX45UZ06dRo+fPjMmTPXrVt39OjRCxcuRHp9NgDALAQ0AId7w9/hM8Xt27ePHDkya9asLl26BAUFjRkzZsuWLb/++qtxO8eTV7d48WIJ9/Hjx58/f964OooePHjw22+/hYeHy8uZP3++vK4ePXo0a9YsJCSkd+/e48aNW7RokZz2EydOXLly5fHjx8b9AQBRR0ADMI2Jv8Nnin///ffYsWOSlfI0AgMD5fmsX7/+woULxu2cQd5UbNy4sV27dvJeQvLXuPqN3bp1S96KHDx4cM2aNdOnTx8yZEhoaKi/v7/8r9yWJXzLHgC8NgIaQNQ47nf4THH37t3jx4/LE+jTp49Es1S71Py5c+cePXpk3NQCHj58eODAAen7bt26yfsKR7+jePz4sbxvOXHixI4dO+QUjRs3jm/ZA4DXQEADiMRb+x0+U9y/f//UqVPLli3r37+/RPPgwYPlOcuzikYJePLkSTnDrVu3Xrdu3du/glkekW/ZA4BXR0ADbs0pv8NnColjSWQJZXmSEs2SzvI8JaPtvyouGvn5558nTZoUEhIyf/78N/n6PLPwLXsAECkCGnB9VvgdPlM8evTo3Llza9euHTZsmESzPPNFixYdP37cxepN0lkCWjJaYlqS2rja2fiWPQAgoAHXYbXf4TPLhQsX1q9fLy9HollekcTlsWPH/v33X+N2ruWff/5Zt25d69at5Qd38uRJ42rr4Vv2ALgPAhqIZiz+O3xm+fXXX+UljBkzJigoqEuXLvJ+4MiRI9H0tbwJeZMjb3i6desm7xwOHDjw8OFD4xbWxrfsAXBJBDRgRdHrd/jMcvny5e3bt0+YMKFFixYdOnSYPn26JKNlryd5y6RBBw8eLO+RNm7caJ0r0V8b37IHIFojoAFnir6/w2eWq1ev7t69e9KkSW3atJE6lNcr7xm4dvZ5zp8/P378eHmDsXjxYtd7a8G37AGILghowOFc5nf4zHLt2rV9+/ZNnTo1NDRUzsDEiRN37twp5WTcDs8h7zrmzp0bHBws51D+0TKudjl8yx4AqyGgAdO46u/wmeLmzZuHDh2S+pH0CQkJGTdu3NatW3/77Tfjdnhlt2/fXr16dcuWLT///HP5B8+42g3wLXsAnIWABqLGTX6HzxT//PPP0aNH58yZ061bt6CgoFGjRknQWPB72aK1+/fv79ixQ96W9OnT5/Dhw9b8g4tvE9+yB+AtIKCBSLjn7/CZ4s6dO+Hh4QsWLOjVq1dgYODw4cPXrVv3008/8QULDiWnV5Kxf//+HTp0kDdv9+7dM27h9viWPQAmIqDh1vgdPlPcvXv3xIkTS5Ys6du3r0TzkCFDVq9eLbES7b5zzQWcO3duzJgxLVq0WL58+c2bN42r8azo/i17K1asaNCgQaiNvBMYbDNixIjJNnPmzFlhs2nTpj028kpP21y+fPmqjQVfFBAtENCwtMCgIH/zBAQE8Dt8URIYFGw8iW8gKDjY+AB4Lc1M/rmEGB/AzcgZMJ6UNxD8ds+nFLBKYWliFcdSySqXpZtVQEtJq6SWtlaRLbWtsluesGxgPCiAlyGgYWnyL/fyA8e84lTsM7xS94FVO/WuEdq1Zuv2tYNb1gsMqt+oUf2GDesFBNYJbilHc9vf4Xs9csZKDDlo1sjRjA+A1yJnsv2SH80afi5yBmYfuGLWRK/zGb2eLWAdBDQs7dUDuka7zp82aVqnWUitFm0/adupWofuVbr2q9Trs4/7jdS24T8VUUVAWxMBbS4CGkBUEdCwtFcP6FcZ/lMRVQS0NRHQ5iKgAUQVAQ1LI6Cdi4C2JgLaXAQ0gKgioGFpBLRzEdDWRECbi4AGEFUENCyNgHYuAtqaCGhzEdAAooqAhqUR0M5FQFsTAW0uAhpAVBHQsDQC2rkIaGsioM1FQAOIKgIalkZAOxcBbU0EtLkIaABRRUDD0gho5yKgrYmANhcBDSCqCGhYGgHtXAS0NRHQ5iKgAUQVAQ1LI6Cdi4C2JgLaXAQ0gKgioGFpBLRzEdDWRECbi4AGEFUENCyNgHYuAtqaCGhzEdAAooqAhqX5m834AHgh4+l7Y8YHwGsxntY3ZnwAN2M8HW/M+AAWFr2eLWAdBDQszZ9PoJ3Kn0+gLcmfT6BN5c8n0ACiiICGpRHQzkVAWxMBbS4CGkBUEdCwNALauQhoayKgzUVAA4gqAhqWRkA7FwFtTQS0uQjoF/vnn38OHTq0ffv248ePG9c5zC+//PLnn38al0YfFy5cuHXrlnHp85cj2iGgYWkEtHMR0NZEQJuLgH4eSeeOHTsmSJDA46ls2bIdPnzYuJ0DvPvuuyEhIcal0Yenp+fkyZPlxoMHD8aNG3fy5EnDckR3BDQsjYB2LgLamghocxHQkbp//36pUqXix48/derUmzdvPnz4cP/+/QULFvTx8Tl79qxxa7NF94AeMGDAV199JTe++eYbeeOhvesgoF0GAQ1LI6Cdi4C2JgLaXAR0pMLCwqT8NmzYoF949erVhAkTGva6cuXKzz//rF+iuXPnzoULF/755x/jipd5aUDLM4nq5RBqF+NSm8uXL9+9e1e7e+nSpd9//123/vU9L6BNfAg4BQENSyOgnYuAtiYC2lwEdKTy2RiXRkQcOnRI4k/dPnDgQO7cudXVHWnSpFm6dKlaPn/+/JQpU0opSm3Lqrhx4w4ZMkSWf//991KQK1eu1I62atUqLy8v+/5+QUDv3LkzT5486kFjxIhRq1at27dvy/Js2bJ9+umn2mZ///23j4/P1KlT5faZM2eKFy+udkmVKtXy5cvVNvKEkyZN2r9/f1meJEkS2WX8+PG+vr5qS3n53377rXZARd5XxI4dW3tLULt27VixYml3P/nkE3k+EU9D+eDBg+pQIjAwUC1v27at9vw/+uija9euPT02ohMCGpZGQDsXAW1NBLS5CGh79+/f9/b2ltQzrtD56aefpFClIC9fvnzr1q1u3bpJHW7atCnCFtCyuwTo/v37f/zxx2bNmsmqU6dOySoJ2Zo1a2oHkdsSkdpdzfMC+s8//0yQIEGTJk3UZ8YLFy6U/h4zZoysGj58uJS69pn0vHnz5O5ff/1148aN1KlTly1b9rvvvvv3339Hjhwpu+zatSvCFtAxY8bMlSvX7NmzZ82aJc9Qnue0adMkiM+fP1+kSJH8+fPrHvyJixcvyjbqg/mHDx8mTpxYOnjLli1yV56PnBB53IinAS1LZEvZYPXq1X/88YdaLv09Y8YMec+wdu1aud2zZ89nHwHRAwENSyOgnYuAtiYC2lwEtD2JTsm+AQMGGFfodO7cOWnSpJKk2pJixYqVLl06whbQsvuhQ4fU8kuXLsndxYsXy21pR6nG69evy+1r167JbYlg7Qia5wW0dGevXr1UjCqZM2du3bq13Pjtt99ixIghKayWly9fvn79+nJjwoQJ8ij6D3rlSVapUiXCFtDyxFT0i82bN8vdbdu2qbvff//9zp07tb00efPmDQ0NlRuHDx+WYpZX3b179wjb7vK2QT2QdqmG/SUcLVq00A5VyUa7i2iEgIalEdDORUBbEwFtLgLa3qNHj2LGjNmxY0fjCp2yZctWrlxZv6RPnz4JEyaMeBrQf/31l1oukS13586dK7dv3bqlfjFRbk+aNMnX11ef4JrnBXSE7bnt2bNn4sSJ7du3L1WqVKxYsbQklRhVn2dLsktMS9HK7SZNmiRIkKCpTvbs2VOlShXxNKClvNXu8kxy5colS3LmzNmlS5fdu3f/95DP6tevX9asWeXG4MGD5RHlVRcqVEjutm3bVs6J2uYFAT1+/Pj/DmQ7//IStLuIRghoWBoB7VwEtDUR0OYioCOVL18+9XGywYIFC1QCFi9eXF3vq5GgjBMnTsTTgP7777/Vcn1Ai4CAgJIlS8qNokWL6j+O1XteQEuUFyxYMHbs2MWKFZNgnTNnTsaMGbWDLFu2TLpZgnjEiBGpU6d++PChLKxTp06aNGkGPGvo0KERTwNafRyuyFOdNWtW7dq11dXb5cqVe/DggbZWOXbsmKy6cOGCtO+oUaN27drl7e0tT+y9996bMGGC2uYFAa3/Fg4COvoioGFpBLRzEdDWRECbi4CO1KBBg6QL1YXLmjt37qRPn17SWW43aNAgZ86c+rUNGzbMkiVLxMsCevfu3V5eXnv37pWa1C7zMHheQH/22WexYsU6d+6ctkS2bN68ubp99+7dJEmShIWFFSpUqEePHmphp06d3nnnHRXTyvHjx6VrI+wCWspbu35Dth83bpz+ig7N48eP06ZNO3bsWHkmchx50Hjx4kmRy8vRfhuSgHZ5BDQsjYB2LgLamghocxHQkZKsTJUqVaZMmY4dO6YtqVmzprTv9u3b5e6aNWskDbVv3ggPD48bN26fPn0iXhbQEqAZM2aU1M6ePbtaYu95Ad2xY0ep1Zs3b6q7s2fP9nj6BRdKmzZtcufOLU/yzJkzaok0umTr6NGj1d1Lly4lT55cWj/CLqDnzJkjO2rfvLFx40ZZe+TIEXVXr3Xr1ilTpkyWLJm8FrlboUKFBAkS6H/jUAvlkydPykG2bt1qWK4Q0NEXAQ1LI6Cdi4C2JgLaXAT085w4cSJDhgzSf/K/RYoUkT6WeNV+S0+0a9dOirNixYp16tSJEydO5cqV1bcpvzigI2wXe8iSkSNHaksMJKA97Ozevfv48ePx48fPmjVr06ZNy5UrJwleqFChMmXKaDt+/fXXsmXhwoV1B4sYMmSIlGuJEiXq1q2bOHHibNmyXb58OcIuoO/du1e8eHF5jTVs5BUFBAToj6PZsmWL7ChHU3flhcjdQYMGaRtooXzr1q2ECRP6+PgEBQXplysEdPRFQMPS/M1mfAC8kPH0vTHjA+C1GE/rGzM+gJsxno43ZnwAC3vps5WmXLdunfTugAEDpkyZYv+3P44ePTp06FApVP0XVvz0009z5szRrh5++PCh3P3xxx+1Da5evSpL/vzzT22JwZIlS+bYuXLliqw6f/78qFGj5PksX778/v37ktTqm+MUeVApYPu/9nf69GnJXNlr0aJF2t9MuXDhghxWXqO2mey+Zs0a2UxqeM+ePdpyA9lFdtQ+q/7tt9/krvbLiBG2D7O///57dVtuTJo0SU6jYbmQh9C+AwTRCwENS/PnE2in8ucTaEvy5xNoU/nzCbQLWbp0qQT0jRs3jCsAUxHQsDQC2rkIaGsioM1FQLuG9evXV69ePX78+N26dTOuA8xGQMPSCGjnIqCtiYA2FwHtGo4fP16zZs3Bgwfbf/EcYDoCGpZGQDsXAW1NBLS5CGgAUUVAw9IIaOcioK2JgDYXAQ0gqghoWBoB7VwEtDUR0OYioAFEFQENSyOgnYuAtiYC2lwEtCt58ODBhQsXuAwajkZAw9IIaOcioK2JgDYXAR2pkJAQPz+/+vXrG5bfv38/d+7cskr789TP07Vr108++UTdvn79+vr169XtPn36VKpU6f+3i8wPP/wgD3H06FHjihdauXKlj4+Ph+1vE1avXl19Hce+ffvkUOqPbD9+/Hj+/PnG3cz26NEjecTFixcbV9i+E1pWff311+ru2rVr//rrL7lx+fJlWa7/Lm1YHAENSyOgnYuAtiYC2lwEdKRq1Kjh5eXl7e39xx9/6JerP3Ct/i6gfrk9qVjtLwKWKFFC+4PbY8aMUX+W7wVOnTolD7F3717jihfKlSuXPOL+/fvPnz/fsmVL9ZcOt23bJodSf8Zl8uTJsWPHNu5mNgno0qVLa28Y9E6cOCFPRp6h3N60aZPcVn8T8ZdffpHbGzZsMO4AqyKgYWkEtHMR0NZEQJuLgI6UBHS+fPkSJEgwbdo0/fImTZrkz58/qgEtN7SAfhWvF9ApUqTo16+fYaE+oMePH/8WAvoF9AG9du1aAjr6IqBhaQS0cxHQ1kRAm4uAjpQEdNGiRRs1avTRRx9pC+/evevr6zty5EgtoGfMmFGvXj1tg++//7506dJnz56N0AV0UFBQwoQJpW5l1f3797VPoO/duydL1q1bV7ly5TRp0uTJk0e7vsIQ0EePHq1YsWLq1KmzZMnSqVOnf/7557/He+rSpUtyqFixYvn5+cmNP/74w/4T6EWLFmXKlMnLy0s2UH9A+8aNG23atMmcObMcuVq1aidPnlRHk11q1qy5cOFCOVrx4sW1P/0t5CAff/zxw4cP1d3+/ftXqFBBu9u3b98+ffoYPoHet29fyZIl5QWWKFFizpw5KqB37tyZK1cuuV2sWLHZs2ergJ4yZUrdunXlyWTLlm348OFqdyHvYQoUKCDLc+bMKQ/BFd5WQEDD0gho5yKgrYmANhcBHSkV0F9++aW3t/fVq1fVwtWrV6dLl+7AgQNaQPfu3Ttt2rTaXlK6skpd46sF9Nq1azNkyKDyUeKyVatW0sqy/N9//5WNfXx8JENPnz49dOhQqdsFCxZEPBvQX331VZw4cWrXrr1x48bly5dLBJcrV+7x48fag4qbN2/KwSXuJXzlhhT2Bx98oDJdC2jp44YNG8aMGVM2OHfunGRx/vz55YlJKMs28jZAdv/hhx9kF1kSL148Sd7u3bu3b99e/0DHjh2Tox06dEjdTZkypdxV12pLRidNmnTSpElyQxZOnz5dbR87dmx5H7Jjx46JEyfKQ6iAvnDhQmhoqNweN25ceHi4Cui4ceP26NFD4l7qX+7Ki5UjyBsM+RHIZrt27ZKSlm0GDBige0ZwDgIalkZAOxcBbU0EtLkI6EipgL53716iRImmTJmiFn766addu3Y9ePBglAI64tlLOAwBHRAQ8N/OERHNmjXLkiVLxLMBXbFixWLFimnFfPz4cVm1efNmbS/Nu+++O3DgQHXbPqAjnr2EQzI6RowY58+fV3el7HPkyNG0adMIW0DLLkuXLlWrDOT1qoQ9ceKEHC1r1qwjRoyIsH3S7OnpeenSJX1AS5fLi9WevHSwCuiIyC7h6NChg/Yo7733Xtu2bSNsn2rL65IfhFq+ePFiFdZwLgIalkZAOxcBbU0EtLkI6EipgJYb0pRly5aVG3///Xf8+PGPHTtmbkCvXr366d4R0qyy5Pfff9cHdNy4catVqzZHJ06cOPK42l6aKAW0vK7kyZPrD1uqVKlMmTJFPA1oSeH/jvusNm3aSNDLjdGjR5cuXVrufvzxx3K3e/fuhQoVirB9FK0FdJo0aTp37qzt+9NPP70goFesWKFtWbx48SZNmkTYulxC38/PLzQ0dNOmTfrrSeBEBDQsjYB2LgLamghocxHQkdICWqJNAk6idvHixVmzZpUl5gb0nj17nu793xdTnDt3TgvoO3fuyI3MmTOXfta4ceO0vTRRCmh5gb6+vobDVq9ePeJpQN+6deu/4z5ry5YtckKuX79esWLFQYMGrVy5Ut5X3L9/P1euXEOHDo14NqATJEigPaUI21XXLwho/S8RSkA3btxY3ZaGbtCgQeLEiWUb+d958+Zpm8FZCGhYmr/ZjA+AFzKevjdmfAC8FuNpfWPGB3AzxtPxxowPYGEveLZaQD948CBZsmSTJ0+WJf379494NqD79OmTMmVKba+tW7dGNaCXLVv2dO8IiU5vb++///5b/wm0NKjh82bDN+tpohTQISEhGTNmfLrrE3/++ae61uLFAX3v3r2ECRPKNtLNBw4ckJKWnpaolV1Onz4d8WxAZ8mSpUWLFtq+Z8+ejWpAy1NSr1duHDp0SCo/bty4cuq0LeEUBDQszZ9PoJ3Kn0+gLcmfT6BN5c8n0JHRAjrC1ppFihSJEyfOmTNnIp4N6FGjRsWMGVP7LcPWrVtHGtDFihXTPk81BHS1atXUculO2Uz9jRV9QNetWzd9+vQ3b95Um+3Zs0dWzZkzR93Ve2lAh4WFSaCrSl65cqWH7lrqf/75R3paPfqLAzrCdi14rly5pOzVF2LIY6VNm1ZdvR3xbEB36dIlefLk165dU6vknYAW0OvWrZPbks4RLwxoeaycOXNqX/Qh7wGk11/w3PB2ENCwNALauQhoayKgzUVAR0of0Nu3b5e8y5cvn7qrD+gffvhBwjpHjhz9+vWrWrVqgQIFIg3oevXqxY8fv0qVKjdu3DAEtGRo5cqVP/vssxIlSiRLluy7776LeDagz58/nzJlSslTiWPp0USJEpUqVer+/fvqyHovDeg1a9bI7dKlS69YsUIyumbNmvHixWvbtq08et68eeXIJ06ciHiFgFYbyMtRd3v06CF31R8+jHg2oK9fv57FZtCgQU2bNk2TJo0W0OHh4XK7YMGCU6ZMeUFAHz16VM6wvGR5kp07d/b19ZUTqG0GZyGgYWkEtHMR0NZEQJuLgI7U4sWLZ8yYoW5LEUr/bdmyRd399ddfBwwYcPHiRXX32LFjLVq0kJocMmSI9LGsUpclSK2qiFS7hIaGSkFeuXJl/fr1kydPjnga0JMmTZLqlfiWOFZ/cFtcvXpVjqO/K4FerVq1Tz75ZPz48dpXUhh8/vnnKusjbN+dvHbt2gjb7+3JoSRkI2xftTF69Gh5GvLcImyva968eQ0aNChfvnzXrl0vXLig9pWMll2e9ygRtkuZZQPtL2+fPn1a7n7//ffqrqS53JXTou5eu3atf//+8gI7dux47tw5WaU+dRazZ8+WJyPn+ebNm7JcfYmeMnPmzFWrVqnb3377rVR+2bJlGzVqtGjRIsNX+MEpCGhYGgHtXAS0NRHQ5iKgnUUF9Ny5c40rAMsjoGFpBLRzEdDWRECbi4B2FgIa0RcBDUsjoJ2LgLYmAtpcBLSzqD/lHemfRAEsjoCGpRHQzkVAWxMBbS4CGkBUEdCwNALauQhoayKgzUVAA4gqAhqWRkA7FwFtTQS0uQhoAFFFQMPSCGjnIqCtiYA2FwENIKoIaFgaAe1cBLQ1EdDmIqAdp1OnTgMGDDAutZHlGTNm9PPzO3v2rHHdq7ly5crvv/9uXAq8FQQ0LI2Adi4C2poIaHMR0I5Trly5unXrGpdGRBw+fNjDw6Np06bTp0+/ffu2cfUruHjxYqJEiQ4ePGhcAbwVBDQsjYB2LgLamghocxHQjvO8gF66dKkE9NWrV40rXtnx48flCAQ0nIWAhqUR0M5FQFsTAW0uAvp51q9fHxISUrp06erVq0+YMOH+/ftq+ciRI0+cODFz5kxZXrVq1VmzZmm7PH78eM6cObVq1apZs+bGjRsjDegNGzbUrl1b8rdHjx7Lli2LsP2F7blz58ouFSpU0P7stnLlyhVZIo8iT6N169byuLLw0qVLLVu2lCMEBQWtXr1adpdtvvnmG22vhQsXLlq0SG7cunVLVp0+fbphw4aNGjX68ccfZeHZs2fbt28vB2zcuPGOHTu0vfSOHj36xRdf/PDDDy1atChfvvzAgQPv3r176tSpwMBAeVFDhw598OCB2lKWT5kypU6dOnJAeZR169ap5f/73//koc+fP9+hQwfZpWPHjtqfChc7d+5U51YOuG3bNm05ogsCGpZGQDsXAW1NBLS5COhISSPGjBlTmnXSpElSq97e3nJbrXrnnXeyZ8/+/vvv9+rVS6pXQnb8+PFqVdu2bePFi9e1a9dhw4alS5cuceLErxLQ8jRkLwnN0aNH58qVK3PmzNeuXZPlv//+e8qUKfPlyzdixIhRo0blzJlTNrtkow9oKXu5LUGvPUSVKlWqVasWYUttWZU1a9Y8efLkyJFD7h44cCB+/PilSpWSx5KEldc1depUbUeN1HPy5MlTp07drl07eVFyKiTi06RJI09SHtTLy0uSOsL2hqFs2bLyJHv37j1x4sRKlSrJw61Zs0ZWSdDLbTkJzZs3nzFjRsmSJeW8SU/Lqq1bt8aIESM4OHjs2LHy2j09PdUuiEYIaFiav9mMD4AXMp6+N2Z8ALwW42l9Y8YHcDPG0/HGjA9gYS94tnnz5pU+1u42adIkY8aM6raEoNSz9hHshx9+KD0qN86cOSMtOG/ePLX8p59+ih07tn1Ai8WLF0tc/vXXXxG2npbbe/bsUatu374tndqpUye5LU0sCas2i7B9cixbqo+W9ZdwvDSgpfK1Vblz55a1Er7qroS+9LT+M29FAlp2lOep7srLl7tHjhxRd2vUqFG8eHG5cfLkSensXbt2qeWPHj2SJ9yqVauIpwGtveu4e/dulixZAgMD5bZsIEGvlqu7U6ZM0e4iWiCgYWn+fALtVP58Am1J/nwCbSp/PoF+oYsXL65fv75MmTKpUqVSSySgu3btqm0QEhIitS03wsLCvL2979y5o6366KOPXhrQbdq0SZYs2S6dihUrZs+eXb/9rVu3jh07NmHCBC2UoxTQ2qpffvlF7sobA+2xJPdlydq1a7V9FRXQN2/eVHf79+/v6+urrZXnrC/gCNtzOHXqlMS9BHRAQEDE04CWp61tI4+rzuHkyZNlVf369eU8/Pnnn9oGiEYIaFgaAe1cBLQ1EdDmIqAjdeTIkVKlSsWOHVtSL1u2bLly5UqZMqVaJQE9aNAgbUvt89S+ffsmSZJEWy4kJV8a0LVq1fKwo45z79697t27S3TKkoQJE1aoUMHjtQJa62N5Uc88zFPTpk3T9lUkoL28vLS7AwcOfPfdd7W77dq10wJ61qxZOXLkkIPIuSpWrJi8GdAHtP6L9saOHStvMCJsH1QPHTo0ffr0soE8Svny5U+ePKlthmiBgIalEdDORUBbEwFtLgLa3rVr13x9fSVY9+/fr75mrnPnzvqAHjx4sLaxFtCjR4+OFSuW9ruGEbY4fmlAS27mzJnTuIVNjx494saNO336dHXp8PXr12WvGTNmRDwb0A8ePDBEcOnSpfUBrf1i35kzZ+Tul19+qW35PBLQMWLE0O4+L6A3btwoB+zateuJEycePnwYYbtERB/QP/zwg7ZXnz59UqRIod2NsD2fMWPGpEmTJnPmzPrlsD4CGpZGQDsXAW1NBLS5CGh7W7Zs8dBdl/zo0aMCBQokT55c3X1eQKtk1D7ulfJOlizZSwNagtjLy+vUqVPaWmnfpk2byo1ChQqVL19eW75y5UotlCVY5faBAwfUKgl37S+2yOMmTpw40oCWFyId3LhxY3U3wvZNIxkyZNA/uvKKAd2lS5c4ceJoV1TLw8kzadSoUcTTs6H9eqU89Pvvv69Wyatr0qTJf8ey/b6mt7e3bKAtgfUR0LA0Atq5CGhrIqDNRUDbkxCMHTt2xYoVd+3atXnz5ho1akiSxosXT0Xe8wJaNGjQQKJ51qxZGzduLFWqlOzy0oC+c+eOlGX69OnnzZu3bdu2hg0bSk9L18qqFi1axI0bd/bs2Xv37p04cWKqVKnkWY0aNSriaRnLE1u6dKnc/fjjjxMlSjRhwoT58+cXLVo0ZcqUkQZ0hO2KC1nSpk2b7du3S7vLayldurRWwJpXDOiFCxfK0Xr27CnPcMmSJTly5JATVb169YinAe3j4xMWFrZ169batWsnSJBAfSAtj+vp6dmjRw85vQsWLJDXJedNOziiBQIalkZAOxcBbU0EtLkI6EhJARcpUsTPzy9v3rxjx449evSohOaZM2dk1SeffKJ91YYYM2ZMUFCQuv3gwYN+/fply5Ytc+bMcmPQoEGR/invHTt2yNH+/vtvdff69euhoaFZs2aVh5Plkuxq+e3bt0NCQjJkyCDL69ev/91330n49u7dW62VqM2ZM2ezZs0ibF+63KhRI9lMlkj7Tpo0SX2FyB9//CEHNPy9ldWrV5csWVI2lufZpUuXSP8UomxTtmxZ7e6cOXP0X+Uxfvx47SUPGzZMulmOVqZMmU2bNk2bNk0CWopcBbQ8mRIlSshaaX39hc6TJ08uWLCgLJd9+/bt+++//2qrEC0Q0LA0Atq5CGhrIqDNRUDDEVRAHz582LgCLoGAhqUR0M5FQFsTAW0uAhqOQEC7NgIalkZAOxcBbU0EtLkIaDjC6dOn/fz8wsPDjSvgEghoWBoB7VwEtDUR0OYioAFEFQENSyOgnYuAtiYC2lwENICoIqBhaQS0cxHQ1kRAm4uABhBVBDQsjYB2LgLamghocxHQAKKKgIalEdDORUBbEwFtLgIaQFQR0LA0Atq5CGhrIqDNRUADiCoCGpbmbzbjA+CFjKfvjRkfAK/FeFrfmPEB3IzxdLwx4wNYWPR6toB1ENCwNH8+gXYqfz6BtiR/PoE2lT+fQAOIIgIalkZAOxcBbU0EtLkIaABRRUDD0gho5yKgrYmANhcBDSCqCGhYGgHtXAS0NRHQ5iKgAUQVAQ1LI6Cdi4C2JgLaXAQ0gKgioGFpBLRzEdDWRECbi4AGEFUENCyNgHYuAtqaCGhzEdAAooqAhqUR0M5FQFsTAW2u6BvQK1asaNCgQahNp06dBtuMGDFiss2cOXNW2GzatGmPTXh4+Gmby5cvX7V5m88WcCUENCyNgHYuAtqaCGhzRd+AFo8fP1YpLE2s4lgqWeWydLMKaClpldTS1iqypbZVdsuzlQ2MBwXwMgQ0LI2Adi4C2poIaHNF64AG4BQENCyNgHYuAtqaCGhzEdAAooqAhqUR0M5FQFsTAW0uAhpAVBHQsDQC2rkIaGsioM1FQAOIKgIalubfuIm/eZo0bWp8ALxQ/caBxpP4Bho3DTI+AF5Lo4Ag48l9AwGBwcYHcDNyBown5Q0EBrn7+QTcAQENAAAARAEBDQAAAEQBAQ0AAABEAQENAAAARAEBDQAAAEQBAQ0AAABEAQENAAAARAEBDQAAAEQBAQ0AAABEAQENAKY5cuSIcREAwOUQ0ABgjuvXrwcEBNy9e9e4AgDgWghoADDHhAkT/P39T548aVwBAHAtBDQAmODGjRtNmjSRgJ46dapxHQDAtRDQAGCCuXPnqoBu1aqVcR0AwLUQ0ADwpm7cuBEQEOBv07BhQy6DBgDXRkADgGkkoI2LAAAuh4AGANMQ0ADgDghoADANAQ0A7oCABgDTENAA4A4IaAAwDQENAO6AgAYA0xDQAOAOCGgAMA0BDQDugIAGANMQ0ADgDghoADANAQ0A7oCABgDTENAA4A4IaAAwDQENAO6AgAYA0xDQAOAOCGgAMA0BDQDugIAGANMQ0ADgDghoADANAQ0A7oCABgDTENAA4A4IaAAwDQENAO6AgAYA0xDQAOAOCGgAMA0BDQDugIAGANMQ0ADgDghoADANAQ0A7oCABgDTENAA4A4IaAAwDQENAO6AgAYA0xDQAOAOCGgAMA0BDQDugIAGANMQ0ADgDghoADANAQ0A7oCABgDTENAA4A4IaAAwDQENAO6AgAYA0xDQAOAOCGgAMA0BDQDugIAGANMQ0ADgDghoADANAQ0A7oCABgDTENAA4A4IaAAwDQENAO6AgAYcKDAo0B8AdAKaNTH+mwJAdENAAw4k/7EM29+XYRhGG3/+bwog+iOgAQcioBmGMQwBDbgAAhpwIAKaYRjDENCACyCgAQcioBmGMQwBDbgAAhpwIAKaYRjDENCACyCgAQcioBmGMQwBDbgAAhpwIAKaYRjDENCACyCgAQcioBmGMQwBDbgAAhpwIAKaYRjDENCACyCgAQcioBmGMQwBDbgAAhpwIAKaYRjDENCACyCgAQcioBmGMQwBDbgAAhpwIAKaYRjDENCACyCgAQcioBmGMQwBDbgAAhpwIAKaYRjDENCACyCgAQcioBmGMQwBDbgAAhpwIAKaYRjDENCACyCgAQcioBmGMQwBDbgAAhpwIAKaYRjDENCACyCgAQcioBmGMYxTAnr79u3FihW7f/++unvx4sWuXbuWLl26Zs2akyZN0pa/2I0bN3Lnzn38+HHjCsD9ENCAA7lkQI/Z0XPg8nYvGNnAfi9HT4cvAhr1rh48pO74Pb3t11pqxu3qZX/StBm5uZv9Lo6eIV92HLyqvf3y15thGzobXtRnazoYthm9vYcp/6h8vqWbHGfcbqv/0PXz9gP677//zpAhw8yZM9Xdb775xtfXN2HChJ9++mmVKlW8vLwKFy7877//PrtT5AYNGlSgQIGHDx8aVwBuhoAGHMglA7rFyPoeL9RmTEP7vRw6xWvkVw8dO16sCfuMa6023WeFPHvCnlGjVTn7XRw9mfP7JXongf3y15vClfIYX5WHR+J3fYMG19G2CehfUxa2Gt3AfvcozSetP5Lj9Jjb3H6VZeftB3Tv3r0zZ86sVe8HH3yQJEmSCxcuqLuLFi2Sczhs2DBt+xe4ffu27BsWFmZcAbgZAhpwIJcM6EGr2jfqXV2beAni+CSKp19i/3GjQ2f09h6eXp5psqTos7DVwBWh9htYbVRAZyngpz9p2vSa18J+F0ePIwK6esuy6hX5d69avmGxhEl8vLw8Q8OaqG0I6LdGkjdx4sSff/65unvt2rU8efJ07NhR20DCOlasWFWqVNGWvJjs6+fn9+DBA+MKwJ0Q0IADuWRAG0bCK2nKRPbL39oMXtVeEqpC4+L2q6w5KqBL1Cxgv8pZ44iA7ruotX6hNK4szFMqm7pLQL81EyZMkFP0888/G1c8deHCBU9Pz+bNm8vtP//8M1WqVIkSJbp06ZJae+LEiThx4hQpUkQr5sOHD8sBly1bph0BcEMENOBAbhvQn3apHPRZnS7Tggp8lKtMvcKDVj75YHj09h71u1UpWjVfruJZ5H8b9qw2blcvtf3g1R0qNys1YHm79hMDPvykQN7S2SWI1V5qJuztEziwVrHq+XN/mKVkrYKtn4aXFFiZTwvLf84z5U0vR+g2M1gt7zi5aak6H7xfImvxGvlDhtXTP7eqIWVCw5q0GFk/f7mcFZp8OHJz18Z9ajTuW2PEpq6Vg0rlK5ND0rbn3CcfA0sClq5bKE/JbOUbFR/6ZSf9QfotaSPPUFbJC5EWHL+3j7aqXudK8oidpgTKay9bv4j9tcWvGNBVgkvL2ZAHKudfVE5IydofdJkepN9AHjR4aN1i1fLJ05AH6r2gpX6tbCxP/skZqJ6/2eDaE3TPUGbg8nblGxaTFys79l/W1j6gW43yl2coR5bTqJ1VmWHrO8t5ljNTt2NFOYE125bXv3Y1kQa0TKw4MTO+n1bdtg/o3gtalWtQVJ5wkSp5G/WubrisecyOnv7dqxaq+L4keKVmJYd82VEtNwT00HWd5Ok9eVYWvhT+LQd0+fLls2TJYlxqc/HixcWLF2fLli1ZsmTnzp1TCzdv3iw9Xa1aNbl9586dnDlzSk9r13uIR48e+fr6NmnSRFsCuCECGnAgtw3o1JnelaKN6xPbw0b6RjoyScpEMWN55yiSqWCF3O+kSSLLs32QQW0vqS1385fN4RXDK23WlOmypZS7Pr7xBj2tTyknT08P6bwPPv5vX4laWV6nQ8X3cqWRu3LwzPnSSxbLQlnlYbvotsBHOVP4vSO3Jcu0oooZ2ztn0UzyQLJcno8EdNYC76XJkiJZqsQymfKm844ZQ1JP+l7+N332VLJKtkyeLqmWdNKjMWLG8EkUT44vT0memBxh7NM3A/KIsjBO/P9eu3Sh/syEvXJAx/D2ylUsszyH5GmTZsyTTh7Ry8tTK84xO3vK65XjpM+RSs6bnCvZQKpXra0aUlqelfxopHFTZUz+5FQXyqA9w9AJjeWw8gyly9NkTiE3kqTw1QJ6wr4nZ1t2kR0lhZOlTiyHqhVaQa2VTJdV8jZGvbqU771j/8wjDWh50yILpW7VXUNAN+hRVV6vvIq8ZbL75Uwtq+SfAXlLo9bKPzzyQ5eXL//AyI9SfmqyZZ+FT06sPqAl7lNmSC7/1HWe2kz/0FabtxnQ9+/fjxcvXp06dYwrbKu8vb3l7EkuDx8+XP97gaGhobJ80aJFbdu2lRsrVqzQ7fdE8eLF06dPb1gIuBUCGnAgdw5o+e9umXqFJVv7Ln4SUkWr5vP08uw87b+ymbC3j5SQbNNvSZuwpwEtJSc31AZ1O1XSemvA8nZy++OAD7V9JVilt9QXVgxa+eQ/9pUCS6q1LUZ8KncLfJRL690qwaVliTSluisBLXfrtP9YbqvnJkfzsBWt+gVEdQSpRpXjMqXqFpIl7cY3DrPFnNSnRN7nW/77uoyQYfXkpVVo8t/TU8lezr+o9toNowJa0lxenWGqhpTRNpMXKJtJWaq73WYGq4JUdys1K/nkVXSoqO5KOyZOnlDeM8jJkT72sL1n0Iq5VrsKsqR8w2Jhts+t5c2Gb7IE2puTykGlZK0W0PW7VdGfT9m+SJW88gLV59AqoOU9hjyKvMD+y9qqzfSjAjpPyWyFK+dRI7dlF3k/IN2vttEHtKSwvJ+RN0LaKQ0cVFvOf8HyudRdeS1yNtT5l+kxp7k0dM5imcN0AT18Q5fUGd+NlzBu1xn//3m5NedtBvSlS5fk/HTp0sW4IiLi3r1733zzzfHjx1u3bi3b1KtXT1ulPnj29fWVtm7ZsqVup/80atQoRowYjx49Mq4A3AYBDTiQOwe0FM/o7T20JW3HNWrS9xP9NvU6P0nkjpObhj0N6OI18mtrpaVkibRXmO3/3JfbeUtn1w742ZoOQ9b+93/iGwL6SWzFjDFiYxftUJLF76RJkih5QnVXAjrJs09YAlpybdiGzuquRJ7clUTWNlBfPKKef7XmZbSnrT9CgsTxVX9LQEssaqVoPy/4Fg55btpmcgJTZkiu3zFVxuTyQtTt5GmTygPp10r312xbXk5RwQq5pXcNv8qZJnOKeAniSF53mNRUHki21FbJQjk5WkCnyZJC7uov+ZAzI+2uPjJXAS0/C/3BDRPpt3DIKZWAlvdCaht9QKv/x8AQvrmKZ5EHHbm5q7xNkh+ovCPSr/XvVkVCP+xpQIeGNZEX6OMbr/vsEP1m1py3GdDh4eFyfgYNGmRc8SypZ9ns6NGj2pJt27bJkrhx4968eVO34X9Uc//xxx/GFYDbIKABB3LngJbCs9+426zgxn1rfBzwYZ6S2SR35L/BHb4ICHsa0Pqqk5EK1D6DzFrwyYfEseLEzFE4Y63QCvoPPg0BLU9GHl1/HBkJcdlm+IYnVS2Rmsv24aU2kr9xfeLol0i65S+bQ7sr9S+7N+5TQ25LO3rYPuHWPl6VeTd9MlmomlW6NtILG7R59Us45Czpl2R8P22SFL5yY+yuXtKj6t2F/UhnJ0ud2LCwVJ0P5EEHrghVH+23n/jft2GokRelAnr83j7y2hMm9dG/OpmYsbzfy50m7GlAV2r239mOdOwv4Ri8uoM8rhxEfjrqrYU+oHMWzSSrDFdp12hV7sk/HpOaqn82tGtIDKMCWp6wx5Pr4NNZ/0sMw95uQH/77bdyZnr16mVYbvjW59mzZ8tms2bN0pZUq1ZNXeDRs2dP3Yb/CQwMlFXXrl0zrgDcBgENOJA7B3SaLCn0S3rMaZ48XVIP2yeRkpsSoPnK5HhSSLqA1i5IUKMP6HG7e9frXClT3vTq2mUhq9TvIBoCOkHi+Blyp9UfR6Zk7Sf5qC5akIDOXy6nfq0EtBSYfolEpP4jT31AZyuUQdZmzpfeftRvPUpAp8+RSn80w7x6QBueZ8Y86VRAD13XSY5QslZB+71kkqVKbP8WokLjJ5/y9l7QqnrLsnLD8PuIRarkVQGtPvhPmMTH/tXJNmFPA1qy1XB8/dgHtJpyDYrK8maDa4c9G9ASvvESxjVsrP4PijZjG8rIDX/b5832owLaN1mCYtWffBd43Y7P/CNkzXmbAf3777/LaVHfsKHs37/fy8tr5MiRuq0iRowYIZt9+eWX6u6UKVPk7tChQ+vXrx8jRox9+/bpN46w5XWcOHG4hAPujIAGHIiAVjNhb5930iSJ6xOnxYhPtWsbPmnzJH3aT3ylgNZm1NbuIcPqvZf7yS8ONupVPcwuoKVf7T9/zVs6u4S7ugLkDQNalsuhtKt17ectBPTYXb3kjYT+M3KZgStC241vPGZHT78cqRMkiW84mvoMftj6znLS5IZ2ebea90tkVQEtPynvmDGyF85o2F2bNwlof9vV1erqc31Ay09HXo7hrxJ+HFBCNug2K1hGblRr/v9Xh4fZvhSv0+TA8Xv7qICWf4rkLVbqjO/GihMz0suyLTVvM6DFu+++W6pUKe3uv//+mzRp0vfee+/GjRtqyeXLl9OmTfvOO+/cvn1b7p49ezZ+/PgffPDBw4cPr169Ksv9/PwMF3JkyZKlQIEC+iWAuyGgAQcioNWoxi1YIbd+m1zFn3yTQ+iExmEvC+jm/9fevYdZNS9+HJ/RaExTkRiSLlPylFEpxaEo8jhIJbqHRrffKUW330Sickq66MSICImklNzyQweH3O/TvZBxqUa37R9/8Hg8z+8z+2t/z2pNM2ZPe2ut/X2/nu/Ts/f6rr322nvn9N77rL323X1zGtRVxdqpCYtK1zdfMfQFdIcebRW43hMDz361QO1+arM/9ucwA9p8Mmq/22dG3nmnNWnZwHxt8S8IaA1TyfZrghqXXt/RZOvF/f6mC+pLO6V3DlrZHD+tztbzc363Nt7ZGrWz7DHQzdo21lNkzxNXGP0Sp15ic9jG4QR03vnN7CvuDehrbv67Lt9wZ+kn02ao4+s1yTkmO3P+fyZp6MJpZzX0bSqzRnU94d6zcOhvhV64085qFPADOf7igB4wYEBWVtavv/5qlzz77LMZGRmK5vHjx48bNy4nJ6dGjRqvvfaapn777bdzzjknMzNz8+bNZuUVK1boGR40aJC9+Z49e9LT0wsKCuwSwEEENJBEBLQZ8964tfoxR2tN8x2yuf+eaD5fTIt9FFpxQKv5Mo6upm1OWVH64eLctRPV4mnRA2QLywS0uk39d3LjE8z3yTTbvH0TJaMq3KxwmAGte6+TUzurZubQu3qr81SfJlg79WpvVq5kQJf3S4T/mPPH35mKA3rojN5ppYdi55nvPmpn9Aw3P6f0HB16ulScJ9SvY05pMuOFsWdGy1XNam57zt9b6QH2GX/FvW/fdvfLE1p3ap7mOQvHjf8aaL5DaQpYz7keTnrsRwQrH9D2lwg1rh59qbpWC/UQTN16A3r2q/+re69VJ1t3rauz/m/C37qeVbqF2K+a68XV1cvyL9BfJPX01Tddqj28JHpSEd95oM1r4fuLFLTxFwf0mjVr9JysXbvWu/Cjjz7q27dvbm5u8+bNBw8evGXLFrP8nXfeyc/Pf/zxx70rT5kyRQvtqaA1qw0WFRV51wFcQ0ADSURA23HtpO7mvGyqT/PL24PuuCqt9OR0FxT+WUBraGUFYlqMetp+q8wX0IXRBDTfKjOyah6jhrOzhxnQhdGIrNek9OTKlvbTHppSyYAuT+6Zpd/VK/yzgNbQM3B09dKveRlNWjaYueaPE4mMWTBIz7OdyqxRve+EK+wNFf2tLyyNZuPUZifnnd/MBrTGwFu72XN4p0W/u9l/4h+fuFc+oH20kfOubGNP7ew7D/SkJ/5H73nsynpcVwzpZL9WeO+6yRf0bKe/D3YFvYMyR8D7AloPTe8cSg/kiL7XCub4iwP6999/P/3005XL/omquvDCCzt37uxfCjiGgAaSyIWA/ufqm8v+2N7058f4TqNm1syferVa1p4NetrK0eYX/hRDujx37UTv+tNW3WRPLVcYPRJj+N19dfMh03uZ82mYobrSbWe/+keZmaGcHXnPAK08Ym5/38G1pZuNhaYZ2gd7UuRDrqOtle7ev/+7e2q7cQtv0PZV9uZU1nZ4T7F3yGEebHnD3rbsfs54cazvqdYKg/95jXbDe8CGGf/6zyR1f+lH2rP7ec8naIeaVW8J/jGn//y3btPz7NuyHqx5tofN7ON9brWydrKCQ8ALo6e9K/u4fIdVaJe00PvS6HVU95t79J6F0A6tr2dbK5ifUDFDe6Ll3p8tVKNPK/37UNEeHtnxFwe0PP3005mZmbt27fJPxG/9+vXp6enr1q3zTwCOIaCBJHIhoBkMRlzjrw9o6dKly9ChQ/1L43f55Zdfe+21/qWAewhoIIkIaAaD4RtHJKB37tw5ZMiQn3/+2T8Rj927d6vC7ek7AJcR0EASEdAMBsM3jkhAA0gsAhpIIgKawWD4BgENpAACGkgiAprBYPgGAQ2kAAIaSCICmsFg+AYBDaQAAhpIIgKawWD4BgENpAACGkgiAprBYPgGAQ2kAAIaSCICmsFg+AYBDaQAAhpIIgKawWD4BgENpAACGkgiAprBYPgGAQ2kAAIaSCICmsFg+AYBDaQAAhpIIgKawWD4BgENpAACGkgiAprBYPgGAQ2kAAIaSCICmsFg+AYBDaQAAhpIIgKawWD4BgENpAACGkgiAprBYPgGAQ2kAAIaSCICmsFg+AYBDaQAAhpIIgKawWD4BgENpAACGkgiAtq1MXXJ2LILGQzvIKCBFEBAA0k0dOjQ/gDgMWToEP//UgAIGwIaABLjvvvuUx5t3LjRPwEASC0ENAAkwE8//XT99dcroB966CH/HAAgtRDQAJAAS5YsMQE9YsQI/xwAILUQ0ABwuH766adBgwaZI1wHDhz4yy+/+NcAAKQQAhoAEqY/J1gAAAcQ0ACQMAQ0ALiAgAaAhCGgAcAFBDQAJAwBDQAuIKABIGEIaABwAQENAAlDQAOACwhoAEgYAhoAXEBAA0DCENAA4AICGgAShoAGABcQ0ACQMAQ0ALiAgAaAhCGgAcAFBDQAJAwBDQAuIKABIGEIaABwAQENAAlDQAOACwhoAEgYAhoAXEBAA0DCENAA4AICGgAShoAGABcQ0ACQMAQ0ALiAgAaAhCGgAcAFBDQAJAwBDQAuIKABIGEIaABwAQENAAlDQAOACwhoAEgYAhoAXEBAA0DCENAA4AICGgAShoAGABcQ0ACQMAQ0ALiAgAaAhCGgAcAFBDQAJAwBDQAuIKABIGEIaABwAQENAAlDQAOACwhoAEgYAhoAXEBAA0DCENAA4AICGgAShoAGABcQ0ACQMAQ0ALiAgAaAhCGgAcAFBHT4DBs2rD8AAAgS/evs/wcbqYuADh/9VxoBAABB0p//A8olBHT4ENAAAAQNAe0UAjp8CGgAAIKGgHYKAR0+BDQAAEFDQDuFgA4fAhoAgKAhoJ1CQIcPAQ0AQNAQ0E4hoMOHgAYAIGgIaKcQ0OFDQAMAEDQEtFMI6PAhoAEACBoC2ikEdPgQ0AAABA0B7RQCOnwIaAAAgoaAdgoBHT4ENAAAQUNAO4WADh8CGgCAoCGgnUJAhw8BDQBA0BDQTiGgw4eABgAgaAhopxDQ4UNAAwAQNAS0Uwjo8CGgAQAIGgLaKQR0+BDQAAAEDQHtFAI6fAhoAACChoB2CgEdPgQ0AABBQ0A7hYAOHwIagbVz586iMvbt2+dbbevWrf6VYjZv3mzWOeSmpKSkxG5Hl/3TB9u1a5dd2Vq/fr1/vZgvv/zSv3YlmN344Ycf/BNVpd0uKmfnjQ0bNmzfvt1c1oWNGzcePJ8YxcXFRQc/4QAqQEA7hYAOHwIagfXwww+nlZGdnT1u3DhvRp911ln+lWKaNm1awaYkIyOje/fuX331ldZ58cUX/dMHW7Jkib1T6+ijj/avF9OtWzf/2pXw0ksv6bb33nuvf6KqnnjiCW1Qf/onYmrVqnX55ZebyxdddNGJJ5548Hxi6FXTbrzwwgv+CQCHQkA7hYAOHwIagWWqt0+fPgtibrvtttatW2vh+PHj7WoK6GrVqtl1vGzymk2NGDHixZiVK1fOnz+/c+fOWq5q1Drbtm3z3vakk06qWbOmd8n69evtnVoK6IYNG3pXs3Qv/rUr4cgG9KhRo7p27XrwfGIQ0EBcCGinENDhQ0AjsEz1zpo1y7uwpKREwaq03b9/v1migFbFetcpy2zqnnvu8S0/cODA+eefr6mPPvrIN3XaaaedcMIJvoVl6a61A/6lh+HIBnTyENBAXAhopxDQ4UNAI7AOGdBy5ZVXpqen24N6DyegZezYsZp65plnfMsTGNCFhYWLFi36+uuvCwoKevToMXTo0A8++EDL9efw4cP1cBSXmjUr24BetmxZv379rr766tmzZ/sOHdZjnzNnTp8+fbS1SZMmmUNQrD179ixYsECzvXr1Wrx4cdmAfvPNN7UPuu3EiROLi4u9Ab1w4cI777zTXF6xYsWMGTO0Ne3ANddco63dd999umq3E4nu7Q033GA2tWPHDu3Vo48+6l3BqkxA61UwT4h2/tZbb7WHsD/wwAO33HLL3r17vSvrjm6//XZ79amnnsrPz9dtR4wYsW7dOrt8y5Yt2rfPP/98+vTpPXv2nDlzpp0CgoyAdgoBHT4ENALrkAGt0DzppJPat29vlxxOQO/bt69t27aa+vjjj31TCQzoc889t02bNqeeemqTJk3OO++86tWr16xZU1WdlZWle8/Ly9MOnHHGGebAbhPQLVq0yMzM7Nq1a6dOnXS1VatW3333ndnaxo0bmzZtmpGRcckll6hclb/az7ffftvMKrV1F7pJu3btdPNjjjnGbN8GtGpYbz/q1aun2zZq1Eib0jqHPAZakZ2Tk9OxY8fatWt36NDhlFNO0Xa6d+9uZkWNqyXayFVXXVW/fv0GDRropVHC2hW8/jSgtT9aoXXr1gMGDNBDOOqoo+rUqbNhwwZNTZs2zfcmRw/zuOOOMzuzf/9+XTDPkt5yaH9023nz5pk133jjDU3pAaZF6YWwGwGCjIB2CgEdPgQ0AstU79lnnz0gpnfv3so7Zegnn3xiVzPHQE88lHfffde7Ke8x0M8//7x6Wl2o5T179rRbsyof0CeffLL/jqPsqS0U0ObezdXHHntMV7XPq1evNksGDRqkJa+++mokFtDZ2dlvvfWWmV24cKGW3HTTTeZq586dVd5r1641V7du3Zqbm6sONv09ZcoUrXzXXXeZWT1RdevWTYsFtOJb+a79MZ/f79mzp1u3bqYvzfq+gE6LHiD+7bff6uqPP/5o0vyLL76IRMNUnaqbm8+kVbQKes1WLaCXL1+u2bFjx9ol999/v5ZMnTo1Ej08XW8YevXqZWcff/xxzepWujxjxgy7puzdu1cvqNY3H/ObgK5Ro8Yrr7yiXTU7DwQfAe0UAjp8CGgEVnmnzmjRosWzzz5rV6vgLBzaQsWbUvsWFBT4DkswKh/Q/o3G2HxXsCqX7UfIxcXFmu3YsaPdyOLFi7VEURiJBfTo0aPtrLRp0yYnJ0cXPvvsM80OHz7cOzt//nwtfO6553S5ZcuWjRo18s5Onjw5LRbQCmtd9n67cfPmzergCgLaZL0xa9astFgEazY9PX3Lli12tqioKK2qAa3Qnzdv3o4dO+wSvTHQ+qNGjTJXL7vsMr1tsGf301U9IeagjqZRBw4csLfdtGmTbnvjjTdGYgHdr18/OwuEAgHtFAI6fAhoBFbZQzi+/fbb5cuXN27cWNlqP6Ct/CEc9hPoBx54QMlVt27dZcuW+VeNqXxAV+YQDpO/hnrdl3RPP/20ljz22GORWEA/+eSTdlaGDBmihdu3bzefvLZv395+Ki9dunTRwunTp+/fv1+l7j3KIhI7PZ8J6IEDB+qy7yTTDRo0qCCgvQdYP/jgg1pi3r3oQdWvX99OGYdzCEckelLtJUuWTJ06VQ+qWbNm5iUzU1quq3rhItGTVetpN22tx6KO1554nxDJyMjo1KlTJBbQ9vNpICwIaKcQ0OFDQCOwyga08dxzz2n5ddddZ65WPqC9x0Dv2LGjSZMmys3yGjqxAe39VNgEtFrWLikb0ObjZGv06NFaqL4sLCxMix4w3bGMBQsW7Ny5U7O+/6j1TiMtFtBqa+WmPYGJkZeXV0FAm+M3DHMwiQlo7YOeQDtl5ObmVi2gtefmOGbRDlx88cVjxoxJ8wS0njS9HJ07d47EPkd///33I7EPquvVq+d/Ojp2HDx4cCQW0HPmzPHcGxACBLRTCOjwIaARWOUFtDpSyy+99FJztWoBHYmmlW543HHH2bM9eB3ZgH7kkUfsrPTt21etv2vXrqVLl2p2/vz53lmv7Oxs1ad3iXm/YQLaNLGi07vCKaecUoWA7tKlS40aNby/aKPLWVlZVQvokSNHaragoMD+fOOnn36a5glo0WU9CVqhXbt29ruAJSUlWljenUYIaIQWAe0UAjp8CGgEVnkBbT6AHDNmjLla5YCWCRMmpHm+Qud1ZAPaO6tuVtSaE49s3749IyPDfBBrzZ079/TTTzdHNuuxqGu9BxOPGjXKBrQ5pZ09Q4W899573meg8gE9c+bMtIN/ndEcXlJey1Yc0HoOtdveJeazdu/R3uvWrdOSyZMnH3XUUd4gbtu2ba1atbwP+cMPP2zYsOGUKVMiBDRCi4B2CgEdPgQ0AstUr/eXCFXA+htbrVq1Y489dtOmTWY1cxYOu45PcXGx3VTZgC4pKVEoa2rx4sW+qcoHdHm/RGgO2I1UKaDViNrbffv2ffXVV127dk1PT1+xYoVZOT8/XyuMHDnSfCtRt83Ozm7QoMHu3bt1de3atbptp06dtmzZcuDAAT3wzMzMtFhA792798wzz9Szt2rVqkj0q3stW7ZMq1JAK+ubNm1au3Zt7edrr72mP3VZ+1lxQN98882+Z+mpp57SrDkZiDmHtHZ76dKlxx9/vO9ZktatW2dlZekReXPZfCrfoUOHTz/9VFc//vhjPSj9lXj99dcjBDRCi4B2CgEdPgQ0AuuQp85QoqkO33nnHbtaBWfhSIsdKVteQEeiwapt5uTkfPPNN97llQ9o/13GqOHMOlUI6FGjRtWsWdNsR73o3XNFv26rfbZ3pJA1D9PQg/Xe1vsJtGzYsKFVq1b2tt27d9cjrUJAyxdffGHOAyiK8sLCQj3kHj162PW9TECXlZeXF4mmvDnPdJ06dfR+oG7dutqaHlfz5s29GzGnASl7F3PnzrUPWXRZu2qmCGiEFAHtFAI6fAhoBNbOnTuLyrA/QGht3brVv5KHOUWd2dT333/vu62xadOmojJb3rx588aNG71LDmn9+vX+u4zRlFln27Zt9vNyQ7Pes1vs3r1bS7STkWgf67L+3L59u1J40aJF9nzSXlpHswsWLFizZo33QGRDbwaefPLJBx98UI/ixx9/LDr40R04cODll1/WbfVnJPpbffYudME+6h07duiG3m8cmqfRfNRt6SZmh0Wpmp+f7521iouL//vUeNgT4enmy5Yt014tX77c7O2XX36pFbznp1u1apXuwn4Y7/Xdd9/pTYJuvnTpUnvGwEj09NVF5b/0QGAR0E4hoMOHgAZQBXfccUfjxo29v+BozjTnPcA64Xr27Fm/fv2ybxiA1ENAO4WADh8CGkAVvPvuuxkZGS1atCgsLFy9evXtt99eu3bt3NzcZHzW+/XXX48fP753795pnh9ZBFIbAe0UAjp8CGgAVbNy5Up7OHVmZmaPHj22bdvmXykRSkpKqlevnp6ePmDAAD5+hiMIaKcQ0OFDQAM4HD/88EPRwYdKJ8OuXbuS8dk2EFgEtFMI6PAhoAEACBoC2ikEdPgQ0AAABA0B7RQCOnwIaAAAgoaAdgoBHT4ENAAAQUNAO4WADh8CGgCAoCGgnUJAhw8BDQBA0BDQTiGgw4eABgAgaAhopxDQ4UNAAwAQNAS0Uwjo8CGgAQAIGgLaKQR0+BDQAAAEDQHtFAI6fAhoAACChoB2CgEdPgQ0AABBQ0A7hYAOHwIaAICgIaCdQkCHDwENAEDQENBOIaDDh4AGACBoCGinENDhQ0ADABA0BLRTCOjwGTZsWH8AABAk+tfZ/w82UhcBDQAAAMSBgAYAAADiQEADAAAAcSCgAQAAgDgQ0AAAAEAcCGgAAAAgDgQ0AAAAEAcCGgAAAIgDAQ0AAADEgYAGAAAA4kBAAwAAAHEgoAEAAIA4ENAAAABAHAhoAAAAIA4ENAAAABAHAhoAAACIAwENAAAAxIGABgAAAOJAQAMAAABxIKABAACAOBDQAAAAQBwIaAAAACAOBDQAAAAQBwIaAAAAiAMBDQAAAMSBgAYAAADiQEADAAAAcfh/uYL2xd2Y3kEAAAAASUVORK5CYII=)"
      ]
    },
    {
      "cell_type": "markdown",
      "metadata": {
        "id": "sY7jUmHsKZzI"
      },
      "source": [
        "The above diagram provides a visual representation of the architecture. The intution behind each part of the architecture is as follows:\n",
        "\n",
        "*   **Pre Trained BERT**: BERT was used to get high quality word embeddings which are extremely critical to achieve high performance.\n",
        "*   **Transformer Encoder Blocks**: The intution behind using encoder blocks was to get more dataset specific/personalized embeddings.\n",
        "*   **KimCNN**: The conv layers with different feature widths help the network look at different features of the tensor, leading to significant increase in the performance.\n"
      ]
    },
    {
      "cell_type": "code",
      "metadata": {
        "id": "y8c7IDvHil05"
      },
      "source": [
        "class Encoder_KimCNN(nn.Module):\n",
        "  def __init__(self,preTrainedBert,inChannels=1,embeddingDimension=768,numHeads=8,numEncoderLayers=3,numClasses=27):\n",
        "    super(Encoder_KimCNN,self).__init__()\n",
        "\n",
        "    self.inChannels=inChannels\n",
        "    self.embDim=embeddingDimension\n",
        "    self.numHeads=numHeads\n",
        "    self.numEncoderLayers=numEncoderLayers\n",
        "    self.numClasses=numClasses\n",
        "\n",
        "    self.bert=self.freezeBert(preTrainedBert)\n",
        "    \n",
        "    self.encoderLayer=nn.TransformerEncoderLayer(d_model=self.embDim,nhead=self.numHeads)\n",
        "    self.encoderBlock=nn.TransformerEncoder(self.encoderLayer,num_layers=self.numEncoderLayers)\n",
        "    self.kimConv0=nn.Conv2d(in_channels=self.inChannels,out_channels=100,kernel_size=(2,self.embDim))\n",
        "    self.kimConv1=nn.Conv2d(in_channels=self.inChannels,out_channels=100,kernel_size=(3,self.embDim))\n",
        "    self.kimConv2=nn.Conv2d(in_channels=self.inChannels,out_channels=100,kernel_size=(4,self.embDim))\n",
        "    self.kimConv3=nn.Conv2d(in_channels=self.inChannels,out_channels=100,kernel_size=(5,self.embDim))\n",
        "    self.dropoutLayer=nn.Dropout(p=0.5)\n",
        "    self.fc=nn.Linear(400,self.numClasses)\n",
        "\n",
        "  def forward(self,input):\n",
        "\n",
        "    bertOutput=self.bert(input_ids=input['input_ids'].squeeze(dim=1),attention_mask=input['attention_mask'].squeeze(dim=1),token_type_ids=input['token_type_ids'].squeeze(dim=1)).last_hidden_state\n",
        "    \n",
        "    encoderInput=bertOutput.transpose(1,0) \n",
        "    encoderOutput=self.encoderBlock(encoderInput)\n",
        "    encoderOutput=encoderOutput.transpose(1,0)\n",
        "    \n",
        "    kimInput=encoderOutput.unsqueeze(1)\n",
        "    \n",
        "    conv0_Output=F.relu(self.kimConv0(kimInput)).squeeze(3)\n",
        "    conv1_Output=F.relu(self.kimConv1(kimInput)).squeeze(3)\n",
        "    conv2_Output=F.relu(self.kimConv2(kimInput)).squeeze(3)\n",
        "    conv3_Output=F.relu(self.kimConv3(kimInput)).squeeze(3)\n",
        "    \n",
        "    conv0_Output=F.max_pool1d(conv0_Output,conv0_Output.size(2))\n",
        "    conv1_Output=F.max_pool1d(conv1_Output,conv1_Output.size(2))\n",
        "    conv2_Output=F.max_pool1d(conv2_Output,conv2_Output.size(2))\n",
        "    conv3_Output=F.max_pool1d(conv3_Output,conv3_Output.size(2))\n",
        "\n",
        "    kimOutput=torch.cat((conv0_Output.squeeze(dim=2),conv1_Output.squeeze(dim=2),conv2_Output.squeeze(dim=2),conv3_Output.squeeze(dim=2)),dim=1)\n",
        "\n",
        "    output=self.fc(self.dropoutLayer(kimOutput))\n",
        "\n",
        "    return output\n",
        "\n",
        "  def freezeBert(self,model):\n",
        "    for params in model.parameters():\n",
        "      params.requires_grad=False\n",
        "    return model\n"
      ],
      "execution_count": null,
      "outputs": []
    },
    {
      "cell_type": "markdown",
      "metadata": {
        "id": "OXYfjWMYM-KU"
      },
      "source": [
        "Adam was used as an optimizer with a learning rate of 10^-4 and Cross Entropy Loss was used as the loss function."
      ]
    },
    {
      "cell_type": "code",
      "metadata": {
        "colab": {
          "base_uri": "https://localhost:8080/",
          "height": 116,
          "referenced_widgets": [
            "0a298a7d157a4e318dcc8e96a301035b",
            "d75bb5f8b5194437bc3d81e5d134e58f",
            "69fc6f676a5d4f59a031f2d2bd7e15e3",
            "57a7016d1c284506bead1fd7bd0fb86d",
            "05badf52dd0840b88e49e25c8de31537",
            "9fe1992bad2d41a095d6bef07292443c",
            "4f2f5f450cb74142b62f7cc95517c441",
            "c58e36dd4f074ddaaf39c06fb6febea4",
            "0f2c0921557646a5bf20e16b43c77306",
            "6658051b3b62474d809953f6b862e4a6",
            "04258132bc03427e83b0d3470ea2d41c",
            "fc22183c8bc6431a94980be4be42d441",
            "5d5d9e9ebbfe4fa2822e654fabf40a1b",
            "a5f2c717e4a9430fac9fccf165bc23e1",
            "643994d6f6744e1d8ff5fba58f0dd379",
            "c802773afacc4eefba3cbe757ecda082"
          ]
        },
        "id": "Byh8J4eWi-Pe",
        "outputId": "514519ab-99a8-4da0-d18b-6d53cbfcf218"
      },
      "source": [
        "model = BertModel.from_pretrained('bert-base-uncased')\n",
        "encoder_kimcnn=Encoder_KimCNN(preTrainedBert=model)\n",
        "encoder_kimcnn.to(device)\n",
        "softmaxLoss = nn.CrossEntropyLoss()\n",
        "optimizer = optim.Adam(encoder_kimcnn.parameters(), lr=0.0001)"
      ],
      "execution_count": null,
      "outputs": [
        {
          "output_type": "display_data",
          "data": {
            "application/vnd.jupyter.widget-view+json": {
              "model_id": "0a298a7d157a4e318dcc8e96a301035b",
              "version_minor": 0,
              "version_major": 2
            },
            "text/plain": [
              "HBox(children=(FloatProgress(value=0.0, description='Downloading', max=433.0, style=ProgressStyle(description_…"
            ]
          },
          "metadata": {
            "tags": []
          }
        },
        {
          "output_type": "stream",
          "text": [
            "\n"
          ],
          "name": "stdout"
        },
        {
          "output_type": "display_data",
          "data": {
            "application/vnd.jupyter.widget-view+json": {
              "model_id": "0f2c0921557646a5bf20e16b43c77306",
              "version_minor": 0,
              "version_major": 2
            },
            "text/plain": [
              "HBox(children=(FloatProgress(value=0.0, description='Downloading', max=440473133.0, style=ProgressStyle(descri…"
            ]
          },
          "metadata": {
            "tags": []
          }
        },
        {
          "output_type": "stream",
          "text": [
            "\n"
          ],
          "name": "stdout"
        }
      ]
    },
    {
      "cell_type": "code",
      "metadata": {
        "id": "HQkqcAAajBIE"
      },
      "source": [
        "def Average(lst): \n",
        "    return sum(lst) / len(lst) \n",
        "\n",
        "def train_model(model,epochs):\n",
        "\n",
        "  trainBatchCount=0\n",
        "  testBatchCount=0\n",
        "\n",
        "  avgTrainAcc=[]\n",
        "  avgValidAcc=[]\n",
        "  trainAcc=[]\n",
        "  validAcc=[]\n",
        "  trainLosses=[]\n",
        "  validLosses=[]\n",
        "  avgTrainLoss=[]\n",
        "  avgValidLoss=[]\n",
        "\n",
        "\n",
        "  for i in range(epochs):\n",
        "\n",
        "    print(\"Epoch:\",i)\n",
        "\n",
        "    model.train()\n",
        "    print(\"Training.....\")\n",
        "    for batch_idx,(data,targets) in enumerate(trainLoader):\n",
        "\n",
        "      trainBatchCount=trainBatchCount+1\n",
        "\n",
        "      targets=targets.to(device)\n",
        "\n",
        "      optimizer.zero_grad()\n",
        "\n",
        "      scores=model(data)\n",
        "       \n",
        "      loss=softmaxLoss(scores,targets)\n",
        "\n",
        "      loss.backward()\n",
        "\n",
        "      optimizer.step()\n",
        "\n",
        "      trainLosses.append(float(loss))\n",
        "\n",
        "      \n",
        "      correct=0\n",
        "      total=0\n",
        "      total=len(targets)\n",
        "\n",
        "\n",
        "      predictions=torch.argmax(scores,dim=1)\n",
        "      correct = (predictions==targets).sum()\n",
        "      acc=float((correct/float(total))*100)\n",
        "\n",
        "      trainAcc.append(acc)\n",
        "\n",
        "      if ((trainBatchCount%200)==0):\n",
        "\n",
        "        print(\"Targets:-\",targets)\n",
        "        print(\"Predictions:-\",predictions)\n",
        "\n",
        "        print('Loss: {}  Accuracy: {} %'.format(loss.data, acc))\n",
        "\n",
        "    model.eval()\n",
        "    print(\"Validating.....\")\n",
        "    for data,targets in valLoader:\n",
        "\n",
        "      testBatchCount=testBatchCount+1\n",
        "\n",
        "      targets=targets.to(device=device)\n",
        "\n",
        "      scores=model(data)\n",
        "\n",
        "      loss=softmaxLoss(scores,targets)\n",
        "\n",
        "      validLosses.append(float(loss))\n",
        "\n",
        "      testCorrect=0\n",
        "      testTotal=0\n",
        "\n",
        "      _,predictions=scores.max(1)\n",
        "\n",
        "      testCorrect = (predictions==targets).sum()\n",
        "      testTotal=predictions.size(0)\n",
        "\n",
        "      testAcc=float((testCorrect/float(testTotal))*100)\n",
        "\n",
        "      validAcc.append(testAcc)\n",
        "\n",
        "      if ((testBatchCount%200)==0):\n",
        "\n",
        "        print('Loss: {}  Accuracy: {} %'.format(float(loss), testAcc))\n",
        "    \n",
        "\n",
        "    trainLoss=Average(trainLosses)\n",
        "    validLoss=Average(validLosses)\n",
        "    avgTrainLoss.append(trainLoss)\n",
        "    avgValidLoss.append(validLoss)\n",
        "    tempTrainAcc=Average(trainAcc)\n",
        "    tempTestAcc=Average(validAcc)\n",
        "    avgTrainAcc.append(tempTrainAcc)\n",
        "    avgValidAcc.append(tempTestAcc)\n",
        "\n",
        "    print(\"Epoch Number:-\",i,\"  \",\"Training Loss:-\",\" \",trainLoss,\"Validation Loss:-\",\" \",validLoss,\"Training Acc:-\",\" \",tempTrainAcc,\"Validation Acc:-\",\" \",tempTestAcc)\n",
        "\n",
        "    trainAcc=[]\n",
        "    ValidAcc=[]\n",
        "    trainLosses=[]\n",
        "    validLosses=[]\n",
        "\n",
        "  return model,avgTrainLoss,avgValidLoss,avgTrainAcc,avgValidAcc"
      ],
      "execution_count": null,
      "outputs": []
    },
    {
      "cell_type": "markdown",
      "metadata": {
        "id": "RH0JZ9gmNTnL"
      },
      "source": [
        "The model was trained for 10 epochs"
      ]
    },
    {
      "cell_type": "code",
      "metadata": {
        "colab": {
          "base_uri": "https://localhost:8080/"
        },
        "id": "hWjeHNt3jTht",
        "outputId": "6470ad01-4aed-4027-cef0-4fd687b6600e"
      },
      "source": [
        "encoder_kimcnn,avgTrainLoss,avgValidLoss,avgTrainAcc,avgValidAcc=train_model(encoder_kimcnn,10)"
      ],
      "execution_count": null,
      "outputs": [
        {
          "output_type": "stream",
          "text": [
            "Epoch: 0\n",
            "Training.....\n",
            "Targets:- tensor([26, 26, 22,  1, 16,  9, 16,  3], device='cuda:0')\n",
            "Predictions:- tensor([26, 26,  4, 24, 16, 13, 16, 10], device='cuda:0')\n",
            "Loss: 1.1911780834197998  Accuracy: 50.0 %\n",
            "Targets:- tensor([23, 24,  8,  5, 20,  8, 23,  8], device='cuda:0')\n",
            "Predictions:- tensor([23, 19,  8,  5, 20,  8, 23,  8], device='cuda:0')\n",
            "Loss: 0.33151930570602417  Accuracy: 87.5 %\n",
            "Targets:- tensor([18, 17, 22,  4, 24, 10,  8,  7], device='cuda:0')\n",
            "Predictions:- tensor([18, 17, 22,  4, 24, 10,  8,  7], device='cuda:0')\n",
            "Loss: 0.15892168879508972  Accuracy: 100.0 %\n",
            "Targets:- tensor([11,  6, 17,  6, 16, 17, 26,  9], device='cuda:0')\n",
            "Predictions:- tensor([11,  6, 17,  6, 16, 17, 26,  9], device='cuda:0')\n",
            "Loss: 0.30991169810295105  Accuracy: 100.0 %\n",
            "Targets:- tensor([ 1, 10, 25, 17, 26, 20,  3, 16], device='cuda:0')\n",
            "Predictions:- tensor([ 1, 24, 25, 17, 26, 20,  3, 16], device='cuda:0')\n",
            "Loss: 0.21280893683433533  Accuracy: 87.5 %\n",
            "Targets:- tensor([18, 13,  0, 11, 18, 18,  0, 23], device='cuda:0')\n",
            "Predictions:- tensor([18, 13,  0, 11, 17, 18,  0, 23], device='cuda:0')\n",
            "Loss: 0.2972090542316437  Accuracy: 87.5 %\n",
            "Targets:- tensor([16,  5, 14, 17, 11, 19, 13, 25], device='cuda:0')\n",
            "Predictions:- tensor([16,  5, 14, 17, 11, 24, 13, 25], device='cuda:0')\n",
            "Loss: 0.21625390648841858  Accuracy: 87.5 %\n",
            "Targets:- tensor([21, 15,  2, 13,  0, 16, 26, 22], device='cuda:0')\n",
            "Predictions:- tensor([21, 15,  2, 13,  0, 16, 26, 22], device='cuda:0')\n",
            "Loss: 0.07054845243692398  Accuracy: 100.0 %\n",
            "Targets:- tensor([25, 10,  1, 17, 26,  6, 12,  7], device='cuda:0')\n",
            "Predictions:- tensor([25, 10,  1, 17, 26,  6, 19,  7], device='cuda:0')\n",
            "Loss: 0.15864548087120056  Accuracy: 87.5 %\n",
            "Validating.....\n",
            "Loss: 0.03487104922533035  Accuracy: 100.0 %\n",
            "Epoch Number:- 0    Training Loss:-   0.602430432041873 Validation Loss:-   0.17679100381532245 Training Acc:-   83.03662258392676 Validation Acc:-   95.3760162601626\n",
            "Epoch: 1\n",
            "Training.....\n",
            "Targets:- tensor([ 0,  0,  3, 16, 15, 22,  5, 23], device='cuda:0')\n",
            "Predictions:- tensor([ 0,  0,  3, 16, 15, 22,  5, 23], device='cuda:0')\n",
            "Loss: 0.061852242797613144  Accuracy: 100.0 %\n",
            "Targets:- tensor([ 7, 25, 11,  0,  8,  7,  2,  5], device='cuda:0')\n",
            "Predictions:- tensor([ 7, 25, 11,  0,  8,  7,  2,  5], device='cuda:0')\n",
            "Loss: 0.005747313145548105  Accuracy: 100.0 %\n",
            "Targets:- tensor([21,  1, 25, 16, 20,  4, 19,  9], device='cuda:0')\n",
            "Predictions:- tensor([21,  1, 25, 16, 20,  4, 19,  9], device='cuda:0')\n",
            "Loss: 0.044290199875831604  Accuracy: 100.0 %\n",
            "Targets:- tensor([11, 17, 18, 25, 19, 21, 14,  1], device='cuda:0')\n",
            "Predictions:- tensor([11, 17, 18, 25, 19, 21, 14,  1], device='cuda:0')\n",
            "Loss: 0.055748943239450455  Accuracy: 100.0 %\n",
            "Targets:- tensor([18,  6, 12, 13, 22,  9, 14, 22], device='cuda:0')\n",
            "Predictions:- tensor([18,  6, 12, 13, 22,  9, 14, 22], device='cuda:0')\n",
            "Loss: 0.007903371006250381  Accuracy: 100.0 %\n",
            "Targets:- tensor([19, 17, 26,  6,  8,  5, 19, 23], device='cuda:0')\n",
            "Predictions:- tensor([19, 17, 26, 18,  8,  5, 19, 23], device='cuda:0')\n",
            "Loss: 0.515068769454956  Accuracy: 87.5 %\n",
            "Targets:- tensor([ 0, 24,  9,  7, 24, 14, 22,  8], device='cuda:0')\n",
            "Predictions:- tensor([ 0, 24,  9,  7, 24,  8, 22,  8], device='cuda:0')\n",
            "Loss: 0.1780722290277481  Accuracy: 87.5 %\n",
            "Targets:- tensor([14, 20, 20, 10, 26, 22, 23, 20], device='cuda:0')\n",
            "Predictions:- tensor([14, 20, 20, 10, 26, 22, 23, 20], device='cuda:0')\n",
            "Loss: 0.0015662771183997393  Accuracy: 100.0 %\n",
            "Targets:- tensor([15, 19, 22, 10, 22, 15,  8,  8], device='cuda:0')\n",
            "Predictions:- tensor([15, 19, 22, 10, 22, 15, 14,  8], device='cuda:0')\n",
            "Loss: 0.21755161881446838  Accuracy: 87.5 %\n",
            "Targets:- tensor([26,  7, 22,  1,  1, 23, 13, 22], device='cuda:0')\n",
            "Predictions:- tensor([26,  7, 22,  1,  1, 23, 13, 22], device='cuda:0')\n",
            "Loss: 0.09343580156564713  Accuracy: 100.0 %\n",
            "Validating.....\n",
            "Loss: 0.011563858948647976  Accuracy: 100.0 %\n",
            "Epoch Number:- 1    Training Loss:-   0.17029492829644807 Validation Loss:-   0.13228941947099662 Training Acc:-   95.0470498474059 Validation Acc:-   96.03658536585365\n",
            "Epoch: 2\n",
            "Training.....\n",
            "Targets:- tensor([16,  6,  9, 18, 14, 19, 16, 14], device='cuda:0')\n",
            "Predictions:- tensor([16,  6,  9, 18, 14, 19, 16, 14], device='cuda:0')\n",
            "Loss: 0.002275151200592518  Accuracy: 100.0 %\n",
            "Targets:- tensor([ 0, 15, 24, 11, 16, 19, 20, 13], device='cuda:0')\n",
            "Predictions:- tensor([ 0, 15, 24, 11, 16, 19, 20, 13], device='cuda:0')\n",
            "Loss: 0.10902496427297592  Accuracy: 100.0 %\n",
            "Targets:- tensor([20, 25,  4, 24,  2, 26, 25, 16], device='cuda:0')\n",
            "Predictions:- tensor([20, 25,  4, 24,  2, 26, 25, 16], device='cuda:0')\n",
            "Loss: 0.003221603576093912  Accuracy: 100.0 %\n",
            "Targets:- tensor([ 9,  9, 20,  3, 23,  7, 16, 12], device='cuda:0')\n",
            "Predictions:- tensor([ 9,  9, 20,  3, 23,  7, 16, 12], device='cuda:0')\n",
            "Loss: 0.023792898282408714  Accuracy: 100.0 %\n",
            "Targets:- tensor([14, 10,  1, 22,  0, 17, 13,  5], device='cuda:0')\n",
            "Predictions:- tensor([14, 10,  1, 22,  0, 17, 13,  5], device='cuda:0')\n",
            "Loss: 0.11566329002380371  Accuracy: 100.0 %\n",
            "Targets:- tensor([ 2, 19, 14, 23, 11,  2,  7, 26], device='cuda:0')\n",
            "Predictions:- tensor([ 2, 19, 14, 23, 11,  2,  7, 26], device='cuda:0')\n",
            "Loss: 0.0008470716420561075  Accuracy: 100.0 %\n",
            "Targets:- tensor([14,  7,  1, 16,  4, 17,  1, 24], device='cuda:0')\n",
            "Predictions:- tensor([14,  7,  1, 16,  4, 17,  1,  0], device='cuda:0')\n",
            "Loss: 0.5277161598205566  Accuracy: 87.5 %\n",
            "Targets:- tensor([ 5,  4, 10,  3,  6, 14, 17, 25], device='cuda:0')\n",
            "Predictions:- tensor([ 5,  4, 10,  3, 18, 14, 17, 25], device='cuda:0')\n",
            "Loss: 0.8968443870544434  Accuracy: 87.5 %\n",
            "Targets:- tensor([ 9, 25,  5,  9,  1, 24, 13, 26], device='cuda:0')\n",
            "Predictions:- tensor([ 9, 25,  5,  9,  1, 24, 13, 26], device='cuda:0')\n",
            "Loss: 0.018233023583889008  Accuracy: 100.0 %\n",
            "Targets:- tensor([16, 14,  6,  3,  0, 19, 12, 15], device='cuda:0')\n",
            "Predictions:- tensor([16, 14,  6, 21,  0, 21, 12, 15], device='cuda:0')\n",
            "Loss: 1.045154333114624  Accuracy: 75.0 %\n",
            "Validating.....\n",
            "Loss: 0.00018101742898579687  Accuracy: 100.0 %\n",
            "Epoch Number:- 2    Training Loss:-   0.14013093230092202 Validation Loss:-   0.12632940135417295 Training Acc:-   95.89903357070193 Validation Acc:-   96.4769647696477\n",
            "Epoch: 3\n",
            "Training.....\n",
            "Targets:- tensor([18,  8,  3, 13,  6, 14,  6,  1], device='cuda:0')\n",
            "Predictions:- tensor([18,  8,  3, 13,  6, 14,  6,  1], device='cuda:0')\n",
            "Loss: 0.10794702917337418  Accuracy: 100.0 %\n",
            "Targets:- tensor([ 1,  8, 25, 25, 17,  4,  7, 11], device='cuda:0')\n",
            "Predictions:- tensor([ 1,  8, 25,  5, 17,  4,  7, 11], device='cuda:0')\n",
            "Loss: 0.23549285531044006  Accuracy: 87.5 %\n",
            "Targets:- tensor([ 0, 14,  9, 17, 21, 22, 10, 10], device='cuda:0')\n",
            "Predictions:- tensor([ 0, 14,  9, 17, 21, 22, 10, 10], device='cuda:0')\n",
            "Loss: 0.016108455136418343  Accuracy: 100.0 %\n",
            "Targets:- tensor([19, 16,  0,  6, 15, 25, 21, 11], device='cuda:0')\n",
            "Predictions:- tensor([19, 16,  0,  6, 15, 25, 21, 11], device='cuda:0')\n",
            "Loss: 0.0026483957190066576  Accuracy: 100.0 %\n",
            "Targets:- tensor([ 2, 18, 22,  0, 19,  0, 24, 19], device='cuda:0')\n",
            "Predictions:- tensor([ 2, 18, 22, 18, 24,  0, 24, 19], device='cuda:0')\n",
            "Loss: 0.5327301025390625  Accuracy: 75.0 %\n",
            "Targets:- tensor([ 3,  2, 23,  9, 14,  3,  0, 12], device='cuda:0')\n",
            "Predictions:- tensor([ 3,  2, 23,  9, 14,  3,  0,  1], device='cuda:0')\n",
            "Loss: 0.48218369483947754  Accuracy: 87.5 %\n",
            "Targets:- tensor([ 4, 18, 18, 17,  6,  3,  0,  2], device='cuda:0')\n",
            "Predictions:- tensor([ 4, 18, 18, 17,  6,  3,  0,  2], device='cuda:0')\n",
            "Loss: 0.007191231939941645  Accuracy: 100.0 %\n",
            "Targets:- tensor([13, 16,  4, 18, 15,  6,  2,  0], device='cuda:0')\n",
            "Predictions:- tensor([13, 16,  4, 18, 15,  6,  2,  0], device='cuda:0')\n",
            "Loss: 0.0007768344366922975  Accuracy: 100.0 %\n",
            "Targets:- tensor([ 4, 24,  8,  2,  6, 22, 26,  9], device='cuda:0')\n",
            "Predictions:- tensor([ 4, 24,  8,  2,  3, 22, 26,  9], device='cuda:0')\n",
            "Loss: 0.30145981907844543  Accuracy: 87.5 %\n",
            "Targets:- tensor([12, 24, 23, 11, 20, 21, 19, 11], device='cuda:0')\n",
            "Predictions:- tensor([12, 24, 23, 11, 20, 21, 19, 11], device='cuda:0')\n",
            "Loss: 0.040041305124759674  Accuracy: 100.0 %\n",
            "Validating.....\n",
            "Loss: 0.0013067550025880337  Accuracy: 100.0 %\n",
            "Epoch Number:- 3    Training Loss:-   0.11607756641017178 Validation Loss:-   0.12805642303141124 Training Acc:-   96.33138351983723 Validation Acc:-   96.76067073170732\n",
            "Epoch: 4\n",
            "Training.....\n",
            "Targets:- tensor([16,  8,  8,  7,  3,  5,  4, 19], device='cuda:0')\n",
            "Predictions:- tensor([16,  8,  8,  7,  3,  5,  4, 19], device='cuda:0')\n",
            "Loss: 0.005084958393126726  Accuracy: 100.0 %\n",
            "Targets:- tensor([17,  0, 21,  0, 22, 20, 24, 26], device='cuda:0')\n",
            "Predictions:- tensor([17,  0, 21,  0, 22, 20, 19, 26], device='cuda:0')\n",
            "Loss: 0.1812795102596283  Accuracy: 87.5 %\n",
            "Targets:- tensor([ 6, 23, 11, 16, 14, 22, 24, 24], device='cuda:0')\n",
            "Predictions:- tensor([ 6, 23, 11, 16, 14, 22, 24, 24], device='cuda:0')\n",
            "Loss: 0.06109282374382019  Accuracy: 100.0 %\n",
            "Targets:- tensor([ 6, 15, 16, 12,  5,  1, 14, 21], device='cuda:0')\n",
            "Predictions:- tensor([ 6, 15, 16, 12,  5,  1, 14, 21], device='cuda:0')\n",
            "Loss: 0.002062934683635831  Accuracy: 100.0 %\n",
            "Targets:- tensor([14, 23, 20,  0,  1, 23, 16,  6], device='cuda:0')\n",
            "Predictions:- tensor([14, 23, 20,  0,  1, 23, 16,  6], device='cuda:0')\n",
            "Loss: 0.002383992774412036  Accuracy: 100.0 %\n",
            "Targets:- tensor([25,  8, 24, 14, 15,  5, 26, 15], device='cuda:0')\n",
            "Predictions:- tensor([25,  8, 24, 14, 15,  5, 26, 15], device='cuda:0')\n",
            "Loss: 0.0015756286447867751  Accuracy: 100.0 %\n",
            "Targets:- tensor([25, 18, 13, 21,  2,  3, 15, 23], device='cuda:0')\n",
            "Predictions:- tensor([25, 18, 13, 21,  2,  3, 15, 23], device='cuda:0')\n",
            "Loss: 0.0003790847840718925  Accuracy: 100.0 %\n",
            "Targets:- tensor([ 5, 23, 12, 11, 17, 19,  7, 24], device='cuda:0')\n",
            "Predictions:- tensor([ 5, 23, 12, 11, 17, 19,  7, 24], device='cuda:0')\n",
            "Loss: 0.13985437154769897  Accuracy: 100.0 %\n",
            "Targets:- tensor([20, 16,  1, 20,  6, 13, 25,  5], device='cuda:0')\n",
            "Predictions:- tensor([20, 16,  1, 20,  6, 13, 25,  5], device='cuda:0')\n",
            "Loss: 0.03670522943139076  Accuracy: 100.0 %\n",
            "Targets:- tensor([ 5, 24, 19,  6,  9,  2,  3, 13], device='cuda:0')\n",
            "Predictions:- tensor([ 5, 24, 19,  6,  9,  2,  3, 13], device='cuda:0')\n",
            "Loss: 0.13303497433662415  Accuracy: 100.0 %\n",
            "Validating.....\n",
            "Loss: 0.008554872125387192  Accuracy: 100.0 %\n",
            "Loss: 0.0061994390562176704  Accuracy: 100.0 %\n",
            "Epoch Number:- 4    Training Loss:-   0.11289514498507681 Validation Loss:-   0.13599296258661622 Training Acc:-   96.71922685656155 Validation Acc:-   96.79539295599713\n",
            "Epoch: 5\n",
            "Training.....\n",
            "Targets:- tensor([14,  7, 22, 16,  3,  1, 16,  4], device='cuda:0')\n",
            "Predictions:- tensor([14,  7, 22, 16,  3,  1, 16,  4], device='cuda:0')\n",
            "Loss: 0.003539301687851548  Accuracy: 100.0 %\n",
            "Targets:- tensor([16, 23,  2, 22, 25, 15,  2, 26], device='cuda:0')\n",
            "Predictions:- tensor([ 1, 23,  2, 22, 25, 15,  2, 26], device='cuda:0')\n",
            "Loss: 0.153041809797287  Accuracy: 87.5 %\n",
            "Targets:- tensor([ 5,  8,  2, 11, 17, 23, 15, 20], device='cuda:0')\n",
            "Predictions:- tensor([ 5,  8,  2, 11, 17, 23, 15, 20], device='cuda:0')\n",
            "Loss: 0.000586648122407496  Accuracy: 100.0 %\n",
            "Targets:- tensor([19, 25, 26,  4,  3, 24, 17,  0], device='cuda:0')\n",
            "Predictions:- tensor([19, 25, 26,  4,  3, 24, 17,  0], device='cuda:0')\n",
            "Loss: 0.03283226490020752  Accuracy: 100.0 %\n",
            "Targets:- tensor([15, 22,  0,  9,  3,  2, 25, 20], device='cuda:0')\n",
            "Predictions:- tensor([15, 22,  0,  9,  3,  2, 25, 20], device='cuda:0')\n",
            "Loss: 0.04558787867426872  Accuracy: 100.0 %\n",
            "Targets:- tensor([25, 19,  9, 16, 23, 12, 12,  9], device='cuda:0')\n",
            "Predictions:- tensor([25, 19,  9, 16, 23, 12, 12,  9], device='cuda:0')\n",
            "Loss: 0.00022668771271128207  Accuracy: 100.0 %\n",
            "Targets:- tensor([21, 10, 21,  6, 12, 16,  3, 25], device='cuda:0')\n",
            "Predictions:- tensor([21, 10, 21,  6, 12, 16,  3, 25], device='cuda:0')\n",
            "Loss: 0.025520872324705124  Accuracy: 100.0 %\n",
            "Targets:- tensor([ 6, 20, 13,  6, 18,  6, 19, 10], device='cuda:0')\n",
            "Predictions:- tensor([ 6, 20, 13,  6, 18,  6, 19, 10], device='cuda:0')\n",
            "Loss: 0.008851373568177223  Accuracy: 100.0 %\n",
            "Targets:- tensor([17, 13, 12, 19, 13, 26,  5, 23], device='cuda:0')\n",
            "Predictions:- tensor([ 1, 13, 12, 19, 13, 26,  5, 23], device='cuda:0')\n",
            "Loss: 0.2973446846008301  Accuracy: 87.5 %\n",
            "Validating.....\n",
            "Loss: 0.027912387624382973  Accuracy: 100.0 %\n",
            "Epoch Number:- 5    Training Loss:-   0.10721438043658373 Validation Loss:-   0.1605427568863341 Training Acc:-   96.95447609359105 Validation Acc:-   96.83830171807348\n",
            "Epoch: 6\n",
            "Training.....\n",
            "Targets:- tensor([26,  2, 14,  2,  0, 24,  8,  8], device='cuda:0')\n",
            "Predictions:- tensor([26,  2, 14,  2,  0, 12,  8,  8], device='cuda:0')\n",
            "Loss: 0.21885140240192413  Accuracy: 87.5 %\n",
            "Targets:- tensor([23, 13, 24, 11, 12, 14, 15, 23], device='cuda:0')\n",
            "Predictions:- tensor([23, 13, 24, 11, 12, 14, 15, 23], device='cuda:0')\n",
            "Loss: 0.04749250411987305  Accuracy: 100.0 %\n",
            "Targets:- tensor([ 7, 14, 26,  1, 22, 12,  5,  8], device='cuda:0')\n",
            "Predictions:- tensor([ 7, 14, 26,  1, 22, 12,  5,  8], device='cuda:0')\n",
            "Loss: 0.00889731477946043  Accuracy: 100.0 %\n",
            "Targets:- tensor([10, 26,  7, 17,  7,  6, 25, 24], device='cuda:0')\n",
            "Predictions:- tensor([10, 26,  7, 17,  7,  6, 25, 24], device='cuda:0')\n",
            "Loss: 0.0005594870890490711  Accuracy: 100.0 %\n",
            "Targets:- tensor([12, 13,  3, 16,  0, 15,  4, 20], device='cuda:0')\n",
            "Predictions:- tensor([12, 13,  3, 16,  0, 15,  4, 20], device='cuda:0')\n",
            "Loss: 0.005523648578673601  Accuracy: 100.0 %\n",
            "Targets:- tensor([ 4,  7,  6, 17, 20, 17,  8,  2], device='cuda:0')\n",
            "Predictions:- tensor([ 4,  7,  6, 17, 20, 17,  8,  2], device='cuda:0')\n",
            "Loss: 0.009394773282110691  Accuracy: 100.0 %\n",
            "Targets:- tensor([11, 25,  0,  3,  1, 15, 19, 24], device='cuda:0')\n",
            "Predictions:- tensor([11, 25,  0,  3,  1, 15, 19, 24], device='cuda:0')\n",
            "Loss: 0.020000332966446877  Accuracy: 100.0 %\n",
            "Targets:- tensor([ 0, 14,  5, 11, 10, 12, 15, 15], device='cuda:0')\n",
            "Predictions:- tensor([ 0, 14,  5, 11, 10, 12, 15, 15], device='cuda:0')\n",
            "Loss: 0.011404449120163918  Accuracy: 100.0 %\n",
            "Targets:- tensor([ 7, 19, 21,  9, 25, 16,  0,  9], device='cuda:0')\n",
            "Predictions:- tensor([ 7, 19, 21,  9, 25, 16,  0,  9], device='cuda:0')\n",
            "Loss: 0.0027851578779518604  Accuracy: 100.0 %\n",
            "Targets:- tensor([18,  2,  1, 23,  3, 21,  1, 22], device='cuda:0')\n",
            "Predictions:- tensor([18,  2,  1, 23,  3, 21,  1, 22], device='cuda:0')\n",
            "Loss: 0.10714415460824966  Accuracy: 100.0 %\n",
            "Validating.....\n",
            "Loss: 0.007477333769202232  Accuracy: 100.0 %\n",
            "Epoch Number:- 6    Training Loss:-   0.10058284893567858 Validation Loss:-   0.1389334112527871 Training Acc:-   97.1706510681587 Validation Acc:-   96.78910182106647\n",
            "Epoch: 7\n",
            "Training.....\n",
            "Targets:- tensor([25, 23, 20, 11, 13, 23, 20, 11], device='cuda:0')\n",
            "Predictions:- tensor([25, 23, 20, 11, 13, 23, 20, 11], device='cuda:0')\n",
            "Loss: 0.026545288041234016  Accuracy: 100.0 %\n",
            "Targets:- tensor([26,  8, 11, 22, 11, 15,  6,  2], device='cuda:0')\n",
            "Predictions:- tensor([26,  8, 11, 22, 11, 15,  6,  2], device='cuda:0')\n",
            "Loss: 7.448310498148203e-05  Accuracy: 100.0 %\n",
            "Targets:- tensor([22,  3, 13, 19,  1,  9, 17, 14], device='cuda:0')\n",
            "Predictions:- tensor([22,  3, 13, 24,  1,  9, 17, 14], device='cuda:0')\n",
            "Loss: 0.2358686774969101  Accuracy: 87.5 %\n",
            "Targets:- tensor([16, 23,  0, 20,  0, 15, 25, 26], device='cuda:0')\n",
            "Predictions:- tensor([16, 23,  0, 20,  0, 15, 25, 26], device='cuda:0')\n",
            "Loss: 9.839952690526843e-05  Accuracy: 100.0 %\n",
            "Targets:- tensor([ 7, 17, 16, 25, 24, 17,  6, 20], device='cuda:0')\n",
            "Predictions:- tensor([ 7, 17, 16, 25, 24, 17,  6, 20], device='cuda:0')\n",
            "Loss: 0.01833922415971756  Accuracy: 100.0 %\n",
            "Targets:- tensor([23,  2,  9,  6, 11, 14, 24, 14], device='cuda:0')\n",
            "Predictions:- tensor([23,  2,  9,  6, 11, 14, 24, 14], device='cuda:0')\n",
            "Loss: 0.04704165458679199  Accuracy: 100.0 %\n",
            "Targets:- tensor([25, 19, 14, 14,  3,  3, 10,  3], device='cuda:0')\n",
            "Predictions:- tensor([25, 19, 14, 14,  3,  3, 10,  3], device='cuda:0')\n",
            "Loss: 0.010396797209978104  Accuracy: 100.0 %\n",
            "Targets:- tensor([25,  4, 19,  3, 25,  5,  6,  1], device='cuda:0')\n",
            "Predictions:- tensor([25,  4, 19,  3, 25,  5,  6,  1], device='cuda:0')\n",
            "Loss: 0.048457589000463486  Accuracy: 100.0 %\n",
            "Targets:- tensor([ 2, 24, 21, 10,  2, 16,  9, 22], device='cuda:0')\n",
            "Predictions:- tensor([ 2, 24, 21, 10,  2, 16,  9, 22], device='cuda:0')\n",
            "Loss: 0.010837226174771786  Accuracy: 100.0 %\n",
            "Targets:- tensor([25,  3,  0, 25, 19, 21,  9, 25], device='cuda:0')\n",
            "Predictions:- tensor([25,  3,  0, 25, 19, 21,  9, 25], device='cuda:0')\n",
            "Loss: 0.0023547422606498003  Accuracy: 100.0 %\n",
            "Validating.....\n",
            "Loss: 0.09117045998573303  Accuracy: 100.0 %\n",
            "Epoch Number:- 7    Training Loss:-   0.09176167194682389 Validation Loss:-   0.12102197694584015 Training Acc:-   97.73016276703967 Validation Acc:-   96.89193767066894\n",
            "Epoch: 8\n",
            "Training.....\n",
            "Targets:- tensor([11, 20,  1,  9, 16, 12,  0, 21], device='cuda:0')\n",
            "Predictions:- tensor([11, 20,  1,  9, 16, 12,  0, 21], device='cuda:0')\n",
            "Loss: 0.002307543531060219  Accuracy: 100.0 %\n",
            "Targets:- tensor([17, 11,  8, 20,  1,  2, 17, 12], device='cuda:0')\n",
            "Predictions:- tensor([17, 11,  8, 20,  1,  2, 17, 12], device='cuda:0')\n",
            "Loss: 0.1493745595216751  Accuracy: 100.0 %\n",
            "Targets:- tensor([ 2, 17, 13, 17, 13, 11,  4, 10], device='cuda:0')\n",
            "Predictions:- tensor([ 2, 17, 13, 17, 13, 11,  4, 10], device='cuda:0')\n",
            "Loss: 0.0004766779893543571  Accuracy: 100.0 %\n",
            "Targets:- tensor([10,  1, 22,  3,  1, 11,  3, 15], device='cuda:0')\n",
            "Predictions:- tensor([10,  1, 22,  3,  1, 11,  3, 15], device='cuda:0')\n",
            "Loss: 0.010776713490486145  Accuracy: 100.0 %\n",
            "Targets:- tensor([10,  2, 10, 22, 10,  7, 16,  6], device='cuda:0')\n",
            "Predictions:- tensor([10,  2, 10, 22, 10,  7, 16,  6], device='cuda:0')\n",
            "Loss: 0.0017985953018069267  Accuracy: 100.0 %\n",
            "Targets:- tensor([26, 10,  3,  9, 20,  2, 18,  8], device='cuda:0')\n",
            "Predictions:- tensor([26, 10, 17,  9, 20,  2, 18,  8], device='cuda:0')\n",
            "Loss: 0.47213485836982727  Accuracy: 87.5 %\n",
            "Targets:- tensor([ 1,  6,  4, 18,  2,  0, 15,  0], device='cuda:0')\n",
            "Predictions:- tensor([ 1,  6,  4, 18,  2,  0, 15,  0], device='cuda:0')\n",
            "Loss: 0.06544393301010132  Accuracy: 100.0 %\n",
            "Targets:- tensor([ 9, 22, 26, 22,  2, 23,  1, 24], device='cuda:0')\n",
            "Predictions:- tensor([ 9, 22, 26, 22,  2, 23,  1, 24], device='cuda:0')\n",
            "Loss: 0.024013733491301537  Accuracy: 100.0 %\n",
            "Targets:- tensor([15, 21, 13, 11, 13, 16, 26,  0], device='cuda:0')\n",
            "Predictions:- tensor([15, 21, 13, 11, 13, 16, 26,  0], device='cuda:0')\n",
            "Loss: 0.008528536185622215  Accuracy: 100.0 %\n",
            "Targets:- tensor([15, 23,  4, 16,  8, 21,  4,  1], device='cuda:0')\n",
            "Predictions:- tensor([15, 23,  4, 16,  8, 21,  4,  1], device='cuda:0')\n",
            "Loss: 0.07831433415412903  Accuracy: 100.0 %\n",
            "Validating.....\n",
            "Loss: 0.09495502710342407  Accuracy: 100.0 %\n",
            "Loss: 0.0025366588961333036  Accuracy: 100.0 %\n",
            "Epoch Number:- 8    Training Loss:-   0.10028584629454282 Validation Loss:-   0.1475438125850068 Training Acc:-   97.4059003051882 Validation Acc:-   96.95498343987194\n",
            "Epoch: 9\n",
            "Training.....\n",
            "Targets:- tensor([12, 11, 26, 11, 17, 18,  9, 11], device='cuda:0')\n",
            "Predictions:- tensor([12, 11, 26, 11, 17, 18,  9, 11], device='cuda:0')\n",
            "Loss: 0.06721561402082443  Accuracy: 100.0 %\n",
            "Targets:- tensor([ 0,  0, 12, 23,  7, 25, 11,  5], device='cuda:0')\n",
            "Predictions:- tensor([ 0,  0, 12, 23,  7, 25, 11,  5], device='cuda:0')\n",
            "Loss: 0.001940748537890613  Accuracy: 100.0 %\n",
            "Targets:- tensor([22, 14, 19,  9, 12, 26,  8, 15], device='cuda:0')\n",
            "Predictions:- tensor([22, 14, 19,  9, 12, 26,  8, 15], device='cuda:0')\n",
            "Loss: 0.0016638917149975896  Accuracy: 100.0 %\n",
            "Targets:- tensor([ 3, 18, 18, 17,  2,  0,  5, 13], device='cuda:0')\n",
            "Predictions:- tensor([ 3, 18, 18, 17,  2,  0,  5, 13], device='cuda:0')\n",
            "Loss: 0.016574352979660034  Accuracy: 100.0 %\n",
            "Targets:- tensor([23,  7, 15, 22,  5, 18, 19, 23], device='cuda:0')\n",
            "Predictions:- tensor([23,  7, 15, 22,  5, 18, 19, 23], device='cuda:0')\n",
            "Loss: 0.0056749628856778145  Accuracy: 100.0 %\n",
            "Targets:- tensor([19, 23, 12, 21, 14, 21, 18,  5], device='cuda:0')\n",
            "Predictions:- tensor([24, 23, 12, 21, 14, 21, 18,  5], device='cuda:0')\n",
            "Loss: 0.11828639358282089  Accuracy: 87.5 %\n",
            "Targets:- tensor([ 2,  1,  3, 25, 20, 11,  7, 21], device='cuda:0')\n",
            "Predictions:- tensor([ 2,  1,  3, 25, 20, 11,  7, 21], device='cuda:0')\n",
            "Loss: 0.011130738072097301  Accuracy: 100.0 %\n",
            "Targets:- tensor([ 9,  9,  8, 10,  8, 17, 16, 26], device='cuda:0')\n",
            "Predictions:- tensor([ 9,  9,  8, 10,  8, 17, 16, 26], device='cuda:0')\n",
            "Loss: 0.00019658856035675853  Accuracy: 100.0 %\n",
            "Targets:- tensor([16, 17, 15, 17,  8, 10,  1, 22], device='cuda:0')\n",
            "Predictions:- tensor([16, 17, 15, 17,  8, 10,  1, 22], device='cuda:0')\n",
            "Loss: 0.01601656712591648  Accuracy: 100.0 %\n",
            "Targets:- tensor([23, 15, 22, 19, 16,  7, 10, 13], device='cuda:0')\n",
            "Predictions:- tensor([23, 15, 22, 19, 16,  7, 10, 13], device='cuda:0')\n",
            "Loss: 0.0004707838816102594  Accuracy: 100.0 %\n",
            "Validating.....\n",
            "Loss: 0.00018771147006191313  Accuracy: 100.0 %\n",
            "Epoch Number:- 9    Training Loss:-   0.08604137253805125 Validation Loss:-   0.16731275553743255 Training Acc:-   97.62843336724313 Validation Acc:-   96.97493225035629\n"
          ],
          "name": "stdout"
        }
      ]
    },
    {
      "cell_type": "code",
      "metadata": {
        "colab": {
          "base_uri": "https://localhost:8080/",
          "height": 295
        },
        "id": "SlLJZ1X_jY8f",
        "outputId": "8fcbc955-3cc3-4cdc-fd4d-78b16394fc84"
      },
      "source": [
        "#Loss Behaviour against Epochs\n",
        "loss_train = avgTrainLoss\n",
        "loss_val = avgValidLoss\n",
        "epochs = range(1,11)\n",
        "plt.plot(epochs, loss_train, 'g', label='Training loss')\n",
        "plt.plot(epochs, loss_val, 'b', label='Validation loss')\n",
        "plt.title('Training and Validation loss(Encoder+KimCNN)')\n",
        "plt.xlabel('Epochs')\n",
        "plt.ylabel('Loss')\n",
        "plt.legend()\n",
        "plt.show()"
      ],
      "execution_count": null,
      "outputs": [
        {
          "output_type": "display_data",
          "data": {
            "image/png": "[encoded data removed]",
            "text/plain": [
              "<Figure size 432x288 with 1 Axes>"
            ]
          },
          "metadata": {
            "tags": [],
            "needs_background": "light"
          }
        }
      ]
    },
    {
      "cell_type": "code",
      "metadata": {
        "colab": {
          "base_uri": "https://localhost:8080/",
          "height": 295
        },
        "id": "h6OvBoeOjd3p",
        "outputId": "6193cc11-872b-44db-8c34-1d3f29ea20c2"
      },
      "source": [
        "#Accuracy Behaviour against Epochs\n",
        "acc_train = avgTrainAcc\n",
        "acc_val = avgValidAcc\n",
        "epochs = range(1,11)\n",
        "plt.plot(epochs, acc_train, 'g', label='Training Acc')\n",
        "plt.plot(epochs, acc_val, 'b', label='Validation Acc')\n",
        "plt.title('Training and Validation Accuracy(Encoder+KimCNN)')\n",
        "plt.xlabel('Epochs')\n",
        "plt.ylabel('Accuracy')\n",
        "plt.legend()\n",
        "plt.show()"
      ],
      "execution_count": null,
      "outputs": [
        {
          "output_type": "display_data",
          "data": {
            "image/png": "[encoded data removed]",
            "text/plain": [
              "<Figure size 432x288 with 1 Axes>"
            ]
          },
          "metadata": {
            "tags": [],
            "needs_background": "light"
          }
        }
      ]
    },
    {
      "cell_type": "code",
      "metadata": {
        "id": "NT3eDb-HjgkU"
      },
      "source": [
        "def checkClassificationMetrics(loader,model):\n",
        "\n",
        "  completeTargets=[]\n",
        "  completePreds=[]\n",
        "\n",
        "  correct=0\n",
        "  total=0\n",
        "  model.eval()\n",
        "\n",
        "  with torch.no_grad():\n",
        "    for data,targets in loader:\n",
        "\n",
        "      targets=targets.to(device=device)\n",
        "\n",
        "      scores=model(data)\n",
        "      _,predictions=scores.max(1)\n",
        "\n",
        "      targets=targets.tolist()\n",
        "      predictions=predictions.tolist()\n",
        "\n",
        "      completeTargets.append(targets)\n",
        "      completePreds.append(predictions)\n",
        "\n",
        "    completeTargetsFlattened=[item for sublist in completeTargets for item in sublist]\n",
        "    completePredsFlattened=[item for sublist in completePreds for item in sublist]\n",
        "\n",
        "    cm = ConfusionMatrix(actual_vector=completeTargetsFlattened, predict_vector=completePredsFlattened)\n",
        "    return cm"
      ],
      "execution_count": null,
      "outputs": []
    },
    {
      "cell_type": "code",
      "metadata": {
        "id": "5Wc7ZLjHjk-0"
      },
      "source": [
        "CM=checkClassificationMetrics(testLoader,encoder_kimcnn)"
      ],
      "execution_count": null,
      "outputs": []
    },
    {
      "cell_type": "markdown",
      "metadata": {
        "id": "hIewA3yyNtzb"
      },
      "source": [
        "A number of evaluation metrics were considered. The pycm module was utilized to calculate these metrics"
      ]
    },
    {
      "cell_type": "code",
      "metadata": {
        "colab": {
          "base_uri": "https://localhost:8080/"
        },
        "id": "RGr1T-2pjnHX",
        "outputId": "1f6575aa-5d78-4226-b35a-5d7613d7e628"
      },
      "source": [
        "print(\"Evaluation Metrics:-\")\n",
        "print(\"Accuracy:-\", CM.Overall_ACC*100)\n",
        "print(\"F1 Micro:-\", CM.F1_Micro)\n",
        "print(\"Kappa:-\",CM.Kappa)\n",
        "print(\"MCC:-\",CM.Overall_MCC)"
      ],
      "execution_count": null,
      "outputs": [
        {
          "output_type": "stream",
          "text": [
            "Evaluation Metrics:-\n",
            "Accuracy:- 95.3204476093591\n",
            "F1 Micro:- 0.953204476093591\n",
            "Kappa:- 0.9451386169576125\n",
            "MCC:- 0.9453243620665297\n"
          ],
          "name": "stdout"
        }
      ]
    },
    {
      "cell_type": "code",
      "metadata": {
        "id": "5PjZWg2yx0yv"
      },
      "source": [
        "torch.save(encoder_kimcnn.state_dict(),\"path_to_add/MIDAS_Task3/Models/Encoder_KimCNN.pt\")  #Please add path_to_add that is required for your local Machine"
      ],
      "execution_count": null,
      "outputs": []
    }
  ]
}
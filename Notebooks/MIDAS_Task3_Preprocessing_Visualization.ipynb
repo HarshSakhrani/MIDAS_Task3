{
  "nbformat": 4,
  "nbformat_minor": 0,
  "metadata": {
    "colab": {
      "name": "MIDAS_Task3_Preprocessing_Visualization.ipynb",
      "provenance": [],
      "toc_visible": true
    },
    "kernelspec": {
      "name": "python3",
      "display_name": "Python 3"
    },
    "language_info": {
      "name": "python"
    }
  },
  "cells": [
    {
      "cell_type": "code",
      "metadata": {
        "colab": {
          "base_uri": "https://localhost:8080/"
        },
        "id": "SxMPTPpJFlmW",
        "outputId": "ddb096de-6373-4d34-b448-22e03529d0e4"
      },
      "source": [
        "#Importing all the necessary libraries\n",
        "from matplotlib import pyplot\n",
        "import seaborn as sns\n",
        "import nltk\n",
        "nltk.download('punkt')\n",
        "from nltk.tokenize import sent_tokenize, word_tokenize\n",
        "from collections import Counter\n",
        "import pickle\n",
        "import sys\n",
        "from glob import glob  \n",
        "import math\n",
        "import shutil\n",
        "import os\n",
        "import pandas as pd\n",
        "import numpy as np\n",
        "import matplotlib.pyplot as plt"
      ],
      "execution_count": 1,
      "outputs": [
        {
          "output_type": "stream",
          "text": [
            "[nltk_data] Downloading package punkt to /root/nltk_data...\n",
            "[nltk_data]   Unzipping tokenizers/punkt.zip.\n"
          ],
          "name": "stdout"
        }
      ]
    },
    {
      "cell_type": "markdown",
      "metadata": {
        "id": "AWsaCpRVoNMI"
      },
      "source": [
        "# Pre-processing and Cleaning"
      ]
    },
    {
      "cell_type": "code",
      "metadata": {
        "colab": {
          "base_uri": "https://localhost:8080/"
        },
        "id": "HY-jUNaPP7Uy",
        "outputId": "81fcdcb6-dc29-4138-bd67-b9f3684e256c"
      },
      "source": [
        "df=pd.read_csv(\"path_to_add/MIDAS_Task3/Datasets/flipkart_com-ecommerce_sample - flipkart_com-ecommerce_sample - flipkart_com-ecommerce_sample.csv\",index_col=0) #Please add path_to_add that is required for your local Machine\n",
        "df=df.reset_index(drop=True)\n",
        "df.columns"
      ],
      "execution_count": 4,
      "outputs": [
        {
          "output_type": "execute_result",
          "data": {
            "text/plain": [
              "Index(['crawl_timestamp', 'product_url', 'product_name',\n",
              "       'product_category_tree', 'pid', 'retail_price', 'discounted_price',\n",
              "       'image', 'is_FK_Advantage_product', 'description', 'product_rating',\n",
              "       'overall_rating', 'brand', 'product_specifications'],\n",
              "      dtype='object')"
            ]
          },
          "metadata": {
            "tags": []
          },
          "execution_count": 4
        }
      ]
    },
    {
      "cell_type": "code",
      "metadata": {
        "id": "03RxniyyQGNY"
      },
      "source": [
        "#Reducing the dataframe to just the necessary columns\n",
        "df=df.loc[:,['description','image','product_category_tree']]"
      ],
      "execution_count": null,
      "outputs": []
    },
    {
      "cell_type": "markdown",
      "metadata": {
        "id": "FEgMDJb2owLa"
      },
      "source": [
        "Extracting the primary category for each row using basic string processing.                                                                     \n",
        "For eg:                                                                              \n",
        "**\"Clothing >> Women's Clothing >> Lingerie, Sleep & Swimwear >> Shorts >> Alisha Shorts >> Alisha Solid Women's Cycling Shorts\"** becomes **\"Clothing\"**"
      ]
    },
    {
      "cell_type": "code",
      "metadata": {
        "id": "7UwZiiz-QPUf"
      },
      "source": [
        "labels=[]\n",
        "for i in range(len(df)):\n",
        "  tempString=df.loc[i,\"product_category_tree\"]\n",
        "  labels.append(tempString[2:tempString.find(\">\")-1])\n",
        "df['Label']=labels"
      ],
      "execution_count": null,
      "outputs": []
    },
    {
      "cell_type": "markdown",
      "metadata": {
        "id": "7t1Z8_qRqFX6"
      },
      "source": [
        "The labels that had a frequency <=10 were removed which led to a reduction of **238** labels and **342** entries from the dataset.\n",
        "\n",
        "The final number of classes in the dataset are **27** now  "
      ]
    },
    {
      "cell_type": "code",
      "metadata": {
        "id": "6oTbI9UDQQlD",
        "colab": {
          "base_uri": "https://localhost:8080/"
        },
        "outputId": "c5c7f939-5111-4612-bb0b-1d1b46e4c6ad"
      },
      "source": [
        "labelOccuranceMap=Counter(labels)\n",
        "labelsToBeRemoved=[]\n",
        "for key,value in labelOccuranceMap.items():\n",
        "  if (value<=10):\n",
        "    labelsToBeRemoved.append(key)\n",
        "\n",
        "len(labelsToBeRemoved)"
      ],
      "execution_count": null,
      "outputs": [
        {
          "output_type": "execute_result",
          "data": {
            "text/plain": [
              "238"
            ]
          },
          "metadata": {
            "tags": []
          },
          "execution_count": 5
        }
      ]
    },
    {
      "cell_type": "code",
      "metadata": {
        "colab": {
          "base_uri": "https://localhost:8080/",
          "height": 424
        },
        "id": "2vjqy8mcqi3k",
        "outputId": "62d5c3af-209d-4492-c111-0ba584c45199"
      },
      "source": [
        "#Removing the labels present in labelsToBeRemoved\n",
        "df=df.query('Label not in @labelsToBeRemoved')\n",
        "df=df.reset_index(drop=True)\n",
        "df"
      ],
      "execution_count": null,
      "outputs": [
        {
          "output_type": "execute_result",
          "data": {
            "text/html": [
              "<div>\n",
              "<style scoped>\n",
              "    .dataframe tbody tr th:only-of-type {\n",
              "        vertical-align: middle;\n",
              "    }\n",
              "\n",
              "    .dataframe tbody tr th {\n",
              "        vertical-align: top;\n",
              "    }\n",
              "\n",
              "    .dataframe thead th {\n",
              "        text-align: right;\n",
              "    }\n",
              "</style>\n",
              "<table border=\"1\" class=\"dataframe\">\n",
              "  <thead>\n",
              "    <tr style=\"text-align: right;\">\n",
              "      <th></th>\n",
              "      <th>description</th>\n",
              "      <th>image</th>\n",
              "      <th>product_category_tree</th>\n",
              "      <th>Label</th>\n",
              "    </tr>\n",
              "  </thead>\n",
              "  <tbody>\n",
              "    <tr>\n",
              "      <th>0</th>\n",
              "      <td>Key Features of Alisha Solid Women's Cycling S...</td>\n",
              "      <td>[\"http://img5a.flixcart.com/image/short/u/4/a/...</td>\n",
              "      <td>[\"Clothing &gt;&gt; Women's Clothing &gt;&gt; Lingerie, Sl...</td>\n",
              "      <td>Clothing</td>\n",
              "    </tr>\n",
              "    <tr>\n",
              "      <th>1</th>\n",
              "      <td>FabHomeDecor Fabric Double Sofa Bed (Finish Co...</td>\n",
              "      <td>[\"http://img6a.flixcart.com/image/sofa-bed/j/f...</td>\n",
              "      <td>[\"Furniture &gt;&gt; Living Room Furniture &gt;&gt; Sofa B...</td>\n",
              "      <td>Furniture</td>\n",
              "    </tr>\n",
              "    <tr>\n",
              "      <th>2</th>\n",
              "      <td>Key Features of AW Bellies Sandals Wedges Heel...</td>\n",
              "      <td>[\"http://img5a.flixcart.com/image/shoe/7/z/z/r...</td>\n",
              "      <td>[\"Footwear &gt;&gt; Women's Footwear &gt;&gt; Ballerinas &gt;...</td>\n",
              "      <td>Footwear</td>\n",
              "    </tr>\n",
              "    <tr>\n",
              "      <th>3</th>\n",
              "      <td>Key Features of Alisha Solid Women's Cycling S...</td>\n",
              "      <td>[\"http://img5a.flixcart.com/image/short/6/2/h/...</td>\n",
              "      <td>[\"Clothing &gt;&gt; Women's Clothing &gt;&gt; Lingerie, Sl...</td>\n",
              "      <td>Clothing</td>\n",
              "    </tr>\n",
              "    <tr>\n",
              "      <th>4</th>\n",
              "      <td>Specifications of Sicons All Purpose Arnica Do...</td>\n",
              "      <td>[\"http://img5a.flixcart.com/image/pet-shampoo/...</td>\n",
              "      <td>[\"Pet Supplies &gt;&gt; Grooming &gt;&gt; Skin &amp; Coat Care...</td>\n",
              "      <td>Pet Supplies</td>\n",
              "    </tr>\n",
              "    <tr>\n",
              "      <th>...</th>\n",
              "      <td>...</td>\n",
              "      <td>...</td>\n",
              "      <td>...</td>\n",
              "      <td>...</td>\n",
              "    </tr>\n",
              "    <tr>\n",
              "      <th>19653</th>\n",
              "      <td>Buy WallDesign Small Vinyl Sticker for Rs.730 ...</td>\n",
              "      <td>[\"http://img6a.flixcart.com/image/wall-decorat...</td>\n",
              "      <td>[\"Baby Care &gt;&gt; Baby &amp; Kids Gifts &gt;&gt; Stickers &gt;...</td>\n",
              "      <td>Baby Care</td>\n",
              "    </tr>\n",
              "    <tr>\n",
              "      <th>19654</th>\n",
              "      <td>Buy Wallmantra Large Vinyl Stickers Sticker fo...</td>\n",
              "      <td>[\"http://img6a.flixcart.com/image/sticker/z/g/...</td>\n",
              "      <td>[\"Baby Care &gt;&gt; Baby &amp; Kids Gifts &gt;&gt; Stickers &gt;...</td>\n",
              "      <td>Baby Care</td>\n",
              "    </tr>\n",
              "    <tr>\n",
              "      <th>19655</th>\n",
              "      <td>Buy Elite Collection Medium Acrylic Sticker fo...</td>\n",
              "      <td>[\"http://img5a.flixcart.com/image/sticker/b/s/...</td>\n",
              "      <td>[\"Baby Care &gt;&gt; Baby &amp; Kids Gifts &gt;&gt; Stickers &gt;...</td>\n",
              "      <td>Baby Care</td>\n",
              "    </tr>\n",
              "    <tr>\n",
              "      <th>19656</th>\n",
              "      <td>Buy Elite Collection Medium Acrylic Sticker fo...</td>\n",
              "      <td>[\"http://img5a.flixcart.com/image/sticker/4/2/...</td>\n",
              "      <td>[\"Baby Care &gt;&gt; Baby &amp; Kids Gifts &gt;&gt; Stickers &gt;...</td>\n",
              "      <td>Baby Care</td>\n",
              "    </tr>\n",
              "    <tr>\n",
              "      <th>19657</th>\n",
              "      <td>Buy Elite Collection Medium Acrylic Sticker fo...</td>\n",
              "      <td>[\"http://img6a.flixcart.com/image/sticker/z/k/...</td>\n",
              "      <td>[\"Baby Care &gt;&gt; Baby &amp; Kids Gifts &gt;&gt; Stickers &gt;...</td>\n",
              "      <td>Baby Care</td>\n",
              "    </tr>\n",
              "  </tbody>\n",
              "</table>\n",
              "<p>19658 rows × 4 columns</p>\n",
              "</div>"
            ],
            "text/plain": [
              "                                             description  ...         Label\n",
              "0      Key Features of Alisha Solid Women's Cycling S...  ...      Clothing\n",
              "1      FabHomeDecor Fabric Double Sofa Bed (Finish Co...  ...     Furniture\n",
              "2      Key Features of AW Bellies Sandals Wedges Heel...  ...      Footwear\n",
              "3      Key Features of Alisha Solid Women's Cycling S...  ...      Clothing\n",
              "4      Specifications of Sicons All Purpose Arnica Do...  ...  Pet Supplies\n",
              "...                                                  ...  ...           ...\n",
              "19653  Buy WallDesign Small Vinyl Sticker for Rs.730 ...  ...     Baby Care\n",
              "19654  Buy Wallmantra Large Vinyl Stickers Sticker fo...  ...     Baby Care\n",
              "19655  Buy Elite Collection Medium Acrylic Sticker fo...  ...     Baby Care\n",
              "19656  Buy Elite Collection Medium Acrylic Sticker fo...  ...     Baby Care\n",
              "19657  Buy Elite Collection Medium Acrylic Sticker fo...  ...     Baby Care\n",
              "\n",
              "[19658 rows x 4 columns]"
            ]
          },
          "metadata": {
            "tags": []
          },
          "execution_count": 8
        }
      ]
    },
    {
      "cell_type": "markdown",
      "metadata": {
        "id": "JAT8D2R-s_3U"
      },
      "source": [
        "Label Encoder from sklearn was used to encode the string labels into integers"
      ]
    },
    {
      "cell_type": "code",
      "metadata": {
        "id": "5GTdJLquQapk"
      },
      "source": [
        "from sklearn import preprocessing\n",
        "labelEncoder=preprocessing.LabelEncoder()\n",
        "encodedLabelList=(labelEncoder.fit_transform(df['Label']))\n",
        "df['Label']=encodedLabelList"
      ],
      "execution_count": null,
      "outputs": []
    },
    {
      "cell_type": "code",
      "metadata": {
        "colab": {
          "base_uri": "https://localhost:8080/",
          "height": 424
        },
        "id": "290OtkriQjhX",
        "outputId": "155c1a85-ca94-4461-e79e-633d3653804d"
      },
      "source": [
        "df.to_csv(\"path_to_add/MIDAS_Task3/Datasets/Task3_Cleaned.csv\") #Please add path_to_add that is required for your local Machine\n",
        "df"
      ],
      "execution_count": null,
      "outputs": [
        {
          "output_type": "execute_result",
          "data": {
            "text/html": [
              "<div>\n",
              "<style scoped>\n",
              "    .dataframe tbody tr th:only-of-type {\n",
              "        vertical-align: middle;\n",
              "    }\n",
              "\n",
              "    .dataframe tbody tr th {\n",
              "        vertical-align: top;\n",
              "    }\n",
              "\n",
              "    .dataframe thead th {\n",
              "        text-align: right;\n",
              "    }\n",
              "</style>\n",
              "<table border=\"1\" class=\"dataframe\">\n",
              "  <thead>\n",
              "    <tr style=\"text-align: right;\">\n",
              "      <th></th>\n",
              "      <th>description</th>\n",
              "      <th>image</th>\n",
              "      <th>product_category_tree</th>\n",
              "      <th>Label</th>\n",
              "    </tr>\n",
              "  </thead>\n",
              "  <tbody>\n",
              "    <tr>\n",
              "      <th>0</th>\n",
              "      <td>Key Features of Alisha Solid Women's Cycling S...</td>\n",
              "      <td>[\"http://img5a.flixcart.com/image/short/u/4/a/...</td>\n",
              "      <td>[\"Clothing &gt;&gt; Women's Clothing &gt;&gt; Lingerie, Sl...</td>\n",
              "      <td>5</td>\n",
              "    </tr>\n",
              "    <tr>\n",
              "      <th>1</th>\n",
              "      <td>FabHomeDecor Fabric Double Sofa Bed (Finish Co...</td>\n",
              "      <td>[\"http://img6a.flixcart.com/image/sofa-bed/j/f...</td>\n",
              "      <td>[\"Furniture &gt;&gt; Living Room Furniture &gt;&gt; Sofa B...</td>\n",
              "      <td>8</td>\n",
              "    </tr>\n",
              "    <tr>\n",
              "      <th>2</th>\n",
              "      <td>Key Features of AW Bellies Sandals Wedges Heel...</td>\n",
              "      <td>[\"http://img5a.flixcart.com/image/shoe/7/z/z/r...</td>\n",
              "      <td>[\"Footwear &gt;&gt; Women's Footwear &gt;&gt; Ballerinas &gt;...</td>\n",
              "      <td>7</td>\n",
              "    </tr>\n",
              "    <tr>\n",
              "      <th>3</th>\n",
              "      <td>Key Features of Alisha Solid Women's Cycling S...</td>\n",
              "      <td>[\"http://img5a.flixcart.com/image/short/6/2/h/...</td>\n",
              "      <td>[\"Clothing &gt;&gt; Women's Clothing &gt;&gt; Lingerie, Sl...</td>\n",
              "      <td>5</td>\n",
              "    </tr>\n",
              "    <tr>\n",
              "      <th>4</th>\n",
              "      <td>Specifications of Sicons All Purpose Arnica Do...</td>\n",
              "      <td>[\"http://img5a.flixcart.com/image/pet-shampoo/...</td>\n",
              "      <td>[\"Pet Supplies &gt;&gt; Grooming &gt;&gt; Skin &amp; Coat Care...</td>\n",
              "      <td>20</td>\n",
              "    </tr>\n",
              "    <tr>\n",
              "      <th>...</th>\n",
              "      <td>...</td>\n",
              "      <td>...</td>\n",
              "      <td>...</td>\n",
              "      <td>...</td>\n",
              "    </tr>\n",
              "    <tr>\n",
              "      <th>19653</th>\n",
              "      <td>Buy WallDesign Small Vinyl Sticker for Rs.730 ...</td>\n",
              "      <td>[\"http://img6a.flixcart.com/image/wall-decorat...</td>\n",
              "      <td>[\"Baby Care &gt;&gt; Baby &amp; Kids Gifts &gt;&gt; Stickers &gt;...</td>\n",
              "      <td>1</td>\n",
              "    </tr>\n",
              "    <tr>\n",
              "      <th>19654</th>\n",
              "      <td>Buy Wallmantra Large Vinyl Stickers Sticker fo...</td>\n",
              "      <td>[\"http://img6a.flixcart.com/image/sticker/z/g/...</td>\n",
              "      <td>[\"Baby Care &gt;&gt; Baby &amp; Kids Gifts &gt;&gt; Stickers &gt;...</td>\n",
              "      <td>1</td>\n",
              "    </tr>\n",
              "    <tr>\n",
              "      <th>19655</th>\n",
              "      <td>Buy Elite Collection Medium Acrylic Sticker fo...</td>\n",
              "      <td>[\"http://img5a.flixcart.com/image/sticker/b/s/...</td>\n",
              "      <td>[\"Baby Care &gt;&gt; Baby &amp; Kids Gifts &gt;&gt; Stickers &gt;...</td>\n",
              "      <td>1</td>\n",
              "    </tr>\n",
              "    <tr>\n",
              "      <th>19656</th>\n",
              "      <td>Buy Elite Collection Medium Acrylic Sticker fo...</td>\n",
              "      <td>[\"http://img5a.flixcart.com/image/sticker/4/2/...</td>\n",
              "      <td>[\"Baby Care &gt;&gt; Baby &amp; Kids Gifts &gt;&gt; Stickers &gt;...</td>\n",
              "      <td>1</td>\n",
              "    </tr>\n",
              "    <tr>\n",
              "      <th>19657</th>\n",
              "      <td>Buy Elite Collection Medium Acrylic Sticker fo...</td>\n",
              "      <td>[\"http://img6a.flixcart.com/image/sticker/z/k/...</td>\n",
              "      <td>[\"Baby Care &gt;&gt; Baby &amp; Kids Gifts &gt;&gt; Stickers &gt;...</td>\n",
              "      <td>1</td>\n",
              "    </tr>\n",
              "  </tbody>\n",
              "</table>\n",
              "<p>19658 rows × 4 columns</p>\n",
              "</div>"
            ],
            "text/plain": [
              "                                             description  ... Label\n",
              "0      Key Features of Alisha Solid Women's Cycling S...  ...     5\n",
              "1      FabHomeDecor Fabric Double Sofa Bed (Finish Co...  ...     8\n",
              "2      Key Features of AW Bellies Sandals Wedges Heel...  ...     7\n",
              "3      Key Features of Alisha Solid Women's Cycling S...  ...     5\n",
              "4      Specifications of Sicons All Purpose Arnica Do...  ...    20\n",
              "...                                                  ...  ...   ...\n",
              "19653  Buy WallDesign Small Vinyl Sticker for Rs.730 ...  ...     1\n",
              "19654  Buy Wallmantra Large Vinyl Stickers Sticker fo...  ...     1\n",
              "19655  Buy Elite Collection Medium Acrylic Sticker fo...  ...     1\n",
              "19656  Buy Elite Collection Medium Acrylic Sticker fo...  ...     1\n",
              "19657  Buy Elite Collection Medium Acrylic Sticker fo...  ...     1\n",
              "\n",
              "[19658 rows x 4 columns]"
            ]
          },
          "metadata": {
            "tags": []
          },
          "execution_count": 7
        }
      ]
    },
    {
      "cell_type": "markdown",
      "metadata": {
        "id": "EYS5QHJDuPSa"
      },
      "source": [
        "# Extraction of Images for the MultiModal Model"
      ]
    },
    {
      "cell_type": "markdown",
      "metadata": {
        "id": "z0KLYenmZYzy"
      },
      "source": [
        "It is advised to not run this section's cells on your local machine. We have provided a drive link which will help you download the zip file comprising of all the images. And all the csv files are also present in the Datasets Folder in the GitHub Repository\n",
        "\n",
        "Drive Link for Task3_Images.zip: https://drive.google.com/file/d/1q65iLdSOSsqQxtRnW8I6DCNOTZNao7K4/view?usp=sharing\n"
      ]
    },
    {
      "cell_type": "code",
      "metadata": {
        "colab": {
          "base_uri": "https://localhost:8080/"
        },
        "id": "HrACEzA9ew5G",
        "outputId": "885b5d15-0420-4c3c-9099-c5d2d6ba47d4"
      },
      "source": [
        "#Extracting the indices which had an nan value for the image column\n",
        "for i in range(len(list(pd.isna(df['image'])))):\n",
        "  if(list(pd.isna(df['image']))[i]==True):\n",
        "    print(i)"
      ],
      "execution_count": null,
      "outputs": [
        {
          "output_type": "stream",
          "text": [
            "8488\n",
            "8796\n",
            "8831\n"
          ],
          "name": "stdout"
        }
      ]
    },
    {
      "cell_type": "markdown",
      "metadata": {
        "id": "oCWWFsreukec"
      },
      "source": [
        "The image column in the dataset has a product-image link for almost every row. Intutively it made sense to combine both the text and vision modalities to achieve better results.\n",
        "\n",
        "---\n",
        "\n",
        "The requests module along with basic string processing was used to code the following snippet which would download the product-image if the image link is valid.All the images were stored in the google drive and later used with the MultiModal Model."
      ]
    },
    {
      "cell_type": "code",
      "metadata": {
        "id": "pgmy5-zsRFhA"
      },
      "source": [
        "dataframe=pd.read_csv(\"/content/drive/MyDrive/MIDAS Task/Task3_Cleaned.csv\",index_col=0)\n",
        "dataframe=dataframe.reset_index(drop=True)\n",
        "imgPathList=[np.nan]*20000\n",
        "\n",
        "def extractImages(df,imgPathList):\n",
        "  for i in range(len(df)):\n",
        "    if (i==8488 or i==8796 or i==8831):\n",
        "      pass\n",
        "    else:\n",
        "      tempString=df.loc[i,'image']\n",
        "      imageURL=tempString[2:tempString.find(',')-1]\n",
        "      fileName = \"/content/drive/MyDrive/MIDAS Task/Task3 Images/\" + str(df.iloc[i,3]) + \"/\" + imageURL.split(\"/\")[-1]\n",
        "\n",
        "      r = requests.get(imageURL, stream = True)\n",
        "      if r.status_code == 200:\n",
        "        r.raw.decode_content = True\n",
        "\n",
        "        with open(fileName,'wb') as f:\n",
        "          shutil.copyfileobj(r.raw, f)\n",
        "\n",
        "        print('Image sucessfully Downloaded: ',i,fileName)\n",
        "        imgPathList[i]=fileName\n",
        "      else:\n",
        "        print('Image Couldn\\'t be retreived')\n",
        "\n",
        "extractImages(dataframe,imgPathList)"
      ],
      "execution_count": null,
      "outputs": []
    },
    {
      "cell_type": "code",
      "metadata": {
        "id": "pL0_SqJsRlOS"
      },
      "source": [
        "import pickle \n",
        "with open(\"imgPathList1.txt\",\"wb\") as fp:\n",
        "  pickle.dump(imgPathList,fp)\n",
        "\n",
        "!cp -r /content/imgPathList1.txt \"/content/drive/MyDrive/MIDAS Task\""
      ],
      "execution_count": null,
      "outputs": []
    },
    {
      "cell_type": "code",
      "metadata": {
        "id": "BYBzLkQnRqNB"
      },
      "source": [
        "with open(\"/content/drive/MyDrive/MIDAS Task/imgPathList1.txt\", \"rb\") as fp:  \n",
        "  imgPathList = pickle.load(fp)"
      ],
      "execution_count": null,
      "outputs": []
    },
    {
      "cell_type": "code",
      "metadata": {
        "id": "IKhQUUpCRutK"
      },
      "source": [
        "#Adding the Image Path column to the dataset\n",
        "df[\"Image Path\"]=imgPathList[:len(df)]"
      ],
      "execution_count": null,
      "outputs": []
    },
    {
      "cell_type": "code",
      "metadata": {
        "id": "DRvtsUWORwcq"
      },
      "source": [
        "#Removing nan values pertaining to the \"description\" column\n",
        "df = df[df['description'].notna()]\n",
        "df=df.reset_index(drop=True)"
      ],
      "execution_count": null,
      "outputs": []
    },
    {
      "cell_type": "code",
      "metadata": {
        "id": "YNbo91eDRzL9"
      },
      "source": [
        "#Saving the dataset pertaining to Text-Modality\n",
        "df.iloc[:,0:4].to_csv(\"/content/drive/MyDrive/MIDAS Task/Task3_Cleaned_TextModality.csv\")"
      ],
      "execution_count": null,
      "outputs": []
    },
    {
      "cell_type": "code",
      "metadata": {
        "id": "IX8Uvr0gR-Uo"
      },
      "source": [
        "#Removing nan values pertaining to the \"Image Path\" column\n",
        "df = df[df['Image Path'].notna()]\n",
        "df=df.reset_index(drop=True)"
      ],
      "execution_count": null,
      "outputs": []
    },
    {
      "cell_type": "code",
      "metadata": {
        "id": "yO4qUMopSER0"
      },
      "source": [
        "#Saving the dataset pertaining to both the Text and the vision modalities(MultiModal)\n",
        "df.to_csv(\"/content/drive/MyDrive/MIDAS Task/Task3_Cleaned_Multimodal.csv\")"
      ],
      "execution_count": null,
      "outputs": []
    },
    {
      "cell_type": "code",
      "metadata": {
        "id": "yEPBBAqKSNVu"
      },
      "source": [
        "dfTextMod=pd.read_csv(\"path_to_add/MIDAS_Task3/Datasets//Task3_Cleaned_TextModality.csv\",index_col=0)  ##Please add path_to_add that is required for your local Machine\n",
        "dfMultiMod=pd.read_csv(\"path_to_add/MIDAS_Task3/Datasets//Task3_Cleaned_Multimodal.csv\",index_col=0)  ##Please add path_to_add that is required for your local Machine"
      ],
      "execution_count": null,
      "outputs": []
    },
    {
      "cell_type": "markdown",
      "metadata": {
        "id": "c5SXZNq1nixT"
      },
      "source": [
        "# Visualization"
      ]
    },
    {
      "cell_type": "code",
      "metadata": {
        "id": "05w_iKsUqxB_"
      },
      "source": [
        "dfTextMod=pd.read_csv(\"path_to_add/MIDAS_Task3/Datasets/Task3_Cleaned_TextModality.csv\",index_col=0)  ##Please add path_to_add that is required for your local Machine\n",
        "dfMultiMod=pd.read_csv(\"path_to_add/MIDAS_Task3/Datasets/Task3_Cleaned_Multimodal.csv\",index_col=0)  ##Please add path_to_add that is required for your local Machine"
      ],
      "execution_count": null,
      "outputs": []
    },
    {
      "cell_type": "code",
      "metadata": {
        "id": "SVq2vJhSS0x4"
      },
      "source": [
        "labels=dict(dfTextMod['Label'].value_counts()).keys()\n",
        "occurances=dict(dfTextMod['Label'].value_counts()).values()"
      ],
      "execution_count": null,
      "outputs": []
    },
    {
      "cell_type": "markdown",
      "metadata": {
        "id": "ZiMRE9W6wh9c"
      },
      "source": [
        "The following Bar-Plot was visualized to figure out if there is an imbalance in the class and if there is an imbalance, one might have to use some sort of sampling technique."
      ]
    },
    {
      "cell_type": "code",
      "metadata": {
        "colab": {
          "base_uri": "https://localhost:8080/",
          "height": 621
        },
        "id": "G8hk1EtoTZVT",
        "outputId": "ae85b9cb-e28b-4c28-ece5-a26d8225c703"
      },
      "source": [
        "fig = plt.figure(figsize = (15, 10))\n",
        "plt.bar(labels, occurances, color ='maroon', width = 0.3)\n",
        "plt.xticks(np.arange(0, 27, step=1))\n",
        "plt.xlabel(\"Labels\")\n",
        "plt.ylabel(\"Frequency\")\n",
        "plt.title(\"Labels vs Freq\")\n",
        "plt.show()"
      ],
      "execution_count": null,
      "outputs": [
        {
          "output_type": "display_data",
          "data": {
            "image/png": "[encoded data removed]",
            "text/plain": [
              "<Figure size 1080x720 with 1 Axes>"
            ]
          },
          "metadata": {
            "tags": [],
            "needs_background": "light"
          }
        }
      ]
    },
    {
      "cell_type": "markdown",
      "metadata": {
        "id": "A2x1fmtAxJSs"
      },
      "source": [
        "A histogram was plotted to get an idea of the sequence length of the product-description. Approximately **70%** of the data has a seq-length of **0-50**. So if one wishes to use a pre-trained Transformer model like BERT(which is true in our case) the max-seq length plays an extremely important role in the performance of the model."
      ]
    },
    {
      "cell_type": "code",
      "metadata": {
        "id": "XTyEn-1sVxGv"
      },
      "source": [
        "tempList=[]\n",
        "dfTemp=dfTextMod\n",
        "for i in range(len(dfTextMod)):\n",
        "  temp=len(word_tokenize(dfTextMod.iloc[i,0]))\n",
        "  tempList.append(temp)\n",
        "dfTemp['Length']=tempList"
      ],
      "execution_count": null,
      "outputs": []
    },
    {
      "cell_type": "code",
      "metadata": {
        "colab": {
          "base_uri": "https://localhost:8080/",
          "height": 628
        },
        "id": "JgCpzRs3W9o5",
        "outputId": "63a9bf50-b48a-4d4b-9e74-6e6289cd1fa7"
      },
      "source": [
        "sns.set(rc={'figure.figsize':(15,10)})\n",
        "sns.histplot(data=dfTemp['Length'],bins=20)"
      ],
      "execution_count": null,
      "outputs": [
        {
          "output_type": "execute_result",
          "data": {
            "text/plain": [
              "<matplotlib.axes._subplots.AxesSubplot at 0x7f70ad821dd0>"
            ]
          },
          "metadata": {
            "tags": []
          },
          "execution_count": 13
        },
        {
          "output_type": "display_data",
          "data": {
            "image/png": "[encoded data removed]",
            "text/plain": [
              "<Figure size 1080x720 with 1 Axes>"
            ]
          },
          "metadata": {
            "tags": []
          }
        }
      ]
    }
  ]
}
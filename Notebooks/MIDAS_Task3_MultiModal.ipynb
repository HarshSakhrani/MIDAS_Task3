{
  "nbformat": 4,
  "nbformat_minor": 0,
  "metadata": {
    "colab": {
      "name": "MIDAS_Task3_MultiModal.ipynb",
      "provenance": []
    },
    "kernelspec": {
      "name": "python3",
      "display_name": "Python 3"
    },
    "language_info": {
      "name": "python"
    },
    "accelerator": "GPU",
    "widgets": {
      "application/vnd.jupyter.widget-state+json": {
        "1019723c0a474853b8188431bf4b2ae8": {
          "model_module": "@jupyter-widgets/controls",
          "model_name": "HBoxModel",
          "state": {
            "_view_name": "HBoxView",
            "_dom_classes": [],
            "_model_name": "HBoxModel",
            "_view_module": "@jupyter-widgets/controls",
            "_model_module_version": "1.5.0",
            "_view_count": null,
            "_view_module_version": "1.5.0",
            "box_style": "",
            "layout": "IPY_MODEL_199c1b0b7cb940b39cee5586a0971eaa",
            "_model_module": "@jupyter-widgets/controls",
            "children": [
              "IPY_MODEL_a58769548f434c72a61d4bf1e5e55ddb",
              "IPY_MODEL_8bba8ef9a1f84af699023c3eaeb9ec48"
            ]
          }
        },
        "199c1b0b7cb940b39cee5586a0971eaa": {
          "model_module": "@jupyter-widgets/base",
          "model_name": "LayoutModel",
          "state": {
            "_view_name": "LayoutView",
            "grid_template_rows": null,
            "right": null,
            "justify_content": null,
            "_view_module": "@jupyter-widgets/base",
            "overflow": null,
            "_model_module_version": "1.2.0",
            "_view_count": null,
            "flex_flow": null,
            "width": null,
            "min_width": null,
            "border": null,
            "align_items": null,
            "bottom": null,
            "_model_module": "@jupyter-widgets/base",
            "top": null,
            "grid_column": null,
            "overflow_y": null,
            "overflow_x": null,
            "grid_auto_flow": null,
            "grid_area": null,
            "grid_template_columns": null,
            "flex": null,
            "_model_name": "LayoutModel",
            "justify_items": null,
            "grid_row": null,
            "max_height": null,
            "align_content": null,
            "visibility": null,
            "align_self": null,
            "height": null,
            "min_height": null,
            "padding": null,
            "grid_auto_rows": null,
            "grid_gap": null,
            "max_width": null,
            "order": null,
            "_view_module_version": "1.2.0",
            "grid_template_areas": null,
            "object_position": null,
            "object_fit": null,
            "grid_auto_columns": null,
            "margin": null,
            "display": null,
            "left": null
          }
        },
        "a58769548f434c72a61d4bf1e5e55ddb": {
          "model_module": "@jupyter-widgets/controls",
          "model_name": "FloatProgressModel",
          "state": {
            "_view_name": "ProgressView",
            "style": "IPY_MODEL_91322f52bc144e42a9aad08252649970",
            "_dom_classes": [],
            "description": "Downloading: 100%",
            "_model_name": "FloatProgressModel",
            "bar_style": "success",
            "max": 433,
            "_view_module": "@jupyter-widgets/controls",
            "_model_module_version": "1.5.0",
            "value": 433,
            "_view_count": null,
            "_view_module_version": "1.5.0",
            "orientation": "horizontal",
            "min": 0,
            "description_tooltip": null,
            "_model_module": "@jupyter-widgets/controls",
            "layout": "IPY_MODEL_43e1427dfcb746968cd0d12b42bbee2e"
          }
        },
        "8bba8ef9a1f84af699023c3eaeb9ec48": {
          "model_module": "@jupyter-widgets/controls",
          "model_name": "HTMLModel",
          "state": {
            "_view_name": "HTMLView",
            "style": "IPY_MODEL_7de47b719ab84c5a8f9eba443648d3ac",
            "_dom_classes": [],
            "description": "",
            "_model_name": "HTMLModel",
            "placeholder": "​",
            "_view_module": "@jupyter-widgets/controls",
            "_model_module_version": "1.5.0",
            "value": " 433/433 [00:00&lt;00:00, 2.26kB/s]",
            "_view_count": null,
            "_view_module_version": "1.5.0",
            "description_tooltip": null,
            "_model_module": "@jupyter-widgets/controls",
            "layout": "IPY_MODEL_195d71336ece4230a17bdb4dc1fb1004"
          }
        },
        "91322f52bc144e42a9aad08252649970": {
          "model_module": "@jupyter-widgets/controls",
          "model_name": "ProgressStyleModel",
          "state": {
            "_view_name": "StyleView",
            "_model_name": "ProgressStyleModel",
            "description_width": "initial",
            "_view_module": "@jupyter-widgets/base",
            "_model_module_version": "1.5.0",
            "_view_count": null,
            "_view_module_version": "1.2.0",
            "bar_color": null,
            "_model_module": "@jupyter-widgets/controls"
          }
        },
        "43e1427dfcb746968cd0d12b42bbee2e": {
          "model_module": "@jupyter-widgets/base",
          "model_name": "LayoutModel",
          "state": {
            "_view_name": "LayoutView",
            "grid_template_rows": null,
            "right": null,
            "justify_content": null,
            "_view_module": "@jupyter-widgets/base",
            "overflow": null,
            "_model_module_version": "1.2.0",
            "_view_count": null,
            "flex_flow": null,
            "width": null,
            "min_width": null,
            "border": null,
            "align_items": null,
            "bottom": null,
            "_model_module": "@jupyter-widgets/base",
            "top": null,
            "grid_column": null,
            "overflow_y": null,
            "overflow_x": null,
            "grid_auto_flow": null,
            "grid_area": null,
            "grid_template_columns": null,
            "flex": null,
            "_model_name": "LayoutModel",
            "justify_items": null,
            "grid_row": null,
            "max_height": null,
            "align_content": null,
            "visibility": null,
            "align_self": null,
            "height": null,
            "min_height": null,
            "padding": null,
            "grid_auto_rows": null,
            "grid_gap": null,
            "max_width": null,
            "order": null,
            "_view_module_version": "1.2.0",
            "grid_template_areas": null,
            "object_position": null,
            "object_fit": null,
            "grid_auto_columns": null,
            "margin": null,
            "display": null,
            "left": null
          }
        },
        "7de47b719ab84c5a8f9eba443648d3ac": {
          "model_module": "@jupyter-widgets/controls",
          "model_name": "DescriptionStyleModel",
          "state": {
            "_view_name": "StyleView",
            "_model_name": "DescriptionStyleModel",
            "description_width": "",
            "_view_module": "@jupyter-widgets/base",
            "_model_module_version": "1.5.0",
            "_view_count": null,
            "_view_module_version": "1.2.0",
            "_model_module": "@jupyter-widgets/controls"
          }
        },
        "195d71336ece4230a17bdb4dc1fb1004": {
          "model_module": "@jupyter-widgets/base",
          "model_name": "LayoutModel",
          "state": {
            "_view_name": "LayoutView",
            "grid_template_rows": null,
            "right": null,
            "justify_content": null,
            "_view_module": "@jupyter-widgets/base",
            "overflow": null,
            "_model_module_version": "1.2.0",
            "_view_count": null,
            "flex_flow": null,
            "width": null,
            "min_width": null,
            "border": null,
            "align_items": null,
            "bottom": null,
            "_model_module": "@jupyter-widgets/base",
            "top": null,
            "grid_column": null,
            "overflow_y": null,
            "overflow_x": null,
            "grid_auto_flow": null,
            "grid_area": null,
            "grid_template_columns": null,
            "flex": null,
            "_model_name": "LayoutModel",
            "justify_items": null,
            "grid_row": null,
            "max_height": null,
            "align_content": null,
            "visibility": null,
            "align_self": null,
            "height": null,
            "min_height": null,
            "padding": null,
            "grid_auto_rows": null,
            "grid_gap": null,
            "max_width": null,
            "order": null,
            "_view_module_version": "1.2.0",
            "grid_template_areas": null,
            "object_position": null,
            "object_fit": null,
            "grid_auto_columns": null,
            "margin": null,
            "display": null,
            "left": null
          }
        },
        "eb651e10b3954475b5aa9247f0284e39": {
          "model_module": "@jupyter-widgets/controls",
          "model_name": "HBoxModel",
          "state": {
            "_view_name": "HBoxView",
            "_dom_classes": [],
            "_model_name": "HBoxModel",
            "_view_module": "@jupyter-widgets/controls",
            "_model_module_version": "1.5.0",
            "_view_count": null,
            "_view_module_version": "1.5.0",
            "box_style": "",
            "layout": "IPY_MODEL_527bcb0c5a87485593f06cf63a89b4c8",
            "_model_module": "@jupyter-widgets/controls",
            "children": [
              "IPY_MODEL_91bceb95cca04547925b1fa7373abe8d",
              "IPY_MODEL_916c2a0d39fa4285b2722c8256b2c306"
            ]
          }
        },
        "527bcb0c5a87485593f06cf63a89b4c8": {
          "model_module": "@jupyter-widgets/base",
          "model_name": "LayoutModel",
          "state": {
            "_view_name": "LayoutView",
            "grid_template_rows": null,
            "right": null,
            "justify_content": null,
            "_view_module": "@jupyter-widgets/base",
            "overflow": null,
            "_model_module_version": "1.2.0",
            "_view_count": null,
            "flex_flow": null,
            "width": null,
            "min_width": null,
            "border": null,
            "align_items": null,
            "bottom": null,
            "_model_module": "@jupyter-widgets/base",
            "top": null,
            "grid_column": null,
            "overflow_y": null,
            "overflow_x": null,
            "grid_auto_flow": null,
            "grid_area": null,
            "grid_template_columns": null,
            "flex": null,
            "_model_name": "LayoutModel",
            "justify_items": null,
            "grid_row": null,
            "max_height": null,
            "align_content": null,
            "visibility": null,
            "align_self": null,
            "height": null,
            "min_height": null,
            "padding": null,
            "grid_auto_rows": null,
            "grid_gap": null,
            "max_width": null,
            "order": null,
            "_view_module_version": "1.2.0",
            "grid_template_areas": null,
            "object_position": null,
            "object_fit": null,
            "grid_auto_columns": null,
            "margin": null,
            "display": null,
            "left": null
          }
        },
        "91bceb95cca04547925b1fa7373abe8d": {
          "model_module": "@jupyter-widgets/controls",
          "model_name": "FloatProgressModel",
          "state": {
            "_view_name": "ProgressView",
            "style": "IPY_MODEL_68a781c3ff154a73be0b0400c4280e23",
            "_dom_classes": [],
            "description": "Downloading: 100%",
            "_model_name": "FloatProgressModel",
            "bar_style": "success",
            "max": 440473133,
            "_view_module": "@jupyter-widgets/controls",
            "_model_module_version": "1.5.0",
            "value": 440473133,
            "_view_count": null,
            "_view_module_version": "1.5.0",
            "orientation": "horizontal",
            "min": 0,
            "description_tooltip": null,
            "_model_module": "@jupyter-widgets/controls",
            "layout": "IPY_MODEL_5a425667197547e6857774a76bd0c06c"
          }
        },
        "916c2a0d39fa4285b2722c8256b2c306": {
          "model_module": "@jupyter-widgets/controls",
          "model_name": "HTMLModel",
          "state": {
            "_view_name": "HTMLView",
            "style": "IPY_MODEL_e3e82f3c0b834016ae53e9b650daea58",
            "_dom_classes": [],
            "description": "",
            "_model_name": "HTMLModel",
            "placeholder": "​",
            "_view_module": "@jupyter-widgets/controls",
            "_model_module_version": "1.5.0",
            "value": " 440M/440M [00:09&lt;00:00, 48.8MB/s]",
            "_view_count": null,
            "_view_module_version": "1.5.0",
            "description_tooltip": null,
            "_model_module": "@jupyter-widgets/controls",
            "layout": "IPY_MODEL_683d422202e1423ca089d5d3808d6f5b"
          }
        },
        "68a781c3ff154a73be0b0400c4280e23": {
          "model_module": "@jupyter-widgets/controls",
          "model_name": "ProgressStyleModel",
          "state": {
            "_view_name": "StyleView",
            "_model_name": "ProgressStyleModel",
            "description_width": "initial",
            "_view_module": "@jupyter-widgets/base",
            "_model_module_version": "1.5.0",
            "_view_count": null,
            "_view_module_version": "1.2.0",
            "bar_color": null,
            "_model_module": "@jupyter-widgets/controls"
          }
        },
        "5a425667197547e6857774a76bd0c06c": {
          "model_module": "@jupyter-widgets/base",
          "model_name": "LayoutModel",
          "state": {
            "_view_name": "LayoutView",
            "grid_template_rows": null,
            "right": null,
            "justify_content": null,
            "_view_module": "@jupyter-widgets/base",
            "overflow": null,
            "_model_module_version": "1.2.0",
            "_view_count": null,
            "flex_flow": null,
            "width": null,
            "min_width": null,
            "border": null,
            "align_items": null,
            "bottom": null,
            "_model_module": "@jupyter-widgets/base",
            "top": null,
            "grid_column": null,
            "overflow_y": null,
            "overflow_x": null,
            "grid_auto_flow": null,
            "grid_area": null,
            "grid_template_columns": null,
            "flex": null,
            "_model_name": "LayoutModel",
            "justify_items": null,
            "grid_row": null,
            "max_height": null,
            "align_content": null,
            "visibility": null,
            "align_self": null,
            "height": null,
            "min_height": null,
            "padding": null,
            "grid_auto_rows": null,
            "grid_gap": null,
            "max_width": null,
            "order": null,
            "_view_module_version": "1.2.0",
            "grid_template_areas": null,
            "object_position": null,
            "object_fit": null,
            "grid_auto_columns": null,
            "margin": null,
            "display": null,
            "left": null
          }
        },
        "e3e82f3c0b834016ae53e9b650daea58": {
          "model_module": "@jupyter-widgets/controls",
          "model_name": "DescriptionStyleModel",
          "state": {
            "_view_name": "StyleView",
            "_model_name": "DescriptionStyleModel",
            "description_width": "",
            "_view_module": "@jupyter-widgets/base",
            "_model_module_version": "1.5.0",
            "_view_count": null,
            "_view_module_version": "1.2.0",
            "_model_module": "@jupyter-widgets/controls"
          }
        },
        "683d422202e1423ca089d5d3808d6f5b": {
          "model_module": "@jupyter-widgets/base",
          "model_name": "LayoutModel",
          "state": {
            "_view_name": "LayoutView",
            "grid_template_rows": null,
            "right": null,
            "justify_content": null,
            "_view_module": "@jupyter-widgets/base",
            "overflow": null,
            "_model_module_version": "1.2.0",
            "_view_count": null,
            "flex_flow": null,
            "width": null,
            "min_width": null,
            "border": null,
            "align_items": null,
            "bottom": null,
            "_model_module": "@jupyter-widgets/base",
            "top": null,
            "grid_column": null,
            "overflow_y": null,
            "overflow_x": null,
            "grid_auto_flow": null,
            "grid_area": null,
            "grid_template_columns": null,
            "flex": null,
            "_model_name": "LayoutModel",
            "justify_items": null,
            "grid_row": null,
            "max_height": null,
            "align_content": null,
            "visibility": null,
            "align_self": null,
            "height": null,
            "min_height": null,
            "padding": null,
            "grid_auto_rows": null,
            "grid_gap": null,
            "max_width": null,
            "order": null,
            "_view_module_version": "1.2.0",
            "grid_template_areas": null,
            "object_position": null,
            "object_fit": null,
            "grid_auto_columns": null,
            "margin": null,
            "display": null,
            "left": null
          }
        },
        "5bc652265a1546c58c1102d1b056d8e4": {
          "model_module": "@jupyter-widgets/controls",
          "model_name": "HBoxModel",
          "state": {
            "_view_name": "HBoxView",
            "_dom_classes": [],
            "_model_name": "HBoxModel",
            "_view_module": "@jupyter-widgets/controls",
            "_model_module_version": "1.5.0",
            "_view_count": null,
            "_view_module_version": "1.5.0",
            "box_style": "",
            "layout": "IPY_MODEL_098540b36af14400a40df7a3e5bded08",
            "_model_module": "@jupyter-widgets/controls",
            "children": [
              "IPY_MODEL_cecff52219864e448610ec2695d1fb7a",
              "IPY_MODEL_5ac312e636464a41b0c83cbb21b58b77"
            ]
          }
        },
        "098540b36af14400a40df7a3e5bded08": {
          "model_module": "@jupyter-widgets/base",
          "model_name": "LayoutModel",
          "state": {
            "_view_name": "LayoutView",
            "grid_template_rows": null,
            "right": null,
            "justify_content": null,
            "_view_module": "@jupyter-widgets/base",
            "overflow": null,
            "_model_module_version": "1.2.0",
            "_view_count": null,
            "flex_flow": null,
            "width": null,
            "min_width": null,
            "border": null,
            "align_items": null,
            "bottom": null,
            "_model_module": "@jupyter-widgets/base",
            "top": null,
            "grid_column": null,
            "overflow_y": null,
            "overflow_x": null,
            "grid_auto_flow": null,
            "grid_area": null,
            "grid_template_columns": null,
            "flex": null,
            "_model_name": "LayoutModel",
            "justify_items": null,
            "grid_row": null,
            "max_height": null,
            "align_content": null,
            "visibility": null,
            "align_self": null,
            "height": null,
            "min_height": null,
            "padding": null,
            "grid_auto_rows": null,
            "grid_gap": null,
            "max_width": null,
            "order": null,
            "_view_module_version": "1.2.0",
            "grid_template_areas": null,
            "object_position": null,
            "object_fit": null,
            "grid_auto_columns": null,
            "margin": null,
            "display": null,
            "left": null
          }
        },
        "cecff52219864e448610ec2695d1fb7a": {
          "model_module": "@jupyter-widgets/controls",
          "model_name": "FloatProgressModel",
          "state": {
            "_view_name": "ProgressView",
            "style": "IPY_MODEL_79c227144c7d4385b4abbdffd03337f2",
            "_dom_classes": [],
            "description": "100%",
            "_model_name": "FloatProgressModel",
            "bar_style": "success",
            "max": 532194478,
            "_view_module": "@jupyter-widgets/controls",
            "_model_module_version": "1.5.0",
            "value": 532194478,
            "_view_count": null,
            "_view_module_version": "1.5.0",
            "orientation": "horizontal",
            "min": 0,
            "description_tooltip": null,
            "_model_module": "@jupyter-widgets/controls",
            "layout": "IPY_MODEL_cdbe0c7382b94d4d9c0e3c7327406377"
          }
        },
        "5ac312e636464a41b0c83cbb21b58b77": {
          "model_module": "@jupyter-widgets/controls",
          "model_name": "HTMLModel",
          "state": {
            "_view_name": "HTMLView",
            "style": "IPY_MODEL_9b61bb5b197e4f55b496c07bc567e747",
            "_dom_classes": [],
            "description": "",
            "_model_name": "HTMLModel",
            "placeholder": "​",
            "_view_module": "@jupyter-widgets/controls",
            "_model_module_version": "1.5.0",
            "value": " 508M/508M [02:04&lt;00:00, 4.28MB/s]",
            "_view_count": null,
            "_view_module_version": "1.5.0",
            "description_tooltip": null,
            "_model_module": "@jupyter-widgets/controls",
            "layout": "IPY_MODEL_936d4ad5883248938ae78603e10fb9f8"
          }
        },
        "79c227144c7d4385b4abbdffd03337f2": {
          "model_module": "@jupyter-widgets/controls",
          "model_name": "ProgressStyleModel",
          "state": {
            "_view_name": "StyleView",
            "_model_name": "ProgressStyleModel",
            "description_width": "initial",
            "_view_module": "@jupyter-widgets/base",
            "_model_module_version": "1.5.0",
            "_view_count": null,
            "_view_module_version": "1.2.0",
            "bar_color": null,
            "_model_module": "@jupyter-widgets/controls"
          }
        },
        "cdbe0c7382b94d4d9c0e3c7327406377": {
          "model_module": "@jupyter-widgets/base",
          "model_name": "LayoutModel",
          "state": {
            "_view_name": "LayoutView",
            "grid_template_rows": null,
            "right": null,
            "justify_content": null,
            "_view_module": "@jupyter-widgets/base",
            "overflow": null,
            "_model_module_version": "1.2.0",
            "_view_count": null,
            "flex_flow": null,
            "width": null,
            "min_width": null,
            "border": null,
            "align_items": null,
            "bottom": null,
            "_model_module": "@jupyter-widgets/base",
            "top": null,
            "grid_column": null,
            "overflow_y": null,
            "overflow_x": null,
            "grid_auto_flow": null,
            "grid_area": null,
            "grid_template_columns": null,
            "flex": null,
            "_model_name": "LayoutModel",
            "justify_items": null,
            "grid_row": null,
            "max_height": null,
            "align_content": null,
            "visibility": null,
            "align_self": null,
            "height": null,
            "min_height": null,
            "padding": null,
            "grid_auto_rows": null,
            "grid_gap": null,
            "max_width": null,
            "order": null,
            "_view_module_version": "1.2.0",
            "grid_template_areas": null,
            "object_position": null,
            "object_fit": null,
            "grid_auto_columns": null,
            "margin": null,
            "display": null,
            "left": null
          }
        },
        "9b61bb5b197e4f55b496c07bc567e747": {
          "model_module": "@jupyter-widgets/controls",
          "model_name": "DescriptionStyleModel",
          "state": {
            "_view_name": "StyleView",
            "_model_name": "DescriptionStyleModel",
            "description_width": "",
            "_view_module": "@jupyter-widgets/base",
            "_model_module_version": "1.5.0",
            "_view_count": null,
            "_view_module_version": "1.2.0",
            "_model_module": "@jupyter-widgets/controls"
          }
        },
        "936d4ad5883248938ae78603e10fb9f8": {
          "model_module": "@jupyter-widgets/base",
          "model_name": "LayoutModel",
          "state": {
            "_view_name": "LayoutView",
            "grid_template_rows": null,
            "right": null,
            "justify_content": null,
            "_view_module": "@jupyter-widgets/base",
            "overflow": null,
            "_model_module_version": "1.2.0",
            "_view_count": null,
            "flex_flow": null,
            "width": null,
            "min_width": null,
            "border": null,
            "align_items": null,
            "bottom": null,
            "_model_module": "@jupyter-widgets/base",
            "top": null,
            "grid_column": null,
            "overflow_y": null,
            "overflow_x": null,
            "grid_auto_flow": null,
            "grid_area": null,
            "grid_template_columns": null,
            "flex": null,
            "_model_name": "LayoutModel",
            "justify_items": null,
            "grid_row": null,
            "max_height": null,
            "align_content": null,
            "visibility": null,
            "align_self": null,
            "height": null,
            "min_height": null,
            "padding": null,
            "grid_auto_rows": null,
            "grid_gap": null,
            "max_width": null,
            "order": null,
            "_view_module_version": "1.2.0",
            "grid_template_areas": null,
            "object_position": null,
            "object_fit": null,
            "grid_auto_columns": null,
            "margin": null,
            "display": null,
            "left": null
          }
        }
      }
    }
  },
  "cells": [
    {
      "cell_type": "code",
      "metadata": {
        "colab": {
          "base_uri": "https://localhost:8080/"
        },
        "id": "FPkHC0grp6c0",
        "outputId": "f11e2b23-0284-43ad-840e-e1c77d0a68a2"
      },
      "source": [
        "!pip install pycm"
      ],
      "execution_count": null,
      "outputs": [
        {
          "output_type": "stream",
          "text": [
            "Collecting pycm\n",
            "\u001b[?25l  Downloading https://files.pythonhosted.org/packages/76/c4/a05b90819dcf7e50bdddb030238a771bf87b0695e6c47a247f66ab7ed5d0/pycm-3.1-py2.py3-none-any.whl (63kB)\n",
            "\u001b[K     |████████████████████████████████| 71kB 8.9MB/s \n",
            "\u001b[?25hCollecting art>=1.8\n",
            "\u001b[?25l  Downloading https://files.pythonhosted.org/packages/83/37/c28d69ba1005889e8ff9633b8e7eccaaddc03549058a51ef5f51853cf183/art-5.1-py2.py3-none-any.whl (567kB)\n",
            "\u001b[K     |████████████████████████████████| 573kB 26.9MB/s \n",
            "\u001b[?25hRequirement already satisfied: numpy>=1.9.0 in /usr/local/lib/python3.7/dist-packages (from pycm) (1.19.5)\n",
            "Installing collected packages: art, pycm\n",
            "Successfully installed art-5.1 pycm-3.1\n"
          ],
          "name": "stdout"
        }
      ]
    },
    {
      "cell_type": "code",
      "metadata": {
        "colab": {
          "base_uri": "https://localhost:8080/"
        },
        "id": "fiRjywSZqd9-",
        "outputId": "47a8e274-ae4a-4717-ac95-4559c98d76d0"
      },
      "source": [
        "!pip install transformers"
      ],
      "execution_count": null,
      "outputs": [
        {
          "output_type": "stream",
          "text": [
            "Collecting transformers\n",
            "\u001b[?25l  Downloading https://files.pythonhosted.org/packages/81/91/61d69d58a1af1bd81d9ca9d62c90a6de3ab80d77f27c5df65d9a2c1f5626/transformers-4.5.0-py3-none-any.whl (2.1MB)\n",
            "\r\u001b[K     |▏                               | 10kB 24.4MB/s eta 0:00:01\r\u001b[K     |▎                               | 20kB 29.5MB/s eta 0:00:01\r\u001b[K     |▌                               | 30kB 22.2MB/s eta 0:00:01\r\u001b[K     |▋                               | 40kB 25.0MB/s eta 0:00:01\r\u001b[K     |▊                               | 51kB 27.7MB/s eta 0:00:01\r\u001b[K     |█                               | 61kB 30.3MB/s eta 0:00:01\r\u001b[K     |█                               | 71kB 29.5MB/s eta 0:00:01\r\u001b[K     |█▏                              | 81kB 28.7MB/s eta 0:00:01\r\u001b[K     |█▍                              | 92kB 30.1MB/s eta 0:00:01\r\u001b[K     |█▌                              | 102kB 27.5MB/s eta 0:00:01\r\u001b[K     |█▊                              | 112kB 27.5MB/s eta 0:00:01\r\u001b[K     |█▉                              | 122kB 27.5MB/s eta 0:00:01\r\u001b[K     |██                              | 133kB 27.5MB/s eta 0:00:01\r\u001b[K     |██▏                             | 143kB 27.5MB/s eta 0:00:01\r\u001b[K     |██▎                             | 153kB 27.5MB/s eta 0:00:01\r\u001b[K     |██▍                             | 163kB 27.5MB/s eta 0:00:01\r\u001b[K     |██▋                             | 174kB 27.5MB/s eta 0:00:01\r\u001b[K     |██▊                             | 184kB 27.5MB/s eta 0:00:01\r\u001b[K     |███                             | 194kB 27.5MB/s eta 0:00:01\r\u001b[K     |███                             | 204kB 27.5MB/s eta 0:00:01\r\u001b[K     |███▏                            | 215kB 27.5MB/s eta 0:00:01\r\u001b[K     |███▍                            | 225kB 27.5MB/s eta 0:00:01\r\u001b[K     |███▌                            | 235kB 27.5MB/s eta 0:00:01\r\u001b[K     |███▋                            | 245kB 27.5MB/s eta 0:00:01\r\u001b[K     |███▉                            | 256kB 27.5MB/s eta 0:00:01\r\u001b[K     |████                            | 266kB 27.5MB/s eta 0:00:01\r\u001b[K     |████▏                           | 276kB 27.5MB/s eta 0:00:01\r\u001b[K     |████▎                           | 286kB 27.5MB/s eta 0:00:01\r\u001b[K     |████▍                           | 296kB 27.5MB/s eta 0:00:01\r\u001b[K     |████▋                           | 307kB 27.5MB/s eta 0:00:01\r\u001b[K     |████▊                           | 317kB 27.5MB/s eta 0:00:01\r\u001b[K     |████▉                           | 327kB 27.5MB/s eta 0:00:01\r\u001b[K     |█████                           | 337kB 27.5MB/s eta 0:00:01\r\u001b[K     |█████▏                          | 348kB 27.5MB/s eta 0:00:01\r\u001b[K     |█████▍                          | 358kB 27.5MB/s eta 0:00:01\r\u001b[K     |█████▌                          | 368kB 27.5MB/s eta 0:00:01\r\u001b[K     |█████▋                          | 378kB 27.5MB/s eta 0:00:01\r\u001b[K     |█████▉                          | 389kB 27.5MB/s eta 0:00:01\r\u001b[K     |██████                          | 399kB 27.5MB/s eta 0:00:01\r\u001b[K     |██████                          | 409kB 27.5MB/s eta 0:00:01\r\u001b[K     |██████▎                         | 419kB 27.5MB/s eta 0:00:01\r\u001b[K     |██████▍                         | 430kB 27.5MB/s eta 0:00:01\r\u001b[K     |██████▋                         | 440kB 27.5MB/s eta 0:00:01\r\u001b[K     |██████▊                         | 450kB 27.5MB/s eta 0:00:01\r\u001b[K     |██████▉                         | 460kB 27.5MB/s eta 0:00:01\r\u001b[K     |███████                         | 471kB 27.5MB/s eta 0:00:01\r\u001b[K     |███████▏                        | 481kB 27.5MB/s eta 0:00:01\r\u001b[K     |███████▎                        | 491kB 27.5MB/s eta 0:00:01\r\u001b[K     |███████▌                        | 501kB 27.5MB/s eta 0:00:01\r\u001b[K     |███████▋                        | 512kB 27.5MB/s eta 0:00:01\r\u001b[K     |███████▉                        | 522kB 27.5MB/s eta 0:00:01\r\u001b[K     |████████                        | 532kB 27.5MB/s eta 0:00:01\r\u001b[K     |████████                        | 542kB 27.5MB/s eta 0:00:01\r\u001b[K     |████████▎                       | 552kB 27.5MB/s eta 0:00:01\r\u001b[K     |████████▍                       | 563kB 27.5MB/s eta 0:00:01\r\u001b[K     |████████▌                       | 573kB 27.5MB/s eta 0:00:01\r\u001b[K     |████████▊                       | 583kB 27.5MB/s eta 0:00:01\r\u001b[K     |████████▉                       | 593kB 27.5MB/s eta 0:00:01\r\u001b[K     |█████████                       | 604kB 27.5MB/s eta 0:00:01\r\u001b[K     |█████████▏                      | 614kB 27.5MB/s eta 0:00:01\r\u001b[K     |█████████▎                      | 624kB 27.5MB/s eta 0:00:01\r\u001b[K     |█████████▌                      | 634kB 27.5MB/s eta 0:00:01\r\u001b[K     |█████████▋                      | 645kB 27.5MB/s eta 0:00:01\r\u001b[K     |█████████▊                      | 655kB 27.5MB/s eta 0:00:01\r\u001b[K     |██████████                      | 665kB 27.5MB/s eta 0:00:01\r\u001b[K     |██████████                      | 675kB 27.5MB/s eta 0:00:01\r\u001b[K     |██████████▎                     | 686kB 27.5MB/s eta 0:00:01\r\u001b[K     |██████████▍                     | 696kB 27.5MB/s eta 0:00:01\r\u001b[K     |██████████▌                     | 706kB 27.5MB/s eta 0:00:01\r\u001b[K     |██████████▊                     | 716kB 27.5MB/s eta 0:00:01\r\u001b[K     |██████████▉                     | 727kB 27.5MB/s eta 0:00:01\r\u001b[K     |███████████                     | 737kB 27.5MB/s eta 0:00:01\r\u001b[K     |███████████▏                    | 747kB 27.5MB/s eta 0:00:01\r\u001b[K     |███████████▎                    | 757kB 27.5MB/s eta 0:00:01\r\u001b[K     |███████████▌                    | 768kB 27.5MB/s eta 0:00:01\r\u001b[K     |███████████▋                    | 778kB 27.5MB/s eta 0:00:01\r\u001b[K     |███████████▊                    | 788kB 27.5MB/s eta 0:00:01\r\u001b[K     |████████████                    | 798kB 27.5MB/s eta 0:00:01\r\u001b[K     |████████████                    | 808kB 27.5MB/s eta 0:00:01\r\u001b[K     |████████████▏                   | 819kB 27.5MB/s eta 0:00:01\r\u001b[K     |████████████▍                   | 829kB 27.5MB/s eta 0:00:01\r\u001b[K     |████████████▌                   | 839kB 27.5MB/s eta 0:00:01\r\u001b[K     |████████████▊                   | 849kB 27.5MB/s eta 0:00:01\r\u001b[K     |████████████▉                   | 860kB 27.5MB/s eta 0:00:01\r\u001b[K     |█████████████                   | 870kB 27.5MB/s eta 0:00:01\r\u001b[K     |█████████████▏                  | 880kB 27.5MB/s eta 0:00:01\r\u001b[K     |█████████████▎                  | 890kB 27.5MB/s eta 0:00:01\r\u001b[K     |█████████████▍                  | 901kB 27.5MB/s eta 0:00:01\r\u001b[K     |█████████████▋                  | 911kB 27.5MB/s eta 0:00:01\r\u001b[K     |█████████████▊                  | 921kB 27.5MB/s eta 0:00:01\r\u001b[K     |██████████████                  | 931kB 27.5MB/s eta 0:00:01\r\u001b[K     |██████████████                  | 942kB 27.5MB/s eta 0:00:01\r\u001b[K     |██████████████▏                 | 952kB 27.5MB/s eta 0:00:01\r\u001b[K     |██████████████▍                 | 962kB 27.5MB/s eta 0:00:01\r\u001b[K     |██████████████▌                 | 972kB 27.5MB/s eta 0:00:01\r\u001b[K     |██████████████▋                 | 983kB 27.5MB/s eta 0:00:01\r\u001b[K     |██████████████▉                 | 993kB 27.5MB/s eta 0:00:01\r\u001b[K     |███████████████                 | 1.0MB 27.5MB/s eta 0:00:01\r\u001b[K     |███████████████▏                | 1.0MB 27.5MB/s eta 0:00:01\r\u001b[K     |███████████████▎                | 1.0MB 27.5MB/s eta 0:00:01\r\u001b[K     |███████████████▍                | 1.0MB 27.5MB/s eta 0:00:01\r\u001b[K     |███████████████▋                | 1.0MB 27.5MB/s eta 0:00:01\r\u001b[K     |███████████████▊                | 1.1MB 27.5MB/s eta 0:00:01\r\u001b[K     |███████████████▉                | 1.1MB 27.5MB/s eta 0:00:01\r\u001b[K     |████████████████                | 1.1MB 27.5MB/s eta 0:00:01\r\u001b[K     |████████████████▏               | 1.1MB 27.5MB/s eta 0:00:01\r\u001b[K     |████████████████▍               | 1.1MB 27.5MB/s eta 0:00:01\r\u001b[K     |████████████████▌               | 1.1MB 27.5MB/s eta 0:00:01\r\u001b[K     |████████████████▋               | 1.1MB 27.5MB/s eta 0:00:01\r\u001b[K     |████████████████▉               | 1.1MB 27.5MB/s eta 0:00:01\r\u001b[K     |█████████████████               | 1.1MB 27.5MB/s eta 0:00:01\r\u001b[K     |█████████████████               | 1.1MB 27.5MB/s eta 0:00:01\r\u001b[K     |█████████████████▎              | 1.2MB 27.5MB/s eta 0:00:01\r\u001b[K     |█████████████████▍              | 1.2MB 27.5MB/s eta 0:00:01\r\u001b[K     |█████████████████▌              | 1.2MB 27.5MB/s eta 0:00:01\r\u001b[K     |█████████████████▊              | 1.2MB 27.5MB/s eta 0:00:01\r\u001b[K     |█████████████████▉              | 1.2MB 27.5MB/s eta 0:00:01\r\u001b[K     |██████████████████              | 1.2MB 27.5MB/s eta 0:00:01\r\u001b[K     |██████████████████▏             | 1.2MB 27.5MB/s eta 0:00:01\r\u001b[K     |██████████████████▎             | 1.2MB 27.5MB/s eta 0:00:01\r\u001b[K     |██████████████████▌             | 1.2MB 27.5MB/s eta 0:00:01\r\u001b[K     |██████████████████▋             | 1.2MB 27.5MB/s eta 0:00:01\r\u001b[K     |██████████████████▊             | 1.3MB 27.5MB/s eta 0:00:01\r\u001b[K     |███████████████████             | 1.3MB 27.5MB/s eta 0:00:01\r\u001b[K     |███████████████████             | 1.3MB 27.5MB/s eta 0:00:01\r\u001b[K     |███████████████████▎            | 1.3MB 27.5MB/s eta 0:00:01\r\u001b[K     |███████████████████▍            | 1.3MB 27.5MB/s eta 0:00:01\r\u001b[K     |███████████████████▌            | 1.3MB 27.5MB/s eta 0:00:01\r\u001b[K     |███████████████████▊            | 1.3MB 27.5MB/s eta 0:00:01\r\u001b[K     |███████████████████▉            | 1.3MB 27.5MB/s eta 0:00:01\r\u001b[K     |████████████████████            | 1.3MB 27.5MB/s eta 0:00:01\r\u001b[K     |████████████████████▏           | 1.4MB 27.5MB/s eta 0:00:01\r\u001b[K     |████████████████████▎           | 1.4MB 27.5MB/s eta 0:00:01\r\u001b[K     |████████████████████▌           | 1.4MB 27.5MB/s eta 0:00:01\r\u001b[K     |████████████████████▋           | 1.4MB 27.5MB/s eta 0:00:01\r\u001b[K     |████████████████████▊           | 1.4MB 27.5MB/s eta 0:00:01\r\u001b[K     |█████████████████████           | 1.4MB 27.5MB/s eta 0:00:01\r\u001b[K     |█████████████████████           | 1.4MB 27.5MB/s eta 0:00:01\r\u001b[K     |█████████████████████▏          | 1.4MB 27.5MB/s eta 0:00:01\r\u001b[K     |█████████████████████▍          | 1.4MB 27.5MB/s eta 0:00:01\r\u001b[K     |█████████████████████▌          | 1.4MB 27.5MB/s eta 0:00:01\r\u001b[K     |█████████████████████▊          | 1.5MB 27.5MB/s eta 0:00:01\r\u001b[K     |█████████████████████▉          | 1.5MB 27.5MB/s eta 0:00:01\r\u001b[K     |██████████████████████          | 1.5MB 27.5MB/s eta 0:00:01\r\u001b[K     |██████████████████████▏         | 1.5MB 27.5MB/s eta 0:00:01\r\u001b[K     |██████████████████████▎         | 1.5MB 27.5MB/s eta 0:00:01\r\u001b[K     |██████████████████████▍         | 1.5MB 27.5MB/s eta 0:00:01\r\u001b[K     |██████████████████████▋         | 1.5MB 27.5MB/s eta 0:00:01\r\u001b[K     |██████████████████████▊         | 1.5MB 27.5MB/s eta 0:00:01\r\u001b[K     |███████████████████████         | 1.5MB 27.5MB/s eta 0:00:01\r\u001b[K     |███████████████████████         | 1.5MB 27.5MB/s eta 0:00:01\r\u001b[K     |███████████████████████▏        | 1.6MB 27.5MB/s eta 0:00:01\r\u001b[K     |███████████████████████▍        | 1.6MB 27.5MB/s eta 0:00:01\r\u001b[K     |███████████████████████▌        | 1.6MB 27.5MB/s eta 0:00:01\r\u001b[K     |███████████████████████▋        | 1.6MB 27.5MB/s eta 0:00:01\r\u001b[K     |███████████████████████▉        | 1.6MB 27.5MB/s eta 0:00:01\r\u001b[K     |████████████████████████        | 1.6MB 27.5MB/s eta 0:00:01\r\u001b[K     |████████████████████████▏       | 1.6MB 27.5MB/s eta 0:00:01\r\u001b[K     |████████████████████████▎       | 1.6MB 27.5MB/s eta 0:00:01\r\u001b[K     |████████████████████████▍       | 1.6MB 27.5MB/s eta 0:00:01\r\u001b[K     |████████████████████████▋       | 1.6MB 27.5MB/s eta 0:00:01\r\u001b[K     |████████████████████████▊       | 1.7MB 27.5MB/s eta 0:00:01\r\u001b[K     |████████████████████████▉       | 1.7MB 27.5MB/s eta 0:00:01\r\u001b[K     |█████████████████████████       | 1.7MB 27.5MB/s eta 0:00:01\r\u001b[K     |█████████████████████████▏      | 1.7MB 27.5MB/s eta 0:00:01\r\u001b[K     |█████████████████████████▍      | 1.7MB 27.5MB/s eta 0:00:01\r\u001b[K     |█████████████████████████▌      | 1.7MB 27.5MB/s eta 0:00:01\r\u001b[K     |█████████████████████████▋      | 1.7MB 27.5MB/s eta 0:00:01\r\u001b[K     |█████████████████████████▉      | 1.7MB 27.5MB/s eta 0:00:01\r\u001b[K     |██████████████████████████      | 1.7MB 27.5MB/s eta 0:00:01\r\u001b[K     |██████████████████████████      | 1.8MB 27.5MB/s eta 0:00:01\r\u001b[K     |██████████████████████████▎     | 1.8MB 27.5MB/s eta 0:00:01\r\u001b[K     |██████████████████████████▍     | 1.8MB 27.5MB/s eta 0:00:01\r\u001b[K     |██████████████████████████▋     | 1.8MB 27.5MB/s eta 0:00:01\r\u001b[K     |██████████████████████████▊     | 1.8MB 27.5MB/s eta 0:00:01\r\u001b[K     |██████████████████████████▉     | 1.8MB 27.5MB/s eta 0:00:01\r\u001b[K     |███████████████████████████     | 1.8MB 27.5MB/s eta 0:00:01\r\u001b[K     |███████████████████████████▏    | 1.8MB 27.5MB/s eta 0:00:01\r\u001b[K     |███████████████████████████▎    | 1.8MB 27.5MB/s eta 0:00:01\r\u001b[K     |███████████████████████████▌    | 1.8MB 27.5MB/s eta 0:00:01\r\u001b[K     |███████████████████████████▋    | 1.9MB 27.5MB/s eta 0:00:01\r\u001b[K     |███████████████████████████▉    | 1.9MB 27.5MB/s eta 0:00:01\r\u001b[K     |████████████████████████████    | 1.9MB 27.5MB/s eta 0:00:01\r\u001b[K     |████████████████████████████    | 1.9MB 27.5MB/s eta 0:00:01\r\u001b[K     |████████████████████████████▎   | 1.9MB 27.5MB/s eta 0:00:01\r\u001b[K     |████████████████████████████▍   | 1.9MB 27.5MB/s eta 0:00:01\r\u001b[K     |████████████████████████████▌   | 1.9MB 27.5MB/s eta 0:00:01\r\u001b[K     |████████████████████████████▊   | 1.9MB 27.5MB/s eta 0:00:01\r\u001b[K     |████████████████████████████▉   | 1.9MB 27.5MB/s eta 0:00:01\r\u001b[K     |█████████████████████████████   | 1.9MB 27.5MB/s eta 0:00:01\r\u001b[K     |█████████████████████████████▏  | 2.0MB 27.5MB/s eta 0:00:01\r\u001b[K     |█████████████████████████████▎  | 2.0MB 27.5MB/s eta 0:00:01\r\u001b[K     |█████████████████████████████▌  | 2.0MB 27.5MB/s eta 0:00:01\r\u001b[K     |█████████████████████████████▋  | 2.0MB 27.5MB/s eta 0:00:01\r\u001b[K     |█████████████████████████████▊  | 2.0MB 27.5MB/s eta 0:00:01\r\u001b[K     |██████████████████████████████  | 2.0MB 27.5MB/s eta 0:00:01\r\u001b[K     |██████████████████████████████  | 2.0MB 27.5MB/s eta 0:00:01\r\u001b[K     |██████████████████████████████▎ | 2.0MB 27.5MB/s eta 0:00:01\r\u001b[K     |██████████████████████████████▍ | 2.0MB 27.5MB/s eta 0:00:01\r\u001b[K     |██████████████████████████████▌ | 2.0MB 27.5MB/s eta 0:00:01\r\u001b[K     |██████████████████████████████▊ | 2.1MB 27.5MB/s eta 0:00:01\r\u001b[K     |██████████████████████████████▉ | 2.1MB 27.5MB/s eta 0:00:01\r\u001b[K     |███████████████████████████████ | 2.1MB 27.5MB/s eta 0:00:01\r\u001b[K     |███████████████████████████████▏| 2.1MB 27.5MB/s eta 0:00:01\r\u001b[K     |███████████████████████████████▎| 2.1MB 27.5MB/s eta 0:00:01\r\u001b[K     |███████████████████████████████▌| 2.1MB 27.5MB/s eta 0:00:01\r\u001b[K     |███████████████████████████████▋| 2.1MB 27.5MB/s eta 0:00:01\r\u001b[K     |███████████████████████████████▊| 2.1MB 27.5MB/s eta 0:00:01\r\u001b[K     |████████████████████████████████| 2.1MB 27.5MB/s eta 0:00:01\r\u001b[K     |████████████████████████████████| 2.2MB 27.5MB/s \n",
            "\u001b[?25hRequirement already satisfied: filelock in /usr/local/lib/python3.7/dist-packages (from transformers) (3.0.12)\n",
            "Collecting tokenizers<0.11,>=0.10.1\n",
            "\u001b[?25l  Downloading https://files.pythonhosted.org/packages/ae/04/5b870f26a858552025a62f1649c20d29d2672c02ff3c3fb4c688ca46467a/tokenizers-0.10.2-cp37-cp37m-manylinux2010_x86_64.whl (3.3MB)\n",
            "\u001b[K     |████████████████████████████████| 3.3MB 48.2MB/s \n",
            "\u001b[?25hRequirement already satisfied: importlib-metadata; python_version < \"3.8\" in /usr/local/lib/python3.7/dist-packages (from transformers) (3.8.1)\n",
            "Requirement already satisfied: requests in /usr/local/lib/python3.7/dist-packages (from transformers) (2.23.0)\n",
            "Requirement already satisfied: tqdm>=4.27 in /usr/local/lib/python3.7/dist-packages (from transformers) (4.41.1)\n",
            "Requirement already satisfied: numpy>=1.17 in /usr/local/lib/python3.7/dist-packages (from transformers) (1.19.5)\n",
            "Requirement already satisfied: regex!=2019.12.17 in /usr/local/lib/python3.7/dist-packages (from transformers) (2019.12.20)\n",
            "Collecting sacremoses\n",
            "\u001b[?25l  Downloading https://files.pythonhosted.org/packages/08/cd/342e584ee544d044fb573ae697404ce22ede086c9e87ce5960772084cad0/sacremoses-0.0.44.tar.gz (862kB)\n",
            "\u001b[K     |████████████████████████████████| 870kB 34.9MB/s \n",
            "\u001b[?25hRequirement already satisfied: packaging in /usr/local/lib/python3.7/dist-packages (from transformers) (20.9)\n",
            "Requirement already satisfied: zipp>=0.5 in /usr/local/lib/python3.7/dist-packages (from importlib-metadata; python_version < \"3.8\"->transformers) (3.4.1)\n",
            "Requirement already satisfied: typing-extensions>=3.6.4; python_version < \"3.8\" in /usr/local/lib/python3.7/dist-packages (from importlib-metadata; python_version < \"3.8\"->transformers) (3.7.4.3)\n",
            "Requirement already satisfied: chardet<4,>=3.0.2 in /usr/local/lib/python3.7/dist-packages (from requests->transformers) (3.0.4)\n",
            "Requirement already satisfied: certifi>=2017.4.17 in /usr/local/lib/python3.7/dist-packages (from requests->transformers) (2020.12.5)\n",
            "Requirement already satisfied: urllib3!=1.25.0,!=1.25.1,<1.26,>=1.21.1 in /usr/local/lib/python3.7/dist-packages (from requests->transformers) (1.24.3)\n",
            "Requirement already satisfied: idna<3,>=2.5 in /usr/local/lib/python3.7/dist-packages (from requests->transformers) (2.10)\n",
            "Requirement already satisfied: six in /usr/local/lib/python3.7/dist-packages (from sacremoses->transformers) (1.15.0)\n",
            "Requirement already satisfied: click in /usr/local/lib/python3.7/dist-packages (from sacremoses->transformers) (7.1.2)\n",
            "Requirement already satisfied: joblib in /usr/local/lib/python3.7/dist-packages (from sacremoses->transformers) (1.0.1)\n",
            "Requirement already satisfied: pyparsing>=2.0.2 in /usr/local/lib/python3.7/dist-packages (from packaging->transformers) (2.4.7)\n",
            "Building wheels for collected packages: sacremoses\n",
            "  Building wheel for sacremoses (setup.py) ... \u001b[?25l\u001b[?25hdone\n",
            "  Created wheel for sacremoses: filename=sacremoses-0.0.44-cp37-none-any.whl size=886084 sha256=4c82ad3e82dcb342badd7757948ee8a0f700206a34f416a5b2d5fb48742bf186\n",
            "  Stored in directory: /root/.cache/pip/wheels/3e/fb/c0/13ab4d63d537658f448366744654323077c4d90069b6512f3c\n",
            "Successfully built sacremoses\n",
            "Installing collected packages: tokenizers, sacremoses, transformers\n",
            "Successfully installed sacremoses-0.0.44 tokenizers-0.10.2 transformers-4.5.0\n"
          ],
          "name": "stdout"
        }
      ]
    },
    {
      "cell_type": "code",
      "metadata": {
        "colab": {
          "base_uri": "https://localhost:8080/"
        },
        "id": "-He5P9mkqgSo",
        "outputId": "2b6fa057-3834-4584-859d-fb7a22ba8e61"
      },
      "source": [
        "#Importing all the necessary libraries\n",
        "from torchvision import models\n",
        "from pycm import *\n",
        "from transformers import BertTokenizer, BertModel\n",
        "import nltk\n",
        "nltk.download('punkt')\n",
        "from nltk.tokenize import sent_tokenize, word_tokenize\n",
        "from collections import Counter\n",
        "import pickle\n",
        "import sys\n",
        "from glob import glob  \n",
        "import math\n",
        "import shutil\n",
        "import os\n",
        "import pandas as pd\n",
        "import numpy as np\n",
        "import matplotlib.pyplot as plt\n",
        "import torch\n",
        "import torchvision \n",
        "import torch.nn as nn\n",
        "import torch.nn.functional as F\n",
        "import torch.optim as optim\n",
        "import torch.utils.data.dataset\n",
        "import torch.utils.data.dataloader\n",
        "import torchvision.transforms as visionTransforms\n",
        "import PIL.Image as Image\n",
        "from torchvision.transforms import ToTensor,ToPILImage"
      ],
      "execution_count": null,
      "outputs": [
        {
          "output_type": "stream",
          "text": [
            "[nltk_data] Downloading package punkt to /root/nltk_data...\n",
            "[nltk_data]   Unzipping tokenizers/punkt.zip.\n"
          ],
          "name": "stdout"
        }
      ]
    },
    {
      "cell_type": "code",
      "metadata": {
        "id": "ayREA102qknP"
      },
      "source": [
        "df=pd.read_csv(\"path_to_add/MIDAS_Task3/Datasets/Task3_Cleaned_Multimodal.csv\",index_col=0)  #Please add path_to_add that is required for your local Machine"
      ],
      "execution_count": null,
      "outputs": []
    },
    {
      "cell_type": "code",
      "metadata": {
        "id": "QAw-lA1Dk6bD"
      },
      "source": [
        "df['Image Path']=\"path_to_add/MIDAS_Task3/\"+df['Image Path'] #Please add path_to_add that is required for your local Machine"
      ],
      "execution_count": null,
      "outputs": []
    },
    {
      "cell_type": "code",
      "metadata": {
        "id": "Bp1hB259qoSL"
      },
      "source": [
        "#Creating the train(0.8) test(0.1) and validation(0.1) splits\n",
        "dfTrain,dfVal,dfTest=np.split(df.sample(frac=1, random_state=42), [int(.8 * len(df)), int(.9 * len(df))])\n",
        "dfTrain=dfTrain.reset_index(drop=True)\n",
        "dfTest=dfTest.reset_index(drop=True)\n",
        "dfVal=dfVal.reset_index(drop=True)"
      ],
      "execution_count": null,
      "outputs": []
    },
    {
      "cell_type": "code",
      "metadata": {
        "colab": {
          "base_uri": "https://localhost:8080/",
          "height": 424
        },
        "id": "v5rPONKHq8OB",
        "outputId": "1b155b82-7ed2-4741-d12b-9d198da29193"
      },
      "source": [
        "dfTrain"
      ],
      "execution_count": null,
      "outputs": [
        {
          "output_type": "execute_result",
          "data": {
            "text/html": [
              "<div>\n",
              "<style scoped>\n",
              "    .dataframe tbody tr th:only-of-type {\n",
              "        vertical-align: middle;\n",
              "    }\n",
              "\n",
              "    .dataframe tbody tr th {\n",
              "        vertical-align: top;\n",
              "    }\n",
              "\n",
              "    .dataframe thead th {\n",
              "        text-align: right;\n",
              "    }\n",
              "</style>\n",
              "<table border=\"1\" class=\"dataframe\">\n",
              "  <thead>\n",
              "    <tr style=\"text-align: right;\">\n",
              "      <th></th>\n",
              "      <th>description</th>\n",
              "      <th>image</th>\n",
              "      <th>product_category_tree</th>\n",
              "      <th>Label</th>\n",
              "      <th>Image Path</th>\n",
              "    </tr>\n",
              "  </thead>\n",
              "  <tbody>\n",
              "    <tr>\n",
              "      <th>0</th>\n",
              "      <td>Specifications of Gee Power Imported Set of 2 ...</td>\n",
              "      <td>[\"http://img5a.flixcart.com/image/goggle/z/z/3...</td>\n",
              "      <td>[\"Sports &amp; Fitness &gt;&gt; Other Sports &gt;&gt; Swimming...</td>\n",
              "      <td>21</td>\n",
              "      <td>/content/drive/MyDrive/MIDAS Task/Task3 Images...</td>\n",
              "    </tr>\n",
              "    <tr>\n",
              "      <th>1</th>\n",
              "      <td>Nucode Graphic Print Men's Round Neck T-Shirt ...</td>\n",
              "      <td>[\"http://img6a.flixcart.com/image/t-shirt/q/f/...</td>\n",
              "      <td>[\"Clothing &gt;&gt; Men's Clothing &gt;&gt; T-Shirts &gt;&gt; Nu...</td>\n",
              "      <td>5</td>\n",
              "      <td>/content/drive/MyDrive/MIDAS Task/Task3 Images...</td>\n",
              "    </tr>\n",
              "    <tr>\n",
              "      <th>2</th>\n",
              "      <td>Buy HomeeHub Polyester Multicolor Self Design ...</td>\n",
              "      <td>[\"http://img5a.flixcart.com/image/curtain/b/n/...</td>\n",
              "      <td>[\"Home Furnishing &gt;&gt; Curtains &amp; Accessories &gt;&gt;...</td>\n",
              "      <td>14</td>\n",
              "      <td>/content/drive/MyDrive/MIDAS Task/Task3 Images...</td>\n",
              "    </tr>\n",
              "    <tr>\n",
              "      <th>3</th>\n",
              "      <td>Gift Island Alloy Necklace - Buy Gift Island A...</td>\n",
              "      <td>[\"http://img6a.flixcart.com/image/necklace-cha...</td>\n",
              "      <td>[\"Jewellery &gt;&gt; Necklaces &amp; Chains &gt;&gt; Necklaces\"]</td>\n",
              "      <td>16</td>\n",
              "      <td>/content/drive/MyDrive/MIDAS Task/Task3 Images...</td>\n",
              "    </tr>\n",
              "    <tr>\n",
              "      <th>4</th>\n",
              "      <td>Flipkart.com: Buy Go Bonjour Stainless Steel 9...</td>\n",
              "      <td>[\"http://img6a.flixcart.com/image/manicure-kit...</td>\n",
              "      <td>[\"Beauty and Personal Care &gt;&gt; Body and Skin Ca...</td>\n",
              "      <td>3</td>\n",
              "      <td>/content/drive/MyDrive/MIDAS Task/Task3 Images...</td>\n",
              "    </tr>\n",
              "    <tr>\n",
              "      <th>...</th>\n",
              "      <td>...</td>\n",
              "      <td>...</td>\n",
              "      <td>...</td>\n",
              "      <td>...</td>\n",
              "      <td>...</td>\n",
              "    </tr>\n",
              "    <tr>\n",
              "      <th>14410</th>\n",
              "      <td>Flipkart.com: Buy Tootpado Art Plastic Punches...</td>\n",
              "      <td>[\"http://img6a.flixcart.com/image/punch-punchi...</td>\n",
              "      <td>[\"Pens &amp; Stationery &gt;&gt; Office Supplies &gt;&gt; Punc...</td>\n",
              "      <td>19</td>\n",
              "      <td>/content/drive/MyDrive/MIDAS Task/Task3 Images...</td>\n",
              "    </tr>\n",
              "    <tr>\n",
              "      <th>14411</th>\n",
              "      <td>Key Features of IndiWeaves Solid Men's Grey Tr...</td>\n",
              "      <td>[\"http://img5a.flixcart.com/image/track-pant/d...</td>\n",
              "      <td>[\"Clothing &gt;&gt; Men's Clothing &gt;&gt; Inner Wear &amp; S...</td>\n",
              "      <td>5</td>\n",
              "      <td>/content/drive/MyDrive/MIDAS Task/Task3 Images...</td>\n",
              "    </tr>\n",
              "    <tr>\n",
              "      <th>14412</th>\n",
              "      <td>Fab Fashion Alloy Necklace\\n                  ...</td>\n",
              "      <td>[\"http://img6a.flixcart.com/image/necklace-cha...</td>\n",
              "      <td>[\"Jewellery &gt;&gt; Necklaces &amp; Chains &gt;&gt; Necklaces\"]</td>\n",
              "      <td>16</td>\n",
              "      <td>/content/drive/MyDrive/MIDAS Task/Task3 Images...</td>\n",
              "    </tr>\n",
              "    <tr>\n",
              "      <th>14413</th>\n",
              "      <td>Key Features of THELABELLIFE.com Casual Full S...</td>\n",
              "      <td>[\"http://img5a.flixcart.com/image/top/g/b/x/ac...</td>\n",
              "      <td>[\"Clothing &gt;&gt; Women's Clothing &gt;&gt; Western Wear...</td>\n",
              "      <td>5</td>\n",
              "      <td>/content/drive/MyDrive/MIDAS Task/Task3 Images...</td>\n",
              "    </tr>\n",
              "    <tr>\n",
              "      <th>14414</th>\n",
              "      <td>Specifications of Griiham Organic Cotton Sofa ...</td>\n",
              "      <td>[\"http://img6a.flixcart.com/image/slipcover/b/...</td>\n",
              "      <td>[\"Home Furnishing &gt;&gt; Living &gt;&gt; Sofa Covers &gt;&gt; ...</td>\n",
              "      <td>14</td>\n",
              "      <td>/content/drive/MyDrive/MIDAS Task/Task3 Images...</td>\n",
              "    </tr>\n",
              "  </tbody>\n",
              "</table>\n",
              "<p>14415 rows × 5 columns</p>\n",
              "</div>"
            ],
            "text/plain": [
              "                                             description  ...                                         Image Path\n",
              "0      Specifications of Gee Power Imported Set of 2 ...  ...  /content/drive/MyDrive/MIDAS Task/Task3 Images...\n",
              "1      Nucode Graphic Print Men's Round Neck T-Shirt ...  ...  /content/drive/MyDrive/MIDAS Task/Task3 Images...\n",
              "2      Buy HomeeHub Polyester Multicolor Self Design ...  ...  /content/drive/MyDrive/MIDAS Task/Task3 Images...\n",
              "3      Gift Island Alloy Necklace - Buy Gift Island A...  ...  /content/drive/MyDrive/MIDAS Task/Task3 Images...\n",
              "4      Flipkart.com: Buy Go Bonjour Stainless Steel 9...  ...  /content/drive/MyDrive/MIDAS Task/Task3 Images...\n",
              "...                                                  ...  ...                                                ...\n",
              "14410  Flipkart.com: Buy Tootpado Art Plastic Punches...  ...  /content/drive/MyDrive/MIDAS Task/Task3 Images...\n",
              "14411  Key Features of IndiWeaves Solid Men's Grey Tr...  ...  /content/drive/MyDrive/MIDAS Task/Task3 Images...\n",
              "14412  Fab Fashion Alloy Necklace\\n                  ...  ...  /content/drive/MyDrive/MIDAS Task/Task3 Images...\n",
              "14413  Key Features of THELABELLIFE.com Casual Full S...  ...  /content/drive/MyDrive/MIDAS Task/Task3 Images...\n",
              "14414  Specifications of Griiham Organic Cotton Sofa ...  ...  /content/drive/MyDrive/MIDAS Task/Task3 Images...\n",
              "\n",
              "[14415 rows x 5 columns]"
            ]
          },
          "metadata": {
            "tags": []
          },
          "execution_count": 6
        }
      ]
    },
    {
      "cell_type": "code",
      "metadata": {
        "colab": {
          "base_uri": "https://localhost:8080/"
        },
        "id": "KpcMuxEVqpXb",
        "outputId": "ba871f02-45fd-4568-e33c-171fbf8840eb"
      },
      "source": [
        "device = torch.device('cuda' if torch.cuda.is_available() else 'cpu')\n",
        "device"
      ],
      "execution_count": null,
      "outputs": [
        {
          "output_type": "execute_result",
          "data": {
            "text/plain": [
              "device(type='cuda')"
            ]
          },
          "metadata": {
            "tags": []
          },
          "execution_count": 7
        }
      ]
    },
    {
      "cell_type": "markdown",
      "metadata": {
        "id": "CHR2S39PS-Xj"
      },
      "source": [
        "As visualized in MIDAS_Task3_Preprocessing_Visualization.ipynb there is quite a bit of imbalance in the dataset. We decided to go with the PyTorch WeightedRandomSampler which instead of picking samples randomly in the dataloader will pick it according to weights. And the weight assigned to each class is inversely proportional to the frequency of the class. So the classes with a higher freq are less likely to get sampled, where as classes with a lower frequency are more likely to get sampled"
      ]
    },
    {
      "cell_type": "code",
      "metadata": {
        "id": "7DNxDR_lqqjM"
      },
      "source": [
        "from torch.utils.data import WeightedRandomSampler\n",
        "freqLabels=torch.tensor(dfTrain['Label'].value_counts().sort_index(),dtype=torch.double)\n",
        "weightClass=freqLabels/freqLabels.sum()\n",
        "weightClass= 1/weightClass\n",
        "weightClass=(weightClass).tolist()\n",
        "sampleWeights=[weightClass[i] for i in dfTrain['Label']]\n",
        "trainSampler=WeightedRandomSampler(sampleWeights,len(dfTrain))"
      ],
      "execution_count": null,
      "outputs": []
    },
    {
      "cell_type": "markdown",
      "metadata": {
        "id": "sdM6EeaXTC3v"
      },
      "source": [
        "We use a combination of PreTrained BERT, CNNs and Transformer Encoder Blocks for the Text Modality and PreTrained VGG-13(With 3 tunable layers) for the Vision Modality as mentioned in the MIDAS_Task3_Detailed_Analysis.pdf\n",
        "\n",
        "---\n",
        "\n",
        "\n",
        "We override the PyTorch Dataset class. FlipkartDataset Class gets the product-desc and the Image Path from the dataframe along with the respective label. \n",
        "\n",
        "The encoder_plus function from the Transformer's Library is used to encode the given text seq, truncate the seq if it crosses the max_length arg and pad the seq if it is less than the max_length arg. The encode_plus function is also responsible for providing the attention_masks for each seq which helps BERT identify the tokens which are eligible for attention.\n",
        "\n",
        "The \"vision_transform compose\" helps us combine numerous image transformations to make our input-image suitable for Pre-Trained VGG."
      ]
    },
    {
      "cell_type": "code",
      "metadata": {
        "id": "MPS7kEhnqypb"
      },
      "source": [
        "from torch.utils.data import Dataset, DataLoader\n",
        "\n",
        "class FlipkartDataset(Dataset):\n",
        "\n",
        "  def __init__(self,dataframe,bertTokenizer,maxLength,vision_transform,device):\n",
        "    self.data=dataframe\n",
        "    self.bertTokenizer=bertTokenizer\n",
        "    self.maxLength=maxLength\n",
        "    self.vision_transform=vision_transform\n",
        "  \n",
        "  def __len__(self):\n",
        "    return len(self.data)\n",
        "\n",
        "  def __getitem__(self,idx):\n",
        "    self.imgPath=str(self.data.iloc[idx,4])\n",
        "    self.productDescription=str(self.data.iloc[idx,0])\n",
        "    self.label=self.data.iloc[idx,3]\n",
        "\n",
        "    self.image=Image.open(self.imgPath).convert('RGB')\n",
        "    self.image=self.vision_transform(self.image)\n",
        "\n",
        "    self.encodedInput=self.bertTokenizer.encode_plus(text=self.productDescription,padding='max_length',truncation=\"longest_first\",max_length=self.maxLength,return_tensors='pt',return_attention_mask=True,return_token_type_ids=True).to(device)\n",
        "\n",
        "    return self.image,self.encodedInput,self.label"
      ],
      "execution_count": null,
      "outputs": []
    },
    {
      "cell_type": "code",
      "metadata": {
        "id": "jvGrS8rIrRSX"
      },
      "source": [
        "#Composes several transforms together so that our input-image is accepted by PreTrained VGG\n",
        "preprocess = torchvision.transforms.Compose([\n",
        "  torchvision.transforms.Resize((224,224)),\n",
        "  torchvision.transforms.ToTensor(),\n",
        "  torchvision.transforms.Normalize(mean=[0.485, 0.456, 0.406], std=[0.229, 0.224, 0.225])\n",
        "  ])"
      ],
      "execution_count": null,
      "outputs": []
    },
    {
      "cell_type": "markdown",
      "metadata": {
        "id": "D7kaa4NEUpnt"
      },
      "source": [
        "We experimented with a couple of maxLength values(128,256,512). But with 256 and 512, there was a considerable increase in the training time. One other reason to choose maxLength=128 was ~70% of the data has seq length of 0-50. Hampering the training performance just to accommodate the complete seq for 30% of the data seemed like an expensive trade-off. Hence the maxLength was taken as 128"
      ]
    },
    {
      "cell_type": "code",
      "metadata": {
        "id": "hLYiXsUMqsiY"
      },
      "source": [
        "tokenizer = BertTokenizer.from_pretrained('bert-base-uncased')\n",
        "flipkartTrainDataset=FlipkartDataset(dataframe=dfTrain,bertTokenizer=tokenizer,maxLength=128,device=device,vision_transform=preprocess)\n",
        "flipkartTestDataset=FlipkartDataset(dataframe=dfTest,bertTokenizer=tokenizer,maxLength=128,device=device,vision_transform=preprocess)\n",
        "flipkartValDataset=FlipkartDataset(dataframe=dfVal,bertTokenizer=tokenizer,maxLength=128,device=device,vision_transform=preprocess)"
      ],
      "execution_count": null,
      "outputs": []
    },
    {
      "cell_type": "markdown",
      "metadata": {
        "id": "-UHaDbZaUuky"
      },
      "source": [
        "The Weighted Sampler is just used with the Train Set and not the Test and Validation sets because the model should be capable of recognizing any class at test time irrespective of the frequency of the class"
      ]
    },
    {
      "cell_type": "code",
      "metadata": {
        "id": "IHZkpG60rean"
      },
      "source": [
        "trainLoader=torch.utils.data.DataLoader(flipkartTrainDataset,batch_size=8,sampler=trainSampler)\n",
        "testLoader=torch.utils.data.DataLoader(flipkartTestDataset,batch_size=8,shuffle=True)\n",
        "valLoader=torch.utils.data.DataLoader(flipkartValDataset,batch_size=8,shuffle=True)"
      ],
      "execution_count": null,
      "outputs": []
    },
    {
      "cell_type": "markdown",
      "metadata": {
        "id": "UpbqsKs4X6K2"
      },
      "source": [
        "![Untitled presentation(3).png](data:image/png;base64,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)"
      ]
    },
    {
      "cell_type": "markdown",
      "metadata": {
        "id": "9C4lGOc2Y0aG"
      },
      "source": [
        "The above diagram provides a visual representation of the architecture. The intution behind each part of the architecture is as follows:\n",
        "\n",
        "*   **Pre Trained BERT**: BERT was used to get high quality word embeddings which are extremely critical to achieve high performance.\n",
        "*   **Transformer Encoder Blocks**: The intution behind using encoder blocks was to get more dataset specific/personalized embeddings.\n",
        "*   **KimCNN**: The conv layers with different feature widths help the network look at different features of the tensor, leading to significant increase in the performance.\n",
        "*   **VGG-13**: The PreTrained VGG-13 was trained on ImageNet none of which had e-commerce data. Therefore to customize this for our data, the last 3 conv layers were tunable\n"
      ]
    },
    {
      "cell_type": "code",
      "metadata": {
        "id": "U7hkFhKws_IR"
      },
      "source": [
        "class MultiModalNetwork(nn.Module):\n",
        "  def __init__(self,preTrainedBert,preTrainedVGG,textInChannels=1,embeddingDimension=768,numHeads=8,numEncoderLayers=3,numClasses=27):\n",
        "    super(MultiModalNetwork,self).__init__()\n",
        "\n",
        "    self.textInChannels=textInChannels\n",
        "    self.embDim=embeddingDimension\n",
        "    self.numHeads=numHeads\n",
        "    self.numEncoderLayers=numEncoderLayers\n",
        "    self.numClasses=numClasses\n",
        "\n",
        "    self.bert=self.freezeBert(preTrainedBert)\n",
        "\n",
        "    self.vgg13=self.freezeVGG(preTrainedVGG)\n",
        "\n",
        "    self.encoderLayer=nn.TransformerEncoderLayer(d_model=self.embDim,nhead=self.numHeads)\n",
        "    self.encoderBlock=nn.TransformerEncoder(self.encoderLayer,num_layers=self.numEncoderLayers)\n",
        "    self.kimConv0=nn.Conv2d(in_channels=self.textInChannels,out_channels=100,kernel_size=(2,self.embDim))\n",
        "    self.kimConv1=nn.Conv2d(in_channels=self.textInChannels,out_channels=100,kernel_size=(3,self.embDim))\n",
        "    self.kimConv2=nn.Conv2d(in_channels=self.textInChannels,out_channels=100,kernel_size=(4,self.embDim))\n",
        "    self.kimConv3=nn.Conv2d(in_channels=self.textInChannels,out_channels=100,kernel_size=(5,self.embDim))\n",
        "    self.dropoutLayer=nn.Dropout(p=0.5)\n",
        "    self.fc=nn.Linear(800,self.numClasses)\n",
        "\n",
        "  def forward(self,textInput,imgInput):\n",
        "\n",
        "    bertOutput=self.bert(input_ids=textInput['input_ids'].squeeze(dim=1),attention_mask=textInput['attention_mask'].squeeze(dim=1),token_type_ids=textInput['token_type_ids'].squeeze(dim=1)).last_hidden_state\n",
        "\n",
        "    encoderInput=bertOutput.transpose(1,0) \n",
        "    encoderOutput=self.encoderBlock(encoderInput)\n",
        "    encoderOutput=encoderOutput.transpose(1,0)\n",
        "    \n",
        "    kimInput=encoderOutput.unsqueeze(1)\n",
        "    \n",
        "    conv0_Output=F.relu(self.kimConv0(kimInput)).squeeze(3)\n",
        "    conv1_Output=F.relu(self.kimConv1(kimInput)).squeeze(3)\n",
        "    conv2_Output=F.relu(self.kimConv2(kimInput)).squeeze(3)\n",
        "    conv3_Output=F.relu(self.kimConv3(kimInput)).squeeze(3)\n",
        "    \n",
        "    conv0_Output=F.max_pool1d(conv0_Output,conv0_Output.size(2))\n",
        "    conv1_Output=F.max_pool1d(conv1_Output,conv1_Output.size(2))\n",
        "    conv2_Output=F.max_pool1d(conv2_Output,conv2_Output.size(2))\n",
        "    conv3_Output=F.max_pool1d(conv3_Output,conv3_Output.size(2))\n",
        "\n",
        "    kimOutput=torch.cat((conv0_Output.squeeze(dim=2),conv1_Output.squeeze(dim=2),conv2_Output.squeeze(dim=2),conv3_Output.squeeze(dim=2)),dim=1)\n",
        "\n",
        "    imgOutput=self.vgg13(imgInput)\n",
        "\n",
        "    combinedOutput=torch.cat((kimOutput,imgOutput),1)\n",
        "\n",
        "    output=self.fc(self.dropoutLayer(combinedOutput))\n",
        "\n",
        "    return output\n",
        "\n",
        "  def freezeVGG(self,originalPreTrainedVGG):\n",
        "    count=0\n",
        "    for param in originalPreTrainedVGG.features.parameters():\n",
        "      if count<14:\n",
        "        param.requires_grad=False\n",
        "      count=count+1\n",
        "    features=list(originalPreTrainedVGG.classifier.children())[:-3]\n",
        "    features[3]=nn.Linear(4096,400)\n",
        "    originalPreTrainedVGG.classifier = nn.Sequential(*features)\n",
        "    return originalPreTrainedVGG\n",
        "\n",
        "  def freezeBert(self,model):\n",
        "    for params in model.parameters():\n",
        "      params.requires_grad=False\n",
        "    return model"
      ],
      "execution_count": null,
      "outputs": []
    },
    {
      "cell_type": "markdown",
      "metadata": {
        "id": "Yspb8ZF9Zz3_"
      },
      "source": [
        "Adam was used as an optimizer with a learning rate of 10^-4 and Cross Entropy Loss was used as the loss function."
      ]
    },
    {
      "cell_type": "code",
      "metadata": {
        "colab": {
          "base_uri": "https://localhost:8080/",
          "height": 182,
          "referenced_widgets": [
            "1019723c0a474853b8188431bf4b2ae8",
            "199c1b0b7cb940b39cee5586a0971eaa",
            "a58769548f434c72a61d4bf1e5e55ddb",
            "8bba8ef9a1f84af699023c3eaeb9ec48",
            "91322f52bc144e42a9aad08252649970",
            "43e1427dfcb746968cd0d12b42bbee2e",
            "7de47b719ab84c5a8f9eba443648d3ac",
            "195d71336ece4230a17bdb4dc1fb1004",
            "eb651e10b3954475b5aa9247f0284e39",
            "527bcb0c5a87485593f06cf63a89b4c8",
            "91bceb95cca04547925b1fa7373abe8d",
            "916c2a0d39fa4285b2722c8256b2c306",
            "68a781c3ff154a73be0b0400c4280e23",
            "5a425667197547e6857774a76bd0c06c",
            "e3e82f3c0b834016ae53e9b650daea58",
            "683d422202e1423ca089d5d3808d6f5b",
            "5bc652265a1546c58c1102d1b056d8e4",
            "098540b36af14400a40df7a3e5bded08",
            "cecff52219864e448610ec2695d1fb7a",
            "5ac312e636464a41b0c83cbb21b58b77",
            "79c227144c7d4385b4abbdffd03337f2",
            "cdbe0c7382b94d4d9c0e3c7327406377",
            "9b61bb5b197e4f55b496c07bc567e747",
            "936d4ad5883248938ae78603e10fb9f8"
          ]
        },
        "id": "wOE0I5tnunmi",
        "outputId": "612fcedd-5158-40bd-8b63-e324c5f1c6e3"
      },
      "source": [
        "bertModel = BertModel.from_pretrained('bert-base-uncased')\n",
        "vggModel=models.vgg13(pretrained=True)\n",
        "multiModalModel=MultiModalNetwork(preTrainedBert=bertModel,preTrainedVGG=vggModel)\n",
        "multiModalModel.to(device)\n",
        "softmaxLoss = nn.CrossEntropyLoss()\n",
        "optimizer = optim.Adam(multiModalModel.parameters(), lr=0.0001)"
      ],
      "execution_count": null,
      "outputs": [
        {
          "output_type": "display_data",
          "data": {
            "application/vnd.jupyter.widget-view+json": {
              "model_id": "1019723c0a474853b8188431bf4b2ae8",
              "version_minor": 0,
              "version_major": 2
            },
            "text/plain": [
              "HBox(children=(FloatProgress(value=0.0, description='Downloading', max=433.0, style=ProgressStyle(description_…"
            ]
          },
          "metadata": {
            "tags": []
          }
        },
        {
          "output_type": "stream",
          "text": [
            "\n"
          ],
          "name": "stdout"
        },
        {
          "output_type": "display_data",
          "data": {
            "application/vnd.jupyter.widget-view+json": {
              "model_id": "eb651e10b3954475b5aa9247f0284e39",
              "version_minor": 0,
              "version_major": 2
            },
            "text/plain": [
              "HBox(children=(FloatProgress(value=0.0, description='Downloading', max=440473133.0, style=ProgressStyle(descri…"
            ]
          },
          "metadata": {
            "tags": []
          }
        },
        {
          "output_type": "stream",
          "text": [
            "\n"
          ],
          "name": "stdout"
        },
        {
          "output_type": "stream",
          "text": [
            "Downloading: \"https://download.pytorch.org/models/vgg13-c768596a.pth\" to /root/.cache/torch/hub/checkpoints/vgg13-c768596a.pth\n"
          ],
          "name": "stderr"
        },
        {
          "output_type": "display_data",
          "data": {
            "application/vnd.jupyter.widget-view+json": {
              "model_id": "5bc652265a1546c58c1102d1b056d8e4",
              "version_minor": 0,
              "version_major": 2
            },
            "text/plain": [
              "HBox(children=(FloatProgress(value=0.0, max=532194478.0), HTML(value='')))"
            ]
          },
          "metadata": {
            "tags": []
          }
        },
        {
          "output_type": "stream",
          "text": [
            "\n"
          ],
          "name": "stdout"
        }
      ]
    },
    {
      "cell_type": "code",
      "metadata": {
        "id": "3WSpBX12vxBY"
      },
      "source": [
        "def Average(lst): \n",
        "    return sum(lst) / len(lst) \n",
        "\n",
        "def train_model(model,epochs):\n",
        "\n",
        "  trainBatchCount=0\n",
        "  testBatchCount=0\n",
        "\n",
        "  avgTrainAcc=[]\n",
        "  avgValidAcc=[]\n",
        "  trainAcc=[]\n",
        "  validAcc=[]\n",
        "  trainLosses=[]\n",
        "  validLosses=[]\n",
        "  avgTrainLoss=[]\n",
        "  avgValidLoss=[]\n",
        "\n",
        "\n",
        "  for i in range(epochs):\n",
        "\n",
        "    print(\"Epoch:\",i)\n",
        "\n",
        "    model.train()\n",
        "    print(\"Training.....\")\n",
        "    for batch_idx,(imgData,textData,targets) in enumerate(trainLoader):\n",
        "\n",
        "      trainBatchCount=trainBatchCount+1\n",
        "\n",
        "      imgData=imgData.to(device)\n",
        "      targets=targets.to(device)\n",
        "\n",
        "      optimizer.zero_grad()\n",
        "\n",
        "      scores=model(textInput=textData,imgInput=imgData)\n",
        "       \n",
        "      loss=softmaxLoss(scores,targets)\n",
        "\n",
        "      loss.backward()\n",
        "\n",
        "      optimizer.step()\n",
        "\n",
        "      trainLosses.append(float(loss))\n",
        "\n",
        "      \n",
        "      correct=0\n",
        "      total=0\n",
        "      total=len(targets)\n",
        "\n",
        "\n",
        "      predictions=torch.argmax(scores,dim=1)\n",
        "      correct = (predictions==targets).sum()\n",
        "      acc=float((correct/float(total))*100)\n",
        "\n",
        "      trainAcc.append(acc)\n",
        "\n",
        "      if ((trainBatchCount%200)==0):\n",
        "\n",
        "        print(\"Targets:-\",targets)\n",
        "        print(\"Predictions:-\",predictions)\n",
        "\n",
        "        print('Loss: {}  Accuracy: {} %'.format(loss.data, acc))\n",
        "\n",
        "    model.eval()\n",
        "    print(\"Validating.....\")\n",
        "    for imgData,textData,targets in valLoader:\n",
        "\n",
        "      testBatchCount=testBatchCount+1\n",
        "\n",
        "      targets=targets.to(device=device)\n",
        "      imgData=imgData.to(device)\n",
        "\n",
        "      scores=model(textInput=textData,imgInput=imgData)\n",
        "\n",
        "      loss=softmaxLoss(scores,targets)\n",
        "\n",
        "      validLosses.append(float(loss))\n",
        "\n",
        "      testCorrect=0\n",
        "      testTotal=0\n",
        "\n",
        "      _,predictions=scores.max(1)\n",
        "\n",
        "      testCorrect = (predictions==targets).sum()\n",
        "      testTotal=predictions.size(0)\n",
        "\n",
        "      testAcc=float((testCorrect/float(testTotal))*100)\n",
        "\n",
        "      validAcc.append(testAcc)\n",
        "\n",
        "      if ((testBatchCount%200)==0):\n",
        "\n",
        "        print('Loss: {}  Accuracy: {} %'.format(float(loss), testAcc))\n",
        "    \n",
        "\n",
        "    trainLoss=Average(trainLosses)\n",
        "    validLoss=Average(validLosses)\n",
        "    avgTrainLoss.append(trainLoss)\n",
        "    avgValidLoss.append(validLoss)\n",
        "    tempTrainAcc=Average(trainAcc)\n",
        "    tempTestAcc=Average(validAcc)\n",
        "    avgTrainAcc.append(tempTrainAcc)\n",
        "    avgValidAcc.append(tempTestAcc)\n",
        "\n",
        "    print(\"Epoch Number:-\",i,\"  \",\"Training Loss:-\",\" \",trainLoss,\"Validation Loss:-\",\" \",validLoss,\"Training Acc:-\",\" \",tempTrainAcc,\"Validation Acc:-\",\" \",tempTestAcc)\n",
        "\n",
        "    trainAcc=[]\n",
        "    ValidAcc=[]\n",
        "    trainLosses=[]\n",
        "    validLosses=[]\n",
        "\n",
        "  return model,avgTrainLoss,avgValidLoss,avgTrainAcc,avgValidAcc"
      ],
      "execution_count": null,
      "outputs": []
    },
    {
      "cell_type": "markdown",
      "metadata": {
        "id": "JIuA9bEvZ5Ru"
      },
      "source": [
        "The model was trained for 10 epochs"
      ]
    },
    {
      "cell_type": "code",
      "metadata": {
        "colab": {
          "base_uri": "https://localhost:8080/"
        },
        "id": "Nw9zS7yE0KHB",
        "outputId": "96d160d2-c01a-46d7-e901-5dca589f23ae"
      },
      "source": [
        "multiModalModel,avgTrainLoss,avgValidLoss,avgTrainAcc,avgValidAcc=train_model(multiModalModel,10)"
      ],
      "execution_count": null,
      "outputs": [
        {
          "output_type": "stream",
          "text": [
            "Epoch: 0\n",
            "Training.....\n",
            "Targets:- tensor([22,  5, 11,  1,  7,  4,  2,  2], device='cuda:0')\n",
            "Predictions:- tensor([22,  5, 11, 23,  7,  4,  2,  2], device='cuda:0')\n",
            "Loss: 0.49779000878334045  Accuracy: 87.5 %\n",
            "Targets:- tensor([ 7, 21, 13, 14,  3,  8, 14,  6], device='cuda:0')\n",
            "Predictions:- tensor([ 7,  5, 13, 14,  3,  8, 14,  6], device='cuda:0')\n",
            "Loss: 0.29639166593551636  Accuracy: 87.5 %\n",
            "Targets:- tensor([ 0, 11, 19,  6, 21, 19,  7, 20], device='cuda:0')\n",
            "Predictions:- tensor([ 0, 11, 19,  6, 18, 19,  7, 20], device='cuda:0')\n",
            "Loss: 0.4356541335582733  Accuracy: 87.5 %\n",
            "Targets:- tensor([14, 19, 13, 23,  3,  6,  2, 17], device='cuda:0')\n",
            "Predictions:- tensor([ 8,  6, 13, 16,  3,  6,  2, 17], device='cuda:0')\n",
            "Loss: 1.340337872505188  Accuracy: 62.5 %\n",
            "Targets:- tensor([ 2, 17, 13, 19, 25, 24,  8,  7], device='cuda:0')\n",
            "Predictions:- tensor([ 2, 17, 13, 19, 25, 24,  8,  7], device='cuda:0')\n",
            "Loss: 0.04982458055019379  Accuracy: 100.0 %\n"
          ],
          "name": "stdout"
        },
        {
          "output_type": "stream",
          "text": [
            "/usr/local/lib/python3.7/dist-packages/PIL/Image.py:2800: DecompressionBombWarning: Image size (93680328 pixels) exceeds limit of 89478485 pixels, could be decompression bomb DOS attack.\n",
            "  DecompressionBombWarning,\n"
          ],
          "name": "stderr"
        },
        {
          "output_type": "stream",
          "text": [
            "Targets:- tensor([ 6, 17, 23, 21, 25, 25, 12, 14], device='cuda:0')\n",
            "Predictions:- tensor([ 6, 17, 23, 21, 25, 25, 12, 14], device='cuda:0')\n",
            "Loss: 0.16787782311439514  Accuracy: 100.0 %\n",
            "Targets:- tensor([11,  5, 14, 23,  6, 14, 23, 10], device='cuda:0')\n",
            "Predictions:- tensor([11,  5, 12, 23,  6, 14, 23, 10], device='cuda:0')\n",
            "Loss: 0.30477216839790344  Accuracy: 87.5 %\n"
          ],
          "name": "stdout"
        },
        {
          "output_type": "stream",
          "text": [
            "/usr/local/lib/python3.7/dist-packages/PIL/Image.py:2800: DecompressionBombWarning: Image size (90608000 pixels) exceeds limit of 89478485 pixels, could be decompression bomb DOS attack.\n",
            "  DecompressionBombWarning,\n"
          ],
          "name": "stderr"
        },
        {
          "output_type": "stream",
          "text": [
            "Targets:- tensor([25,  7, 18, 15,  4,  7, 12,  2], device='cuda:0')\n",
            "Predictions:- tensor([25,  7, 18, 15,  4,  7, 24,  2], device='cuda:0')\n",
            "Loss: 0.2944600284099579  Accuracy: 87.5 %\n",
            "Targets:- tensor([ 2, 14,  1, 14, 20, 20, 24, 24], device='cuda:0')\n",
            "Predictions:- tensor([ 2, 14,  1, 14, 20, 20, 24, 17], device='cuda:0')\n",
            "Loss: 0.533109188079834  Accuracy: 87.5 %\n",
            "Validating.....\n",
            "Loss: 0.013828757219016552  Accuracy: 100.0 %\n",
            "Epoch Number:- 0    Training Loss:-   0.45294034107852527 Validation Loss:-   0.26097242658502223 Training Acc:-   87.82503567948591 Validation Acc:-   93.69469026548673\n",
            "Epoch: 1\n",
            "Training.....\n",
            "Targets:- tensor([25, 20, 24, 18,  4, 21, 18, 19], device='cuda:0')\n",
            "Predictions:- tensor([25, 20, 24, 18,  4, 21, 18, 19], device='cuda:0')\n",
            "Loss: 0.05514877289533615  Accuracy: 100.0 %\n",
            "Targets:- tensor([10, 20, 16, 16, 18,  0, 10,  0], device='cuda:0')\n",
            "Predictions:- tensor([10, 20, 16, 16, 18,  0, 10,  0], device='cuda:0')\n",
            "Loss: 0.0009306879946961999  Accuracy: 100.0 %\n",
            "Targets:- tensor([25, 15, 22, 11, 17,  3, 12, 21], device='cuda:0')\n",
            "Predictions:- tensor([25, 15, 22, 11, 17, 17, 24, 21], device='cuda:0')\n",
            "Loss: 0.5470719933509827  Accuracy: 75.0 %\n",
            "Targets:- tensor([17, 13, 22, 12,  5, 10, 25, 13], device='cuda:0')\n",
            "Predictions:- tensor([17, 13, 22, 12,  5, 10, 25, 13], device='cuda:0')\n",
            "Loss: 0.008455153554677963  Accuracy: 100.0 %\n",
            "Targets:- tensor([15,  8, 20, 25, 20, 18,  2, 13], device='cuda:0')\n",
            "Predictions:- tensor([15,  8, 20, 25, 20, 18,  2, 13], device='cuda:0')\n",
            "Loss: 0.013523256406188011  Accuracy: 100.0 %\n",
            "Targets:- tensor([24, 19, 11, 14,  0, 17,  0,  3], device='cuda:0')\n",
            "Predictions:- tensor([24, 19, 11, 14,  0, 17,  0,  3], device='cuda:0')\n",
            "Loss: 0.0058104852214455605  Accuracy: 100.0 %\n",
            "Targets:- tensor([19,  3, 25, 14, 25,  7, 16,  9], device='cuda:0')\n",
            "Predictions:- tensor([19,  3, 25, 14, 25,  7, 16,  9], device='cuda:0')\n",
            "Loss: 0.010459191165864468  Accuracy: 100.0 %\n",
            "Targets:- tensor([15, 17, 12, 17,  4,  6, 15, 14], device='cuda:0')\n",
            "Predictions:- tensor([15, 17, 12, 17,  4,  6, 15, 14], device='cuda:0')\n",
            "Loss: 0.005173786077648401  Accuracy: 100.0 %\n",
            "Targets:- tensor([ 5, 25, 21, 25, 10, 13, 14, 11], device='cuda:0')\n",
            "Predictions:- tensor([ 5, 25, 21, 25, 10, 13, 14, 11], device='cuda:0')\n",
            "Loss: 5.052587221143767e-05  Accuracy: 100.0 %\n",
            "Validating.....\n",
            "Loss: 0.051256194710731506  Accuracy: 100.0 %\n",
            "Epoch Number:- 1    Training Loss:-   0.12181761092414718 Validation Loss:-   0.3341523265450856 Training Acc:-   96.68324877604528 Validation Acc:-   93.50110619469027\n",
            "Epoch: 2\n",
            "Training.....\n",
            "Targets:- tensor([24, 10, 12,  0, 11, 20, 19, 21], device='cuda:0')\n",
            "Predictions:- tensor([24, 10, 12,  0, 11, 20, 19, 21], device='cuda:0')\n",
            "Loss: 0.0017018234357237816  Accuracy: 100.0 %\n",
            "Targets:- tensor([10, 15, 13,  8, 10, 12,  7, 20], device='cuda:0')\n",
            "Predictions:- tensor([10, 15, 13,  8, 10, 12,  7, 20], device='cuda:0')\n",
            "Loss: 0.01304217055439949  Accuracy: 100.0 %\n",
            "Targets:- tensor([ 3,  0, 11,  0, 18, 14,  1, 16], device='cuda:0')\n",
            "Predictions:- tensor([ 3,  0, 11,  0, 18, 14,  1, 16], device='cuda:0')\n",
            "Loss: 0.0017383514204993844  Accuracy: 100.0 %\n",
            "Targets:- tensor([ 1, 12, 24, 19,  6, 12,  3,  4], device='cuda:0')\n",
            "Predictions:- tensor([ 1, 12, 24, 19,  6, 12, 21,  4], device='cuda:0')\n",
            "Loss: 0.7095502018928528  Accuracy: 87.5 %\n",
            "Targets:- tensor([12,  2,  7, 17,  8,  4,  8, 12], device='cuda:0')\n",
            "Predictions:- tensor([12,  2,  7, 17,  8,  4,  8, 12], device='cuda:0')\n",
            "Loss: 0.06773950159549713  Accuracy: 100.0 %\n",
            "Targets:- tensor([11, 16, 23, 23,  0,  5,  7,  4], device='cuda:0')\n",
            "Predictions:- tensor([11, 16, 23, 23,  0,  5,  7,  4], device='cuda:0')\n",
            "Loss: 0.003241411643102765  Accuracy: 100.0 %\n",
            "Targets:- tensor([20, 17, 10, 15,  0, 14, 11, 23], device='cuda:0')\n",
            "Predictions:- tensor([20, 17, 10, 15,  0, 14, 11, 23], device='cuda:0')\n",
            "Loss: 0.0013036072487011552  Accuracy: 100.0 %\n",
            "Targets:- tensor([24, 13,  7,  1,  8,  7,  3, 21], device='cuda:0')\n",
            "Predictions:- tensor([24, 13,  7,  1,  8,  7,  3, 21], device='cuda:0')\n",
            "Loss: 0.011731077916920185  Accuracy: 100.0 %\n",
            "Targets:- tensor([16,  5,  1,  5, 18, 18,  2,  5], device='cuda:0')\n",
            "Predictions:- tensor([16,  5,  1,  5, 18, 18,  2,  5], device='cuda:0')\n",
            "Loss: 0.0015287812566384673  Accuracy: 100.0 %\n",
            "Validating.....\n",
            "Loss: 0.0001055337706930004  Accuracy: 100.0 %\n",
            "Epoch Number:- 2    Training Loss:-   0.094389344523269 Validation Loss:-   0.2796109477876367 Training Acc:-   97.41259711431742 Validation Acc:-   94.06342182890856\n",
            "Epoch: 3\n",
            "Training.....\n",
            "Targets:- tensor([16,  6, 22, 19, 15,  5,  2, 18], device='cuda:0')\n",
            "Predictions:- tensor([16,  6, 22, 19, 15,  5,  2, 18], device='cuda:0')\n",
            "Loss: 3.1096675229491666e-05  Accuracy: 100.0 %\n",
            "Targets:- tensor([21, 25,  6,  4, 17, 10, 16, 13], device='cuda:0')\n",
            "Predictions:- tensor([21, 25,  6,  4, 17, 10, 16, 13], device='cuda:0')\n",
            "Loss: 3.9544811443192884e-05  Accuracy: 100.0 %\n",
            "Targets:- tensor([ 4, 21,  0,  6,  0, 18,  7, 25], device='cuda:0')\n",
            "Predictions:- tensor([ 4, 21,  0,  6,  0, 18,  7, 25], device='cuda:0')\n",
            "Loss: 7.322661258513108e-05  Accuracy: 100.0 %\n",
            "Targets:- tensor([11, 15, 12,  8, 15,  3, 15, 25], device='cuda:0')\n",
            "Predictions:- tensor([11, 15, 12,  8, 15,  3, 15, 25], device='cuda:0')\n",
            "Loss: 4.831982005271129e-05  Accuracy: 100.0 %\n",
            "Targets:- tensor([11, 14, 19, 21,  6, 23,  7, 14], device='cuda:0')\n",
            "Predictions:- tensor([11, 14, 19, 21,  6, 23,  7, 14], device='cuda:0')\n",
            "Loss: 0.018929271027445793  Accuracy: 100.0 %\n",
            "Targets:- tensor([11, 21, 18,  3,  1,  9, 19, 20], device='cuda:0')\n",
            "Predictions:- tensor([11, 21, 18,  3,  1,  9, 19, 20], device='cuda:0')\n",
            "Loss: 5.366457480704412e-05  Accuracy: 100.0 %\n",
            "Targets:- tensor([18, 18, 21,  9,  8, 15,  1, 12], device='cuda:0')\n",
            "Predictions:- tensor([18, 18, 21,  9,  8, 15,  1, 12], device='cuda:0')\n",
            "Loss: 4.3252504838164896e-05  Accuracy: 100.0 %\n",
            "Targets:- tensor([14, 16, 10,  3, 12, 15, 15, 14], device='cuda:0')\n",
            "Predictions:- tensor([14, 16, 10,  3, 12, 15, 15, 14], device='cuda:0')\n",
            "Loss: 0.09371640533208847  Accuracy: 100.0 %\n",
            "Targets:- tensor([21, 12, 18,  8,  5,  9, 24, 25], device='cuda:0')\n",
            "Predictions:- tensor([21, 12, 18,  8,  5,  9, 24, 25], device='cuda:0')\n",
            "Loss: 0.0006749456515535712  Accuracy: 100.0 %\n",
            "Validating.....\n",
            "Loss: 1.2218905567351612e-06  Accuracy: 100.0 %\n",
            "Epoch Number:- 3    Training Loss:-   0.07534790730806963 Validation Loss:-   0.2776196443218893 Training Acc:-   98.0715871254162 Validation Acc:-   94.33075221238938\n",
            "Epoch: 4\n",
            "Training.....\n",
            "Targets:- tensor([18,  2, 17, 14, 22, 17, 21, 12], device='cuda:0')\n",
            "Predictions:- tensor([18,  2, 17, 14, 22, 10, 21, 12], device='cuda:0')\n",
            "Loss: 0.14708036184310913  Accuracy: 87.5 %\n",
            "Targets:- tensor([10, 16, 16,  7, 20, 10, 12, 17], device='cuda:0')\n",
            "Predictions:- tensor([10, 16, 16,  7, 20, 10, 12, 17], device='cuda:0')\n",
            "Loss: 2.5927795377356233e-06  Accuracy: 100.0 %\n",
            "Targets:- tensor([ 5,  6, 17, 17,  2,  7,  5, 20], device='cuda:0')\n",
            "Predictions:- tensor([ 5,  6, 17, 17,  2,  7,  5, 20], device='cuda:0')\n",
            "Loss: 0.0028697310481220484  Accuracy: 100.0 %\n",
            "Targets:- tensor([23,  6, 20,  7, 12, 23,  9, 12], device='cuda:0')\n",
            "Predictions:- tensor([23,  6, 20,  7, 12, 23,  9, 19], device='cuda:0')\n",
            "Loss: 0.3938908576965332  Accuracy: 87.5 %\n",
            "Targets:- tensor([16, 13, 15, 14, 19, 13,  2, 16], device='cuda:0')\n",
            "Predictions:- tensor([16, 13, 15, 14, 19, 13,  2, 16], device='cuda:0')\n",
            "Loss: 4.6692181058460847e-05  Accuracy: 100.0 %\n",
            "Targets:- tensor([22,  2, 10, 17,  7,  9, 12, 17], device='cuda:0')\n",
            "Predictions:- tensor([22,  2, 10, 17,  7,  9, 12, 17], device='cuda:0')\n",
            "Loss: 0.0031440039165318012  Accuracy: 100.0 %\n",
            "Targets:- tensor([20,  3, 10,  1, 16,  5, 14, 18], device='cuda:0')\n",
            "Predictions:- tensor([20,  3, 10,  1, 16,  5, 14, 18], device='cuda:0')\n",
            "Loss: 0.021218599751591682  Accuracy: 100.0 %\n",
            "Targets:- tensor([ 6, 13,  1, 16, 23, 24, 12,  9], device='cuda:0')\n",
            "Predictions:- tensor([ 6, 13,  5, 16, 23, 24, 12,  9], device='cuda:0')\n",
            "Loss: 0.5922265648841858  Accuracy: 87.5 %\n",
            "Targets:- tensor([ 2, 16,  0, 16, 18, 11, 23, 12], device='cuda:0')\n",
            "Predictions:- tensor([ 2, 16,  0, 16, 18, 11, 23, 12], device='cuda:0')\n",
            "Loss: 0.1094292402267456  Accuracy: 100.0 %\n",
            "Validating.....\n",
            "Loss: 0.0039831227622926235  Accuracy: 100.0 %\n",
            "Epoch Number:- 4    Training Loss:-   0.07849395998119692 Validation Loss:-   0.39906551369360427 Training Acc:-   98.10627081021087 Validation Acc:-   94.17035398230088\n",
            "Epoch: 5\n",
            "Training.....\n",
            "Targets:- tensor([21, 13,  1, 21, 24, 24, 22, 25], device='cuda:0')\n",
            "Predictions:- tensor([21, 13,  1, 21, 24, 24, 22, 25], device='cuda:0')\n",
            "Loss: 5.885882728762226e-06  Accuracy: 100.0 %\n",
            "Targets:- tensor([24, 21,  0, 11,  3,  1, 25, 19], device='cuda:0')\n",
            "Predictions:- tensor([24, 21,  0, 11,  3,  1, 25, 19], device='cuda:0')\n",
            "Loss: 0.00018377734522800893  Accuracy: 100.0 %\n",
            "Targets:- tensor([13, 21, 13, 15, 19, 18, 10, 19], device='cuda:0')\n",
            "Predictions:- tensor([13, 21, 13, 15, 19, 18, 10, 19], device='cuda:0')\n",
            "Loss: 0.00042884802678599954  Accuracy: 100.0 %\n",
            "Targets:- tensor([24, 22, 16, 17,  9, 16, 10, 15], device='cuda:0')\n",
            "Predictions:- tensor([24, 22, 16, 17,  9, 16, 10, 15], device='cuda:0')\n",
            "Loss: 2.9802320611338473e-08  Accuracy: 100.0 %\n",
            "Targets:- tensor([11, 15, 22,  2, 14, 11,  4,  6], device='cuda:0')\n",
            "Predictions:- tensor([11, 15, 22,  2, 14, 11,  4,  6], device='cuda:0')\n",
            "Loss: 0.005754026118665934  Accuracy: 100.0 %\n",
            "Targets:- tensor([15, 15, 14, 21, 15,  9, 12, 14], device='cuda:0')\n",
            "Predictions:- tensor([15, 15, 14, 21, 15,  9, 12, 14], device='cuda:0')\n",
            "Loss: 0.004455980379134417  Accuracy: 100.0 %\n",
            "Targets:- tensor([17, 22, 16,  5, 14,  2,  0, 25], device='cuda:0')\n",
            "Predictions:- tensor([17, 22, 16,  5, 14,  2,  0, 25], device='cuda:0')\n",
            "Loss: 9.327793122793082e-06  Accuracy: 100.0 %\n",
            "Targets:- tensor([18,  2,  9,  8, 13, 12, 17,  0], device='cuda:0')\n",
            "Predictions:- tensor([18,  2,  9,  8, 13, 12, 17,  0], device='cuda:0')\n",
            "Loss: 0.02841952256858349  Accuracy: 100.0 %\n",
            "Targets:- tensor([12,  7, 13,  7, 12, 14, 22,  7], device='cuda:0')\n",
            "Predictions:- tensor([12,  7, 13,  7, 14, 14, 22,  7], device='cuda:0')\n",
            "Loss: 0.7283412218093872  Accuracy: 87.5 %\n",
            "Validating.....\n",
            "Loss: 1.435194730758667  Accuracy: 87.5 %\n",
            "Epoch Number:- 5    Training Loss:-   0.0760598824475878 Validation Loss:-   0.43699318211078936 Training Acc:-   98.30049944506105 Validation Acc:-   94.00811209439529\n",
            "Epoch: 6\n",
            "Training.....\n",
            "Targets:- tensor([16, 15,  5, 10,  3, 16, 12,  8], device='cuda:0')\n",
            "Predictions:- tensor([16, 15,  5, 10,  3, 16, 16,  8], device='cuda:0')\n",
            "Loss: 0.3094278573989868  Accuracy: 87.5 %\n",
            "Targets:- tensor([16,  0, 15, 17, 22, 16, 16,  0], device='cuda:0')\n",
            "Predictions:- tensor([16,  0, 15, 17, 22, 16, 16,  0], device='cuda:0')\n",
            "Loss: 0.0010873969877138734  Accuracy: 100.0 %\n",
            "Targets:- tensor([15,  2,  6, 16, 20,  7, 21,  5], device='cuda:0')\n",
            "Predictions:- tensor([15,  2,  6, 16, 20,  7, 21,  5], device='cuda:0')\n",
            "Loss: 9.178052278002724e-05  Accuracy: 100.0 %\n",
            "Targets:- tensor([ 3, 14, 22, 13,  2, 19, 15,  2], device='cuda:0')\n",
            "Predictions:- tensor([ 3, 14, 22, 13,  2, 19, 15,  2], device='cuda:0')\n",
            "Loss: 0.0024213308934122324  Accuracy: 100.0 %\n",
            "Targets:- tensor([14,  7, 21, 25,  3, 13, 10, 23], device='cuda:0')\n",
            "Predictions:- tensor([14,  7, 21, 25,  3, 13, 10, 23], device='cuda:0')\n",
            "Loss: 4.768367887209024e-07  Accuracy: 100.0 %\n",
            "Targets:- tensor([17,  8, 22, 12, 11, 24,  4, 10], device='cuda:0')\n",
            "Predictions:- tensor([17,  8, 22, 12, 11, 24,  4, 10], device='cuda:0')\n",
            "Loss: 5.438868356577586e-06  Accuracy: 100.0 %\n",
            "Targets:- tensor([25, 22,  3, 12,  7,  9,  7, 14], device='cuda:0')\n",
            "Predictions:- tensor([ 3, 22,  3, 12,  7,  9,  7, 14], device='cuda:0')\n",
            "Loss: 0.9039995074272156  Accuracy: 87.5 %\n",
            "Targets:- tensor([13,  6, 19,  7,  7,  0,  8,  5], device='cuda:0')\n",
            "Predictions:- tensor([13,  6, 19,  7,  7,  0,  8,  5], device='cuda:0')\n",
            "Loss: 0.008614460937678814  Accuracy: 100.0 %\n",
            "Targets:- tensor([23, 21,  9, 22, 15, 20, 22,  0], device='cuda:0')\n",
            "Predictions:- tensor([23, 21,  9, 22, 15, 20, 22,  0], device='cuda:0')\n",
            "Loss: 6.1689293033850845e-06  Accuracy: 100.0 %\n",
            "Validating.....\n",
            "Loss: 4.753426310344366e-06  Accuracy: 100.0 %\n",
            "Epoch Number:- 6    Training Loss:-   0.05146496731912782 Validation Loss:-   0.451789607158473 Training Acc:-   98.8138179800222 Validation Acc:-   94.09766118836916\n",
            "Epoch: 7\n",
            "Training.....\n",
            "Targets:- tensor([ 4,  4,  5,  9, 22, 20, 17,  0], device='cuda:0')\n",
            "Predictions:- tensor([ 4,  4,  5,  9, 22, 20, 17,  0], device='cuda:0')\n",
            "Loss: 0.0031181848607957363  Accuracy: 100.0 %\n",
            "Targets:- tensor([17,  3, 14,  6,  7, 24, 20,  1], device='cuda:0')\n",
            "Predictions:- tensor([17,  3, 14,  6,  7, 24, 20,  1], device='cuda:0')\n",
            "Loss: 4.604418336384697e-06  Accuracy: 100.0 %\n",
            "Targets:- tensor([18, 21,  6, 20,  9,  4, 19,  6], device='cuda:0')\n",
            "Predictions:- tensor([18, 21,  6, 20,  9,  4, 19,  6], device='cuda:0')\n",
            "Loss: 0.0  Accuracy: 100.0 %\n",
            "Targets:- tensor([15, 17,  1, 24,  0, 17,  1, 12], device='cuda:0')\n",
            "Predictions:- tensor([15, 17,  1, 24,  0, 17,  1, 12], device='cuda:0')\n",
            "Loss: 0.0031741291750222445  Accuracy: 100.0 %\n",
            "Targets:- tensor([ 0, 14, 21, 24, 18, 15, 21,  8], device='cuda:0')\n",
            "Predictions:- tensor([ 0, 14, 21, 24, 18, 15, 21,  8], device='cuda:0')\n",
            "Loss: 1.2143862477387302e-05  Accuracy: 100.0 %\n",
            "Targets:- tensor([15,  6, 22, 22, 17,  5,  2,  9], device='cuda:0')\n",
            "Predictions:- tensor([15,  6, 22, 22, 17,  5,  2,  9], device='cuda:0')\n",
            "Loss: 0.0003573549911379814  Accuracy: 100.0 %\n",
            "Targets:- tensor([ 6, 20, 11, 24, 25,  5,  3, 19], device='cuda:0')\n",
            "Predictions:- tensor([ 6, 20, 11, 24, 25,  5,  3, 19], device='cuda:0')\n",
            "Loss: 6.796301750000566e-05  Accuracy: 100.0 %\n",
            "Targets:- tensor([ 2,  0,  5, 18, 20, 18,  0, 23], device='cuda:0')\n",
            "Predictions:- tensor([ 2,  0,  5, 18, 20, 18,  0, 23], device='cuda:0')\n",
            "Loss: 8.791654408923932e-07  Accuracy: 100.0 %\n",
            "Targets:- tensor([12,  2, 18,  1,  3, 11, 23, 15], device='cuda:0')\n",
            "Predictions:- tensor([12,  2, 18,  1,  3, 11, 23, 15], device='cuda:0')\n",
            "Loss: 3.725285466771311e-07  Accuracy: 100.0 %\n",
            "Validating.....\n",
            "Loss: 3.4953693102579564e-05  Accuracy: 100.0 %\n",
            "Loss: 0.00024116659187711775  Accuracy: 100.0 %\n",
            "Epoch Number:- 7    Training Loss:-   0.0706501996700908 Validation Loss:-   0.4698921081425261 Training Acc:-   98.42536071032187 Validation Acc:-   94.14408185840708\n",
            "Epoch: 8\n",
            "Training.....\n",
            "Targets:- tensor([ 0, 13, 24,  5, 25, 21, 17, 19], device='cuda:0')\n",
            "Predictions:- tensor([ 0, 13, 24,  5, 25, 21, 17, 19], device='cuda:0')\n",
            "Loss: 0.0016902221832424402  Accuracy: 100.0 %\n",
            "Targets:- tensor([21, 18, 11, 14,  2, 14, 11, 22], device='cuda:0')\n",
            "Predictions:- tensor([21, 19, 11, 14,  2, 14, 11, 22], device='cuda:0')\n",
            "Loss: 0.45945438742637634  Accuracy: 87.5 %\n",
            "Targets:- tensor([21, 21, 19,  2, 15,  4,  7, 10], device='cuda:0')\n",
            "Predictions:- tensor([21, 21, 19,  2, 15,  4,  7, 10], device='cuda:0')\n",
            "Loss: 4.455367616174044e-06  Accuracy: 100.0 %\n",
            "Targets:- tensor([16,  5, 17, 19, 11, 15, 24, 23], device='cuda:0')\n",
            "Predictions:- tensor([16,  5, 17, 19, 11, 15, 24, 23], device='cuda:0')\n",
            "Loss: 7.009287946857512e-05  Accuracy: 100.0 %\n",
            "Targets:- tensor([22, 13, 25, 19, 19, 19, 17, 22], device='cuda:0')\n",
            "Predictions:- tensor([22, 13, 25, 19, 19, 19, 17, 22], device='cuda:0')\n",
            "Loss: 0.0434119775891304  Accuracy: 100.0 %\n",
            "Targets:- tensor([13, 19, 21, 16,  2, 13,  0,  1], device='cuda:0')\n",
            "Predictions:- tensor([13, 19, 21, 16,  2, 13,  0,  1], device='cuda:0')\n",
            "Loss: 2.0114975995966233e-05  Accuracy: 100.0 %\n",
            "Targets:- tensor([24,  0, 12,  0, 17, 24, 19, 13], device='cuda:0')\n",
            "Predictions:- tensor([24,  0, 12,  0, 17, 24, 19, 13], device='cuda:0')\n",
            "Loss: 0.0034480164758861065  Accuracy: 100.0 %\n",
            "Targets:- tensor([19,  0, 20, 16, 17, 19, 23, 12], device='cuda:0')\n",
            "Predictions:- tensor([19,  0, 20, 16, 17, 19, 23, 12], device='cuda:0')\n",
            "Loss: 4.499370697885752e-05  Accuracy: 100.0 %\n",
            "Targets:- tensor([14, 10,  9,  3,  9, 17, 11,  1], device='cuda:0')\n",
            "Predictions:- tensor([14, 10,  9,  3,  9, 17, 11,  1], device='cuda:0')\n",
            "Loss: 0.000182614428922534  Accuracy: 100.0 %\n",
            "Validating.....\n",
            "Loss: 0.330468088388443  Accuracy: 87.5 %\n",
            "Epoch Number:- 8    Training Loss:-   0.06605963242771852 Validation Loss:-   0.47150685661541675 Training Acc:-   98.6334628190899 Validation Acc:-   94.13716814159292\n",
            "Epoch: 9\n",
            "Training.....\n",
            "Targets:- tensor([ 9,  9, 16, 11, 20, 12, 20, 13], device='cuda:0')\n",
            "Predictions:- tensor([ 9,  9, 16, 11, 20, 15, 20, 13], device='cuda:0')\n",
            "Loss: 1.4063453674316406  Accuracy: 87.5 %\n",
            "Targets:- tensor([12,  7,  6,  5, 24, 25,  0,  5], device='cuda:0')\n",
            "Predictions:- tensor([12,  7,  6,  5, 24, 25,  0,  5], device='cuda:0')\n",
            "Loss: 4.76836760299193e-07  Accuracy: 100.0 %\n",
            "Targets:- tensor([ 8, 17, 24,  0, 22, 14,  4, 17], device='cuda:0')\n",
            "Predictions:- tensor([ 8, 17, 24,  0, 22, 14,  4, 17], device='cuda:0')\n",
            "Loss: 1.16228693514131e-06  Accuracy: 100.0 %\n",
            "Targets:- tensor([ 8, 19, 23, 18, 12,  1, 11, 20], device='cuda:0')\n",
            "Predictions:- tensor([ 8, 19, 23, 18, 12,  1, 11, 20], device='cuda:0')\n",
            "Loss: 0.0003940263413824141  Accuracy: 100.0 %\n",
            "Targets:- tensor([ 8,  4, 24,  4, 13, 21, 22, 12], device='cuda:0')\n",
            "Predictions:- tensor([ 8,  4, 24,  4, 13, 21, 22, 12], device='cuda:0')\n",
            "Loss: 0.00016142673848662525  Accuracy: 100.0 %\n",
            "Targets:- tensor([14, 22, 23, 12, 23, 23, 21,  2], device='cuda:0')\n",
            "Predictions:- tensor([14, 22, 23, 12, 23, 23, 21,  2], device='cuda:0')\n",
            "Loss: 0.002791502745822072  Accuracy: 100.0 %\n",
            "Targets:- tensor([ 9,  8,  1, 13, 17, 17,  5, 18], device='cuda:0')\n",
            "Predictions:- tensor([ 9,  8,  1, 13, 17, 17,  5, 18], device='cuda:0')\n",
            "Loss: 0.016703050583600998  Accuracy: 100.0 %\n",
            "Targets:- tensor([ 0, 15, 12,  8,  2,  0,  5, 23], device='cuda:0')\n",
            "Predictions:- tensor([ 0, 15, 12,  8,  2,  0,  5, 23], device='cuda:0')\n",
            "Loss: 0.0001229490153491497  Accuracy: 100.0 %\n",
            "Targets:- tensor([19, 25, 25,  1, 20,  0, 10, 24], device='cuda:0')\n",
            "Predictions:- tensor([19, 25, 25,  1, 20,  0, 10, 24], device='cuda:0')\n",
            "Loss: 0.005040720570832491  Accuracy: 100.0 %\n",
            "Validating.....\n",
            "Loss: 1.9073340808972716e-06  Accuracy: 100.0 %\n",
            "Epoch Number:- 9    Training Loss:-   0.060043382750241056 Validation Loss:-   0.6047482757418742 Training Acc:-   98.834628190899 Validation Acc:-   94.14269911504425\n"
          ],
          "name": "stdout"
        }
      ]
    },
    {
      "cell_type": "code",
      "metadata": {
        "colab": {
          "base_uri": "https://localhost:8080/",
          "height": 295
        },
        "id": "sfyX9GbN0SEu",
        "outputId": "41158dfb-d3e3-4e5c-bac2-3e36f1bdcc5e"
      },
      "source": [
        "#Loss Behaviour against Epochs\n",
        "loss_train = avgTrainLoss\n",
        "loss_val = avgValidLoss\n",
        "epochs = range(1,11)\n",
        "plt.plot(epochs, loss_train, 'g', label='Training loss')\n",
        "plt.plot(epochs, loss_val, 'b', label='Validation loss')\n",
        "plt.title('Training and Validation loss(MultiModal)')\n",
        "plt.xlabel('Epochs')\n",
        "plt.ylabel('Loss')\n",
        "plt.legend()\n",
        "plt.show()"
      ],
      "execution_count": null,
      "outputs": [
        {
          "output_type": "display_data",
          "data": {
            "image/png": "[encoded data removed]",
            "text/plain": [
              "<Figure size 432x288 with 1 Axes>"
            ]
          },
          "metadata": {
            "tags": [],
            "needs_background": "light"
          }
        }
      ]
    },
    {
      "cell_type": "code",
      "metadata": {
        "colab": {
          "base_uri": "https://localhost:8080/",
          "height": 295
        },
        "id": "2UO2jexX0gph",
        "outputId": "748c5dc4-c5a4-443c-b653-c0cb40c235b7"
      },
      "source": [
        "#Accuracy Behaviour against Epochs\n",
        "acc_train = avgTrainAcc\n",
        "acc_val = avgValidAcc\n",
        "epochs = range(1,11)\n",
        "plt.plot(epochs, acc_train, 'g', label='Training Acc')\n",
        "plt.plot(epochs, acc_val, 'b', label='Validation Acc')\n",
        "plt.title('Training and Validation Accuracy(MultiModal)')\n",
        "plt.xlabel('Epochs')\n",
        "plt.ylabel('Accuracy')\n",
        "plt.legend()\n",
        "plt.show()"
      ],
      "execution_count": null,
      "outputs": [
        {
          "output_type": "display_data",
          "data": {
            "image/png": "[encoded data removed]",
            "text/plain": [
              "<Figure size 432x288 with 1 Axes>"
            ]
          },
          "metadata": {
            "tags": [],
            "needs_background": "light"
          }
        }
      ]
    },
    {
      "cell_type": "code",
      "metadata": {
        "id": "fJCw1jnv0kdA"
      },
      "source": [
        "def checkClassificationMetrics(loader,model):\n",
        "\n",
        "  completeTargets=[]\n",
        "  completePreds=[]\n",
        "\n",
        "  correct=0\n",
        "  total=0\n",
        "  model.eval()\n",
        "\n",
        "  with torch.no_grad():\n",
        "    for imgData,textData,targets in loader:\n",
        "\n",
        "      targets=targets.to(device=device)\n",
        "      imgData=imgData.to(device)\n",
        "\n",
        "      scores=model(textInput=textData,imgInput=imgData)\n",
        "      \n",
        "      _,predictions=scores.max(1)\n",
        "\n",
        "      targets=targets.tolist()\n",
        "      predictions=predictions.tolist()\n",
        "\n",
        "      completeTargets.append(targets)\n",
        "      completePreds.append(predictions)\n",
        "\n",
        "    completeTargetsFlattened=[item for sublist in completeTargets for item in sublist]\n",
        "    completePredsFlattened=[item for sublist in completePreds for item in sublist]\n",
        "\n",
        "    cm = ConfusionMatrix(actual_vector=completeTargetsFlattened, predict_vector=completePredsFlattened)\n",
        "    return cm"
      ],
      "execution_count": null,
      "outputs": []
    },
    {
      "cell_type": "code",
      "metadata": {
        "id": "I93-oWbT0ylQ"
      },
      "source": [
        "CM=checkClassificationMetrics(testLoader,multiModalModel)"
      ],
      "execution_count": null,
      "outputs": []
    },
    {
      "cell_type": "markdown",
      "metadata": {
        "id": "HdfZHXsYZ9MD"
      },
      "source": [
        "A number of evaluation metrics were considered. The pycm module was utilized to calculate these metrics"
      ]
    },
    {
      "cell_type": "code",
      "metadata": {
        "colab": {
          "base_uri": "https://localhost:8080/"
        },
        "id": "6whcVoJA04D8",
        "outputId": "232a4160-03f1-49e6-b014-6012e3c7b131"
      },
      "source": [
        "print(\"Evaluation Metrics:-\")\n",
        "print(\"Accuracy:-\", CM.Overall_ACC*100)\n",
        "print(\"F1 Micro:-\", CM.F1_Micro)\n",
        "print(\"Kappa:-\",CM.Kappa)\n",
        "print(\"MCC:-\",CM.Overall_MCC)"
      ],
      "execution_count": null,
      "outputs": [
        {
          "output_type": "stream",
          "text": [
            "Evaluation Metrics:-\n",
            "Accuracy:- 94.45061043285239\n",
            "F1 Micro:- 0.9445061043285239\n",
            "Kappa:- 0.9358508378905819\n",
            "MCC:- 0.9360491144924689\n"
          ],
          "name": "stdout"
        }
      ]
    },
    {
      "cell_type": "code",
      "metadata": {
        "id": "Om9L25FN07-5"
      },
      "source": [
        "torch.save(multiModalModel.state_dict(),\"path_to_add/MIDAS_Task3/Models/MultiModalModel.pt\")  #Please add path_to_add that is required for your local Machine"
      ],
      "execution_count": null,
      "outputs": []
    }
  ]
}